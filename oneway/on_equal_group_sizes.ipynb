{
 "cells": [
  {
   "cell_type": "code",
   "execution_count": 1,
   "id": "3774d77b",
   "metadata": {},
   "outputs": [],
   "source": [
    "import numpy as np"
   ]
  },
  {
   "cell_type": "code",
   "execution_count": 3,
   "id": "cee8eb7f",
   "metadata": {},
   "outputs": [],
   "source": [
    "n = 5\n",
    "N = n * 4\n",
    "y = np.random.normal(10, 2, size=N)"
   ]
  },
  {
   "cell_type": "code",
   "execution_count": null,
   "id": "d24d9ab3",
   "metadata": {},
   "outputs": [],
   "source": [
    "X = np.zeros((N, 4))\n",
    "X[:n * []]"
   ]
  }
 ],
 "metadata": {
  "jupytext": {
   "notebook_metadata_filter": "all,-language_info",
   "split_at_heading": true
  },
  "kernelspec": {
   "display_name": "Python 3",
   "language": "python",
   "name": "python3"
  },
  "language_info": {
   "codemirror_mode": {
    "name": "ipython",
    "version": 3
   },
   "file_extension": ".py",
   "mimetype": "text/x-python",
   "name": "python",
   "nbconvert_exporter": "python",
   "pygments_lexer": "ipython3",
   "version": "3.8.11"
  }
 },
 "nbformat": 4,
 "nbformat_minor": 5
}
