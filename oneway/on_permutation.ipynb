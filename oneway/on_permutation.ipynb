{
 "cells": [
  {
   "cell_type": "markdown",
   "id": "e25f348c",
   "metadata": {},
   "source": [
    "# Unbalanced two-way ANOVA\n",
    "\n",
    "This page follows on from the [two-way unbalanced ANOVA\n",
    "notebook](./twoway_unbalanced.ipynb).\n",
    "\n",
    "Please make sure you follow the two-way unbalanced ANOVA notebook before you read this notebook, because we are going to re-use notation and machinery\n",
    "from that notebook."
   ]
  },
  {
   "cell_type": "markdown",
   "id": "4b2d760f",
   "metadata": {},
   "source": [
    "## Back again to the example\n"
   ]
  },
  {
   "cell_type": "code",
   "execution_count": 1,
   "id": "0388419c",
   "metadata": {},
   "outputs": [],
   "source": [
    "# Array, data frame and plotting libraries.\n",
    "import numpy as np\n",
    "import pandas as pd\n",
    "import matplotlib.pyplot as plt\n",
    "\n",
    "# Statsmodels ANOVA machinery.\n",
    "import statsmodels.api as sm\n",
    "import statsmodels.formula.api as smf"
   ]
  },
  {
   "cell_type": "markdown",
   "id": "ab908f86",
   "metadata": {},
   "source": [
    "We return again to our dataset giving amount of weight lost (in kilograms)\n",
    "after 10 weeks of one of three possible diets.\n",
    "\n",
    "As in the one-way ANOVA page, we use the `gender` column to define one factor,\n",
    "and the `diet` column to define another, so we can classify the rows\n",
    "(individuals) into `Female` or `Male` (`gender`) and into `A`, `B` and `C`\n",
    "(`diet`).\n",
    "\n",
    "See: [the dataset page](https://github.com/odsti/datasets/tree/master/sheffield_diet) for more detail."
   ]
  },
  {
   "cell_type": "code",
   "execution_count": 2,
   "id": "50de8ab8",
   "metadata": {},
   "outputs": [
    {
     "data": {
      "text/html": [
       "<div>\n",
       "<style scoped>\n",
       "    .dataframe tbody tr th:only-of-type {\n",
       "        vertical-align: middle;\n",
       "    }\n",
       "\n",
       "    .dataframe tbody tr th {\n",
       "        vertical-align: top;\n",
       "    }\n",
       "\n",
       "    .dataframe thead th {\n",
       "        text-align: right;\n",
       "    }\n",
       "</style>\n",
       "<table border=\"1\" class=\"dataframe\">\n",
       "  <thead>\n",
       "    <tr style=\"text-align: right;\">\n",
       "      <th></th>\n",
       "      <th>gender</th>\n",
       "      <th>diet</th>\n",
       "      <th>weight_lost</th>\n",
       "    </tr>\n",
       "  </thead>\n",
       "  <tbody>\n",
       "    <tr>\n",
       "      <th>0</th>\n",
       "      <td>Female</td>\n",
       "      <td>A</td>\n",
       "      <td>3.8</td>\n",
       "    </tr>\n",
       "    <tr>\n",
       "      <th>1</th>\n",
       "      <td>Female</td>\n",
       "      <td>A</td>\n",
       "      <td>6.0</td>\n",
       "    </tr>\n",
       "    <tr>\n",
       "      <th>2</th>\n",
       "      <td>Female</td>\n",
       "      <td>A</td>\n",
       "      <td>0.7</td>\n",
       "    </tr>\n",
       "    <tr>\n",
       "      <th>3</th>\n",
       "      <td>Female</td>\n",
       "      <td>A</td>\n",
       "      <td>2.9</td>\n",
       "    </tr>\n",
       "    <tr>\n",
       "      <th>4</th>\n",
       "      <td>Female</td>\n",
       "      <td>A</td>\n",
       "      <td>2.8</td>\n",
       "    </tr>\n",
       "  </tbody>\n",
       "</table>\n",
       "</div>"
      ],
      "text/plain": [
       "   gender diet  weight_lost\n",
       "0  Female    A          3.8\n",
       "1  Female    A          6.0\n",
       "2  Female    A          0.7\n",
       "3  Female    A          2.9\n",
       "4  Female    A          2.8"
      ]
     },
     "execution_count": 2,
     "metadata": {},
     "output_type": "execute_result"
    }
   ],
   "source": [
    "# Read the dataset\n",
    "diet_data = pd.read_csv('sheffield_diet.csv')\n",
    "diet_data.head()"
   ]
  },
  {
   "cell_type": "markdown",
   "id": "4232edfc",
   "metadata": {},
   "source": [
    "Pandas `groupby` can classify each row using *both* the `gender` label (level) and the `diet` label (level).  Notice we have different number is the six possible sub-groups."
   ]
  },
  {
   "cell_type": "code",
   "execution_count": 3,
   "id": "97e77fa5",
   "metadata": {},
   "outputs": [
    {
     "data": {
      "text/plain": [
       "gender  diet\n",
       "Female  A       14\n",
       "        B       14\n",
       "        C       15\n",
       "Male    A       10\n",
       "        B       11\n",
       "        C       12\n",
       "Name: weight_lost, dtype: int64"
      ]
     },
     "execution_count": 3,
     "metadata": {},
     "output_type": "execute_result"
    }
   ],
   "source": [
    "grouped = diet_data.groupby(['gender', 'diet'])\n",
    "# Show the counts in each of the six groups.\n",
    "grouped['weight_lost'].count()"
   ]
  },
  {
   "cell_type": "markdown",
   "id": "c47deeec",
   "metadata": {},
   "source": [
    "## General linear model notation\n",
    "\n",
    "Let us say we want to do an F-test for the interaction term.\n",
    "\n",
    "We partition the design matrix into the main effect columns and the interaction columns, like this:"
   ]
  },
  {
   "cell_type": "code",
   "execution_count": 4,
   "id": "195136b2",
   "metadata": {},
   "outputs": [
    {
     "data": {
      "text/plain": [
       "array([[1, 0, 1, 0, 0],\n",
       "       [1, 0, 1, 0, 0],\n",
       "       [1, 0, 1, 0, 0],\n",
       "       [1, 0, 1, 0, 0],\n",
       "       [1, 0, 1, 0, 0],\n",
       "       [1, 0, 1, 0, 0],\n",
       "       [1, 0, 1, 0, 0],\n",
       "       [1, 0, 1, 0, 0],\n",
       "       [1, 0, 1, 0, 0],\n",
       "       [1, 0, 1, 0, 0],\n",
       "       [1, 0, 1, 0, 0],\n",
       "       [1, 0, 1, 0, 0],\n",
       "       [1, 0, 1, 0, 0],\n",
       "       [1, 0, 1, 0, 0],\n",
       "       [1, 0, 0, 1, 0],\n",
       "       [1, 0, 0, 1, 0],\n",
       "       [1, 0, 0, 1, 0],\n",
       "       [1, 0, 0, 1, 0],\n",
       "       [1, 0, 0, 1, 0],\n",
       "       [1, 0, 0, 1, 0],\n",
       "       [1, 0, 0, 1, 0],\n",
       "       [1, 0, 0, 1, 0],\n",
       "       [1, 0, 0, 1, 0],\n",
       "       [1, 0, 0, 1, 0],\n",
       "       [1, 0, 0, 1, 0],\n",
       "       [1, 0, 0, 1, 0],\n",
       "       [1, 0, 0, 1, 0],\n",
       "       [1, 0, 0, 1, 0],\n",
       "       [1, 0, 0, 0, 1],\n",
       "       [1, 0, 0, 0, 1],\n",
       "       [1, 0, 0, 0, 1],\n",
       "       [1, 0, 0, 0, 1],\n",
       "       [1, 0, 0, 0, 1],\n",
       "       [1, 0, 0, 0, 1],\n",
       "       [1, 0, 0, 0, 1],\n",
       "       [1, 0, 0, 0, 1],\n",
       "       [1, 0, 0, 0, 1],\n",
       "       [1, 0, 0, 0, 1],\n",
       "       [1, 0, 0, 0, 1],\n",
       "       [1, 0, 0, 0, 1],\n",
       "       [1, 0, 0, 0, 1],\n",
       "       [1, 0, 0, 0, 1],\n",
       "       [1, 0, 0, 0, 1],\n",
       "       [0, 1, 1, 0, 0],\n",
       "       [0, 1, 1, 0, 0],\n",
       "       [0, 1, 1, 0, 0],\n",
       "       [0, 1, 1, 0, 0],\n",
       "       [0, 1, 1, 0, 0],\n",
       "       [0, 1, 1, 0, 0],\n",
       "       [0, 1, 1, 0, 0],\n",
       "       [0, 1, 1, 0, 0],\n",
       "       [0, 1, 1, 0, 0],\n",
       "       [0, 1, 1, 0, 0],\n",
       "       [0, 1, 0, 1, 0],\n",
       "       [0, 1, 0, 1, 0],\n",
       "       [0, 1, 0, 1, 0],\n",
       "       [0, 1, 0, 1, 0],\n",
       "       [0, 1, 0, 1, 0],\n",
       "       [0, 1, 0, 1, 0],\n",
       "       [0, 1, 0, 1, 0],\n",
       "       [0, 1, 0, 1, 0],\n",
       "       [0, 1, 0, 1, 0],\n",
       "       [0, 1, 0, 1, 0],\n",
       "       [0, 1, 0, 1, 0],\n",
       "       [0, 1, 0, 0, 1],\n",
       "       [0, 1, 0, 0, 1],\n",
       "       [0, 1, 0, 0, 1],\n",
       "       [0, 1, 0, 0, 1],\n",
       "       [0, 1, 0, 0, 1],\n",
       "       [0, 1, 0, 0, 1],\n",
       "       [0, 1, 0, 0, 1],\n",
       "       [0, 1, 0, 0, 1],\n",
       "       [0, 1, 0, 0, 1],\n",
       "       [0, 1, 0, 0, 1],\n",
       "       [0, 1, 0, 0, 1],\n",
       "       [0, 1, 0, 0, 1]], dtype=uint8)"
      ]
     },
     "execution_count": 4,
     "metadata": {},
     "output_type": "execute_result"
    }
   ],
   "source": [
    "# Main effects\n",
    "gender = diet_data['gender']\n",
    "diet = diet_data['diet']\n",
    "# Dummy columns for each effect.\n",
    "g_cols = pd.get_dummies(gender)\n",
    "d_cols = pd.get_dummies(diet)\n",
    "# The main effect design matrix.\n",
    "X1 = np.hstack((g_cols, d_cols))\n",
    "X1"
   ]
  },
  {
   "cell_type": "markdown",
   "id": "1947e5c3",
   "metadata": {},
   "source": [
    "Next we need the design matrix for the interaction terms:"
   ]
  },
  {
   "cell_type": "code",
   "execution_count": 5,
   "id": "2f14b4a4",
   "metadata": {},
   "outputs": [
    {
     "data": {
      "text/html": [
       "<div>\n",
       "<style scoped>\n",
       "    .dataframe tbody tr th:only-of-type {\n",
       "        vertical-align: middle;\n",
       "    }\n",
       "\n",
       "    .dataframe tbody tr th {\n",
       "        vertical-align: top;\n",
       "    }\n",
       "\n",
       "    .dataframe thead th {\n",
       "        text-align: right;\n",
       "    }\n",
       "</style>\n",
       "<table border=\"1\" class=\"dataframe\">\n",
       "  <thead>\n",
       "    <tr style=\"text-align: right;\">\n",
       "      <th></th>\n",
       "      <th>Female-A</th>\n",
       "      <th>Female-B</th>\n",
       "      <th>Female-C</th>\n",
       "      <th>Male-A</th>\n",
       "      <th>Male-B</th>\n",
       "      <th>Male-C</th>\n",
       "    </tr>\n",
       "  </thead>\n",
       "  <tbody>\n",
       "    <tr>\n",
       "      <th>0</th>\n",
       "      <td>1</td>\n",
       "      <td>0</td>\n",
       "      <td>0</td>\n",
       "      <td>0</td>\n",
       "      <td>0</td>\n",
       "      <td>0</td>\n",
       "    </tr>\n",
       "    <tr>\n",
       "      <th>1</th>\n",
       "      <td>1</td>\n",
       "      <td>0</td>\n",
       "      <td>0</td>\n",
       "      <td>0</td>\n",
       "      <td>0</td>\n",
       "      <td>0</td>\n",
       "    </tr>\n",
       "    <tr>\n",
       "      <th>2</th>\n",
       "      <td>1</td>\n",
       "      <td>0</td>\n",
       "      <td>0</td>\n",
       "      <td>0</td>\n",
       "      <td>0</td>\n",
       "      <td>0</td>\n",
       "    </tr>\n",
       "    <tr>\n",
       "      <th>3</th>\n",
       "      <td>1</td>\n",
       "      <td>0</td>\n",
       "      <td>0</td>\n",
       "      <td>0</td>\n",
       "      <td>0</td>\n",
       "      <td>0</td>\n",
       "    </tr>\n",
       "    <tr>\n",
       "      <th>4</th>\n",
       "      <td>1</td>\n",
       "      <td>0</td>\n",
       "      <td>0</td>\n",
       "      <td>0</td>\n",
       "      <td>0</td>\n",
       "      <td>0</td>\n",
       "    </tr>\n",
       "    <tr>\n",
       "      <th>...</th>\n",
       "      <td>...</td>\n",
       "      <td>...</td>\n",
       "      <td>...</td>\n",
       "      <td>...</td>\n",
       "      <td>...</td>\n",
       "      <td>...</td>\n",
       "    </tr>\n",
       "    <tr>\n",
       "      <th>71</th>\n",
       "      <td>0</td>\n",
       "      <td>0</td>\n",
       "      <td>0</td>\n",
       "      <td>0</td>\n",
       "      <td>0</td>\n",
       "      <td>1</td>\n",
       "    </tr>\n",
       "    <tr>\n",
       "      <th>72</th>\n",
       "      <td>0</td>\n",
       "      <td>0</td>\n",
       "      <td>0</td>\n",
       "      <td>0</td>\n",
       "      <td>0</td>\n",
       "      <td>1</td>\n",
       "    </tr>\n",
       "    <tr>\n",
       "      <th>73</th>\n",
       "      <td>0</td>\n",
       "      <td>0</td>\n",
       "      <td>0</td>\n",
       "      <td>0</td>\n",
       "      <td>0</td>\n",
       "      <td>1</td>\n",
       "    </tr>\n",
       "    <tr>\n",
       "      <th>74</th>\n",
       "      <td>0</td>\n",
       "      <td>0</td>\n",
       "      <td>0</td>\n",
       "      <td>0</td>\n",
       "      <td>0</td>\n",
       "      <td>1</td>\n",
       "    </tr>\n",
       "    <tr>\n",
       "      <th>75</th>\n",
       "      <td>0</td>\n",
       "      <td>0</td>\n",
       "      <td>0</td>\n",
       "      <td>0</td>\n",
       "      <td>0</td>\n",
       "      <td>1</td>\n",
       "    </tr>\n",
       "  </tbody>\n",
       "</table>\n",
       "<p>76 rows × 6 columns</p>\n",
       "</div>"
      ],
      "text/plain": [
       "    Female-A  Female-B  Female-C  Male-A  Male-B  Male-C\n",
       "0          1         0         0       0       0       0\n",
       "1          1         0         0       0       0       0\n",
       "2          1         0         0       0       0       0\n",
       "3          1         0         0       0       0       0\n",
       "4          1         0         0       0       0       0\n",
       "..       ...       ...       ...     ...     ...     ...\n",
       "71         0         0         0       0       0       1\n",
       "72         0         0         0       0       0       1\n",
       "73         0         0         0       0       0       1\n",
       "74         0         0         0       0       0       1\n",
       "75         0         0         0       0       0       1\n",
       "\n",
       "[76 rows x 6 columns]"
      ]
     },
     "execution_count": 5,
     "metadata": {},
     "output_type": "execute_result"
    }
   ],
   "source": [
    "# Series giving sub-group labels for each row.\n",
    "sub_groups = gender.str.cat(diet, sep='-')\n",
    "# Corresponding design matrix modeling mean for each group.\n",
    "X2 = pd.get_dummies(sub_groups)\n",
    "X2"
   ]
  },
  {
   "cell_type": "markdown",
   "id": "674a90a1",
   "metadata": {},
   "source": [
    "Full design:"
   ]
  },
  {
   "cell_type": "code",
   "execution_count": 6,
   "id": "882e017c",
   "metadata": {},
   "outputs": [],
   "source": [
    "X = np.hstack((X1, X2))"
   ]
  },
  {
   "cell_type": "markdown",
   "id": "b0969dc3",
   "metadata": {},
   "source": [
    "The data we are fitting:"
   ]
  },
  {
   "cell_type": "code",
   "execution_count": 7,
   "id": "3be620f9",
   "metadata": {},
   "outputs": [],
   "source": [
    "y = diet_data['weight_lost']"
   ]
  },
  {
   "cell_type": "markdown",
   "id": "b2975892",
   "metadata": {},
   "source": [
    "Least square parameters for full design:"
   ]
  },
  {
   "cell_type": "code",
   "execution_count": 8,
   "id": "5694ebc9",
   "metadata": {},
   "outputs": [
    {
     "data": {
      "text/plain": [
       "array([ 1.90388709,  2.01770743,  0.92613516,  0.93154642,  2.06391294,\n",
       "        0.21997775, -0.22829064,  1.91219998,  0.70615741,  1.15983706,\n",
       "        0.15171296])"
      ]
     },
     "execution_count": 8,
     "metadata": {},
     "output_type": "execute_result"
    }
   ],
   "source": [
    "pX = np.linalg.pinv(X)\n",
    "B = pX @ y\n",
    "B"
   ]
  },
  {
   "cell_type": "markdown",
   "id": "d91a529b",
   "metadata": {},
   "source": [
    "Fitted y values:"
   ]
  },
  {
   "cell_type": "code",
   "execution_count": 9,
   "id": "998e60dc",
   "metadata": {},
   "outputs": [
    {
     "data": {
      "text/plain": [
       "array([3.05      , 3.05      , 3.05      , 3.05      , 3.05      ,\n",
       "       3.05      , 3.05      , 3.05      , 3.05      , 3.05      ,\n",
       "       3.05      , 3.05      , 3.05      , 3.05      , 2.60714286,\n",
       "       2.60714286, 2.60714286, 2.60714286, 2.60714286, 2.60714286,\n",
       "       2.60714286, 2.60714286, 2.60714286, 2.60714286, 2.60714286,\n",
       "       2.60714286, 2.60714286, 2.60714286, 5.88      , 5.88      ,\n",
       "       5.88      , 5.88      , 5.88      , 5.88      , 5.88      ,\n",
       "       5.88      , 5.88      , 5.88      , 5.88      , 5.88      ,\n",
       "       5.88      , 5.88      , 5.88      , 3.65      , 3.65      ,\n",
       "       3.65      , 3.65      , 3.65      , 3.65      , 3.65      ,\n",
       "       3.65      , 3.65      , 3.65      , 4.10909091, 4.10909091,\n",
       "       4.10909091, 4.10909091, 4.10909091, 4.10909091, 4.10909091,\n",
       "       4.10909091, 4.10909091, 4.10909091, 4.10909091, 4.23333333,\n",
       "       4.23333333, 4.23333333, 4.23333333, 4.23333333, 4.23333333,\n",
       "       4.23333333, 4.23333333, 4.23333333, 4.23333333, 4.23333333,\n",
       "       4.23333333])"
      ]
     },
     "execution_count": 9,
     "metadata": {},
     "output_type": "execute_result"
    }
   ],
   "source": [
    "y_hat = X @ B\n",
    "y_hat"
   ]
  },
  {
   "cell_type": "markdown",
   "id": "674e3371",
   "metadata": {},
   "source": [
    "Errors:"
   ]
  },
  {
   "cell_type": "code",
   "execution_count": 10,
   "id": "8ae9af93",
   "metadata": {},
   "outputs": [
    {
     "data": {
      "text/plain": [
       "0     0.750000\n",
       "1     2.950000\n",
       "2    -2.350000\n",
       "3    -0.150000\n",
       "4    -0.250000\n",
       "        ...   \n",
       "71   -1.433333\n",
       "72   -0.133333\n",
       "73    1.066667\n",
       "74    4.966667\n",
       "75    1.866667\n",
       "Name: weight_lost, Length: 76, dtype: float64"
      ]
     },
     "execution_count": 10,
     "metadata": {},
     "output_type": "execute_result"
    }
   ],
   "source": [
    "e = y - y_hat\n",
    "e"
   ]
  },
  {
   "cell_type": "markdown",
   "id": "051197af",
   "metadata": {},
   "source": [
    "Sum of squared errors:"
   ]
  },
  {
   "cell_type": "code",
   "execution_count": 11,
   "id": "796edab6",
   "metadata": {},
   "outputs": [
    {
     "data": {
      "text/plain": [
       "376.3290432900432"
      ]
     },
     "execution_count": 11,
     "metadata": {},
     "output_type": "execute_result"
    }
   ],
   "source": [
    "np.sum(e ** 2)"
   ]
  },
  {
   "cell_type": "markdown",
   "id": "a841dafd",
   "metadata": {},
   "source": [
    "Compare to residual sum of squares value in Statsmodel ANOVA table:"
   ]
  },
  {
   "cell_type": "code",
   "execution_count": 12,
   "id": "b5ac34e4",
   "metadata": {},
   "outputs": [
    {
     "data": {
      "text/html": [
       "<div>\n",
       "<style scoped>\n",
       "    .dataframe tbody tr th:only-of-type {\n",
       "        vertical-align: middle;\n",
       "    }\n",
       "\n",
       "    .dataframe tbody tr th {\n",
       "        vertical-align: top;\n",
       "    }\n",
       "\n",
       "    .dataframe thead th {\n",
       "        text-align: right;\n",
       "    }\n",
       "</style>\n",
       "<table border=\"1\" class=\"dataframe\">\n",
       "  <thead>\n",
       "    <tr style=\"text-align: right;\">\n",
       "      <th></th>\n",
       "      <th>sum_sq</th>\n",
       "      <th>df</th>\n",
       "      <th>F</th>\n",
       "      <th>PR(&gt;F)</th>\n",
       "    </tr>\n",
       "  </thead>\n",
       "  <tbody>\n",
       "    <tr>\n",
       "      <th>gender</th>\n",
       "      <td>0.168696</td>\n",
       "      <td>1.0</td>\n",
       "      <td>0.031379</td>\n",
       "      <td>0.859910</td>\n",
       "    </tr>\n",
       "    <tr>\n",
       "      <th>diet</th>\n",
       "      <td>60.417220</td>\n",
       "      <td>2.0</td>\n",
       "      <td>5.619026</td>\n",
       "      <td>0.005456</td>\n",
       "    </tr>\n",
       "    <tr>\n",
       "      <th>gender:diet</th>\n",
       "      <td>33.904068</td>\n",
       "      <td>2.0</td>\n",
       "      <td>3.153204</td>\n",
       "      <td>0.048842</td>\n",
       "    </tr>\n",
       "    <tr>\n",
       "      <th>Residual</th>\n",
       "      <td>376.329043</td>\n",
       "      <td>70.0</td>\n",
       "      <td>NaN</td>\n",
       "      <td>NaN</td>\n",
       "    </tr>\n",
       "  </tbody>\n",
       "</table>\n",
       "</div>"
      ],
      "text/plain": [
       "                 sum_sq    df         F    PR(>F)\n",
       "gender         0.168696   1.0  0.031379  0.859910\n",
       "diet          60.417220   2.0  5.619026  0.005456\n",
       "gender:diet   33.904068   2.0  3.153204  0.048842\n",
       "Residual     376.329043  70.0       NaN       NaN"
      ]
     },
     "execution_count": 12,
     "metadata": {},
     "output_type": "execute_result"
    }
   ],
   "source": [
    "# Fit\n",
    "sm_fit = smf.ols('weight_lost ~ gender * diet', data=diet_data).fit()\n",
    "# Type II (2) sum of squares calculation ANOVA table.\n",
    "sm.stats.anova_lm(sm_fit, typ=2)"
   ]
  },
  {
   "cell_type": "markdown",
   "id": "a0724045",
   "metadata": {},
   "source": [
    "We can write that all in one go:"
   ]
  },
  {
   "cell_type": "code",
   "execution_count": 13,
   "id": "501ad052",
   "metadata": {},
   "outputs": [
    {
     "data": {
      "text/plain": [
       "376.3290432900432"
      ]
     },
     "execution_count": 13,
     "metadata": {},
     "output_type": "execute_result"
    }
   ],
   "source": [
    "e_again = y - X @ pX @ y\n",
    "np.sum(e_again ** 2)"
   ]
  },
  {
   "cell_type": "markdown",
   "id": "99e4a3e9",
   "metadata": {},
   "source": [
    "That is also the same calculation as:"
   ]
  },
  {
   "cell_type": "code",
   "execution_count": 14,
   "id": "a0bc7559",
   "metadata": {},
   "outputs": [
    {
     "data": {
      "text/plain": [
       "376.3290432900432"
      ]
     },
     "execution_count": 14,
     "metadata": {},
     "output_type": "execute_result"
    }
   ],
   "source": [
    "H = X @ pX\n",
    "y_hat_again = H @ y\n",
    "e_3 = (y - y_hat_again)\n",
    "np.sum(e_3 ** 2)"
   ]
  },
  {
   "cell_type": "markdown",
   "id": "939740f2",
   "metadata": {},
   "source": [
    "The $H$ matrix above is called the *hat* matrix, because it \"puts the hat on\"\n",
    "the y values, meaning, it calculates the best fit predictions for the y values."
   ]
  },
  {
   "cell_type": "markdown",
   "id": "62ce2a40",
   "metadata": {},
   "source": [
    "In fact, using our matrix algebra, we can write the overall calculation you see in the `e_again` cell above, like this:"
   ]
  },
  {
   "cell_type": "code",
   "execution_count": 15,
   "id": "a0d77d98",
   "metadata": {},
   "outputs": [
    {
     "data": {
      "text/plain": [
       "376.32904329004316"
      ]
     },
     "execution_count": 15,
     "metadata": {},
     "output_type": "execute_result"
    }
   ],
   "source": [
    "n = len(y)\n",
    "# Because:\n",
    "# y - X @ pX @ y  === y - H @ y === (I - H) @ y\n",
    "rfm = np.eye(n) - H\n",
    "e_4 = rfm @ y\n",
    "np.sum(e_4 ** 2)"
   ]
  },
  {
   "cell_type": "markdown",
   "id": "89995e26",
   "metadata": {},
   "source": [
    "`rfm` above is the *residual forming matrix*, so called because, as you see, it includes the whole matrix calculation to turn the `y` values into the errors (residuals) with one matrix multiplication.  Multiplying with this matrix extracts all the information that can be modeled by the design matrix `X`."
   ]
  },
  {
   "cell_type": "code",
   "execution_count": null,
   "id": "e84e1a90",
   "metadata": {},
   "outputs": [],
   "source": []
  }
 ],
 "metadata": {
  "jupytext": {
   "notebook_metadata_filter": "all,-language_info",
   "split_at_heading": true,
   "text_representation": {
    "extension": ".Rmd",
    "format_name": "rmarkdown",
    "format_version": "1.2",
    "jupytext_version": "1.8.2"
   }
  },
  "kernelspec": {
   "display_name": "Python 3",
   "language": "python",
   "name": "python3"
  },
  "language_info": {
   "codemirror_mode": {
    "name": "ipython",
    "version": 3
   },
   "file_extension": ".py",
   "mimetype": "text/x-python",
   "name": "python",
   "nbconvert_exporter": "python",
   "pygments_lexer": "ipython3",
   "version": "3.8.12"
  }
 },
 "nbformat": 4,
 "nbformat_minor": 5
}
