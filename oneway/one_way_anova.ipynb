{
 "cells": [
  {
   "cell_type": "markdown",
   "id": "68624752",
   "metadata": {},
   "source": [
    "# One-way ANOVA\n",
    "\n",
    "Imagine you have three groups, and you want to do a one-level ANOVA to test for\n",
    "overall differences across the groups.\n",
    "\n",
    "The general technique for a permutation test is:\n",
    "\n",
    "* You decide on your metric\n",
    "* You get your metric for the actual data - observed metric\n",
    "* You permute your data and take the same metric from the permuted data, and\n",
    "  repeat many times - fake metrics\n",
    "* You compare your observed metric to your fake metrics, to see how unusual it\n",
    "  is.\n",
    "\n",
    "For a two-sample permutation test, your metric is the difference in the two\n",
    "sample means.\n",
    "\n",
    "For a three sample version of the test — we need a metric that will be big\n",
    "where there are big differences between the three groups, and small when there\n",
    "are small differences.\n",
    "\n",
    "Let us reflect on what what we want from the metric.  It should be a single\n",
    "number to summarize all the values from the groups. It should be be large for\n",
    "big differences between the means for the various groups.  It should be larger\n",
    "when more observations are in the groups with large difference in means.\n",
    "\n",
    "Consider the following metric.  We will soon see this is the metric that the F-test uses.\n",
    "\n",
    "* Get the sample means for each of the three groups A, B, C, to give `mean_a`,\n",
    "  `mean_b`, `mean_c`\n",
    "* Get the mean across all the observations regardless of group\n",
    "  (`mean_overall`)\n",
    "* Subtract `mean_overall` from each of `mean_a`, `mean_b`, `mean_c` to give\n",
    "  `mean_a_diff`, `mean_b_diff`, `mean_c_diff`.\n",
    "* We are interested in positive as well as negative differences, so we do not\n",
    "  want to add these mean differences, otherwise the positive and negative means\n",
    "  differences will cancel out. So we next square the differences to give:\n",
    "  `sq_mean_a_diff`, `sq_mean_b_diff`, `sq_mean_c_diff`.\n",
    "* We want larger groups to have greater weight than small groups.  Call the\n",
    "  number in groups A, B, and C `n_a`, `n_b`, `n_c`. To weight the squared mean\n",
    "  differences we multiply each square mean difference by the number in each\n",
    "  group: `sq_mean_a_diff * n_a`, `sq_mean_b_diff * n_b`, `sq_mean_c_diff *\n",
    "  n_b`, to give `nsq_mean_a_diff`, `nsq_mean_b_diff`, `n_sq_mean_c_diff`.\n",
    "*   Finally, we add up the group `nsq` scores to give our metric:\n",
    "\n",
    "    ```\n",
    "    our_metric = nsq_mean_a_diff + nsq_mean_b_diff + nsq_mean_c_diff\n",
    "    ```\n",
    "\n",
    "We will call this the SNSQGMD metric (Sum of N times SQuared Group Mean\n",
    "Difference).\n",
    "\n",
    "SNSQGMD will be large and positive when the individual groups have different\n",
    "means from each other and small when the means for the groups are pretty\n",
    "similar to each other, and therefore, to the overall mean.  It will be larger\n",
    "when larger groups have means with bigger deviations from the overall mean.\n",
    "\n",
    "To follow the recipe above, we calculate SNSQGMD for the actual groups A, B, C.\n",
    "Permute the group labels to give random groups A, B, C, and recalculate the\n",
    "metric.   See whether SNSQGMD in the real data is unusual in the distribution of\n",
    "the same metric for the permuted groups.\n",
    "\n",
    "This is the permutation equivalent of the one-way ANOVA.   The one-way ANOVA\n",
    "just uses some assumptions from the normal distribution to estimate the spread\n",
    "in the random distribution of SNSQGMD, instead of using permutation to calculate\n",
    "the random distribution.\n"
   ]
  },
  {
   "cell_type": "markdown",
   "id": "ad32c0fa",
   "metadata": {},
   "source": [
    "## An example\n",
    "\n",
    "Dataset from <https://dasl.datadescription.com/datafile/contrast-baths>"
   ]
  },
  {
   "cell_type": "code",
   "execution_count": 1,
   "id": "ada62ff2",
   "metadata": {},
   "outputs": [],
   "source": [
    "import numpy as np\n",
    "import pandas as pd\n",
    "import matplotlib.pyplot as plt"
   ]
  },
  {
   "cell_type": "markdown",
   "id": "1661acef",
   "metadata": {},
   "source": [
    "## The example dataset, ready for analysis\n",
    "\n",
    "The data corresponds to [this\n",
    "paper](https://pubmed.ncbi.nlm.nih.gov/19375278/).\n",
    "\n",
    "From the abstract:\n",
    "\n",
    "> Methods: Study participants were randomly assigned to one of three treatment\n",
    "> group protocols--contrast baths with exercise, contrast baths without\n",
    "> exercise, and an exercise-only control treatment group. Study participants\n",
    "> were evaluated with hand volumetry, before and after treatment at two\n",
    "> different data collection periods-pre- and postoperatively.\n",
    "\n",
    "It is not clear what data we have, but they may be change scores before and\n",
    "after treatment, for the pre-operative group.\n",
    "\n",
    "Notice we have three treatment groups, the \"Bath\" group, the \"Bath+Exercise\"\n",
    "group and the \"Exercise\" group."
   ]
  },
  {
   "cell_type": "code",
   "execution_count": 2,
   "id": "b2cd6323",
   "metadata": {},
   "outputs": [
    {
     "data": {
      "text/html": [
       "<div>\n",
       "<style scoped>\n",
       "    .dataframe tbody tr th:only-of-type {\n",
       "        vertical-align: middle;\n",
       "    }\n",
       "\n",
       "    .dataframe tbody tr th {\n",
       "        vertical-align: top;\n",
       "    }\n",
       "\n",
       "    .dataframe thead th {\n",
       "        text-align: right;\n",
       "    }\n",
       "</style>\n",
       "<table border=\"1\" class=\"dataframe\">\n",
       "  <thead>\n",
       "    <tr style=\"text-align: right;\">\n",
       "      <th></th>\n",
       "      <th>Treatment</th>\n",
       "      <th>Hand Vol Chg</th>\n",
       "    </tr>\n",
       "  </thead>\n",
       "  <tbody>\n",
       "    <tr>\n",
       "      <th>0</th>\n",
       "      <td>Bath</td>\n",
       "      <td>10</td>\n",
       "    </tr>\n",
       "    <tr>\n",
       "      <th>1</th>\n",
       "      <td>Exercise</td>\n",
       "      <td>0</td>\n",
       "    </tr>\n",
       "    <tr>\n",
       "      <th>2</th>\n",
       "      <td>Bath</td>\n",
       "      <td>10</td>\n",
       "    </tr>\n",
       "    <tr>\n",
       "      <th>3</th>\n",
       "      <td>Bath</td>\n",
       "      <td>5</td>\n",
       "    </tr>\n",
       "    <tr>\n",
       "      <th>4</th>\n",
       "      <td>Bath</td>\n",
       "      <td></td>\n",
       "    </tr>\n",
       "  </tbody>\n",
       "</table>\n",
       "</div>"
      ],
      "text/plain": [
       "  Treatment Hand Vol Chg\n",
       "0      Bath           10\n",
       "1  Exercise            0\n",
       "2      Bath           10\n",
       "3      Bath            5\n",
       "4      Bath             "
      ]
     },
     "execution_count": 2,
     "metadata": {},
     "output_type": "execute_result"
    }
   ],
   "source": [
    "# Read the raw dataset\n",
    "baths = pd.read_csv('contrast-baths.txt', sep='\\t')\n",
    "baths.head()"
   ]
  },
  {
   "cell_type": "markdown",
   "id": "aec16e91",
   "metadata": {},
   "source": [
    "We need to do some processing go analyze the data.  Although the second column has the numerical values we are interested in, Pandas has read both columns as Python strings (\"objects\"):"
   ]
  },
  {
   "cell_type": "code",
   "execution_count": 3,
   "id": "4033803d",
   "metadata": {},
   "outputs": [
    {
     "data": {
      "text/plain": [
       "Treatment       object\n",
       "Hand Vol Chg    object\n",
       "dtype: object"
      ]
     },
     "execution_count": 3,
     "metadata": {},
     "output_type": "execute_result"
    }
   ],
   "source": [
    "baths.dtypes"
   ]
  },
  {
   "cell_type": "markdown",
   "id": "18b33abb",
   "metadata": {},
   "source": [
    "Investigating, the missing data here are given by a single space character.\n",
    "Fix that, by replacing single spaces with empty strings. Then we convert all\n",
    "the \"Hand Vol Chg\" values to numbers."
   ]
  },
  {
   "cell_type": "code",
   "execution_count": 4,
   "id": "8ebf35a9",
   "metadata": {},
   "outputs": [
    {
     "data": {
      "text/html": [
       "<div>\n",
       "<style scoped>\n",
       "    .dataframe tbody tr th:only-of-type {\n",
       "        vertical-align: middle;\n",
       "    }\n",
       "\n",
       "    .dataframe tbody tr th {\n",
       "        vertical-align: top;\n",
       "    }\n",
       "\n",
       "    .dataframe thead th {\n",
       "        text-align: right;\n",
       "    }\n",
       "</style>\n",
       "<table border=\"1\" class=\"dataframe\">\n",
       "  <thead>\n",
       "    <tr style=\"text-align: right;\">\n",
       "      <th></th>\n",
       "      <th>Treatment</th>\n",
       "      <th>Hand Vol Chg</th>\n",
       "    </tr>\n",
       "  </thead>\n",
       "  <tbody>\n",
       "    <tr>\n",
       "      <th>0</th>\n",
       "      <td>Bath</td>\n",
       "      <td>10.0</td>\n",
       "    </tr>\n",
       "    <tr>\n",
       "      <th>1</th>\n",
       "      <td>Exercise</td>\n",
       "      <td>0.0</td>\n",
       "    </tr>\n",
       "    <tr>\n",
       "      <th>2</th>\n",
       "      <td>Bath</td>\n",
       "      <td>10.0</td>\n",
       "    </tr>\n",
       "    <tr>\n",
       "      <th>3</th>\n",
       "      <td>Bath</td>\n",
       "      <td>5.0</td>\n",
       "    </tr>\n",
       "    <tr>\n",
       "      <th>4</th>\n",
       "      <td>Bath</td>\n",
       "      <td>NaN</td>\n",
       "    </tr>\n",
       "  </tbody>\n",
       "</table>\n",
       "</div>"
      ],
      "text/plain": [
       "  Treatment  Hand Vol Chg\n",
       "0      Bath          10.0\n",
       "1  Exercise           0.0\n",
       "2      Bath          10.0\n",
       "3      Bath           5.0\n",
       "4      Bath           NaN"
      ]
     },
     "execution_count": 4,
     "metadata": {},
     "output_type": "execute_result"
    }
   ],
   "source": [
    "baths['Hand Vol Chg'] = baths['Hand Vol Chg'].replace(' ', '')\n",
    "baths['Hand Vol Chg'] = pd.to_numeric(baths['Hand Vol Chg'])\n",
    "baths.head()"
   ]
  },
  {
   "cell_type": "markdown",
   "id": "d5610e7a",
   "metadata": {},
   "source": [
    "For simplicity, drop the missing `NaN` values:"
   ]
  },
  {
   "cell_type": "code",
   "execution_count": 5,
   "id": "09504c4b",
   "metadata": {},
   "outputs": [
    {
     "data": {
      "text/html": [
       "<div>\n",
       "<style scoped>\n",
       "    .dataframe tbody tr th:only-of-type {\n",
       "        vertical-align: middle;\n",
       "    }\n",
       "\n",
       "    .dataframe tbody tr th {\n",
       "        vertical-align: top;\n",
       "    }\n",
       "\n",
       "    .dataframe thead th {\n",
       "        text-align: right;\n",
       "    }\n",
       "</style>\n",
       "<table border=\"1\" class=\"dataframe\">\n",
       "  <thead>\n",
       "    <tr style=\"text-align: right;\">\n",
       "      <th></th>\n",
       "      <th>Treatment</th>\n",
       "      <th>Hand Vol Chg</th>\n",
       "    </tr>\n",
       "  </thead>\n",
       "  <tbody>\n",
       "    <tr>\n",
       "      <th>0</th>\n",
       "      <td>Bath</td>\n",
       "      <td>10.0</td>\n",
       "    </tr>\n",
       "    <tr>\n",
       "      <th>1</th>\n",
       "      <td>Exercise</td>\n",
       "      <td>0.0</td>\n",
       "    </tr>\n",
       "    <tr>\n",
       "      <th>2</th>\n",
       "      <td>Bath</td>\n",
       "      <td>10.0</td>\n",
       "    </tr>\n",
       "    <tr>\n",
       "      <th>3</th>\n",
       "      <td>Bath</td>\n",
       "      <td>5.0</td>\n",
       "    </tr>\n",
       "    <tr>\n",
       "      <th>5</th>\n",
       "      <td>Exercise</td>\n",
       "      <td>4.0</td>\n",
       "    </tr>\n",
       "  </tbody>\n",
       "</table>\n",
       "</div>"
      ],
      "text/plain": [
       "  Treatment  Hand Vol Chg\n",
       "0      Bath          10.0\n",
       "1  Exercise           0.0\n",
       "2      Bath          10.0\n",
       "3      Bath           5.0\n",
       "5  Exercise           4.0"
      ]
     },
     "execution_count": 5,
     "metadata": {},
     "output_type": "execute_result"
    }
   ],
   "source": [
    "clean_baths = baths.dropna()\n",
    "clean_baths.head()"
   ]
  },
  {
   "cell_type": "markdown",
   "id": "48c90571",
   "metadata": {},
   "source": [
    "We are now ready to do the analysis."
   ]
  },
  {
   "cell_type": "markdown",
   "id": "da83a13a",
   "metadata": {},
   "source": [
    "## Means by group\n",
    "\n",
    "Here are the data, plotted by group."
   ]
  },
  {
   "cell_type": "code",
   "execution_count": 6,
   "id": "63380587",
   "metadata": {},
   "outputs": [
    {
     "data": {
      "image/png": "[encoded data removed]",
      "text/plain": [
       "<Figure size 432x288 with 1 Axes>"
      ]
     },
     "metadata": {
      "needs_background": "light"
     },
     "output_type": "display_data"
    }
   ],
   "source": [
    "clean_baths.plot.scatter('Treatment', 'Hand Vol Chg');"
   ]
  },
  {
   "cell_type": "markdown",
   "id": "7e64d455",
   "metadata": {},
   "source": [
    "These are the means for each of the three groups."
   ]
  },
  {
   "cell_type": "code",
   "execution_count": 7,
   "id": "f1ad8a35",
   "metadata": {},
   "outputs": [
    {
     "data": {
      "text/html": [
       "<div>\n",
       "<style scoped>\n",
       "    .dataframe tbody tr th:only-of-type {\n",
       "        vertical-align: middle;\n",
       "    }\n",
       "\n",
       "    .dataframe tbody tr th {\n",
       "        vertical-align: top;\n",
       "    }\n",
       "\n",
       "    .dataframe thead th {\n",
       "        text-align: right;\n",
       "    }\n",
       "</style>\n",
       "<table border=\"1\" class=\"dataframe\">\n",
       "  <thead>\n",
       "    <tr style=\"text-align: right;\">\n",
       "      <th></th>\n",
       "      <th>Hand Vol Chg</th>\n",
       "    </tr>\n",
       "    <tr>\n",
       "      <th>Treatment</th>\n",
       "      <th></th>\n",
       "    </tr>\n",
       "  </thead>\n",
       "  <tbody>\n",
       "    <tr>\n",
       "      <th>Bath</th>\n",
       "      <td>4.545455</td>\n",
       "    </tr>\n",
       "    <tr>\n",
       "      <th>Bath+Exercise</th>\n",
       "      <td>8.000000</td>\n",
       "    </tr>\n",
       "    <tr>\n",
       "      <th>Exercise</th>\n",
       "      <td>-1.071429</td>\n",
       "    </tr>\n",
       "  </tbody>\n",
       "</table>\n",
       "</div>"
      ],
      "text/plain": [
       "               Hand Vol Chg\n",
       "Treatment                  \n",
       "Bath               4.545455\n",
       "Bath+Exercise      8.000000\n",
       "Exercise          -1.071429"
      ]
     },
     "execution_count": 7,
     "metadata": {},
     "output_type": "execute_result"
    }
   ],
   "source": [
    "group_means = clean_baths.groupby('Treatment').mean()\n",
    "group_means"
   ]
  },
  {
   "cell_type": "markdown",
   "id": "fcfe0e75",
   "metadata": {},
   "source": [
    "These are the number of observations per group:"
   ]
  },
  {
   "cell_type": "code",
   "execution_count": 8,
   "id": "7b7494db",
   "metadata": {},
   "outputs": [
    {
     "data": {
      "text/html": [
       "<div>\n",
       "<style scoped>\n",
       "    .dataframe tbody tr th:only-of-type {\n",
       "        vertical-align: middle;\n",
       "    }\n",
       "\n",
       "    .dataframe tbody tr th {\n",
       "        vertical-align: top;\n",
       "    }\n",
       "\n",
       "    .dataframe thead th {\n",
       "        text-align: right;\n",
       "    }\n",
       "</style>\n",
       "<table border=\"1\" class=\"dataframe\">\n",
       "  <thead>\n",
       "    <tr style=\"text-align: right;\">\n",
       "      <th></th>\n",
       "      <th>Hand Vol Chg</th>\n",
       "    </tr>\n",
       "    <tr>\n",
       "      <th>Treatment</th>\n",
       "      <th></th>\n",
       "    </tr>\n",
       "  </thead>\n",
       "  <tbody>\n",
       "    <tr>\n",
       "      <th>Bath</th>\n",
       "      <td>22</td>\n",
       "    </tr>\n",
       "    <tr>\n",
       "      <th>Bath+Exercise</th>\n",
       "      <td>23</td>\n",
       "    </tr>\n",
       "    <tr>\n",
       "      <th>Exercise</th>\n",
       "      <td>14</td>\n",
       "    </tr>\n",
       "  </tbody>\n",
       "</table>\n",
       "</div>"
      ],
      "text/plain": [
       "               Hand Vol Chg\n",
       "Treatment                  \n",
       "Bath                     22\n",
       "Bath+Exercise            23\n",
       "Exercise                 14"
      ]
     },
     "execution_count": 8,
     "metadata": {},
     "output_type": "execute_result"
    }
   ],
   "source": [
    "group_ns = clean_baths.groupby('Treatment').count()\n",
    "group_ns"
   ]
  },
  {
   "cell_type": "markdown",
   "id": "490fdbb5",
   "metadata": {},
   "source": [
    "Here is the overall mean, ignoring the group membership:"
   ]
  },
  {
   "cell_type": "code",
   "execution_count": 9,
   "id": "0a1a2893",
   "metadata": {},
   "outputs": [
    {
     "data": {
      "text/plain": [
       "4.559322033898305"
      ]
     },
     "execution_count": 9,
     "metadata": {},
     "output_type": "execute_result"
    }
   ],
   "source": [
    "overall_mean = np.mean(clean_baths['Hand Vol Chg'])\n",
    "overall_mean"
   ]
  },
  {
   "cell_type": "markdown",
   "id": "489ce72a",
   "metadata": {},
   "source": [
    "The next plot shows the data, the group means, and the overall mean:"
   ]
  },
  {
   "cell_type": "code",
   "execution_count": 10,
   "id": "cfd16207",
   "metadata": {},
   "outputs": [
    {
     "data": {
      "image/png": "[encoded data removed]",
      "text/plain": [
       "<Figure size 432x288 with 1 Axes>"
      ]
     },
     "metadata": {
      "needs_background": "light"
     },
     "output_type": "display_data"
    }
   ],
   "source": [
    "clean_baths.plot.scatter('Treatment', 'Hand Vol Chg',\n",
    "                         label='Data')\n",
    "plt.scatter(group_means.index, np.array(group_means), color='red',\n",
    "            label='Group means')\n",
    "# A dashed line at the overall mean.\n",
    "plt.plot(group_means.index,\n",
    "         [overall_mean, overall_mean, overall_mean],\n",
    "         ':', color='green',\n",
    "         label='Overall mean')\n",
    "# A dashed line between each group mean and the overall mean.\n",
    "for group in group_means.index:\n",
    "    xs = [group, group]\n",
    "    ys = [float(group_means.loc[group]), overall_mean]\n",
    "    plt.plot(xs, ys, ':', color='red')\n",
    "plt.legend();"
   ]
  },
  {
   "cell_type": "markdown",
   "id": "5d487ea1",
   "metadata": {},
   "source": [
    "Notice the red dashed lines between the group means and the overall mean. We\n",
    "designed our SNSQGMD metric to be large when the sum of the squared lengths of\n",
    "these lines are large.  The N in  SNSQGMD reminds us we multiply each squared\n",
    "length by the number in the group, to give more weight to large groups.\n",
    "\n",
    "To calculate SNSQGMD we get the Group Mean Difference."
   ]
  },
  {
   "cell_type": "code",
   "execution_count": 11,
   "id": "a3b876b3",
   "metadata": {},
   "outputs": [
    {
     "data": {
      "text/html": [
       "<div>\n",
       "<style scoped>\n",
       "    .dataframe tbody tr th:only-of-type {\n",
       "        vertical-align: middle;\n",
       "    }\n",
       "\n",
       "    .dataframe tbody tr th {\n",
       "        vertical-align: top;\n",
       "    }\n",
       "\n",
       "    .dataframe thead th {\n",
       "        text-align: right;\n",
       "    }\n",
       "</style>\n",
       "<table border=\"1\" class=\"dataframe\">\n",
       "  <thead>\n",
       "    <tr style=\"text-align: right;\">\n",
       "      <th></th>\n",
       "      <th>Hand Vol Chg</th>\n",
       "    </tr>\n",
       "    <tr>\n",
       "      <th>Treatment</th>\n",
       "      <th></th>\n",
       "    </tr>\n",
       "  </thead>\n",
       "  <tbody>\n",
       "    <tr>\n",
       "      <th>Bath</th>\n",
       "      <td>-0.013867</td>\n",
       "    </tr>\n",
       "    <tr>\n",
       "      <th>Bath+Exercise</th>\n",
       "      <td>3.440678</td>\n",
       "    </tr>\n",
       "    <tr>\n",
       "      <th>Exercise</th>\n",
       "      <td>-5.630751</td>\n",
       "    </tr>\n",
       "  </tbody>\n",
       "</table>\n",
       "</div>"
      ],
      "text/plain": [
       "               Hand Vol Chg\n",
       "Treatment                  \n",
       "Bath              -0.013867\n",
       "Bath+Exercise      3.440678\n",
       "Exercise          -5.630751"
      ]
     },
     "execution_count": 11,
     "metadata": {},
     "output_type": "execute_result"
    }
   ],
   "source": [
    "gmd = group_means - overall_mean\n",
    "gmd"
   ]
  },
  {
   "cell_type": "markdown",
   "id": "cf32d951",
   "metadata": {},
   "source": [
    "We square these differences:"
   ]
  },
  {
   "cell_type": "code",
   "execution_count": 12,
   "id": "1dbd710e",
   "metadata": {},
   "outputs": [
    {
     "data": {
      "text/html": [
       "<div>\n",
       "<style scoped>\n",
       "    .dataframe tbody tr th:only-of-type {\n",
       "        vertical-align: middle;\n",
       "    }\n",
       "\n",
       "    .dataframe tbody tr th {\n",
       "        vertical-align: top;\n",
       "    }\n",
       "\n",
       "    .dataframe thead th {\n",
       "        text-align: right;\n",
       "    }\n",
       "</style>\n",
       "<table border=\"1\" class=\"dataframe\">\n",
       "  <thead>\n",
       "    <tr style=\"text-align: right;\">\n",
       "      <th></th>\n",
       "      <th>Hand Vol Chg</th>\n",
       "    </tr>\n",
       "    <tr>\n",
       "      <th>Treatment</th>\n",
       "      <th></th>\n",
       "    </tr>\n",
       "  </thead>\n",
       "  <tbody>\n",
       "    <tr>\n",
       "      <th>Bath</th>\n",
       "      <td>0.000192</td>\n",
       "    </tr>\n",
       "    <tr>\n",
       "      <th>Bath+Exercise</th>\n",
       "      <td>11.838265</td>\n",
       "    </tr>\n",
       "    <tr>\n",
       "      <th>Exercise</th>\n",
       "      <td>31.705352</td>\n",
       "    </tr>\n",
       "  </tbody>\n",
       "</table>\n",
       "</div>"
      ],
      "text/plain": [
       "               Hand Vol Chg\n",
       "Treatment                  \n",
       "Bath               0.000192\n",
       "Bath+Exercise     11.838265\n",
       "Exercise          31.705352"
      ]
     },
     "execution_count": 12,
     "metadata": {},
     "output_type": "execute_result"
    }
   ],
   "source": [
    "sq_gmd = gmd ** 2\n",
    "sq_gmd"
   ]
  },
  {
   "cell_type": "markdown",
   "id": "1b8d8c12",
   "metadata": {},
   "source": [
    "We want to give more weight to groups with more members, so we multiply each squared difference by the number in the group:"
   ]
  },
  {
   "cell_type": "code",
   "execution_count": 13,
   "id": "bfaf988d",
   "metadata": {},
   "outputs": [
    {
     "data": {
      "text/html": [
       "<div>\n",
       "<style scoped>\n",
       "    .dataframe tbody tr th:only-of-type {\n",
       "        vertical-align: middle;\n",
       "    }\n",
       "\n",
       "    .dataframe tbody tr th {\n",
       "        vertical-align: top;\n",
       "    }\n",
       "\n",
       "    .dataframe thead th {\n",
       "        text-align: right;\n",
       "    }\n",
       "</style>\n",
       "<table border=\"1\" class=\"dataframe\">\n",
       "  <thead>\n",
       "    <tr style=\"text-align: right;\">\n",
       "      <th></th>\n",
       "      <th>Hand Vol Chg</th>\n",
       "    </tr>\n",
       "    <tr>\n",
       "      <th>Treatment</th>\n",
       "      <th></th>\n",
       "    </tr>\n",
       "  </thead>\n",
       "  <tbody>\n",
       "    <tr>\n",
       "      <th>Bath</th>\n",
       "      <td>0.004231</td>\n",
       "    </tr>\n",
       "    <tr>\n",
       "      <th>Bath+Exercise</th>\n",
       "      <td>272.280092</td>\n",
       "    </tr>\n",
       "    <tr>\n",
       "      <th>Exercise</th>\n",
       "      <td>443.874933</td>\n",
       "    </tr>\n",
       "  </tbody>\n",
       "</table>\n",
       "</div>"
      ],
      "text/plain": [
       "               Hand Vol Chg\n",
       "Treatment                  \n",
       "Bath               0.004231\n",
       "Bath+Exercise    272.280092\n",
       "Exercise         443.874933"
      ]
     },
     "execution_count": 13,
     "metadata": {},
     "output_type": "execute_result"
    }
   ],
   "source": [
    "n_sq_gmd = sq_gmd * group_ns\n",
    "n_sq_gmd"
   ]
  },
  {
   "cell_type": "markdown",
   "id": "f2120a5d",
   "metadata": {},
   "source": [
    "Finally, we add up these weighted squares to get the final metric:"
   ]
  },
  {
   "cell_type": "code",
   "execution_count": 14,
   "id": "e06ec540",
   "metadata": {},
   "outputs": [
    {
     "data": {
      "text/plain": [
       "Hand Vol Chg    716.159256\n",
       "dtype: float64"
      ]
     },
     "execution_count": 14,
     "metadata": {},
     "output_type": "execute_result"
    }
   ],
   "source": [
    "observed_sn_sq_gmd = np.sum(n_sq_gmd)\n",
    "observed_sn_sq_gmd"
   ]
  },
  {
   "cell_type": "markdown",
   "id": "11a3fb0b",
   "metadata": {},
   "source": [
    "This is our metric.  To make this a bit clearer, we put the calculation of our\n",
    "metric into its own function so we can re-use it on different data frames."
   ]
  },
  {
   "cell_type": "code",
   "execution_count": 15,
   "id": "34ccddd9",
   "metadata": {},
   "outputs": [],
   "source": [
    "def get_sn_sq_gmd(df, group_col, val_col):\n",
    "    overall_mean = np.mean(df[val_col])\n",
    "    grouped = df.groupby(group_col)[val_col]\n",
    "    sq_gmd = (grouped.mean() - overall_mean) ** 2\n",
    "    return np.sum(sq_gmd * grouped.count())"
   ]
  },
  {
   "cell_type": "markdown",
   "id": "5281881a",
   "metadata": {},
   "source": [
    "Check that we get the same answer from the function as we did with the step-by-step calculation:"
   ]
  },
  {
   "cell_type": "code",
   "execution_count": 16,
   "id": "de11ebd4",
   "metadata": {},
   "outputs": [
    {
     "data": {
      "text/plain": [
       "716.159255998239"
      ]
     },
     "execution_count": 16,
     "metadata": {},
     "output_type": "execute_result"
    }
   ],
   "source": [
    "get_sn_sq_gmd(clean_baths, 'Treatment', 'Hand Vol Chg')"
   ]
  },
  {
   "cell_type": "markdown",
   "id": "8787e7a3",
   "metadata": {},
   "source": [
    "Next we consider a single trial in our ideal, null, fake world.  We do this by\n",
    "making a copy of the data frame, and then permuting the Treatment labels, so\n",
    "the association between the Treatment and the change values is random."
   ]
  },
  {
   "cell_type": "code",
   "execution_count": 17,
   "id": "d733255a",
   "metadata": {},
   "outputs": [
    {
     "data": {
      "text/html": [
       "<div>\n",
       "<style scoped>\n",
       "    .dataframe tbody tr th:only-of-type {\n",
       "        vertical-align: middle;\n",
       "    }\n",
       "\n",
       "    .dataframe tbody tr th {\n",
       "        vertical-align: top;\n",
       "    }\n",
       "\n",
       "    .dataframe thead th {\n",
       "        text-align: right;\n",
       "    }\n",
       "</style>\n",
       "<table border=\"1\" class=\"dataframe\">\n",
       "  <thead>\n",
       "    <tr style=\"text-align: right;\">\n",
       "      <th></th>\n",
       "      <th>Treatment</th>\n",
       "      <th>Hand Vol Chg</th>\n",
       "    </tr>\n",
       "  </thead>\n",
       "  <tbody>\n",
       "    <tr>\n",
       "      <th>0</th>\n",
       "      <td>Exercise</td>\n",
       "      <td>10.0</td>\n",
       "    </tr>\n",
       "    <tr>\n",
       "      <th>1</th>\n",
       "      <td>Bath</td>\n",
       "      <td>0.0</td>\n",
       "    </tr>\n",
       "    <tr>\n",
       "      <th>2</th>\n",
       "      <td>Bath+Exercise</td>\n",
       "      <td>10.0</td>\n",
       "    </tr>\n",
       "    <tr>\n",
       "      <th>3</th>\n",
       "      <td>Bath</td>\n",
       "      <td>5.0</td>\n",
       "    </tr>\n",
       "    <tr>\n",
       "      <th>5</th>\n",
       "      <td>Exercise</td>\n",
       "      <td>4.0</td>\n",
       "    </tr>\n",
       "  </tbody>\n",
       "</table>\n",
       "</div>"
      ],
      "text/plain": [
       "       Treatment  Hand Vol Chg\n",
       "0       Exercise          10.0\n",
       "1           Bath           0.0\n",
       "2  Bath+Exercise          10.0\n",
       "3           Bath           5.0\n",
       "5       Exercise           4.0"
      ]
     },
     "execution_count": 17,
     "metadata": {},
     "output_type": "execute_result"
    }
   ],
   "source": [
    "fake_data = clean_baths.copy()\n",
    "# Permute the treatment labels\n",
    "fake_data['Treatment'] = np.random.permutation(fake_data['Treatment'])\n",
    "fake_data.head()"
   ]
  },
  {
   "cell_type": "markdown",
   "id": "b60e0a81",
   "metadata": {},
   "source": [
    "Next we calculate our metric step by step."
   ]
  },
  {
   "cell_type": "code",
   "execution_count": 18,
   "id": "17ec6c02",
   "metadata": {},
   "outputs": [
    {
     "data": {
      "text/plain": [
       "98.54745475600302"
      ]
     },
     "execution_count": 18,
     "metadata": {},
     "output_type": "execute_result"
    }
   ],
   "source": [
    "fake_grouped = fake_data.groupby('Treatment')['Hand Vol Chg']\n",
    "# Notice that the overall_mean cannot change because we did not\n",
    "# change these values.\n",
    "fake_sq_gmd = (fake_grouped.mean() - overall_mean) ** 2\n",
    "fake_sn_sq_gmd = np.sum(fake_sq_gmd * fake_grouped.count())\n",
    "fake_sn_sq_gmd"
   ]
  },
  {
   "cell_type": "markdown",
   "id": "9d962932",
   "metadata": {},
   "source": [
    "We can also use our function to do that calculation, to get the same answer:"
   ]
  },
  {
   "cell_type": "code",
   "execution_count": 19,
   "id": "735f8d1e",
   "metadata": {},
   "outputs": [
    {
     "data": {
      "text/plain": [
       "98.54745475600302"
      ]
     },
     "execution_count": 19,
     "metadata": {},
     "output_type": "execute_result"
    }
   ],
   "source": [
    "get_sn_sq_gmd(fake_data, 'Treatment', 'Hand Vol Chg')"
   ]
  },
  {
   "cell_type": "markdown",
   "id": "276b5b78",
   "metadata": {},
   "source": [
    "Now we are ready to do our simulation.  We do 10000 trials, making a new random\n",
    "association, and recalculating our sum of squares metric."
   ]
  },
  {
   "cell_type": "code",
   "execution_count": 20,
   "id": "3c41d940",
   "metadata": {},
   "outputs": [],
   "source": [
    "n_iters = 10000\n",
    "fake_sn_sq_gmds = np.zeros(n_iters)\n",
    "for i in np.arange(n_iters):\n",
    "    # Make sample from null world.\n",
    "    fake_data['Treatment'] = np.random.permutation(fake_data['Treatment'])\n",
    "    # Calculate corresponding metric.\n",
    "    fake_sn_sq_gmds[i] = get_sn_sq_gmd(fake_data, 'Treatment', 'Hand Vol Chg')"
   ]
  },
  {
   "cell_type": "markdown",
   "id": "2a17a94d",
   "metadata": {},
   "source": [
    "Of course, because these are sums of squares, they must all be positive."
   ]
  },
  {
   "cell_type": "code",
   "execution_count": 21,
   "id": "588ebfa7",
   "metadata": {},
   "outputs": [
    {
     "data": {
      "image/png": "[encoded data removed]",
      "text/plain": [
       "<Figure size 432x288 with 1 Axes>"
      ]
     },
     "metadata": {
      "needs_background": "light"
     },
     "output_type": "display_data"
    }
   ],
   "source": [
    "plt.hist(fake_sn_sq_gmds, bins=100);"
   ]
  },
  {
   "cell_type": "markdown",
   "id": "eb9f5ab3",
   "metadata": {},
   "source": [
    "How does our observed sum of squares metric compare to the distribution of fake\n",
    "sum of square metrics?"
   ]
  },
  {
   "cell_type": "code",
   "execution_count": 22,
   "id": "0b60cb1b",
   "metadata": {},
   "outputs": [
    {
     "data": {
      "text/plain": [
       "0.0015"
      ]
     },
     "execution_count": 22,
     "metadata": {},
     "output_type": "execute_result"
    }
   ],
   "source": [
    "p = np.count_nonzero(fake_sn_sq_gmds >= float(observed_sn_sq_gmd)) / n_iters\n",
    "p"
   ]
  },
  {
   "cell_type": "markdown",
   "id": "b6786e7f",
   "metadata": {},
   "source": [
    "The p value tells us that this observed metric is very unlikely to have come\n",
    "about in a random world.\n"
   ]
  },
  {
   "cell_type": "markdown",
   "id": "c0e6d4a8",
   "metadata": {},
   "source": [
    "## Comparing to standard one-way ANOVA F tests\n",
    "\n",
    "Here we do the standard F-test calculations to show that we get a similar p\n",
    "value to the permutation version above.  Here is the Statsmodels\n",
    "implementation of the one-way F test:"
   ]
  },
  {
   "cell_type": "code",
   "execution_count": 23,
   "id": "84d78249",
   "metadata": {},
   "outputs": [
    {
     "data": {
      "text/html": [
       "<div>\n",
       "<style scoped>\n",
       "    .dataframe tbody tr th:only-of-type {\n",
       "        vertical-align: middle;\n",
       "    }\n",
       "\n",
       "    .dataframe tbody tr th {\n",
       "        vertical-align: top;\n",
       "    }\n",
       "\n",
       "    .dataframe thead th {\n",
       "        text-align: right;\n",
       "    }\n",
       "</style>\n",
       "<table border=\"1\" class=\"dataframe\">\n",
       "  <thead>\n",
       "    <tr style=\"text-align: right;\">\n",
       "      <th></th>\n",
       "      <th>df</th>\n",
       "      <th>sum_sq</th>\n",
       "      <th>mean_sq</th>\n",
       "      <th>F</th>\n",
       "      <th>PR(&gt;F)</th>\n",
       "    </tr>\n",
       "  </thead>\n",
       "  <tbody>\n",
       "    <tr>\n",
       "      <th>Treatment</th>\n",
       "      <td>2.0</td>\n",
       "      <td>716.159256</td>\n",
       "      <td>358.079628</td>\n",
       "      <td>7.4148</td>\n",
       "      <td>0.001391</td>\n",
       "    </tr>\n",
       "    <tr>\n",
       "      <th>Residual</th>\n",
       "      <td>56.0</td>\n",
       "      <td>2704.383117</td>\n",
       "      <td>48.292556</td>\n",
       "      <td>NaN</td>\n",
       "      <td>NaN</td>\n",
       "    </tr>\n",
       "  </tbody>\n",
       "</table>\n",
       "</div>"
      ],
      "text/plain": [
       "             df       sum_sq     mean_sq       F    PR(>F)\n",
       "Treatment   2.0   716.159256  358.079628  7.4148  0.001391\n",
       "Residual   56.0  2704.383117   48.292556     NaN       NaN"
      ]
     },
     "execution_count": 23,
     "metadata": {},
     "output_type": "execute_result"
    }
   ],
   "source": [
    "import statsmodels.api as sm\n",
    "import statsmodels.formula.api as smf\n",
    "\n",
    "# The Q() in the formula is just to allow spaces in the variable name.\n",
    "mod = smf.ols('Q(\"Hand Vol Chg\") ~ Treatment', data=clean_baths).fit()\n",
    "\n",
    "sm.stats.anova_lm(mod, typ=1)"
   ]
  },
  {
   "cell_type": "markdown",
   "id": "33a7997e",
   "metadata": {},
   "source": [
    "Here is the same calculation in Scipy:"
   ]
  },
  {
   "cell_type": "code",
   "execution_count": 24,
   "id": "45086a01",
   "metadata": {},
   "outputs": [],
   "source": [
    "from scipy.stats import f_oneway"
   ]
  },
  {
   "cell_type": "code",
   "execution_count": 25,
   "id": "523be3f6",
   "metadata": {},
   "outputs": [],
   "source": [
    "# Get the values from the individual groups.\n",
    "treatment = clean_baths['Treatment']\n",
    "change = clean_baths['Hand Vol Chg']\n",
    "bath = change[treatment == 'Bath']\n",
    "both = change[treatment == 'Bath+Exercise']\n",
    "exercise = change[treatment == 'Exercise']"
   ]
  },
  {
   "cell_type": "markdown",
   "id": "0258f2b8",
   "metadata": {},
   "source": [
    "Do the F-test:"
   ]
  },
  {
   "cell_type": "code",
   "execution_count": 26,
   "id": "4e493431",
   "metadata": {
    "lines_to_next_cell": 2
   },
   "outputs": [
    {
     "data": {
      "text/plain": [
       "F_onewayResult(statistic=7.414799716344096, pvalue=0.0013907554044090167)"
      ]
     },
     "execution_count": 26,
     "metadata": {},
     "output_type": "execute_result"
    }
   ],
   "source": [
    "f_result = f_oneway(bath, both, exercise)\n",
    "f_result"
   ]
  },
  {
   "cell_type": "markdown",
   "id": "7fd6dd5d",
   "metadata": {},
   "source": [
    "## The F statistic and the SNSQGMD metric\n",
    "\n",
    "In this section, we go into more detail about the calculation of the F value that you see above, in the F tests.  Here is the calculated F statistic from Scipy.  You have seen we got the same value from Statsmodels."
   ]
  },
  {
   "cell_type": "code",
   "execution_count": 27,
   "id": "ba312e62",
   "metadata": {},
   "outputs": [
    {
     "data": {
      "text/plain": [
       "7.414799716344096"
      ]
     },
     "execution_count": 27,
     "metadata": {},
     "output_type": "execute_result"
    }
   ],
   "source": [
    "F_stat = f_result.statistic\n",
    "F_stat"
   ]
  },
  {
   "cell_type": "markdown",
   "id": "1bd08242",
   "metadata": {},
   "source": [
    "This section goes through the calculation of the F statistic from the SNSQGMD metric.  This is the value we got for that metric:"
   ]
  },
  {
   "cell_type": "code",
   "execution_count": 28,
   "id": "f62cd515",
   "metadata": {},
   "outputs": [
    {
     "data": {
      "text/plain": [
       "Hand Vol Chg    716.159256\n",
       "dtype: float64"
      ]
     },
     "execution_count": 28,
     "metadata": {},
     "output_type": "execute_result"
    }
   ],
   "source": [
    "observed_sn_sq_gmd"
   ]
  },
  {
   "cell_type": "markdown",
   "id": "b7b6022c",
   "metadata": {},
   "source": [
    "You can get the F statistic above by dividing the SNSQGMD metric by a scaled estimate of the variation still present in the data.\n",
    "\n",
    "The variation still present in the data are the remaining distances between the\n",
    "data (in the plot above) and their corresponding group means.  Call these\n",
    "remaining distances the \"residuals\".\n",
    "\n",
    "Here are the group means:"
   ]
  },
  {
   "cell_type": "code",
   "execution_count": 29,
   "id": "7a915a4a",
   "metadata": {},
   "outputs": [
    {
     "data": {
      "text/html": [
       "<div>\n",
       "<style scoped>\n",
       "    .dataframe tbody tr th:only-of-type {\n",
       "        vertical-align: middle;\n",
       "    }\n",
       "\n",
       "    .dataframe tbody tr th {\n",
       "        vertical-align: top;\n",
       "    }\n",
       "\n",
       "    .dataframe thead th {\n",
       "        text-align: right;\n",
       "    }\n",
       "</style>\n",
       "<table border=\"1\" class=\"dataframe\">\n",
       "  <thead>\n",
       "    <tr style=\"text-align: right;\">\n",
       "      <th></th>\n",
       "      <th>Hand Vol Chg</th>\n",
       "    </tr>\n",
       "    <tr>\n",
       "      <th>Treatment</th>\n",
       "      <th></th>\n",
       "    </tr>\n",
       "  </thead>\n",
       "  <tbody>\n",
       "    <tr>\n",
       "      <th>Bath</th>\n",
       "      <td>4.545455</td>\n",
       "    </tr>\n",
       "    <tr>\n",
       "      <th>Bath+Exercise</th>\n",
       "      <td>8.000000</td>\n",
       "    </tr>\n",
       "    <tr>\n",
       "      <th>Exercise</th>\n",
       "      <td>-1.071429</td>\n",
       "    </tr>\n",
       "  </tbody>\n",
       "</table>\n",
       "</div>"
      ],
      "text/plain": [
       "               Hand Vol Chg\n",
       "Treatment                  \n",
       "Bath               4.545455\n",
       "Bath+Exercise      8.000000\n",
       "Exercise          -1.071429"
      ]
     },
     "execution_count": 29,
     "metadata": {},
     "output_type": "execute_result"
    }
   ],
   "source": [
    "group_means"
   ]
  },
  {
   "cell_type": "markdown",
   "id": "ab003695",
   "metadata": {},
   "source": [
    "We are going to put the group means into their own column in the original data frame, in order to subtract them from the individual values.  First we make a new copy of the group means, but renaming the value column for later."
   ]
  },
  {
   "cell_type": "code",
   "execution_count": 30,
   "id": "a07a4e31",
   "metadata": {},
   "outputs": [
    {
     "data": {
      "text/html": [
       "<div>\n",
       "<style scoped>\n",
       "    .dataframe tbody tr th:only-of-type {\n",
       "        vertical-align: middle;\n",
       "    }\n",
       "\n",
       "    .dataframe tbody tr th {\n",
       "        vertical-align: top;\n",
       "    }\n",
       "\n",
       "    .dataframe thead th {\n",
       "        text-align: right;\n",
       "    }\n",
       "</style>\n",
       "<table border=\"1\" class=\"dataframe\">\n",
       "  <thead>\n",
       "    <tr style=\"text-align: right;\">\n",
       "      <th></th>\n",
       "      <th>vol_chg_mean</th>\n",
       "    </tr>\n",
       "    <tr>\n",
       "      <th>Treatment</th>\n",
       "      <th></th>\n",
       "    </tr>\n",
       "  </thead>\n",
       "  <tbody>\n",
       "    <tr>\n",
       "      <th>Bath</th>\n",
       "      <td>4.545455</td>\n",
       "    </tr>\n",
       "    <tr>\n",
       "      <th>Bath+Exercise</th>\n",
       "      <td>8.000000</td>\n",
       "    </tr>\n",
       "    <tr>\n",
       "      <th>Exercise</th>\n",
       "      <td>-1.071429</td>\n",
       "    </tr>\n",
       "  </tbody>\n",
       "</table>\n",
       "</div>"
      ],
      "text/plain": [
       "               vol_chg_mean\n",
       "Treatment                  \n",
       "Bath               4.545455\n",
       "Bath+Exercise      8.000000\n",
       "Exercise          -1.071429"
      ]
     },
     "execution_count": 30,
     "metadata": {},
     "output_type": "execute_result"
    }
   ],
   "source": [
    "gms_renamed = group_means.rename(columns={\"Hand Vol Chg\": \"vol_chg_mean\"})\n",
    "gms_renamed"
   ]
  },
  {
   "cell_type": "markdown",
   "id": "0d301a76",
   "metadata": {},
   "source": [
    "Next we merge this group means data frame into the original table, to give every row its corresponding group mean."
   ]
  },
  {
   "cell_type": "code",
   "execution_count": 31,
   "id": "1100b9a1",
   "metadata": {},
   "outputs": [
    {
     "data": {
      "text/html": [
       "<div>\n",
       "<style scoped>\n",
       "    .dataframe tbody tr th:only-of-type {\n",
       "        vertical-align: middle;\n",
       "    }\n",
       "\n",
       "    .dataframe tbody tr th {\n",
       "        vertical-align: top;\n",
       "    }\n",
       "\n",
       "    .dataframe thead th {\n",
       "        text-align: right;\n",
       "    }\n",
       "</style>\n",
       "<table border=\"1\" class=\"dataframe\">\n",
       "  <thead>\n",
       "    <tr style=\"text-align: right;\">\n",
       "      <th></th>\n",
       "      <th>Treatment</th>\n",
       "      <th>Hand Vol Chg</th>\n",
       "      <th>vol_chg_mean</th>\n",
       "    </tr>\n",
       "  </thead>\n",
       "  <tbody>\n",
       "    <tr>\n",
       "      <th>0</th>\n",
       "      <td>Bath</td>\n",
       "      <td>10.0</td>\n",
       "      <td>4.545455</td>\n",
       "    </tr>\n",
       "    <tr>\n",
       "      <th>1</th>\n",
       "      <td>Bath</td>\n",
       "      <td>10.0</td>\n",
       "      <td>4.545455</td>\n",
       "    </tr>\n",
       "    <tr>\n",
       "      <th>2</th>\n",
       "      <td>Bath</td>\n",
       "      <td>5.0</td>\n",
       "      <td>4.545455</td>\n",
       "    </tr>\n",
       "    <tr>\n",
       "      <th>3</th>\n",
       "      <td>Bath</td>\n",
       "      <td>-4.0</td>\n",
       "      <td>4.545455</td>\n",
       "    </tr>\n",
       "    <tr>\n",
       "      <th>4</th>\n",
       "      <td>Bath</td>\n",
       "      <td>8.0</td>\n",
       "      <td>4.545455</td>\n",
       "    </tr>\n",
       "  </tbody>\n",
       "</table>\n",
       "</div>"
      ],
      "text/plain": [
       "  Treatment  Hand Vol Chg  vol_chg_mean\n",
       "0      Bath          10.0      4.545455\n",
       "1      Bath          10.0      4.545455\n",
       "2      Bath           5.0      4.545455\n",
       "3      Bath          -4.0      4.545455\n",
       "4      Bath           8.0      4.545455"
      ]
     },
     "execution_count": 31,
     "metadata": {},
     "output_type": "execute_result"
    }
   ],
   "source": [
    "baths_and_means = clean_baths.merge(gms_renamed, on='Treatment')\n",
    "baths_and_means.head()"
   ]
  },
  {
   "cell_type": "markdown",
   "id": "b4eab495",
   "metadata": {},
   "source": [
    "Now we can calculate the residuals by subtracting the corresponding group mean from each hand volume change value."
   ]
  },
  {
   "cell_type": "code",
   "execution_count": 32,
   "id": "0bf62324",
   "metadata": {},
   "outputs": [
    {
     "data": {
      "text/html": [
       "<div>\n",
       "<style scoped>\n",
       "    .dataframe tbody tr th:only-of-type {\n",
       "        vertical-align: middle;\n",
       "    }\n",
       "\n",
       "    .dataframe tbody tr th {\n",
       "        vertical-align: top;\n",
       "    }\n",
       "\n",
       "    .dataframe thead th {\n",
       "        text-align: right;\n",
       "    }\n",
       "</style>\n",
       "<table border=\"1\" class=\"dataframe\">\n",
       "  <thead>\n",
       "    <tr style=\"text-align: right;\">\n",
       "      <th></th>\n",
       "      <th>Treatment</th>\n",
       "      <th>Hand Vol Chg</th>\n",
       "      <th>vol_chg_mean</th>\n",
       "      <th>resid</th>\n",
       "    </tr>\n",
       "  </thead>\n",
       "  <tbody>\n",
       "    <tr>\n",
       "      <th>0</th>\n",
       "      <td>Bath</td>\n",
       "      <td>10.0</td>\n",
       "      <td>4.545455</td>\n",
       "      <td>5.454545</td>\n",
       "    </tr>\n",
       "    <tr>\n",
       "      <th>1</th>\n",
       "      <td>Bath</td>\n",
       "      <td>10.0</td>\n",
       "      <td>4.545455</td>\n",
       "      <td>5.454545</td>\n",
       "    </tr>\n",
       "    <tr>\n",
       "      <th>2</th>\n",
       "      <td>Bath</td>\n",
       "      <td>5.0</td>\n",
       "      <td>4.545455</td>\n",
       "      <td>0.454545</td>\n",
       "    </tr>\n",
       "    <tr>\n",
       "      <th>3</th>\n",
       "      <td>Bath</td>\n",
       "      <td>-4.0</td>\n",
       "      <td>4.545455</td>\n",
       "      <td>-8.545455</td>\n",
       "    </tr>\n",
       "    <tr>\n",
       "      <th>4</th>\n",
       "      <td>Bath</td>\n",
       "      <td>8.0</td>\n",
       "      <td>4.545455</td>\n",
       "      <td>3.454545</td>\n",
       "    </tr>\n",
       "  </tbody>\n",
       "</table>\n",
       "</div>"
      ],
      "text/plain": [
       "  Treatment  Hand Vol Chg  vol_chg_mean     resid\n",
       "0      Bath          10.0      4.545455  5.454545\n",
       "1      Bath          10.0      4.545455  5.454545\n",
       "2      Bath           5.0      4.545455  0.454545\n",
       "3      Bath          -4.0      4.545455 -8.545455\n",
       "4      Bath           8.0      4.545455  3.454545"
      ]
     },
     "execution_count": 32,
     "metadata": {},
     "output_type": "execute_result"
    }
   ],
   "source": [
    "baths_and_means['resid'] = (baths_and_means['Hand Vol Chg'] -\n",
    "                            baths_and_means['vol_chg_mean'])\n",
    "baths_and_means.head()"
   ]
  },
  {
   "cell_type": "markdown",
   "id": "7a3ee412",
   "metadata": {},
   "source": [
    "Next we give a number (metric) to the residuals by squaring (to remove the signs) and adding:"
   ]
  },
  {
   "cell_type": "code",
   "execution_count": 33,
   "id": "5cfdf28f",
   "metadata": {},
   "outputs": [
    {
     "data": {
      "text/plain": [
       "2704.3831168831166"
      ]
     },
     "execution_count": 33,
     "metadata": {},
     "output_type": "execute_result"
    }
   ],
   "source": [
    "ssq_resid_groups = np.sum((baths_and_means['resid']) ** 2)\n",
    "ssq_resid_groups"
   ]
  },
  {
   "cell_type": "markdown",
   "id": "41df9018",
   "metadata": {},
   "source": [
    "The F-statistic results from dividing this measure of remaining variation\n",
    "into the SNSQGMD metric, with some scaling.  The scaling comes from the number of observations, and the number of groups."
   ]
  },
  {
   "cell_type": "code",
   "execution_count": 34,
   "id": "3a91cc39",
   "metadata": {},
   "outputs": [],
   "source": [
    "n_obs = len(baths_and_means)\n",
    "n_groups = len(group_means)"
   ]
  },
  {
   "cell_type": "markdown",
   "id": "984ed343",
   "metadata": {},
   "source": [
    "Here is the full calculation of the F-statistic. Notice that it is exactly the same as we got from Scipy and Statsmodels."
   ]
  },
  {
   "cell_type": "code",
   "execution_count": 35,
   "id": "4d4a91ce",
   "metadata": {},
   "outputs": [
    {
     "data": {
      "text/plain": [
       "Hand Vol Chg    7.4148\n",
       "dtype: float64"
      ]
     },
     "execution_count": 35,
     "metadata": {},
     "output_type": "execute_result"
    }
   ],
   "source": [
    "# Calculate of the F value by scaling and dividing by residual variation\n",
    "# metric.\n",
    "df_groups = n_groups - 1  # Degrees of freedom for groups.\n",
    "df_error = n_obs - n_groups  # Degrees of freedom for residuals.\n",
    "# The F statistic\n",
    "(observed_sn_sq_gmd / df_groups) / (ssq_resid_groups / df_error)"
   ]
  },
  {
   "cell_type": "markdown",
   "id": "2694f29e",
   "metadata": {},
   "source": [
    "Scaling and dividing by the residual variation gives a value that we can reason\n",
    "about with some standard mathematics, as long as we are prepared to assume that\n",
    "the distribution of the values is normal.  Specifically, with those assumptions, we can get a p value by comparing the observed F value to a standard F distribution with the same \"degrees of freedom\".  These are the `df_groups` and `df_error` values above.\n",
    "\n",
    "As you have seen, the permutation estimate gives a very similar answer.  We would argue that it is also a lot easier to explain.\n"
   ]
  },
  {
   "cell_type": "markdown",
   "id": "012d0fe0",
   "metadata": {},
   "source": [
    "## F tests in terms of explained variation\n",
    "\n",
    "You will often see explanations of the F-value in terms of the amount of\n",
    "variation explained by the overall mean, compared to the amount of variation\n",
    "explained with the individual group means.  In fact, this \"variance\" way of\n",
    "thinking is what gave the test the name ANOVA (Analysis of Variance).\n",
    "\n",
    "The explained variation path (literally) adds up to the same thing as the\n",
    "SNSQGMD metric version of the F statistic above.  This section goes through the\n",
    "explained variation way of thinking of the F statistic, and shows that it\n",
    "gives the same value for the SNSQGMD metric.\n",
    "\n",
    "The \"variance\" way of thinking about the F looks at the sum of squared\n",
    "\"residual\" variation in two situations.  First we get the residual variation\n",
    "when we use subtract the group means.  We already have this from the F test calculation above.  As a reminder, we repeat the calculation here:"
   ]
  },
  {
   "cell_type": "code",
   "execution_count": 36,
   "id": "40ab8ac5",
   "metadata": {},
   "outputs": [
    {
     "data": {
      "text/plain": [
       "2704.3831168831166"
      ]
     },
     "execution_count": 36,
     "metadata": {},
     "output_type": "execute_result"
    }
   ],
   "source": [
    "ssq_resid_groups = np.sum((baths_and_means['resid']) ** 2)\n",
    "ssq_resid_groups"
   ]
  },
  {
   "cell_type": "markdown",
   "id": "9fcafeda",
   "metadata": {},
   "source": [
    "This is the sum of squared remaining variation when using the group means.\n",
    "\n",
    "We compare this to the squared remaining variation when just using the overall mean.  Here is that calculation."
   ]
  },
  {
   "cell_type": "code",
   "execution_count": 37,
   "id": "fb35859d",
   "metadata": {},
   "outputs": [
    {
     "data": {
      "text/plain": [
       "3420.542372881356"
      ]
     },
     "execution_count": 37,
     "metadata": {},
     "output_type": "execute_result"
    }
   ],
   "source": [
    "# Sum of squared residuals using overall mean\n",
    "# Subtract the overall mean from the original values to get residuals.\n",
    "resid_overall = clean_baths['Hand Vol Chg'] - overall_mean\n",
    "# Square and sum the residuals to get the squared variation from overall mean.\n",
    "ssq_resid_overall = np.sum(resid_overall ** 2)\n",
    "ssq_resid_overall"
   ]
  },
  {
   "cell_type": "markdown",
   "id": "e9f6aa4b",
   "metadata": {},
   "source": [
    "The variance way of thinking says that we should be particularly interested in our group means, when using them does a very good job of reducing the variation.  This will happen when the group values are closer to their individual group means, than they are to the overall mean.  In that case, `ssq_resid_groups` will be much lower than `ssq_resid_overall`, so we will get a fairly high value for `ssq_resid_overall - ssq_resid_groups`:"
   ]
  },
  {
   "cell_type": "code",
   "execution_count": 38,
   "id": "8acf88b2",
   "metadata": {},
   "outputs": [
    {
     "data": {
      "text/plain": [
       "716.1592559982396"
      ]
     },
     "execution_count": 38,
     "metadata": {},
     "output_type": "execute_result"
    }
   ],
   "source": [
    "ssq_resid_overall - ssq_resid_groups"
   ]
  },
  {
   "cell_type": "markdown",
   "id": "b541cbfa",
   "metadata": {},
   "source": [
    "Oh - wait - that's *exactly* the same as the SNSQGMD metric we were already using!"
   ]
  },
  {
   "cell_type": "code",
   "execution_count": 39,
   "id": "99a7c00f",
   "metadata": {},
   "outputs": [
    {
     "data": {
      "text/plain": [
       "Hand Vol Chg    716.159256\n",
       "dtype: float64"
      ]
     },
     "execution_count": 39,
     "metadata": {},
     "output_type": "execute_result"
    }
   ],
   "source": [
    "observed_sn_sq_gmd"
   ]
  },
  {
   "cell_type": "markdown",
   "id": "ea766c45",
   "metadata": {},
   "source": [
    "This striking fact is to do with the algebra of adding squared deviations from means.  The equivalence gives us the two different ways of thinking of the SNSQGMD metric.  It can be either:\n",
    "\n",
    "* A measure of how far the sample means are from the overall mean, OR\n",
    "* A measure of how much \"unexplained\" variation is left when *not* using\n",
    "  the sample means.\n",
    "\n",
    "In this second \"unexplained variance\" interpretation, we think of the F test\n",
    "calculation as being a ratio of the unexplained variance to the variance\n",
    "remaining when we do use the sample means.  If the sample means explain a lot of variation, then the top half of the F statistic will be large, and the bottom half will be small, giving a large F value."
   ]
  }
 ],
 "metadata": {
  "jupytext": {
   "notebook_metadata_filter": "all,-language_info",
   "split_at_heading": true
  },
  "kernelspec": {
   "display_name": "Python 3",
   "language": "python",
   "name": "python3"
  },
  "language_info": {
   "codemirror_mode": {
    "name": "ipython",
    "version": 3
   },
   "file_extension": ".py",
   "mimetype": "text/x-python",
   "name": "python",
   "nbconvert_exporter": "python",
   "pygments_lexer": "ipython3",
   "version": "3.8.11"
  }
 },
 "nbformat": 4,
 "nbformat_minor": 5
}
