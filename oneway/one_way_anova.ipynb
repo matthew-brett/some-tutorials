{
 "cells": [
  {
   "cell_type": "markdown",
   "id": "6647ef54",
   "metadata": {},
   "source": [
    "# One-way ANOVA\n",
    "\n",
    "Imagine you have three groups, and you want to do a one-level ANOVA to test\n",
    "for overall differences across the groups.\n",
    "\n",
    "The general technique for a permutation test is:\n",
    "\n",
    "* You decide on your metric\n",
    "* You get your metric for the actual data - observed metric\n",
    "* You permute your data and take the same metric from the permuted data, and\n",
    "  repeat many times - fake metrics\n",
    "* You compare your observed metric to your fake metrics, to see how unusual it\n",
    "  is.\n",
    "\n",
    "For a two-sample permutation test, your metric is the difference in the two\n",
    "sample means.\n",
    "\n",
    "For a three sample version of the test — we need a metric that will be big\n",
    "where there are big differences between the three groups, and small when there\n",
    "are small differences.\n",
    "\n",
    "One good metric could be to:\n",
    "\n",
    "* Get the sample means for each of the three groups A, B, C, to give `mean_a`,\n",
    "  `mean_b`, `mean_c`\n",
    "* Get the mean across all the observations regardless of group\n",
    "  (`mean_overall`)\n",
    "* Subtract `mean_overall` from each of `mean_a`, `mean_b`, `mean_c` to give\n",
    "  `mean_a_diff`, `mean_b_diff`, `mean_c_diff`.\n",
    "\n",
    "As usual, we need one number as our metric, and as usual, we're interested in\n",
    "positive as well as negative differences, so we want to get rid of the signs\n",
    "on these somehow, before adding them up.  One way is to square them, and so\n",
    "the metric is:\n",
    "\n",
    "    our_metric = mean_a_diff ** 2 + mean_b_diff ** 2 + mean_c_diff ** 2\n",
    "\n",
    "This will be big when the individual groups have different means from each\n",
    "other and small when the means for the groups are pretty similar to each\n",
    "other, and therefore, to the overall mean.\n",
    "\n",
    "To follow the recipe above we calculate this metric for the actual groups A,\n",
    "B, C.   Permute the group labels to give random groups A, B, C, and\n",
    "recalculate the metric.   See whether the metric in the real data is unusual\n",
    "in the distribution of the same metric for the permuted groups.\n",
    "\n",
    "This is the permutation equivalent of the one-way ANOVA.   The one-way ANOVA\n",
    "just uses some assumptions from the normal distribution to estimate the random\n",
    "distribution, instead of using permutation to calculate the random\n",
    "distribution.\n"
   ]
  },
  {
   "cell_type": "markdown",
   "id": "69b93efb",
   "metadata": {},
   "source": [
    "## An example\n",
    "\n",
    "Dataset from <https://dasl.datadescription.com/datafile/contrast-baths>"
   ]
  },
  {
   "cell_type": "code",
   "execution_count": 1,
   "id": "7cc8186d",
   "metadata": {},
   "outputs": [],
   "source": [
    "import numpy as np\n",
    "import pandas as pd\n",
    "import matplotlib.pyplot as plt"
   ]
  },
  {
   "cell_type": "markdown",
   "id": "50bc6419",
   "metadata": {},
   "source": [
    "The data corresponds to [this\n",
    "paper](https://pubmed.ncbi.nlm.nih.gov/19375278/).\n",
    "\n",
    "From the abstract:\n",
    "\n",
    "> Methods: Study participants were randomly assigned to one of three treatment\n",
    "> group protocols--contrast baths with exercise, contrast baths without\n",
    "> exercise, and an exercise-only control treatment group. Study participants\n",
    "> were evaluated with hand volumetry, before and after treatment at two\n",
    "> different data collection periods-pre- and postoperatively.\n",
    "\n",
    "It is not clear what data we have, but they may be change scores before and\n",
    "after treatment, for the pre-operative group.\n",
    "\n",
    "Notice we have three treatment groups, the \"Bath\" group, the \"Bath+Exercise\" group and the \"Exercise\" group."
   ]
  },
  {
   "cell_type": "code",
   "execution_count": 2,
   "id": "25514c42",
   "metadata": {},
   "outputs": [
    {
     "data": {
      "text/html": [
       "<div>\n",
       "<style scoped>\n",
       "    .dataframe tbody tr th:only-of-type {\n",
       "        vertical-align: middle;\n",
       "    }\n",
       "\n",
       "    .dataframe tbody tr th {\n",
       "        vertical-align: top;\n",
       "    }\n",
       "\n",
       "    .dataframe thead th {\n",
       "        text-align: right;\n",
       "    }\n",
       "</style>\n",
       "<table border=\"1\" class=\"dataframe\">\n",
       "  <thead>\n",
       "    <tr style=\"text-align: right;\">\n",
       "      <th></th>\n",
       "      <th>Treatment</th>\n",
       "      <th>Hand Vol Chg</th>\n",
       "    </tr>\n",
       "  </thead>\n",
       "  <tbody>\n",
       "    <tr>\n",
       "      <th>0</th>\n",
       "      <td>Bath</td>\n",
       "      <td>10</td>\n",
       "    </tr>\n",
       "    <tr>\n",
       "      <th>1</th>\n",
       "      <td>Exercise</td>\n",
       "      <td>0</td>\n",
       "    </tr>\n",
       "    <tr>\n",
       "      <th>2</th>\n",
       "      <td>Bath</td>\n",
       "      <td>10</td>\n",
       "    </tr>\n",
       "    <tr>\n",
       "      <th>3</th>\n",
       "      <td>Bath</td>\n",
       "      <td>5</td>\n",
       "    </tr>\n",
       "    <tr>\n",
       "      <th>4</th>\n",
       "      <td>Bath</td>\n",
       "      <td></td>\n",
       "    </tr>\n",
       "  </tbody>\n",
       "</table>\n",
       "</div>"
      ],
      "text/plain": [
       "  Treatment Hand Vol Chg\n",
       "0      Bath           10\n",
       "1  Exercise            0\n",
       "2      Bath           10\n",
       "3      Bath            5\n",
       "4      Bath             "
      ]
     },
     "execution_count": 2,
     "metadata": {},
     "output_type": "execute_result"
    }
   ],
   "source": [
    "# Read the raw dataset\n",
    "baths = pd.read_csv('contrast-baths.txt', sep='\\t')\n",
    "baths.head()"
   ]
  },
  {
   "cell_type": "markdown",
   "id": "8c6af7f4",
   "metadata": {},
   "source": [
    "Both columns are \"objects\", meaning strings."
   ]
  },
  {
   "cell_type": "code",
   "execution_count": 3,
   "id": "621ed2fe",
   "metadata": {},
   "outputs": [
    {
     "data": {
      "text/plain": [
       "Treatment       object\n",
       "Hand Vol Chg    object\n",
       "dtype: object"
      ]
     },
     "execution_count": 3,
     "metadata": {},
     "output_type": "execute_result"
    }
   ],
   "source": [
    "baths.dtypes"
   ]
  },
  {
   "cell_type": "markdown",
   "id": "3a907340",
   "metadata": {},
   "source": [
    "In fact, missing data here is a single space character.  Fix that, by replacing single spaces with empty strings, then converting all the \"Hand Vol Chg\" values to numbers."
   ]
  },
  {
   "cell_type": "code",
   "execution_count": 4,
   "id": "2c8959bb",
   "metadata": {},
   "outputs": [
    {
     "data": {
      "text/html": [
       "<div>\n",
       "<style scoped>\n",
       "    .dataframe tbody tr th:only-of-type {\n",
       "        vertical-align: middle;\n",
       "    }\n",
       "\n",
       "    .dataframe tbody tr th {\n",
       "        vertical-align: top;\n",
       "    }\n",
       "\n",
       "    .dataframe thead th {\n",
       "        text-align: right;\n",
       "    }\n",
       "</style>\n",
       "<table border=\"1\" class=\"dataframe\">\n",
       "  <thead>\n",
       "    <tr style=\"text-align: right;\">\n",
       "      <th></th>\n",
       "      <th>Treatment</th>\n",
       "      <th>Hand Vol Chg</th>\n",
       "    </tr>\n",
       "  </thead>\n",
       "  <tbody>\n",
       "    <tr>\n",
       "      <th>0</th>\n",
       "      <td>Bath</td>\n",
       "      <td>10.0</td>\n",
       "    </tr>\n",
       "    <tr>\n",
       "      <th>1</th>\n",
       "      <td>Exercise</td>\n",
       "      <td>0.0</td>\n",
       "    </tr>\n",
       "    <tr>\n",
       "      <th>2</th>\n",
       "      <td>Bath</td>\n",
       "      <td>10.0</td>\n",
       "    </tr>\n",
       "    <tr>\n",
       "      <th>3</th>\n",
       "      <td>Bath</td>\n",
       "      <td>5.0</td>\n",
       "    </tr>\n",
       "    <tr>\n",
       "      <th>4</th>\n",
       "      <td>Bath</td>\n",
       "      <td>NaN</td>\n",
       "    </tr>\n",
       "  </tbody>\n",
       "</table>\n",
       "</div>"
      ],
      "text/plain": [
       "  Treatment  Hand Vol Chg\n",
       "0      Bath          10.0\n",
       "1  Exercise           0.0\n",
       "2      Bath          10.0\n",
       "3      Bath           5.0\n",
       "4      Bath           NaN"
      ]
     },
     "execution_count": 4,
     "metadata": {},
     "output_type": "execute_result"
    }
   ],
   "source": [
    "baths['Hand Vol Chg'] = baths['Hand Vol Chg'].replace(' ', '')\n",
    "baths['Hand Vol Chg'] = pd.to_numeric(baths['Hand Vol Chg'])\n",
    "baths.head()"
   ]
  },
  {
   "cell_type": "markdown",
   "id": "1e65654f",
   "metadata": {},
   "source": [
    "For simplicity, drop the missing `NaN` values:"
   ]
  },
  {
   "cell_type": "code",
   "execution_count": 5,
   "id": "d3e089df",
   "metadata": {},
   "outputs": [
    {
     "data": {
      "text/html": [
       "<div>\n",
       "<style scoped>\n",
       "    .dataframe tbody tr th:only-of-type {\n",
       "        vertical-align: middle;\n",
       "    }\n",
       "\n",
       "    .dataframe tbody tr th {\n",
       "        vertical-align: top;\n",
       "    }\n",
       "\n",
       "    .dataframe thead th {\n",
       "        text-align: right;\n",
       "    }\n",
       "</style>\n",
       "<table border=\"1\" class=\"dataframe\">\n",
       "  <thead>\n",
       "    <tr style=\"text-align: right;\">\n",
       "      <th></th>\n",
       "      <th>Treatment</th>\n",
       "      <th>Hand Vol Chg</th>\n",
       "    </tr>\n",
       "  </thead>\n",
       "  <tbody>\n",
       "    <tr>\n",
       "      <th>0</th>\n",
       "      <td>Bath</td>\n",
       "      <td>10.0</td>\n",
       "    </tr>\n",
       "    <tr>\n",
       "      <th>1</th>\n",
       "      <td>Exercise</td>\n",
       "      <td>0.0</td>\n",
       "    </tr>\n",
       "    <tr>\n",
       "      <th>2</th>\n",
       "      <td>Bath</td>\n",
       "      <td>10.0</td>\n",
       "    </tr>\n",
       "    <tr>\n",
       "      <th>3</th>\n",
       "      <td>Bath</td>\n",
       "      <td>5.0</td>\n",
       "    </tr>\n",
       "    <tr>\n",
       "      <th>5</th>\n",
       "      <td>Exercise</td>\n",
       "      <td>4.0</td>\n",
       "    </tr>\n",
       "  </tbody>\n",
       "</table>\n",
       "</div>"
      ],
      "text/plain": [
       "  Treatment  Hand Vol Chg\n",
       "0      Bath          10.0\n",
       "1  Exercise           0.0\n",
       "2      Bath          10.0\n",
       "3      Bath           5.0\n",
       "5  Exercise           4.0"
      ]
     },
     "execution_count": 5,
     "metadata": {},
     "output_type": "execute_result"
    }
   ],
   "source": [
    "clean_baths = baths.dropna()\n",
    "clean_baths.head()"
   ]
  },
  {
   "cell_type": "markdown",
   "id": "d04148d1",
   "metadata": {},
   "source": [
    "We are now ready to do the analysis.\n",
    "\n",
    "Here are the data, plotted by group."
   ]
  },
  {
   "cell_type": "code",
   "execution_count": 6,
   "id": "90598ec1",
   "metadata": {},
   "outputs": [
    {
     "data": {
      "text/plain": [
       "<AxesSubplot:xlabel='Treatment', ylabel='Hand Vol Chg'>"
      ]
     },
     "execution_count": 6,
     "metadata": {},
     "output_type": "execute_result"
    },
    {
     "data": {
      "image/png": "[encoded data removed]",
      "text/plain": [
       "<Figure size 432x288 with 1 Axes>"
      ]
     },
     "metadata": {
      "needs_background": "light"
     },
     "output_type": "display_data"
    }
   ],
   "source": [
    "clean_baths.plot.scatter('Treatment', 'Hand Vol Chg')"
   ]
  },
  {
   "cell_type": "markdown",
   "id": "c226b1e7",
   "metadata": {},
   "source": [
    "These are the means for each of the three groups."
   ]
  },
  {
   "cell_type": "code",
   "execution_count": 7,
   "id": "96c1202f",
   "metadata": {},
   "outputs": [
    {
     "data": {
      "text/html": [
       "<div>\n",
       "<style scoped>\n",
       "    .dataframe tbody tr th:only-of-type {\n",
       "        vertical-align: middle;\n",
       "    }\n",
       "\n",
       "    .dataframe tbody tr th {\n",
       "        vertical-align: top;\n",
       "    }\n",
       "\n",
       "    .dataframe thead th {\n",
       "        text-align: right;\n",
       "    }\n",
       "</style>\n",
       "<table border=\"1\" class=\"dataframe\">\n",
       "  <thead>\n",
       "    <tr style=\"text-align: right;\">\n",
       "      <th></th>\n",
       "      <th>Hand Vol Chg</th>\n",
       "    </tr>\n",
       "    <tr>\n",
       "      <th>Treatment</th>\n",
       "      <th></th>\n",
       "    </tr>\n",
       "  </thead>\n",
       "  <tbody>\n",
       "    <tr>\n",
       "      <th>Bath</th>\n",
       "      <td>4.545455</td>\n",
       "    </tr>\n",
       "    <tr>\n",
       "      <th>Bath+Exercise</th>\n",
       "      <td>8.000000</td>\n",
       "    </tr>\n",
       "    <tr>\n",
       "      <th>Exercise</th>\n",
       "      <td>-1.071429</td>\n",
       "    </tr>\n",
       "  </tbody>\n",
       "</table>\n",
       "</div>"
      ],
      "text/plain": [
       "               Hand Vol Chg\n",
       "Treatment                  \n",
       "Bath               4.545455\n",
       "Bath+Exercise      8.000000\n",
       "Exercise          -1.071429"
      ]
     },
     "execution_count": 7,
     "metadata": {},
     "output_type": "execute_result"
    }
   ],
   "source": [
    "group_means = clean_baths.groupby('Treatment').mean()\n",
    "group_means"
   ]
  },
  {
   "cell_type": "markdown",
   "id": "9bcb8723",
   "metadata": {},
   "source": [
    "This is the overall mean, ignoring the groups:"
   ]
  },
  {
   "cell_type": "code",
   "execution_count": 8,
   "id": "71df71e7",
   "metadata": {},
   "outputs": [
    {
     "data": {
      "text/plain": [
       "4.559322033898305"
      ]
     },
     "execution_count": 8,
     "metadata": {},
     "output_type": "execute_result"
    }
   ],
   "source": [
    "overall_mean = np.mean(clean_baths['Hand Vol Chg'])\n",
    "overall_mean"
   ]
  },
  {
   "cell_type": "markdown",
   "id": "991741a8",
   "metadata": {},
   "source": [
    "Here we plot the data, the group means, and the overall mean on the same plot."
   ]
  },
  {
   "cell_type": "code",
   "execution_count": 9,
   "id": "4818f049",
   "metadata": {},
   "outputs": [
    {
     "data": {
      "image/png": "[encoded data removed]",
      "text/plain": [
       "<Figure size 432x288 with 1 Axes>"
      ]
     },
     "metadata": {
      "needs_background": "light"
     },
     "output_type": "display_data"
    }
   ],
   "source": [
    "clean_baths.plot.scatter('Treatment', 'Hand Vol Chg',\n",
    "                         label='Data')\n",
    "plt.scatter(group_means.index, np.array(group_means), color='red',\n",
    "            label='Group means')\n",
    "# A dashed line at the overall mean.\n",
    "plt.plot(group_means.index,\n",
    "         [overall_mean, overall_mean, overall_mean],\n",
    "         ':', color='green',\n",
    "         label='Overall mean')\n",
    "plt.legend();"
   ]
  },
  {
   "cell_type": "markdown",
   "id": "45154153",
   "metadata": {},
   "source": [
    "We calculate the difference between the group means and the overall mean."
   ]
  },
  {
   "cell_type": "code",
   "execution_count": 10,
   "id": "13b30276",
   "metadata": {},
   "outputs": [
    {
     "data": {
      "text/html": [
       "<div>\n",
       "<style scoped>\n",
       "    .dataframe tbody tr th:only-of-type {\n",
       "        vertical-align: middle;\n",
       "    }\n",
       "\n",
       "    .dataframe tbody tr th {\n",
       "        vertical-align: top;\n",
       "    }\n",
       "\n",
       "    .dataframe thead th {\n",
       "        text-align: right;\n",
       "    }\n",
       "</style>\n",
       "<table border=\"1\" class=\"dataframe\">\n",
       "  <thead>\n",
       "    <tr style=\"text-align: right;\">\n",
       "      <th></th>\n",
       "      <th>Hand Vol Chg</th>\n",
       "    </tr>\n",
       "    <tr>\n",
       "      <th>Treatment</th>\n",
       "      <th></th>\n",
       "    </tr>\n",
       "  </thead>\n",
       "  <tbody>\n",
       "    <tr>\n",
       "      <th>Bath</th>\n",
       "      <td>-0.013867</td>\n",
       "    </tr>\n",
       "    <tr>\n",
       "      <th>Bath+Exercise</th>\n",
       "      <td>3.440678</td>\n",
       "    </tr>\n",
       "    <tr>\n",
       "      <th>Exercise</th>\n",
       "      <td>-5.630751</td>\n",
       "    </tr>\n",
       "  </tbody>\n",
       "</table>\n",
       "</div>"
      ],
      "text/plain": [
       "               Hand Vol Chg\n",
       "Treatment                  \n",
       "Bath              -0.013867\n",
       "Bath+Exercise      3.440678\n",
       "Exercise          -5.630751"
      ]
     },
     "execution_count": 10,
     "metadata": {},
     "output_type": "execute_result"
    }
   ],
   "source": [
    "mean_diffs = group_means - overall_mean\n",
    "mean_diffs"
   ]
  },
  {
   "cell_type": "markdown",
   "id": "1f48fa01",
   "metadata": {},
   "source": [
    "We calculate the sum of squares measure of the difference of the group means from the overall mean."
   ]
  },
  {
   "cell_type": "code",
   "execution_count": 11,
   "id": "2983ee26",
   "metadata": {},
   "outputs": [
    {
     "data": {
      "text/plain": [
       "Hand Vol Chg    43.54381\n",
       "dtype: float64"
      ]
     },
     "execution_count": 11,
     "metadata": {},
     "output_type": "execute_result"
    }
   ],
   "source": [
    "mean_diff_ssq = np.sum(mean_diffs ** 2)\n",
    "mean_diff_ssq"
   ]
  },
  {
   "cell_type": "markdown",
   "id": "a234aae3",
   "metadata": {},
   "source": [
    "This is our metric.  To make this a bit clearer, we put the calculation of our metric into its own function so we can re-use it on different data frames."
   ]
  },
  {
   "cell_type": "code",
   "execution_count": 12,
   "id": "5a5507ce",
   "metadata": {},
   "outputs": [],
   "source": [
    "def ssq_mean_diffs(df, group_col, val_col):\n",
    "    overall_mean = np.mean(df[val_col])\n",
    "    group_means = df.groupby(group_col)[val_col].mean()\n",
    "    return np.sum((group_means - overall_mean) ** 2)"
   ]
  },
  {
   "cell_type": "markdown",
   "id": "c22cfeea",
   "metadata": {},
   "source": [
    "Check that we get the same answer from the function as we did with the step-by-step calculation:"
   ]
  },
  {
   "cell_type": "code",
   "execution_count": 13,
   "id": "9b2beefc",
   "metadata": {},
   "outputs": [
    {
     "data": {
      "text/plain": [
       "43.54380955304242"
      ]
     },
     "execution_count": 13,
     "metadata": {},
     "output_type": "execute_result"
    }
   ],
   "source": [
    "ssq_mean_diffs(clean_baths, 'Treatment', 'Hand Vol Chg')"
   ]
  },
  {
   "cell_type": "markdown",
   "id": "8e227ae2",
   "metadata": {},
   "source": [
    "Next we consider a single trial in our ideal, null, fake world.  We do this by making a copy of the data frame, and then permuting the Treatment labels, so the association between the Treatment and the change values is random."
   ]
  },
  {
   "cell_type": "code",
   "execution_count": 14,
   "id": "03df1e44",
   "metadata": {},
   "outputs": [
    {
     "data": {
      "text/html": [
       "<div>\n",
       "<style scoped>\n",
       "    .dataframe tbody tr th:only-of-type {\n",
       "        vertical-align: middle;\n",
       "    }\n",
       "\n",
       "    .dataframe tbody tr th {\n",
       "        vertical-align: top;\n",
       "    }\n",
       "\n",
       "    .dataframe thead th {\n",
       "        text-align: right;\n",
       "    }\n",
       "</style>\n",
       "<table border=\"1\" class=\"dataframe\">\n",
       "  <thead>\n",
       "    <tr style=\"text-align: right;\">\n",
       "      <th></th>\n",
       "      <th>Treatment</th>\n",
       "      <th>Hand Vol Chg</th>\n",
       "    </tr>\n",
       "  </thead>\n",
       "  <tbody>\n",
       "    <tr>\n",
       "      <th>0</th>\n",
       "      <td>Bath</td>\n",
       "      <td>10.0</td>\n",
       "    </tr>\n",
       "    <tr>\n",
       "      <th>1</th>\n",
       "      <td>Bath</td>\n",
       "      <td>0.0</td>\n",
       "    </tr>\n",
       "    <tr>\n",
       "      <th>2</th>\n",
       "      <td>Bath+Exercise</td>\n",
       "      <td>10.0</td>\n",
       "    </tr>\n",
       "    <tr>\n",
       "      <th>3</th>\n",
       "      <td>Bath+Exercise</td>\n",
       "      <td>5.0</td>\n",
       "    </tr>\n",
       "    <tr>\n",
       "      <th>5</th>\n",
       "      <td>Exercise</td>\n",
       "      <td>4.0</td>\n",
       "    </tr>\n",
       "  </tbody>\n",
       "</table>\n",
       "</div>"
      ],
      "text/plain": [
       "       Treatment  Hand Vol Chg\n",
       "0           Bath          10.0\n",
       "1           Bath           0.0\n",
       "2  Bath+Exercise          10.0\n",
       "3  Bath+Exercise           5.0\n",
       "5       Exercise           4.0"
      ]
     },
     "execution_count": 14,
     "metadata": {},
     "output_type": "execute_result"
    }
   ],
   "source": [
    "fake_data = clean_baths.copy()\n",
    "# Permute the treatment labels\n",
    "fake_data['Treatment'] = np.random.permutation(fake_data['Treatment'])\n",
    "fake_data.head()"
   ]
  },
  {
   "cell_type": "markdown",
   "id": "a1a3f70e",
   "metadata": {},
   "source": [
    "Next we calculate our metric step by step."
   ]
  },
  {
   "cell_type": "code",
   "execution_count": 15,
   "id": "cc500397",
   "metadata": {},
   "outputs": [
    {
     "data": {
      "text/plain": [
       "Hand Vol Chg    12.61677\n",
       "dtype: float64"
      ]
     },
     "execution_count": 15,
     "metadata": {},
     "output_type": "execute_result"
    }
   ],
   "source": [
    "fake_means = fake_data.groupby('Treatment').mean()\n",
    "# Notice that the overall_mean cannot change because we did not\n",
    "# change these values.\n",
    "fake_ssq = np.sum((fake_means - overall_mean) ** 2)\n",
    "fake_ssq"
   ]
  },
  {
   "cell_type": "markdown",
   "id": "c00f452c",
   "metadata": {},
   "source": [
    "We can also use our function to do that calculation, to get the same answer:"
   ]
  },
  {
   "cell_type": "code",
   "execution_count": 16,
   "id": "8fb9cbd8",
   "metadata": {},
   "outputs": [
    {
     "data": {
      "text/plain": [
       "12.616769806291572"
      ]
     },
     "execution_count": 16,
     "metadata": {},
     "output_type": "execute_result"
    }
   ],
   "source": [
    "ssq_mean_diffs(fake_data, 'Treatment', 'Hand Vol Chg')"
   ]
  },
  {
   "cell_type": "markdown",
   "id": "7a98053f",
   "metadata": {},
   "source": [
    "Now we are ready to do our simulation.  We do 10000 trials, making a new random association, and recalculating our sum of squares metric."
   ]
  },
  {
   "cell_type": "code",
   "execution_count": 17,
   "id": "fc862150",
   "metadata": {},
   "outputs": [],
   "source": [
    "n_iters = 10000\n",
    "fake_ssqs = np.zeros(n_iters)\n",
    "for i in np.arange(n_iters):\n",
    "    fake_data['Treatment'] = np.random.permutation(fake_data['Treatment'])\n",
    "    fake_ssqs[i] = ssq_mean_diffs(fake_data, 'Treatment', 'Hand Vol Chg')"
   ]
  },
  {
   "cell_type": "markdown",
   "id": "10f40dd4",
   "metadata": {},
   "source": [
    "Of course, because these are sums of squares, they must all be positive."
   ]
  },
  {
   "cell_type": "code",
   "execution_count": 18,
   "id": "8e3675fa",
   "metadata": {},
   "outputs": [
    {
     "data": {
      "image/png": "[encoded data removed]",
      "text/plain": [
       "<Figure size 432x288 with 1 Axes>"
      ]
     },
     "metadata": {
      "needs_background": "light"
     },
     "output_type": "display_data"
    }
   ],
   "source": [
    "plt.hist(fake_ssqs, bins=100);"
   ]
  },
  {
   "cell_type": "markdown",
   "id": "6ede316a",
   "metadata": {},
   "source": [
    "How does our observed sum of squares metric compare to the distribution of fake sum of square metrics?"
   ]
  },
  {
   "cell_type": "code",
   "execution_count": 19,
   "id": "749613e6",
   "metadata": {},
   "outputs": [
    {
     "data": {
      "text/plain": [
       "0.0011"
      ]
     },
     "execution_count": 19,
     "metadata": {},
     "output_type": "execute_result"
    }
   ],
   "source": [
    "p = np.count_nonzero(fake_ssqs >= float(mean_diff_ssq)) / n_iters\n",
    "p"
   ]
  },
  {
   "cell_type": "markdown",
   "id": "45e971b4",
   "metadata": {},
   "source": [
    "The p value tells us that this observed metric is very unlikely to have come about in a random world."
   ]
  },
  {
   "cell_type": "markdown",
   "id": "f25edbc5",
   "metadata": {},
   "source": [
    "## Comparing to standard one-way ANOVA F tests\n",
    "\n",
    "Notice that we get a similar p value from the standard one-way ANOVA\n",
    "F-test.  Here is the Statsmodels implementation:"
   ]
  },
  {
   "cell_type": "code",
   "execution_count": 20,
   "id": "434f61e6",
   "metadata": {},
   "outputs": [
    {
     "data": {
      "text/html": [
       "<div>\n",
       "<style scoped>\n",
       "    .dataframe tbody tr th:only-of-type {\n",
       "        vertical-align: middle;\n",
       "    }\n",
       "\n",
       "    .dataframe tbody tr th {\n",
       "        vertical-align: top;\n",
       "    }\n",
       "\n",
       "    .dataframe thead th {\n",
       "        text-align: right;\n",
       "    }\n",
       "</style>\n",
       "<table border=\"1\" class=\"dataframe\">\n",
       "  <thead>\n",
       "    <tr style=\"text-align: right;\">\n",
       "      <th></th>\n",
       "      <th>df</th>\n",
       "      <th>sum_sq</th>\n",
       "      <th>mean_sq</th>\n",
       "      <th>F</th>\n",
       "      <th>PR(&gt;F)</th>\n",
       "    </tr>\n",
       "  </thead>\n",
       "  <tbody>\n",
       "    <tr>\n",
       "      <th>Treatment</th>\n",
       "      <td>2.0</td>\n",
       "      <td>716.159256</td>\n",
       "      <td>358.079628</td>\n",
       "      <td>7.4148</td>\n",
       "      <td>0.001391</td>\n",
       "    </tr>\n",
       "    <tr>\n",
       "      <th>Residual</th>\n",
       "      <td>56.0</td>\n",
       "      <td>2704.383117</td>\n",
       "      <td>48.292556</td>\n",
       "      <td>NaN</td>\n",
       "      <td>NaN</td>\n",
       "    </tr>\n",
       "  </tbody>\n",
       "</table>\n",
       "</div>"
      ],
      "text/plain": [
       "             df       sum_sq     mean_sq       F    PR(>F)\n",
       "Treatment   2.0   716.159256  358.079628  7.4148  0.001391\n",
       "Residual   56.0  2704.383117   48.292556     NaN       NaN"
      ]
     },
     "execution_count": 20,
     "metadata": {},
     "output_type": "execute_result"
    }
   ],
   "source": [
    "import statsmodels.api as sm\n",
    "import statsmodels.formula.api as smf\n",
    "\n",
    "# The Q() in the formula is just to allow spaces in the variable name.\n",
    "mod = smf.ols('Q(\"Hand Vol Chg\") ~ Treatment', data=clean_baths).fit()\n",
    "\n",
    "sm.stats.anova_lm(mod, typ=1)"
   ]
  },
  {
   "cell_type": "markdown",
   "id": "728928e3",
   "metadata": {},
   "source": [
    "Here is doing the same calculation in Scipy:"
   ]
  },
  {
   "cell_type": "code",
   "execution_count": 21,
   "id": "dca9b840",
   "metadata": {},
   "outputs": [],
   "source": [
    "from scipy.stats import f_oneway"
   ]
  },
  {
   "cell_type": "code",
   "execution_count": 22,
   "id": "adf1f370",
   "metadata": {},
   "outputs": [],
   "source": [
    "# Get the values from the individual groups.\n",
    "treatment = clean_baths['Treatment']\n",
    "change = clean_baths['Hand Vol Chg']\n",
    "bath = change[treatment == 'Bath']\n",
    "both = change[treatment == 'Bath+Exercise']\n",
    "exercise = change[treatment == 'Exercise']"
   ]
  },
  {
   "cell_type": "markdown",
   "id": "5f6bac05",
   "metadata": {},
   "source": [
    "Do the F-test in Scipy:"
   ]
  },
  {
   "cell_type": "code",
   "execution_count": 23,
   "id": "a2709a8f",
   "metadata": {},
   "outputs": [
    {
     "data": {
      "text/plain": [
       "F_onewayResult(statistic=7.414799716344096, pvalue=0.0013907554044090167)"
      ]
     },
     "execution_count": 23,
     "metadata": {},
     "output_type": "execute_result"
    }
   ],
   "source": [
    "f_oneway(bath, both, exercise)"
   ]
  }
 ],
 "metadata": {
  "jupytext": {
   "notebook_metadata_filter": "all,-language_info",
   "split_at_heading": true
  },
  "kernelspec": {
   "display_name": "Python 3",
   "language": "python",
   "name": "python3"
  },
  "language_info": {
   "codemirror_mode": {
    "name": "ipython",
    "version": 3
   },
   "file_extension": ".py",
   "mimetype": "text/x-python",
   "name": "python",
   "nbconvert_exporter": "python",
   "pygments_lexer": "ipython3",
   "version": "3.8.11"
  }
 },
 "nbformat": 4,
 "nbformat_minor": 5
}
