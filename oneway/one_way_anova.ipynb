{
 "cells": [
  {
   "cell_type": "markdown",
   "metadata": {},
   "source": [
    "# One-way ANOVA\n",
    "\n",
    "Imagine you have three groups, and you want to do a one-level ANOVA to test for\n",
    "overall differences across the groups. For instance, if you wanted to test whether\n",
    "reaction time on a cognitive task was different between three experimental conditions. Or\n",
    "if time spent on a webpage was longer depending on which of three versions of the page\n",
    "a user browsed etc. etc.\n",
    "\n",
    "The general technique for a permutation test is:\n",
    "\n",
    "* You decide on your metric\n",
    "* You get your metric for the actual data - observed metric\n",
    "* You permute your data and take the same metric from the permuted data, and\n",
    "  repeat many times - fake metrics\n",
    "* You compare your observed metric to your fake metrics, to see how unusual it\n",
    "  is.\n",
    "\n",
    "For a two-sample permutation test, your metric is the difference in the two\n",
    "sample means.\n",
    "\n",
    "For a three sample version of the test — we need a metric that will be big\n",
    "where there are big differences between the three groups, and small when there\n",
    "are small differences.\n",
    "\n",
    "Let us reflect on what what we want from the metric.  It should be a single\n",
    "number to summarize all the values from the groups. It should be be large for\n",
    "big differences between the means for the various groups.  It should be larger\n",
    "when more observations are in the groups with large difference in means.\n",
    "\n",
    "Consider the following metric.  We will soon see this is the metric that the F-test uses.\n",
    "\n",
    "* Get the sample means for each of the three groups A, B, C, to give `mean_a`,\n",
    "  `mean_b`, `mean_c`\n",
    "   <br> \n",
    "* Get the mean across all the observations regardless of group\n",
    "  (`mean_overall`)\n",
    "   <br> \n",
    "* Subtract `mean_overall` from each of `mean_a`, `mean_b`, `mean_c` to give\n",
    "  `mean_a_diff`, `mean_b_diff`, `mean_c_diff`.\n",
    "   <br> \n",
    "* We are interested in positive as well as negative differences, so we do not\n",
    "  want to add these mean differences, otherwise the positive and negative means\n",
    "  differences will cancel out. So we next square the differences to give:\n",
    "  `sq_mean_a_diff`, `sq_mean_b_diff`, `sq_mean_c_diff`.\n",
    "   <br> \n",
    "* We want larger groups to have greater weight than small groups.  Call the\n",
    "  number in groups A, B, and C `n_a`, `n_b`, `n_c`. To weight the squared mean\n",
    "  differences we multiply each square mean difference by the number in each\n",
    "  group: `sq_mean_a_diff * n_a`, `sq_mean_b_diff * n_b`, `sq_mean_c_diff * n_c`, \n",
    "  to give `nsq_mean_a_diff`, `nsq_mean_b_diff`, `nsq_mean_c_diff`.\n",
    "   <br> \n",
    "*   Finally, we add up the group `nsq` scores to give our metric:\n",
    "\n",
    "    ```\n",
    "    our_metric = nsq_mean_a_diff + nsq_mean_b_diff + nsq_mean_c_diff\n",
    "    ```\n",
    "\n",
    "We will call this the SNSQGMD metric (Sum of N times SQuared Group Mean\n",
    "Difference).\n",
    "\n",
    "SNSQGMD will be large and positive when the individual groups have different\n",
    "means from each other and small when the means for the groups are pretty\n",
    "similar to each other, and therefore, to the overall mean.  \n",
    "\n",
    "Because the squared mean difference for each group is weighted by the size of the group, \n",
    "SNSQGMD  will be larger when larger groups have means with bigger deviations from the \n",
    "overall mean.\n",
    "\n",
    "The three graphs below use some simulated data to show how SNSQGMD changes\n",
    "as a function of the difference between the means of three groups. Each \n",
    "group consists of 10000 simulated observations. The group means are shown as coloured \n",
    "diamonds, and the overall mean is shown as a red 'X'.  The difference between each group \n",
    "mean and the overall mean is shown by a dashed red line. SNSQGMD - calculated via the recipe \n",
    "above - is shown for each graph below the x axis.\n",
    "\n",
    "*Note: please see [this page](SNSQGMD_and_F-statistic_simulations) if you would like\n",
    "to see the code that generated the simulated data for these graphs*"
   ]
  },
  {
   "cell_type": "markdown",
   "metadata": {},
   "source": [
    "<img src=\"SNSQGMD_sim.JPG\">"
   ]
  },
  {
   "cell_type": "markdown",
   "metadata": {},
   "source": [
    "From the graphs we can see that SNSQGMD is large when the difference between\n",
    "the group means is large (shown in the leftmost graph). SNSQGMD gets smaller\n",
    "when the difference in means is smaller (middle graph). And SNSQGMD will be \n",
    "(relatively) very small when the distance between the group means is very small,\n",
    "and therefore the group means are all very similar to the overall mean (rightmost graph).\n",
    "\n",
    "To use SNSQGMD as the metric for a three-sample permutation test, we calculate SNSQGMD \n",
    "for the actual groups A, B, C, by following the recipe above. We then permute the group labels \n",
    "to give random groups A, B, C, and recalculate the metric. We then see whether SNSQGMD in \n",
    "the real data is unusual in the distribution of the same metric for the permuted groups.\n",
    "\n",
    "This is the permutation equivalent of the one-way ANOVA.   The one-way ANOVA\n",
    "just uses some assumptions from the normal distribution to estimate the spread\n",
    "in the random distribution of SNSQGMD, instead of using permutation to calculate\n",
    "the random distribution."
   ]
  },
  {
   "cell_type": "markdown",
   "metadata": {},
   "source": [
    "## An example\n",
    "\n",
    "Dataset from <https://dasl.datadescription.com/datafile/contrast-baths>"
   ]
  },
  {
   "cell_type": "markdown",
   "metadata": {},
   "source": [
    "## The example dataset, ready for analysis\n",
    "\n",
    "The data corresponds to [this\n",
    "paper](https://pubmed.ncbi.nlm.nih.gov/19375278/).\n",
    "\n",
    "From the abstract:\n",
    "\n",
    "> Methods: Study participants were randomly assigned to one of three treatment\n",
    "> group protocols--contrast baths with exercise, contrast baths without\n",
    "> exercise, and an exercise-only control treatment group. Study participants\n",
    "> were evaluated with hand volumetry, before and after treatment at two\n",
    "> different data collection periods-pre- and postoperatively.\n",
    "\n",
    "It is not clear what data we have, but they may be change scores before and\n",
    "after treatment, for the pre-operative group.\n",
    "\n",
    "Notice we have three treatment groups, the \"Bath\" group, the \"Bath+Exercise\"\n",
    "group and the \"Exercise\" group."
   ]
  },
  {
   "cell_type": "code",
   "execution_count": 1,
   "metadata": {
    "execution": {
     "iopub.execute_input": "2021-08-28T23:40:59.144418Z",
     "iopub.status.busy": "2021-08-28T23:40:59.143619Z",
     "iopub.status.idle": "2021-08-28T23:40:59.154434Z",
     "shell.execute_reply": "2021-08-28T23:40:59.155043Z"
    }
   },
   "outputs": [
    {
     "data": {
      "text/html": [
       "<div>\n",
       "<style scoped>\n",
       "    .dataframe tbody tr th:only-of-type {\n",
       "        vertical-align: middle;\n",
       "    }\n",
       "\n",
       "    .dataframe tbody tr th {\n",
       "        vertical-align: top;\n",
       "    }\n",
       "\n",
       "    .dataframe thead th {\n",
       "        text-align: right;\n",
       "    }\n",
       "</style>\n",
       "<table border=\"1\" class=\"dataframe\">\n",
       "  <thead>\n",
       "    <tr style=\"text-align: right;\">\n",
       "      <th></th>\n",
       "      <th>Treatment</th>\n",
       "      <th>Hand Vol Chg</th>\n",
       "    </tr>\n",
       "  </thead>\n",
       "  <tbody>\n",
       "    <tr>\n",
       "      <th>0</th>\n",
       "      <td>Bath</td>\n",
       "      <td>10</td>\n",
       "    </tr>\n",
       "    <tr>\n",
       "      <th>1</th>\n",
       "      <td>Exercise</td>\n",
       "      <td>0</td>\n",
       "    </tr>\n",
       "    <tr>\n",
       "      <th>2</th>\n",
       "      <td>Bath</td>\n",
       "      <td>10</td>\n",
       "    </tr>\n",
       "    <tr>\n",
       "      <th>3</th>\n",
       "      <td>Bath</td>\n",
       "      <td>5</td>\n",
       "    </tr>\n",
       "    <tr>\n",
       "      <th>4</th>\n",
       "      <td>Bath</td>\n",
       "      <td></td>\n",
       "    </tr>\n",
       "  </tbody>\n",
       "</table>\n",
       "</div>"
      ],
      "text/plain": [
       "  Treatment Hand Vol Chg\n",
       "0      Bath           10\n",
       "1  Exercise            0\n",
       "2      Bath           10\n",
       "3      Bath            5\n",
       "4      Bath             "
      ]
     },
     "execution_count": 1,
     "metadata": {},
     "output_type": "execute_result"
    }
   ],
   "source": [
    "# import the modules we need\n",
    "import numpy as np\n",
    "import pandas as pd\n",
    "import matplotlib.pyplot as plt\n",
    "\n",
    "# Read the raw dataset\n",
    "baths = pd.read_csv('contrast-baths.txt', sep='\\t')\n",
    "baths.head()"
   ]
  },
  {
   "cell_type": "markdown",
   "metadata": {},
   "source": [
    "We need to do some processing to analyze the data.  Although the second column\n",
    "has the numerical values we are interested in, Pandas has read both columns as\n",
    "Python strings (\"objects\"):"
   ]
  },
  {
   "cell_type": "code",
   "execution_count": 2,
   "metadata": {
    "execution": {
     "iopub.execute_input": "2021-08-28T23:40:59.167337Z",
     "iopub.status.busy": "2021-08-28T23:40:59.161439Z",
     "iopub.status.idle": "2021-08-28T23:40:59.178090Z",
     "shell.execute_reply": "2021-08-28T23:40:59.176184Z"
    }
   },
   "outputs": [
    {
     "data": {
      "text/plain": [
       "Treatment       object\n",
       "Hand Vol Chg    object\n",
       "dtype: object"
      ]
     },
     "execution_count": 2,
     "metadata": {},
     "output_type": "execute_result"
    }
   ],
   "source": [
    "baths.dtypes"
   ]
  },
  {
   "cell_type": "markdown",
   "metadata": {},
   "source": [
    "Investigating, the missing data here are given by a single space character.\n",
    "Fix that, by replacing single spaces with empty strings. Then we convert all\n",
    "the `Hand Vol Chg` values to numbers."
   ]
  },
  {
   "cell_type": "code",
   "execution_count": 3,
   "metadata": {
    "execution": {
     "iopub.execute_input": "2021-08-28T23:40:59.201736Z",
     "iopub.status.busy": "2021-08-28T23:40:59.199175Z",
     "iopub.status.idle": "2021-08-28T23:40:59.208407Z",
     "shell.execute_reply": "2021-08-28T23:40:59.210080Z"
    }
   },
   "outputs": [
    {
     "data": {
      "text/html": [
       "<div>\n",
       "<style scoped>\n",
       "    .dataframe tbody tr th:only-of-type {\n",
       "        vertical-align: middle;\n",
       "    }\n",
       "\n",
       "    .dataframe tbody tr th {\n",
       "        vertical-align: top;\n",
       "    }\n",
       "\n",
       "    .dataframe thead th {\n",
       "        text-align: right;\n",
       "    }\n",
       "</style>\n",
       "<table border=\"1\" class=\"dataframe\">\n",
       "  <thead>\n",
       "    <tr style=\"text-align: right;\">\n",
       "      <th></th>\n",
       "      <th>Treatment</th>\n",
       "      <th>Hand Vol Chg</th>\n",
       "    </tr>\n",
       "  </thead>\n",
       "  <tbody>\n",
       "    <tr>\n",
       "      <th>0</th>\n",
       "      <td>Bath</td>\n",
       "      <td>10.0</td>\n",
       "    </tr>\n",
       "    <tr>\n",
       "      <th>1</th>\n",
       "      <td>Exercise</td>\n",
       "      <td>0.0</td>\n",
       "    </tr>\n",
       "    <tr>\n",
       "      <th>2</th>\n",
       "      <td>Bath</td>\n",
       "      <td>10.0</td>\n",
       "    </tr>\n",
       "    <tr>\n",
       "      <th>3</th>\n",
       "      <td>Bath</td>\n",
       "      <td>5.0</td>\n",
       "    </tr>\n",
       "    <tr>\n",
       "      <th>4</th>\n",
       "      <td>Bath</td>\n",
       "      <td>NaN</td>\n",
       "    </tr>\n",
       "  </tbody>\n",
       "</table>\n",
       "</div>"
      ],
      "text/plain": [
       "  Treatment  Hand Vol Chg\n",
       "0      Bath          10.0\n",
       "1  Exercise           0.0\n",
       "2      Bath          10.0\n",
       "3      Bath           5.0\n",
       "4      Bath           NaN"
      ]
     },
     "execution_count": 3,
     "metadata": {},
     "output_type": "execute_result"
    }
   ],
   "source": [
    "baths['Hand Vol Chg'] = baths['Hand Vol Chg'].replace(' ', '')\n",
    "baths['Hand Vol Chg'] = pd.to_numeric(baths['Hand Vol Chg'])\n",
    "baths.head()"
   ]
  },
  {
   "cell_type": "markdown",
   "metadata": {},
   "source": [
    "For simplicity, drop the missing `NaN` values:"
   ]
  },
  {
   "cell_type": "code",
   "execution_count": 4,
   "metadata": {
    "execution": {
     "iopub.execute_input": "2021-08-28T23:40:59.224500Z",
     "iopub.status.busy": "2021-08-28T23:40:59.222942Z",
     "iopub.status.idle": "2021-08-28T23:40:59.244994Z",
     "shell.execute_reply": "2021-08-28T23:40:59.246320Z"
    }
   },
   "outputs": [
    {
     "data": {
      "text/html": [
       "<div>\n",
       "<style scoped>\n",
       "    .dataframe tbody tr th:only-of-type {\n",
       "        vertical-align: middle;\n",
       "    }\n",
       "\n",
       "    .dataframe tbody tr th {\n",
       "        vertical-align: top;\n",
       "    }\n",
       "\n",
       "    .dataframe thead th {\n",
       "        text-align: right;\n",
       "    }\n",
       "</style>\n",
       "<table border=\"1\" class=\"dataframe\">\n",
       "  <thead>\n",
       "    <tr style=\"text-align: right;\">\n",
       "      <th></th>\n",
       "      <th>Treatment</th>\n",
       "      <th>Hand Vol Chg</th>\n",
       "    </tr>\n",
       "  </thead>\n",
       "  <tbody>\n",
       "    <tr>\n",
       "      <th>0</th>\n",
       "      <td>Bath</td>\n",
       "      <td>10.0</td>\n",
       "    </tr>\n",
       "    <tr>\n",
       "      <th>1</th>\n",
       "      <td>Exercise</td>\n",
       "      <td>0.0</td>\n",
       "    </tr>\n",
       "    <tr>\n",
       "      <th>2</th>\n",
       "      <td>Bath</td>\n",
       "      <td>10.0</td>\n",
       "    </tr>\n",
       "    <tr>\n",
       "      <th>3</th>\n",
       "      <td>Bath</td>\n",
       "      <td>5.0</td>\n",
       "    </tr>\n",
       "    <tr>\n",
       "      <th>5</th>\n",
       "      <td>Exercise</td>\n",
       "      <td>4.0</td>\n",
       "    </tr>\n",
       "  </tbody>\n",
       "</table>\n",
       "</div>"
      ],
      "text/plain": [
       "  Treatment  Hand Vol Chg\n",
       "0      Bath          10.0\n",
       "1  Exercise           0.0\n",
       "2      Bath          10.0\n",
       "3      Bath           5.0\n",
       "5  Exercise           4.0"
      ]
     },
     "execution_count": 4,
     "metadata": {},
     "output_type": "execute_result"
    }
   ],
   "source": [
    "clean_baths = baths.dropna()\n",
    "clean_baths.head()"
   ]
  },
  {
   "cell_type": "markdown",
   "metadata": {},
   "source": [
    "We are now ready to do the analysis."
   ]
  },
  {
   "cell_type": "markdown",
   "metadata": {},
   "source": [
    "## Means by group\n",
    "\n",
    "Here are the data, plotted by group."
   ]
  },
  {
   "cell_type": "code",
   "execution_count": 5,
   "metadata": {
    "execution": {
     "iopub.execute_input": "2021-08-28T23:40:59.254577Z",
     "iopub.status.busy": "2021-08-28T23:40:59.253244Z",
     "iopub.status.idle": "2021-08-28T23:40:59.487142Z",
     "shell.execute_reply": "2021-08-28T23:40:59.488001Z"
    }
   },
   "outputs": [
    {
     "data": {
      "image/png": "[encoded data removed]",
      "text/plain": [
       "<Figure size 432x288 with 1 Axes>"
      ]
     },
     "metadata": {
      "needs_background": "light"
     },
     "output_type": "display_data"
    }
   ],
   "source": [
    "clean_baths.plot.scatter('Treatment', 'Hand Vol Chg');"
   ]
  },
  {
   "cell_type": "markdown",
   "metadata": {},
   "source": [
    "These are the means for each of the three groups."
   ]
  },
  {
   "cell_type": "code",
   "execution_count": 6,
   "metadata": {
    "execution": {
     "iopub.execute_input": "2021-08-28T23:40:59.508133Z",
     "iopub.status.busy": "2021-08-28T23:40:59.506394Z",
     "iopub.status.idle": "2021-08-28T23:40:59.514153Z",
     "shell.execute_reply": "2021-08-28T23:40:59.515461Z"
    }
   },
   "outputs": [
    {
     "data": {
      "text/html": [
       "<div>\n",
       "<style scoped>\n",
       "    .dataframe tbody tr th:only-of-type {\n",
       "        vertical-align: middle;\n",
       "    }\n",
       "\n",
       "    .dataframe tbody tr th {\n",
       "        vertical-align: top;\n",
       "    }\n",
       "\n",
       "    .dataframe thead th {\n",
       "        text-align: right;\n",
       "    }\n",
       "</style>\n",
       "<table border=\"1\" class=\"dataframe\">\n",
       "  <thead>\n",
       "    <tr style=\"text-align: right;\">\n",
       "      <th></th>\n",
       "      <th>Hand Vol Chg</th>\n",
       "    </tr>\n",
       "    <tr>\n",
       "      <th>Treatment</th>\n",
       "      <th></th>\n",
       "    </tr>\n",
       "  </thead>\n",
       "  <tbody>\n",
       "    <tr>\n",
       "      <th>Bath</th>\n",
       "      <td>4.545455</td>\n",
       "    </tr>\n",
       "    <tr>\n",
       "      <th>Bath+Exercise</th>\n",
       "      <td>8.000000</td>\n",
       "    </tr>\n",
       "    <tr>\n",
       "      <th>Exercise</th>\n",
       "      <td>-1.071429</td>\n",
       "    </tr>\n",
       "  </tbody>\n",
       "</table>\n",
       "</div>"
      ],
      "text/plain": [
       "               Hand Vol Chg\n",
       "Treatment                  \n",
       "Bath               4.545455\n",
       "Bath+Exercise      8.000000\n",
       "Exercise          -1.071429"
      ]
     },
     "execution_count": 6,
     "metadata": {},
     "output_type": "execute_result"
    }
   ],
   "source": [
    "group_means = clean_baths.groupby('Treatment').mean()\n",
    "group_means"
   ]
  },
  {
   "cell_type": "markdown",
   "metadata": {},
   "source": [
    "These are the number of observations per group:"
   ]
  },
  {
   "cell_type": "code",
   "execution_count": 7,
   "metadata": {
    "execution": {
     "iopub.execute_input": "2021-08-28T23:40:59.533845Z",
     "iopub.status.busy": "2021-08-28T23:40:59.532229Z",
     "iopub.status.idle": "2021-08-28T23:40:59.538225Z",
     "shell.execute_reply": "2021-08-28T23:40:59.539188Z"
    }
   },
   "outputs": [
    {
     "data": {
      "text/html": [
       "<div>\n",
       "<style scoped>\n",
       "    .dataframe tbody tr th:only-of-type {\n",
       "        vertical-align: middle;\n",
       "    }\n",
       "\n",
       "    .dataframe tbody tr th {\n",
       "        vertical-align: top;\n",
       "    }\n",
       "\n",
       "    .dataframe thead th {\n",
       "        text-align: right;\n",
       "    }\n",
       "</style>\n",
       "<table border=\"1\" class=\"dataframe\">\n",
       "  <thead>\n",
       "    <tr style=\"text-align: right;\">\n",
       "      <th></th>\n",
       "      <th>Hand Vol Chg</th>\n",
       "    </tr>\n",
       "    <tr>\n",
       "      <th>Treatment</th>\n",
       "      <th></th>\n",
       "    </tr>\n",
       "  </thead>\n",
       "  <tbody>\n",
       "    <tr>\n",
       "      <th>Bath</th>\n",
       "      <td>22</td>\n",
       "    </tr>\n",
       "    <tr>\n",
       "      <th>Bath+Exercise</th>\n",
       "      <td>23</td>\n",
       "    </tr>\n",
       "    <tr>\n",
       "      <th>Exercise</th>\n",
       "      <td>14</td>\n",
       "    </tr>\n",
       "  </tbody>\n",
       "</table>\n",
       "</div>"
      ],
      "text/plain": [
       "               Hand Vol Chg\n",
       "Treatment                  \n",
       "Bath                     22\n",
       "Bath+Exercise            23\n",
       "Exercise                 14"
      ]
     },
     "execution_count": 7,
     "metadata": {},
     "output_type": "execute_result"
    }
   ],
   "source": [
    "group_ns = clean_baths.groupby('Treatment').count()\n",
    "group_ns"
   ]
  },
  {
   "cell_type": "markdown",
   "metadata": {},
   "source": [
    "Here is the overall mean, ignoring the group membership:"
   ]
  },
  {
   "cell_type": "code",
   "execution_count": 8,
   "metadata": {
    "execution": {
     "iopub.execute_input": "2021-08-28T23:40:59.555279Z",
     "iopub.status.busy": "2021-08-28T23:40:59.552109Z",
     "iopub.status.idle": "2021-08-28T23:40:59.560621Z",
     "shell.execute_reply": "2021-08-28T23:40:59.561862Z"
    }
   },
   "outputs": [
    {
     "data": {
      "text/plain": [
       "4.559322033898305"
      ]
     },
     "execution_count": 8,
     "metadata": {},
     "output_type": "execute_result"
    }
   ],
   "source": [
    "overall_mean = np.mean(clean_baths['Hand Vol Chg'])\n",
    "overall_mean"
   ]
  },
  {
   "cell_type": "markdown",
   "metadata": {},
   "source": [
    "The next plot shows the data, the group means, and the overall mean:"
   ]
  },
  {
   "cell_type": "code",
   "execution_count": 9,
   "metadata": {
    "execution": {
     "iopub.execute_input": "2021-08-28T23:40:59.582831Z",
     "iopub.status.busy": "2021-08-28T23:40:59.580779Z",
     "iopub.status.idle": "2021-08-28T23:41:00.030079Z",
     "shell.execute_reply": "2021-08-28T23:41:00.029261Z"
    }
   },
   "outputs": [
    {
     "data": {
      "image/png": "[encoded data removed]",
      "text/plain": [
       "<Figure size 432x288 with 1 Axes>"
      ]
     },
     "metadata": {
      "needs_background": "light"
     },
     "output_type": "display_data"
    }
   ],
   "source": [
    "clean_baths.plot.scatter('Treatment', 'Hand Vol Chg',\n",
    "                         label='Data')\n",
    "plt.scatter(group_means.index, np.array(group_means), color='red',\n",
    "            label='Group means')\n",
    "# A dashed line at the overall mean.\n",
    "plt.plot(group_means.index,\n",
    "         [overall_mean, overall_mean, overall_mean],\n",
    "         ':', color='green',\n",
    "         label='Overall mean')\n",
    "# A dashed line between each group mean and the overall mean.\n",
    "for group in group_means.index:\n",
    "    xs = [group, group]\n",
    "    ys = [float(group_means.loc[group]), overall_mean]\n",
    "    plt.plot(xs, ys, ':', color='red')\n",
    "plt.legend();"
   ]
  },
  {
   "cell_type": "markdown",
   "metadata": {},
   "source": [
    "Notice the red dashed lines between the group means and the overall mean. We\n",
    "designed our SNSQGMD metric to be large when the sum of the squared lengths of\n",
    "these lines are large.  The N in  SNSQGMD reminds us we multiply each squared\n",
    "length by the number in the group, to give more weight to large groups.\n",
    "\n",
    "To calculate SNSQGMD we get the Group Mean Difference."
   ]
  },
  {
   "cell_type": "code",
   "execution_count": 10,
   "metadata": {
    "execution": {
     "iopub.execute_input": "2021-08-28T23:41:00.038711Z",
     "iopub.status.busy": "2021-08-28T23:41:00.037223Z",
     "iopub.status.idle": "2021-08-28T23:41:00.041761Z",
     "shell.execute_reply": "2021-08-28T23:41:00.042299Z"
    }
   },
   "outputs": [
    {
     "data": {
      "text/html": [
       "<div>\n",
       "<style scoped>\n",
       "    .dataframe tbody tr th:only-of-type {\n",
       "        vertical-align: middle;\n",
       "    }\n",
       "\n",
       "    .dataframe tbody tr th {\n",
       "        vertical-align: top;\n",
       "    }\n",
       "\n",
       "    .dataframe thead th {\n",
       "        text-align: right;\n",
       "    }\n",
       "</style>\n",
       "<table border=\"1\" class=\"dataframe\">\n",
       "  <thead>\n",
       "    <tr style=\"text-align: right;\">\n",
       "      <th></th>\n",
       "      <th>Hand Vol Chg</th>\n",
       "    </tr>\n",
       "    <tr>\n",
       "      <th>Treatment</th>\n",
       "      <th></th>\n",
       "    </tr>\n",
       "  </thead>\n",
       "  <tbody>\n",
       "    <tr>\n",
       "      <th>Bath</th>\n",
       "      <td>-0.013867</td>\n",
       "    </tr>\n",
       "    <tr>\n",
       "      <th>Bath+Exercise</th>\n",
       "      <td>3.440678</td>\n",
       "    </tr>\n",
       "    <tr>\n",
       "      <th>Exercise</th>\n",
       "      <td>-5.630751</td>\n",
       "    </tr>\n",
       "  </tbody>\n",
       "</table>\n",
       "</div>"
      ],
      "text/plain": [
       "               Hand Vol Chg\n",
       "Treatment                  \n",
       "Bath              -0.013867\n",
       "Bath+Exercise      3.440678\n",
       "Exercise          -5.630751"
      ]
     },
     "execution_count": 10,
     "metadata": {},
     "output_type": "execute_result"
    }
   ],
   "source": [
    "gmd = group_means - overall_mean\n",
    "gmd"
   ]
  },
  {
   "cell_type": "markdown",
   "metadata": {},
   "source": [
    "We square these differences:"
   ]
  },
  {
   "cell_type": "code",
   "execution_count": 11,
   "metadata": {
    "execution": {
     "iopub.execute_input": "2021-08-28T23:41:00.050385Z",
     "iopub.status.busy": "2021-08-28T23:41:00.049606Z",
     "iopub.status.idle": "2021-08-28T23:41:00.052677Z",
     "shell.execute_reply": "2021-08-28T23:41:00.053151Z"
    }
   },
   "outputs": [
    {
     "data": {
      "text/html": [
       "<div>\n",
       "<style scoped>\n",
       "    .dataframe tbody tr th:only-of-type {\n",
       "        vertical-align: middle;\n",
       "    }\n",
       "\n",
       "    .dataframe tbody tr th {\n",
       "        vertical-align: top;\n",
       "    }\n",
       "\n",
       "    .dataframe thead th {\n",
       "        text-align: right;\n",
       "    }\n",
       "</style>\n",
       "<table border=\"1\" class=\"dataframe\">\n",
       "  <thead>\n",
       "    <tr style=\"text-align: right;\">\n",
       "      <th></th>\n",
       "      <th>Hand Vol Chg</th>\n",
       "    </tr>\n",
       "    <tr>\n",
       "      <th>Treatment</th>\n",
       "      <th></th>\n",
       "    </tr>\n",
       "  </thead>\n",
       "  <tbody>\n",
       "    <tr>\n",
       "      <th>Bath</th>\n",
       "      <td>0.000192</td>\n",
       "    </tr>\n",
       "    <tr>\n",
       "      <th>Bath+Exercise</th>\n",
       "      <td>11.838265</td>\n",
       "    </tr>\n",
       "    <tr>\n",
       "      <th>Exercise</th>\n",
       "      <td>31.705352</td>\n",
       "    </tr>\n",
       "  </tbody>\n",
       "</table>\n",
       "</div>"
      ],
      "text/plain": [
       "               Hand Vol Chg\n",
       "Treatment                  \n",
       "Bath               0.000192\n",
       "Bath+Exercise     11.838265\n",
       "Exercise          31.705352"
      ]
     },
     "execution_count": 11,
     "metadata": {},
     "output_type": "execute_result"
    }
   ],
   "source": [
    "sq_gmd = gmd ** 2\n",
    "sq_gmd"
   ]
  },
  {
   "cell_type": "markdown",
   "metadata": {},
   "source": [
    "We want to give more weight to groups with more members, so we multiply each\n",
    "squared difference by the number in the group:"
   ]
  },
  {
   "cell_type": "code",
   "execution_count": 12,
   "metadata": {
    "execution": {
     "iopub.execute_input": "2021-08-28T23:41:00.063389Z",
     "iopub.status.busy": "2021-08-28T23:41:00.060740Z",
     "iopub.status.idle": "2021-08-28T23:41:00.067481Z",
     "shell.execute_reply": "2021-08-28T23:41:00.066868Z"
    }
   },
   "outputs": [
    {
     "data": {
      "text/html": [
       "<div>\n",
       "<style scoped>\n",
       "    .dataframe tbody tr th:only-of-type {\n",
       "        vertical-align: middle;\n",
       "    }\n",
       "\n",
       "    .dataframe tbody tr th {\n",
       "        vertical-align: top;\n",
       "    }\n",
       "\n",
       "    .dataframe thead th {\n",
       "        text-align: right;\n",
       "    }\n",
       "</style>\n",
       "<table border=\"1\" class=\"dataframe\">\n",
       "  <thead>\n",
       "    <tr style=\"text-align: right;\">\n",
       "      <th></th>\n",
       "      <th>Hand Vol Chg</th>\n",
       "    </tr>\n",
       "    <tr>\n",
       "      <th>Treatment</th>\n",
       "      <th></th>\n",
       "    </tr>\n",
       "  </thead>\n",
       "  <tbody>\n",
       "    <tr>\n",
       "      <th>Bath</th>\n",
       "      <td>0.004231</td>\n",
       "    </tr>\n",
       "    <tr>\n",
       "      <th>Bath+Exercise</th>\n",
       "      <td>272.280092</td>\n",
       "    </tr>\n",
       "    <tr>\n",
       "      <th>Exercise</th>\n",
       "      <td>443.874933</td>\n",
       "    </tr>\n",
       "  </tbody>\n",
       "</table>\n",
       "</div>"
      ],
      "text/plain": [
       "               Hand Vol Chg\n",
       "Treatment                  \n",
       "Bath               0.004231\n",
       "Bath+Exercise    272.280092\n",
       "Exercise         443.874933"
      ]
     },
     "execution_count": 12,
     "metadata": {},
     "output_type": "execute_result"
    }
   ],
   "source": [
    "n_sq_gmd = sq_gmd * group_ns\n",
    "n_sq_gmd"
   ]
  },
  {
   "cell_type": "markdown",
   "metadata": {},
   "source": [
    "Finally, we add up these weighted squares to get the final metric:"
   ]
  },
  {
   "cell_type": "code",
   "execution_count": 13,
   "metadata": {
    "execution": {
     "iopub.execute_input": "2021-08-28T23:41:00.074836Z",
     "iopub.status.busy": "2021-08-28T23:41:00.073888Z",
     "iopub.status.idle": "2021-08-28T23:41:00.078636Z",
     "shell.execute_reply": "2021-08-28T23:41:00.079785Z"
    }
   },
   "outputs": [
    {
     "data": {
      "text/plain": [
       "Hand Vol Chg    716.159256\n",
       "dtype: float64"
      ]
     },
     "execution_count": 13,
     "metadata": {},
     "output_type": "execute_result"
    }
   ],
   "source": [
    "observed_sn_sq_gmd = np.sum(n_sq_gmd)\n",
    "observed_sn_sq_gmd"
   ]
  },
  {
   "cell_type": "markdown",
   "metadata": {},
   "source": [
    "This is our metric.  To make this a bit clearer, we put the calculation of our\n",
    "metric into its own function so we can re-use it on different data frames."
   ]
  },
  {
   "cell_type": "code",
   "execution_count": 14,
   "metadata": {
    "execution": {
     "iopub.execute_input": "2021-08-28T23:41:00.088286Z",
     "iopub.status.busy": "2021-08-28T23:41:00.087156Z",
     "iopub.status.idle": "2021-08-28T23:41:00.090234Z",
     "shell.execute_reply": "2021-08-28T23:41:00.090914Z"
    }
   },
   "outputs": [],
   "source": [
    "def get_sn_sq_gmd(df, group_col, val_col):\n",
    "    \n",
    "    # calculate the overall mean of our 'val_col', which contains our outcome variable\n",
    "    overall_mean = np.mean(df[val_col])\n",
    "    \n",
    "    # group the outcome variable by the group variable in our 'group_col'\n",
    "    grouped = df.groupby(group_col)[val_col]\n",
    "    \n",
    "    # calculated the squared group mean difference (the group means minus the overall mean, squared)\n",
    "    sq_gmd = (grouped.mean() - overall_mean) ** 2\n",
    "    \n",
    "    # return the sum of the squared group mean difference, multiplied by the number of observations in each group\n",
    "    return np.sum(sq_gmd * grouped.count())"
   ]
  },
  {
   "cell_type": "markdown",
   "metadata": {},
   "source": [
    "Check that we get the same answer from the function as we did with the\n",
    "step-by-step calculation:"
   ]
  },
  {
   "cell_type": "code",
   "execution_count": 15,
   "metadata": {
    "execution": {
     "iopub.execute_input": "2021-08-28T23:41:00.099561Z",
     "iopub.status.busy": "2021-08-28T23:41:00.098574Z",
     "iopub.status.idle": "2021-08-28T23:41:00.102472Z",
     "shell.execute_reply": "2021-08-28T23:41:00.101783Z"
    }
   },
   "outputs": [
    {
     "data": {
      "text/plain": [
       "716.159255998239"
      ]
     },
     "execution_count": 15,
     "metadata": {},
     "output_type": "execute_result"
    }
   ],
   "source": [
    "get_sn_sq_gmd(clean_baths, 'Treatment', 'Hand Vol Chg')"
   ]
  },
  {
   "cell_type": "markdown",
   "metadata": {},
   "source": [
    "Next we consider a single trial in our ideal, null, fake world.  We do this by\n",
    "making a copy of the data frame, and then permuting the `Treatment` labels, so\n",
    "the association between the `Treatment` and the `Hand Vol Chg` values is\n",
    "random."
   ]
  },
  {
   "cell_type": "code",
   "execution_count": 16,
   "metadata": {
    "execution": {
     "iopub.execute_input": "2021-08-28T23:41:00.112945Z",
     "iopub.status.busy": "2021-08-28T23:41:00.111623Z",
     "iopub.status.idle": "2021-08-28T23:41:00.115535Z",
     "shell.execute_reply": "2021-08-28T23:41:00.116064Z"
    }
   },
   "outputs": [
    {
     "data": {
      "text/html": [
       "<div>\n",
       "<style scoped>\n",
       "    .dataframe tbody tr th:only-of-type {\n",
       "        vertical-align: middle;\n",
       "    }\n",
       "\n",
       "    .dataframe tbody tr th {\n",
       "        vertical-align: top;\n",
       "    }\n",
       "\n",
       "    .dataframe thead th {\n",
       "        text-align: right;\n",
       "    }\n",
       "</style>\n",
       "<table border=\"1\" class=\"dataframe\">\n",
       "  <thead>\n",
       "    <tr style=\"text-align: right;\">\n",
       "      <th></th>\n",
       "      <th>Treatment</th>\n",
       "      <th>Hand Vol Chg</th>\n",
       "    </tr>\n",
       "  </thead>\n",
       "  <tbody>\n",
       "    <tr>\n",
       "      <th>0</th>\n",
       "      <td>Bath+Exercise</td>\n",
       "      <td>10.0</td>\n",
       "    </tr>\n",
       "    <tr>\n",
       "      <th>1</th>\n",
       "      <td>Exercise</td>\n",
       "      <td>0.0</td>\n",
       "    </tr>\n",
       "    <tr>\n",
       "      <th>2</th>\n",
       "      <td>Bath+Exercise</td>\n",
       "      <td>10.0</td>\n",
       "    </tr>\n",
       "    <tr>\n",
       "      <th>3</th>\n",
       "      <td>Bath</td>\n",
       "      <td>5.0</td>\n",
       "    </tr>\n",
       "    <tr>\n",
       "      <th>5</th>\n",
       "      <td>Bath</td>\n",
       "      <td>4.0</td>\n",
       "    </tr>\n",
       "  </tbody>\n",
       "</table>\n",
       "</div>"
      ],
      "text/plain": [
       "       Treatment  Hand Vol Chg\n",
       "0  Bath+Exercise          10.0\n",
       "1       Exercise           0.0\n",
       "2  Bath+Exercise          10.0\n",
       "3           Bath           5.0\n",
       "5           Bath           4.0"
      ]
     },
     "execution_count": 16,
     "metadata": {},
     "output_type": "execute_result"
    }
   ],
   "source": [
    "fake_data = clean_baths.copy()\n",
    "# Permute the treatment labels\n",
    "fake_data['Treatment'] = np.random.permutation(fake_data['Treatment'])\n",
    "fake_data.head()"
   ]
  },
  {
   "cell_type": "markdown",
   "metadata": {},
   "source": [
    "We calculate our metric on these new data, step by step."
   ]
  },
  {
   "cell_type": "code",
   "execution_count": 17,
   "metadata": {
    "execution": {
     "iopub.execute_input": "2021-08-28T23:41:00.147262Z",
     "iopub.status.busy": "2021-08-28T23:41:00.143719Z",
     "iopub.status.idle": "2021-08-28T23:41:00.152821Z",
     "shell.execute_reply": "2021-08-28T23:41:00.154037Z"
    }
   },
   "outputs": [
    {
     "data": {
      "text/plain": [
       "20.2292729378212"
      ]
     },
     "execution_count": 17,
     "metadata": {},
     "output_type": "execute_result"
    }
   ],
   "source": [
    "fake_grouped = fake_data.groupby('Treatment')['Hand Vol Chg']\n",
    "# Notice that the overall_mean cannot change because we did not\n",
    "# change these values.\n",
    "fake_sq_gmd = (fake_grouped.mean() - overall_mean) ** 2\n",
    "fake_sn_sq_gmd = np.sum(fake_sq_gmd * fake_grouped.count())\n",
    "fake_sn_sq_gmd"
   ]
  },
  {
   "cell_type": "markdown",
   "metadata": {},
   "source": [
    "We can also use the function above to do that calculation, and get the same\n",
    "answer:"
   ]
  },
  {
   "cell_type": "code",
   "execution_count": 18,
   "metadata": {
    "execution": {
     "iopub.execute_input": "2021-08-28T23:41:00.170945Z",
     "iopub.status.busy": "2021-08-28T23:41:00.170043Z",
     "iopub.status.idle": "2021-08-28T23:41:00.172922Z",
     "shell.execute_reply": "2021-08-28T23:41:00.173403Z"
    }
   },
   "outputs": [
    {
     "data": {
      "text/plain": [
       "20.2292729378212"
      ]
     },
     "execution_count": 18,
     "metadata": {},
     "output_type": "execute_result"
    }
   ],
   "source": [
    "get_sn_sq_gmd(fake_data, 'Treatment', 'Hand Vol Chg')"
   ]
  },
  {
   "cell_type": "markdown",
   "metadata": {},
   "source": [
    "Now we are ready to do our simulation.  We do 10000 trials. In each trial, we\n",
    "make a new random association, and recalculate the sum of squares metric."
   ]
  },
  {
   "cell_type": "code",
   "execution_count": 19,
   "metadata": {
    "execution": {
     "iopub.execute_input": "2021-08-28T23:41:00.227881Z",
     "iopub.status.busy": "2021-08-28T23:41:00.187572Z",
     "iopub.status.idle": "2021-08-28T23:41:20.386227Z",
     "shell.execute_reply": "2021-08-28T23:41:20.386674Z"
    }
   },
   "outputs": [],
   "source": [
    "n_iters = 10000\n",
    "fake_sn_sq_gmds = np.zeros(n_iters)\n",
    "for i in np.arange(n_iters):\n",
    "    # Make sample from null world.\n",
    "    fake_data['Treatment'] = np.random.permutation(fake_data['Treatment'])\n",
    "    # Calculate corresponding metric.\n",
    "    fake_sn_sq_gmds[i] = get_sn_sq_gmd(fake_data, 'Treatment', 'Hand Vol Chg')"
   ]
  },
  {
   "cell_type": "markdown",
   "metadata": {},
   "source": [
    "Of course, because these are sums of squares, they must all be positive."
   ]
  },
  {
   "cell_type": "code",
   "execution_count": 20,
   "metadata": {
    "execution": {
     "iopub.execute_input": "2021-08-28T23:41:20.409281Z",
     "iopub.status.busy": "2021-08-28T23:41:20.408604Z",
     "iopub.status.idle": "2021-08-28T23:41:20.662622Z",
     "shell.execute_reply": "2021-08-28T23:41:20.663484Z"
    }
   },
   "outputs": [
    {
     "data": {
      "image/png": "[encoded data removed]",
      "text/plain": [
       "<Figure size 432x288 with 1 Axes>"
      ]
     },
     "metadata": {
      "needs_background": "light"
     },
     "output_type": "display_data"
    }
   ],
   "source": [
    "plt.hist(fake_sn_sq_gmds, bins=100, label = 'simulated SNSQGMD values')\n",
    "plt.xlabel('SNSQGMD')\n",
    "plt.ylabel('Frequency')\n",
    "plt.legend(); "
   ]
  },
  {
   "cell_type": "markdown",
   "metadata": {},
   "source": [
    "How does our observed sum of squares metric compare to the distribution of fake\n",
    "sum of square metrics?"
   ]
  },
  {
   "cell_type": "code",
   "execution_count": 21,
   "metadata": {},
   "outputs": [
    {
     "data": {
      "image/png": "[encoded data removed]",
      "text/plain": [
       "<Figure size 432x288 with 1 Axes>"
      ]
     },
     "metadata": {
      "needs_background": "light"
     },
     "output_type": "display_data"
    }
   ],
   "source": [
    "plt.hist(fake_sn_sq_gmds, bins=100, label = 'simulated SNSQGMD values')\n",
    "plt.plot(get_sn_sq_gmd(clean_baths, 'Treatment', 'Hand Vol Chg'), 10, 'o', label = 'actual SNSQGMD value')\n",
    "plt.xlabel('SNSQGMD')\n",
    "plt.ylabel('Frequency')\n",
    "plt.legend();"
   ]
  },
  {
   "cell_type": "code",
   "execution_count": 22,
   "metadata": {
    "execution": {
     "iopub.execute_input": "2021-08-28T23:41:20.668982Z",
     "iopub.status.busy": "2021-08-28T23:41:20.668110Z",
     "iopub.status.idle": "2021-08-28T23:41:20.672672Z",
     "shell.execute_reply": "2021-08-28T23:41:20.671928Z"
    }
   },
   "outputs": [
    {
     "data": {
      "text/plain": [
       "0.0012"
      ]
     },
     "execution_count": 22,
     "metadata": {},
     "output_type": "execute_result"
    }
   ],
   "source": [
    "p = np.count_nonzero(fake_sn_sq_gmds >= float(observed_sn_sq_gmd)) / n_iters\n",
    "p"
   ]
  },
  {
   "cell_type": "markdown",
   "metadata": {},
   "source": [
    "The p value tells us that this observed metric is very unlikely to have come\n",
    "about in a random world. That is, if the three groups were sampled from the same\n",
    "population - as in the random world we simulated - it is very, very unlikely we would \n",
    "we observe an SNSQGMD value as large as we did observe. So, we can be confident that the \n",
    "three groups were sampled from populations with different means."
   ]
  },
  {
   "cell_type": "markdown",
   "metadata": {},
   "source": [
    "## Comparing to standard one-way ANOVA F tests\n",
    "\n",
    "In this section, we do the standard F-test calculations to show that we get a\n",
    "similar p value to the permutation version above.  This is the Statsmodels\n",
    "implementation of the one-way F test:"
   ]
  },
  {
   "cell_type": "code",
   "execution_count": 23,
   "metadata": {
    "execution": {
     "iopub.execute_input": "2021-08-28T23:41:20.678243Z",
     "iopub.status.busy": "2021-08-28T23:41:20.677540Z",
     "iopub.status.idle": "2021-08-28T23:41:38.786808Z",
     "shell.execute_reply": "2021-08-28T23:41:38.787689Z"
    }
   },
   "outputs": [
    {
     "data": {
      "text/html": [
       "<div>\n",
       "<style scoped>\n",
       "    .dataframe tbody tr th:only-of-type {\n",
       "        vertical-align: middle;\n",
       "    }\n",
       "\n",
       "    .dataframe tbody tr th {\n",
       "        vertical-align: top;\n",
       "    }\n",
       "\n",
       "    .dataframe thead th {\n",
       "        text-align: right;\n",
       "    }\n",
       "</style>\n",
       "<table border=\"1\" class=\"dataframe\">\n",
       "  <thead>\n",
       "    <tr style=\"text-align: right;\">\n",
       "      <th></th>\n",
       "      <th>df</th>\n",
       "      <th>sum_sq</th>\n",
       "      <th>mean_sq</th>\n",
       "      <th>F</th>\n",
       "      <th>PR(&gt;F)</th>\n",
       "    </tr>\n",
       "  </thead>\n",
       "  <tbody>\n",
       "    <tr>\n",
       "      <th>Treatment</th>\n",
       "      <td>2.0</td>\n",
       "      <td>716.159256</td>\n",
       "      <td>358.079628</td>\n",
       "      <td>7.4148</td>\n",
       "      <td>0.001391</td>\n",
       "    </tr>\n",
       "    <tr>\n",
       "      <th>Residual</th>\n",
       "      <td>56.0</td>\n",
       "      <td>2704.383117</td>\n",
       "      <td>48.292556</td>\n",
       "      <td>NaN</td>\n",
       "      <td>NaN</td>\n",
       "    </tr>\n",
       "  </tbody>\n",
       "</table>\n",
       "</div>"
      ],
      "text/plain": [
       "             df       sum_sq     mean_sq       F    PR(>F)\n",
       "Treatment   2.0   716.159256  358.079628  7.4148  0.001391\n",
       "Residual   56.0  2704.383117   48.292556     NaN       NaN"
      ]
     },
     "execution_count": 23,
     "metadata": {},
     "output_type": "execute_result"
    }
   ],
   "source": [
    "import statsmodels.api as sm\n",
    "import statsmodels.formula.api as smf\n",
    "\n",
    "# The Q() in the formula is just to allow spaces in the variable name.\n",
    "mod = smf.ols('Q(\"Hand Vol Chg\") ~ Treatment', data=clean_baths).fit()\n",
    "\n",
    "sm.stats.anova_lm(mod, typ=1)"
   ]
  },
  {
   "cell_type": "markdown",
   "metadata": {},
   "source": [
    "Here is the same calculation in Scipy:"
   ]
  },
  {
   "cell_type": "code",
   "execution_count": 24,
   "metadata": {
    "execution": {
     "iopub.execute_input": "2021-08-28T23:41:38.793765Z",
     "iopub.status.busy": "2021-08-28T23:41:38.792920Z",
     "iopub.status.idle": "2021-08-28T23:41:38.795486Z",
     "shell.execute_reply": "2021-08-28T23:41:38.796074Z"
    }
   },
   "outputs": [],
   "source": [
    "from scipy.stats import f_oneway"
   ]
  },
  {
   "cell_type": "code",
   "execution_count": 25,
   "metadata": {
    "execution": {
     "iopub.execute_input": "2021-08-28T23:41:38.803141Z",
     "iopub.status.busy": "2021-08-28T23:41:38.802157Z",
     "iopub.status.idle": "2021-08-28T23:41:38.804866Z",
     "shell.execute_reply": "2021-08-28T23:41:38.805415Z"
    }
   },
   "outputs": [],
   "source": [
    "# Get the values from the individual groups.\n",
    "treatment = clean_baths['Treatment']\n",
    "change = clean_baths['Hand Vol Chg']\n",
    "bath = change[treatment == 'Bath']\n",
    "both = change[treatment == 'Bath+Exercise']\n",
    "exercise = change[treatment == 'Exercise']"
   ]
  },
  {
   "cell_type": "markdown",
   "metadata": {},
   "source": [
    "Do the F-test:"
   ]
  },
  {
   "cell_type": "code",
   "execution_count": 26,
   "metadata": {
    "execution": {
     "iopub.execute_input": "2021-08-28T23:41:38.811823Z",
     "iopub.status.busy": "2021-08-28T23:41:38.810944Z",
     "iopub.status.idle": "2021-08-28T23:41:38.814725Z",
     "shell.execute_reply": "2021-08-28T23:41:38.815245Z"
    },
    "lines_to_next_cell": 2
   },
   "outputs": [
    {
     "data": {
      "text/plain": [
       "F_onewayResult(statistic=7.414799716344096, pvalue=0.0013907554044090167)"
      ]
     },
     "execution_count": 26,
     "metadata": {},
     "output_type": "execute_result"
    }
   ],
   "source": [
    "f_result = f_oneway(bath, both, exercise)\n",
    "f_result"
   ]
  },
  {
   "cell_type": "markdown",
   "metadata": {},
   "source": [
    "## The F statistic and the SNSQGMD metric\n",
    "\n",
    "In this section, we go into more detail about the calculation of the F value\n",
    "that you see above.  Here is the F statistic we got from Scipy (and\n",
    "Statsmodels):"
   ]
  },
  {
   "cell_type": "code",
   "execution_count": 27,
   "metadata": {
    "execution": {
     "iopub.execute_input": "2021-08-28T23:41:38.820582Z",
     "iopub.status.busy": "2021-08-28T23:41:38.819468Z",
     "iopub.status.idle": "2021-08-28T23:41:38.823519Z",
     "shell.execute_reply": "2021-08-28T23:41:38.824427Z"
    }
   },
   "outputs": [
    {
     "data": {
      "text/plain": [
       "7.414799716344096"
      ]
     },
     "execution_count": 27,
     "metadata": {},
     "output_type": "execute_result"
    }
   ],
   "source": [
    "F_stat = f_result.statistic\n",
    "F_stat"
   ]
  },
  {
   "cell_type": "markdown",
   "metadata": {},
   "source": [
    "This section goes through the calculation of the F statistic from the SNSQGMD\n",
    "metric.  This is the SNSQGMD value we calculated:"
   ]
  },
  {
   "cell_type": "code",
   "execution_count": 28,
   "metadata": {
    "execution": {
     "iopub.execute_input": "2021-08-28T23:41:38.830678Z",
     "iopub.status.busy": "2021-08-28T23:41:38.829832Z",
     "iopub.status.idle": "2021-08-28T23:41:38.833495Z",
     "shell.execute_reply": "2021-08-28T23:41:38.834093Z"
    }
   },
   "outputs": [
    {
     "data": {
      "text/plain": [
       "Hand Vol Chg    716.159256\n",
       "dtype: float64"
      ]
     },
     "execution_count": 28,
     "metadata": {},
     "output_type": "execute_result"
    }
   ],
   "source": [
    "observed_sn_sq_gmd"
   ]
  },
  {
   "cell_type": "markdown",
   "metadata": {},
   "source": [
    "You can get the F statistic above by dividing the SNSQGMD metric by a scaled\n",
    "estimate of the variation still present in the data.\n",
    "\n",
    "The variation still present in the data are the remaining distances between the\n",
    "data (in the plot above) and their corresponding group means.  Call these\n",
    "remaining distances the \"residuals\".\n",
    "\n",
    "Here are the group means:"
   ]
  },
  {
   "cell_type": "code",
   "execution_count": 29,
   "metadata": {
    "execution": {
     "iopub.execute_input": "2021-08-28T23:41:38.842557Z",
     "iopub.status.busy": "2021-08-28T23:41:38.841697Z",
     "iopub.status.idle": "2021-08-28T23:41:38.844904Z",
     "shell.execute_reply": "2021-08-28T23:41:38.845675Z"
    }
   },
   "outputs": [
    {
     "data": {
      "text/html": [
       "<div>\n",
       "<style scoped>\n",
       "    .dataframe tbody tr th:only-of-type {\n",
       "        vertical-align: middle;\n",
       "    }\n",
       "\n",
       "    .dataframe tbody tr th {\n",
       "        vertical-align: top;\n",
       "    }\n",
       "\n",
       "    .dataframe thead th {\n",
       "        text-align: right;\n",
       "    }\n",
       "</style>\n",
       "<table border=\"1\" class=\"dataframe\">\n",
       "  <thead>\n",
       "    <tr style=\"text-align: right;\">\n",
       "      <th></th>\n",
       "      <th>Hand Vol Chg</th>\n",
       "    </tr>\n",
       "    <tr>\n",
       "      <th>Treatment</th>\n",
       "      <th></th>\n",
       "    </tr>\n",
       "  </thead>\n",
       "  <tbody>\n",
       "    <tr>\n",
       "      <th>Bath</th>\n",
       "      <td>4.545455</td>\n",
       "    </tr>\n",
       "    <tr>\n",
       "      <th>Bath+Exercise</th>\n",
       "      <td>8.000000</td>\n",
       "    </tr>\n",
       "    <tr>\n",
       "      <th>Exercise</th>\n",
       "      <td>-1.071429</td>\n",
       "    </tr>\n",
       "  </tbody>\n",
       "</table>\n",
       "</div>"
      ],
      "text/plain": [
       "               Hand Vol Chg\n",
       "Treatment                  \n",
       "Bath               4.545455\n",
       "Bath+Exercise      8.000000\n",
       "Exercise          -1.071429"
      ]
     },
     "execution_count": 29,
     "metadata": {},
     "output_type": "execute_result"
    }
   ],
   "source": [
    "group_means"
   ]
  },
  {
   "cell_type": "markdown",
   "metadata": {},
   "source": [
    "We are going to put the group means into their own column in the original data\n",
    "frame, in order to subtract them from the individual values.  First we make a\n",
    "new copy of the group means, but renaming the value column for later."
   ]
  },
  {
   "cell_type": "code",
   "execution_count": 30,
   "metadata": {
    "execution": {
     "iopub.execute_input": "2021-08-28T23:41:38.857613Z",
     "iopub.status.busy": "2021-08-28T23:41:38.853858Z",
     "iopub.status.idle": "2021-08-28T23:41:38.861492Z",
     "shell.execute_reply": "2021-08-28T23:41:38.863406Z"
    }
   },
   "outputs": [
    {
     "data": {
      "text/html": [
       "<div>\n",
       "<style scoped>\n",
       "    .dataframe tbody tr th:only-of-type {\n",
       "        vertical-align: middle;\n",
       "    }\n",
       "\n",
       "    .dataframe tbody tr th {\n",
       "        vertical-align: top;\n",
       "    }\n",
       "\n",
       "    .dataframe thead th {\n",
       "        text-align: right;\n",
       "    }\n",
       "</style>\n",
       "<table border=\"1\" class=\"dataframe\">\n",
       "  <thead>\n",
       "    <tr style=\"text-align: right;\">\n",
       "      <th></th>\n",
       "      <th>vol_chg_mean</th>\n",
       "    </tr>\n",
       "    <tr>\n",
       "      <th>Treatment</th>\n",
       "      <th></th>\n",
       "    </tr>\n",
       "  </thead>\n",
       "  <tbody>\n",
       "    <tr>\n",
       "      <th>Bath</th>\n",
       "      <td>4.545455</td>\n",
       "    </tr>\n",
       "    <tr>\n",
       "      <th>Bath+Exercise</th>\n",
       "      <td>8.000000</td>\n",
       "    </tr>\n",
       "    <tr>\n",
       "      <th>Exercise</th>\n",
       "      <td>-1.071429</td>\n",
       "    </tr>\n",
       "  </tbody>\n",
       "</table>\n",
       "</div>"
      ],
      "text/plain": [
       "               vol_chg_mean\n",
       "Treatment                  \n",
       "Bath               4.545455\n",
       "Bath+Exercise      8.000000\n",
       "Exercise          -1.071429"
      ]
     },
     "execution_count": 30,
     "metadata": {},
     "output_type": "execute_result"
    }
   ],
   "source": [
    "gms_renamed = group_means.rename(columns={\"Hand Vol Chg\": \"vol_chg_mean\"})\n",
    "gms_renamed"
   ]
  },
  {
   "cell_type": "markdown",
   "metadata": {},
   "source": [
    "Next we merge the group means data frame into the original table, to give every\n",
    "row its corresponding group mean."
   ]
  },
  {
   "cell_type": "code",
   "execution_count": 31,
   "metadata": {
    "execution": {
     "iopub.execute_input": "2021-08-28T23:41:38.881558Z",
     "iopub.status.busy": "2021-08-28T23:41:38.880602Z",
     "iopub.status.idle": "2021-08-28T23:41:38.884780Z",
     "shell.execute_reply": "2021-08-28T23:41:38.886488Z"
    }
   },
   "outputs": [
    {
     "data": {
      "text/html": [
       "<div>\n",
       "<style scoped>\n",
       "    .dataframe tbody tr th:only-of-type {\n",
       "        vertical-align: middle;\n",
       "    }\n",
       "\n",
       "    .dataframe tbody tr th {\n",
       "        vertical-align: top;\n",
       "    }\n",
       "\n",
       "    .dataframe thead th {\n",
       "        text-align: right;\n",
       "    }\n",
       "</style>\n",
       "<table border=\"1\" class=\"dataframe\">\n",
       "  <thead>\n",
       "    <tr style=\"text-align: right;\">\n",
       "      <th></th>\n",
       "      <th>Treatment</th>\n",
       "      <th>Hand Vol Chg</th>\n",
       "      <th>vol_chg_mean</th>\n",
       "    </tr>\n",
       "  </thead>\n",
       "  <tbody>\n",
       "    <tr>\n",
       "      <th>0</th>\n",
       "      <td>Bath</td>\n",
       "      <td>10.0</td>\n",
       "      <td>4.545455</td>\n",
       "    </tr>\n",
       "    <tr>\n",
       "      <th>1</th>\n",
       "      <td>Bath</td>\n",
       "      <td>10.0</td>\n",
       "      <td>4.545455</td>\n",
       "    </tr>\n",
       "    <tr>\n",
       "      <th>2</th>\n",
       "      <td>Bath</td>\n",
       "      <td>5.0</td>\n",
       "      <td>4.545455</td>\n",
       "    </tr>\n",
       "    <tr>\n",
       "      <th>3</th>\n",
       "      <td>Bath</td>\n",
       "      <td>-4.0</td>\n",
       "      <td>4.545455</td>\n",
       "    </tr>\n",
       "    <tr>\n",
       "      <th>4</th>\n",
       "      <td>Bath</td>\n",
       "      <td>8.0</td>\n",
       "      <td>4.545455</td>\n",
       "    </tr>\n",
       "  </tbody>\n",
       "</table>\n",
       "</div>"
      ],
      "text/plain": [
       "  Treatment  Hand Vol Chg  vol_chg_mean\n",
       "0      Bath          10.0      4.545455\n",
       "1      Bath          10.0      4.545455\n",
       "2      Bath           5.0      4.545455\n",
       "3      Bath          -4.0      4.545455\n",
       "4      Bath           8.0      4.545455"
      ]
     },
     "execution_count": 31,
     "metadata": {},
     "output_type": "execute_result"
    }
   ],
   "source": [
    "baths_and_means = clean_baths.merge(gms_renamed, on='Treatment')\n",
    "baths_and_means.head()"
   ]
  },
  {
   "cell_type": "markdown",
   "metadata": {},
   "source": [
    "We can calculate the residuals by subtracting the corresponding group mean\n",
    "from each hand volume change value."
   ]
  },
  {
   "cell_type": "code",
   "execution_count": 32,
   "metadata": {
    "execution": {
     "iopub.execute_input": "2021-08-28T23:41:38.906532Z",
     "iopub.status.busy": "2021-08-28T23:41:38.905448Z",
     "iopub.status.idle": "2021-08-28T23:41:38.914233Z",
     "shell.execute_reply": "2021-08-28T23:41:38.915000Z"
    }
   },
   "outputs": [
    {
     "data": {
      "text/html": [
       "<div>\n",
       "<style scoped>\n",
       "    .dataframe tbody tr th:only-of-type {\n",
       "        vertical-align: middle;\n",
       "    }\n",
       "\n",
       "    .dataframe tbody tr th {\n",
       "        vertical-align: top;\n",
       "    }\n",
       "\n",
       "    .dataframe thead th {\n",
       "        text-align: right;\n",
       "    }\n",
       "</style>\n",
       "<table border=\"1\" class=\"dataframe\">\n",
       "  <thead>\n",
       "    <tr style=\"text-align: right;\">\n",
       "      <th></th>\n",
       "      <th>Treatment</th>\n",
       "      <th>Hand Vol Chg</th>\n",
       "      <th>vol_chg_mean</th>\n",
       "      <th>resid</th>\n",
       "    </tr>\n",
       "  </thead>\n",
       "  <tbody>\n",
       "    <tr>\n",
       "      <th>0</th>\n",
       "      <td>Bath</td>\n",
       "      <td>10.0</td>\n",
       "      <td>4.545455</td>\n",
       "      <td>5.454545</td>\n",
       "    </tr>\n",
       "    <tr>\n",
       "      <th>1</th>\n",
       "      <td>Bath</td>\n",
       "      <td>10.0</td>\n",
       "      <td>4.545455</td>\n",
       "      <td>5.454545</td>\n",
       "    </tr>\n",
       "    <tr>\n",
       "      <th>2</th>\n",
       "      <td>Bath</td>\n",
       "      <td>5.0</td>\n",
       "      <td>4.545455</td>\n",
       "      <td>0.454545</td>\n",
       "    </tr>\n",
       "    <tr>\n",
       "      <th>3</th>\n",
       "      <td>Bath</td>\n",
       "      <td>-4.0</td>\n",
       "      <td>4.545455</td>\n",
       "      <td>-8.545455</td>\n",
       "    </tr>\n",
       "    <tr>\n",
       "      <th>4</th>\n",
       "      <td>Bath</td>\n",
       "      <td>8.0</td>\n",
       "      <td>4.545455</td>\n",
       "      <td>3.454545</td>\n",
       "    </tr>\n",
       "  </tbody>\n",
       "</table>\n",
       "</div>"
      ],
      "text/plain": [
       "  Treatment  Hand Vol Chg  vol_chg_mean     resid\n",
       "0      Bath          10.0      4.545455  5.454545\n",
       "1      Bath          10.0      4.545455  5.454545\n",
       "2      Bath           5.0      4.545455  0.454545\n",
       "3      Bath          -4.0      4.545455 -8.545455\n",
       "4      Bath           8.0      4.545455  3.454545"
      ]
     },
     "execution_count": 32,
     "metadata": {},
     "output_type": "execute_result"
    }
   ],
   "source": [
    "baths_and_means['resid'] = (baths_and_means['Hand Vol Chg'] -\n",
    "                            baths_and_means['vol_chg_mean'])\n",
    "baths_and_means.head()"
   ]
  },
  {
   "cell_type": "markdown",
   "metadata": {},
   "source": [
    "We give a number (metric) to the residuals by squaring (to remove the signs)\n",
    "and adding:"
   ]
  },
  {
   "cell_type": "code",
   "execution_count": 33,
   "metadata": {
    "execution": {
     "iopub.execute_input": "2021-08-28T23:41:38.928206Z",
     "iopub.status.busy": "2021-08-28T23:41:38.923791Z",
     "iopub.status.idle": "2021-08-28T23:41:38.932715Z",
     "shell.execute_reply": "2021-08-28T23:41:38.933689Z"
    }
   },
   "outputs": [
    {
     "data": {
      "text/plain": [
       "2704.3831168831166"
      ]
     },
     "execution_count": 33,
     "metadata": {},
     "output_type": "execute_result"
    }
   ],
   "source": [
    "ssq_resid_groups = np.sum((baths_and_means['resid']) ** 2)\n",
    "ssq_resid_groups"
   ]
  },
  {
   "cell_type": "markdown",
   "metadata": {},
   "source": [
    "The F-statistic results from dividing this measure of remaining variation into\n",
    "the SNSQGMD metric, with some scaling.  The scaling comes from the number of\n",
    "observations, and the number of groups."
   ]
  },
  {
   "cell_type": "code",
   "execution_count": 34,
   "metadata": {
    "execution": {
     "iopub.execute_input": "2021-08-28T23:41:38.940423Z",
     "iopub.status.busy": "2021-08-28T23:41:38.939284Z",
     "iopub.status.idle": "2021-08-28T23:41:38.944580Z",
     "shell.execute_reply": "2021-08-28T23:41:38.945556Z"
    }
   },
   "outputs": [],
   "source": [
    "n_obs = len(baths_and_means)\n",
    "n_groups = len(group_means)"
   ]
  },
  {
   "cell_type": "markdown",
   "metadata": {},
   "source": [
    "Here is the full calculation of the F-statistic. Notice that it is exactly the\n",
    "same as we got from Scipy and Statsmodels."
   ]
  },
  {
   "cell_type": "code",
   "execution_count": 35,
   "metadata": {
    "execution": {
     "iopub.execute_input": "2021-08-28T23:41:38.958623Z",
     "iopub.status.busy": "2021-08-28T23:41:38.955964Z",
     "iopub.status.idle": "2021-08-28T23:41:38.963044Z",
     "shell.execute_reply": "2021-08-28T23:41:38.963681Z"
    }
   },
   "outputs": [
    {
     "data": {
      "text/plain": [
       "Hand Vol Chg    7.4148\n",
       "dtype: float64"
      ]
     },
     "execution_count": 35,
     "metadata": {},
     "output_type": "execute_result"
    }
   ],
   "source": [
    "# Calculate of the F value by scaling and dividing by residual variation\n",
    "# metric.\n",
    "df_groups = n_groups - 1  # Degrees of freedom for groups.\n",
    "df_error = n_obs - n_groups  # Degrees of freedom for residuals.\n",
    "# The F statistic\n",
    "(observed_sn_sq_gmd / df_groups) / (ssq_resid_groups / df_error)"
   ]
  },
  {
   "cell_type": "markdown",
   "metadata": {},
   "source": [
    "Scaling and dividing by the residual variation gives a value that we can reason\n",
    "about with some standard mathematics, as long as we are prepared to assume that\n",
    "the values come from a normal distribution.  Specifically, with those\n",
    "assumptions, we can get a p value by comparing the observed F value to a\n",
    "standard F distribution with the same \"degrees of freedom\".  These are the\n",
    "`df_groups` and `df_error` values above.\n",
    "\n",
    "As you have seen, the permutation estimate gives a very similar answer.  We\n",
    "would argue that it is also a lot easier to explain.\n"
   ]
  },
  {
   "cell_type": "markdown",
   "metadata": {},
   "source": [
    "## F tests in terms of explained variation\n",
    "\n",
    "You will often see explanations of the F-value in terms of the amount of\n",
    "variation explained by the overall mean, compared to the amount of variation\n",
    "explained with the individual group means.  In fact, this \"variance\" way of\n",
    "thinking is what gave the test the name ANOVA (Analysis of Variance).\n",
    "\n",
    "The explained variation path (literally) adds up to the same thing as the\n",
    "SNSQGMD metric version of the F statistic above.  The current section goes\n",
    "through the explained variation way of thinking of the F statistic, and shows\n",
    "that it gives the same value for the SNSQGMD metric.\n",
    "\n",
    "The \"variance\" way of thinking about the F looks at the sum of squared\n",
    "\"residual\" variation in two situations.  First we get the residual variation\n",
    "when we subtract the group means.  We already have this from the F test\n",
    "calculation above.  As a reminder, we repeat the calculation here:"
   ]
  },
  {
   "cell_type": "code",
   "execution_count": 36,
   "metadata": {
    "execution": {
     "iopub.execute_input": "2021-08-28T23:41:38.976885Z",
     "iopub.status.busy": "2021-08-28T23:41:38.973167Z",
     "iopub.status.idle": "2021-08-28T23:41:38.982284Z",
     "shell.execute_reply": "2021-08-28T23:41:38.983238Z"
    }
   },
   "outputs": [
    {
     "data": {
      "text/plain": [
       "2704.3831168831166"
      ]
     },
     "execution_count": 36,
     "metadata": {},
     "output_type": "execute_result"
    }
   ],
   "source": [
    "ssq_resid_groups = np.sum((baths_and_means['resid']) ** 2)\n",
    "ssq_resid_groups"
   ]
  },
  {
   "cell_type": "markdown",
   "metadata": {},
   "source": [
    "This is the sum of squared remaining variation when using the group means.\n",
    "\n",
    "We compare this to the squared remaining variation when just using the overall\n",
    "mean.  Here is that calculation."
   ]
  },
  {
   "cell_type": "code",
   "execution_count": 37,
   "metadata": {
    "execution": {
     "iopub.execute_input": "2021-08-28T23:41:38.996423Z",
     "iopub.status.busy": "2021-08-28T23:41:38.994700Z",
     "iopub.status.idle": "2021-08-28T23:41:39.001516Z",
     "shell.execute_reply": "2021-08-28T23:41:39.003748Z"
    }
   },
   "outputs": [
    {
     "data": {
      "text/plain": [
       "3420.542372881356"
      ]
     },
     "execution_count": 37,
     "metadata": {},
     "output_type": "execute_result"
    }
   ],
   "source": [
    "# Sum of squared residuals using overall mean\n",
    "# Subtract the overall mean from the original values to get residuals.\n",
    "resid_overall = clean_baths['Hand Vol Chg'] - overall_mean\n",
    "# Square and sum the residuals to get the squared variation from overall mean.\n",
    "ssq_resid_overall = np.sum(resid_overall ** 2)\n",
    "ssq_resid_overall"
   ]
  },
  {
   "cell_type": "markdown",
   "metadata": {},
   "source": [
    "The variance way of thinking says that we should be particularly interested in\n",
    "our group means, when using them does a very good job of reducing the\n",
    "variation.  This will happen when the group values are a lot closer to their\n",
    "individual group means, than they are to the overall mean.  In that case,\n",
    "`ssq_resid_groups` will be much lower than `ssq_resid_overall`, so we will get\n",
    "a fairly high value for `ssq_resid_overall - ssq_resid_groups`.  The result of\n",
    "this subtraction is called the *extra sum of squares* explained by the sample\n",
    "means:"
   ]
  },
  {
   "cell_type": "code",
   "execution_count": 38,
   "metadata": {
    "execution": {
     "iopub.execute_input": "2021-08-28T23:41:39.014342Z",
     "iopub.status.busy": "2021-08-28T23:41:39.012951Z",
     "iopub.status.idle": "2021-08-28T23:41:39.018139Z",
     "shell.execute_reply": "2021-08-28T23:41:39.018794Z"
    }
   },
   "outputs": [
    {
     "data": {
      "text/plain": [
       "716.1592559982396"
      ]
     },
     "execution_count": 38,
     "metadata": {},
     "output_type": "execute_result"
    }
   ],
   "source": [
    "ess = ssq_resid_overall - ssq_resid_groups\n",
    "ess"
   ]
  },
  {
   "cell_type": "markdown",
   "metadata": {},
   "source": [
    "Remember, `ssq_resid_overall` is the (sum of squared) variation remaining after\n",
    "accounting for the overall mean, and `ssq_resid_groups` is the (sum of squared)\n",
    "variation remaining after accounting for the sample means, so `ess` is the\n",
    "*extra* variation accounted for by using the sample means.\n",
    "\n",
    "But — wait — the `ess` value is *exactly* the same as the SNSQGMD metric we\n",
    "were already using!"
   ]
  },
  {
   "cell_type": "code",
   "execution_count": 39,
   "metadata": {
    "execution": {
     "iopub.execute_input": "2021-08-28T23:41:39.030914Z",
     "iopub.status.busy": "2021-08-28T23:41:39.028934Z",
     "iopub.status.idle": "2021-08-28T23:41:39.038942Z",
     "shell.execute_reply": "2021-08-28T23:41:39.039533Z"
    }
   },
   "outputs": [
    {
     "data": {
      "text/plain": [
       "Hand Vol Chg    716.159256\n",
       "dtype: float64"
      ]
     },
     "execution_count": 39,
     "metadata": {},
     "output_type": "execute_result"
    }
   ],
   "source": [
    "observed_sn_sq_gmd"
   ]
  },
  {
   "cell_type": "markdown",
   "metadata": {},
   "source": [
    "This striking fact is true for any possible values and groups, and arises from\n",
    "the algebra of adding squared deviations from means.  The equivalence gives us\n",
    "two different ways of thinking of the same SNSQGMD metric value.  The SNSQGMD\n",
    "value is both:\n",
    "\n",
    "* A measure of how far the sample means are from the overall mean, AND\n",
    "* A measure of how much variation the sample means explain, over and above the\n",
    "  overall mean.\n",
    "\n",
    "In this second \"explained variance\" interpretation, we think of the F test\n",
    "calculation as being a scaled ratio of the extra variance explained by the\n",
    "sample means to the variance still remaining when we use the sample means.  If\n",
    "the sample means explain a lot of variation, then the top half of the F\n",
    "statistic will be large, and the bottom half will be small, giving a large F\n",
    "value.\n",
    "\n",
    "Perhaps the most important thing to note about the F statistic is that it 'moves' similarly to our SNSQGMD metric.\n",
    "I.e. it will be large when the distance between the group means the overall mean is high, and small when\n",
    "the distance between the group means and the overall means is small. \n",
    "\n",
    "To illustrate this point, the three graphs below use the same simulated data we saw earlier. The graphs show how the F statistic changes as a function of the difference between the means of three groups consisting of 10000 simulated observations. As before, the group means are shown as coloured diamonds, and the overall mean is shown as a red 'X'. The difference between each group mean and the overall mean is shown by a dashed red line. The F statistic is shown for each graph below the x axis.\n",
    "\n",
    "*Note: please see [this page](SNSQGMD_and_F-statistic_simulations) if you would like\n",
    "to see the code that generated the simulated data for these graphs*"
   ]
  },
  {
   "cell_type": "markdown",
   "metadata": {},
   "source": [
    "<img src=\"F_stat_sim.JPG\">"
   ]
  },
  {
   "cell_type": "code",
   "execution_count": null,
   "metadata": {},
   "outputs": [],
   "source": []
  }
 ],
 "metadata": {
  "jupytext": {
   "formats": "ipynb,Rmd",
   "notebook_metadata_filter": "all,-language_info",
   "split_at_heading": true
  },
  "kernelspec": {
   "display_name": "Python 3",
   "language": "python",
   "name": "python3"
  },
  "language_info": {
   "codemirror_mode": {
    "name": "ipython",
    "version": 3
   },
   "file_extension": ".py",
   "mimetype": "text/x-python",
   "name": "python",
   "nbconvert_exporter": "python",
   "pygments_lexer": "ipython3",
   "version": "3.7.9"
  }
 },
 "nbformat": 4,
 "nbformat_minor": 4
}
