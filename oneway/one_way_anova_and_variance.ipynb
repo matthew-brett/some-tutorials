{
 "cells": [
  {
   "cell_type": "markdown",
   "id": "19940672",
   "metadata": {},
   "source": [
    "# One-way anova"
   ]
  },
  {
   "cell_type": "markdown",
   "id": "fff8818b",
   "metadata": {},
   "source": [
    "Imagine you have three\n",
    "groups, and you want to do a one-level ANOVA to test for overall\n",
    "differences across the groups.\n",
    "\n",
    "The general technique for a permutation test is:\n",
    "\n",
    "* You decide on your metric\n",
    "* You get your metric for the actual data - observed metric\n",
    "* You permute your data and take the same metric from the permuted\n",
    "data, and repeat many times - fake metrics\n",
    "* You compare your observed metric to your fake metrics, to see how\n",
    "unusual it is.\n",
    "\n",
    "So for a two-sample permutation test, your metric is the difference in\n",
    "the two sample means.\n",
    "\n",
    "For a three sample version of the test - we need a metric that will be\n",
    "big where there are big differences between the three groups, and\n",
    "small when there are small differences.\n",
    "\n",
    "One good metric could be to:\n",
    "\n",
    "Get the sample means for each of the three groups A, B, C, to give\n",
    "mean_a, mean_b, nean_c\n",
    "\n",
    "Get the mean across all the observations regardless of group (mean_overall)\n",
    "\n",
    "Subtract mean_overall from each of mean_a, mean_b, mean_c to give\n",
    "mean_a_diff, mean_b_diff, mean_c_diff\n",
    "\n",
    "As usual, we need one number as our metric, and as usual, we're\n",
    "interested in positive as well as negative differences, so we want to\n",
    "get rid of the signs on these somehow, before adding them up.  One way\n",
    "is to square them, and so the metric is:\n",
    "\n",
    "our_metric = mean_a_diff ** 2 + mean_b_diff ** 2 + mean_c_diff ** 2\n",
    "\n",
    "This will be big when the individual groups have different means from\n",
    "each other and small when the means for the groups are pretty similar\n",
    "to each other, and therefore, to the overall mean.\n",
    "\n",
    "So - just follow the recipe - calculate this metric for the actual\n",
    "groups A, B, C.   Permute the group labels to give random groups A, B,\n",
    "C, and recalculate the metric.   See whether the metric in the real\n",
    "data is unusual in the distribution of the same metric for the\n",
    "permuted groups.\n",
    "\n",
    "This is the permutation equivalent of the one-way ANOVA.   The one-way\n",
    "ANOVA just uses some assumptions from the normal distribution to\n",
    "estimate the random distribution, instead of using permutation to\n",
    "calculate the random distribution.\n"
   ]
  },
  {
   "cell_type": "markdown",
   "id": "a9e9fbdd",
   "metadata": {},
   "source": [
    "Dataset from <https://dasl.datadescription.com/datafile/contrast-baths>"
   ]
  },
  {
   "cell_type": "code",
   "execution_count": 1,
   "id": "aaff059b",
   "metadata": {},
   "outputs": [],
   "source": [
    "import numpy as np\n",
    "import pandas as pd\n",
    "import matplotlib.pyplot as plt"
   ]
  },
  {
   "cell_type": "code",
   "execution_count": 2,
   "id": "579ec838",
   "metadata": {},
   "outputs": [
    {
     "data": {
      "text/html": [
       "<div>\n",
       "<style scoped>\n",
       "    .dataframe tbody tr th:only-of-type {\n",
       "        vertical-align: middle;\n",
       "    }\n",
       "\n",
       "    .dataframe tbody tr th {\n",
       "        vertical-align: top;\n",
       "    }\n",
       "\n",
       "    .dataframe thead th {\n",
       "        text-align: right;\n",
       "    }\n",
       "</style>\n",
       "<table border=\"1\" class=\"dataframe\">\n",
       "  <thead>\n",
       "    <tr style=\"text-align: right;\">\n",
       "      <th></th>\n",
       "      <th>Treatment</th>\n",
       "      <th>Hand Vol Chg</th>\n",
       "    </tr>\n",
       "  </thead>\n",
       "  <tbody>\n",
       "    <tr>\n",
       "      <th>0</th>\n",
       "      <td>Bath</td>\n",
       "      <td>10</td>\n",
       "    </tr>\n",
       "    <tr>\n",
       "      <th>1</th>\n",
       "      <td>Exercise</td>\n",
       "      <td>0</td>\n",
       "    </tr>\n",
       "    <tr>\n",
       "      <th>2</th>\n",
       "      <td>Bath</td>\n",
       "      <td>10</td>\n",
       "    </tr>\n",
       "    <tr>\n",
       "      <th>3</th>\n",
       "      <td>Bath</td>\n",
       "      <td>5</td>\n",
       "    </tr>\n",
       "    <tr>\n",
       "      <th>4</th>\n",
       "      <td>Bath</td>\n",
       "      <td></td>\n",
       "    </tr>\n",
       "  </tbody>\n",
       "</table>\n",
       "</div>"
      ],
      "text/plain": [
       "  Treatment Hand Vol Chg\n",
       "0      Bath           10\n",
       "1  Exercise            0\n",
       "2      Bath           10\n",
       "3      Bath            5\n",
       "4      Bath             "
      ]
     },
     "execution_count": 2,
     "metadata": {},
     "output_type": "execute_result"
    }
   ],
   "source": [
    "baths = pd.read_csv('contrast-baths.txt', sep='\\t')\n",
    "baths.head()"
   ]
  },
  {
   "cell_type": "code",
   "execution_count": 5,
   "id": "e1ead9c9",
   "metadata": {},
   "outputs": [
    {
     "data": {
      "text/plain": [
       "Treatment       object\n",
       "Hand Vol Chg    object\n",
       "dtype: object"
      ]
     },
     "execution_count": 5,
     "metadata": {},
     "output_type": "execute_result"
    }
   ],
   "source": [
    "baths.dtypes"
   ]
  },
  {
   "cell_type": "code",
   "execution_count": 10,
   "id": "3068f7e8",
   "metadata": {},
   "outputs": [
    {
     "data": {
      "text/html": [
       "<div>\n",
       "<style scoped>\n",
       "    .dataframe tbody tr th:only-of-type {\n",
       "        vertical-align: middle;\n",
       "    }\n",
       "\n",
       "    .dataframe tbody tr th {\n",
       "        vertical-align: top;\n",
       "    }\n",
       "\n",
       "    .dataframe thead th {\n",
       "        text-align: right;\n",
       "    }\n",
       "</style>\n",
       "<table border=\"1\" class=\"dataframe\">\n",
       "  <thead>\n",
       "    <tr style=\"text-align: right;\">\n",
       "      <th></th>\n",
       "      <th>Treatment</th>\n",
       "      <th>Hand Vol Chg</th>\n",
       "    </tr>\n",
       "  </thead>\n",
       "  <tbody>\n",
       "    <tr>\n",
       "      <th>0</th>\n",
       "      <td>Bath</td>\n",
       "      <td>10.0</td>\n",
       "    </tr>\n",
       "    <tr>\n",
       "      <th>1</th>\n",
       "      <td>Exercise</td>\n",
       "      <td>0.0</td>\n",
       "    </tr>\n",
       "    <tr>\n",
       "      <th>2</th>\n",
       "      <td>Bath</td>\n",
       "      <td>10.0</td>\n",
       "    </tr>\n",
       "    <tr>\n",
       "      <th>3</th>\n",
       "      <td>Bath</td>\n",
       "      <td>5.0</td>\n",
       "    </tr>\n",
       "    <tr>\n",
       "      <th>4</th>\n",
       "      <td>Bath</td>\n",
       "      <td>NaN</td>\n",
       "    </tr>\n",
       "  </tbody>\n",
       "</table>\n",
       "</div>"
      ],
      "text/plain": [
       "  Treatment  Hand Vol Chg\n",
       "0      Bath          10.0\n",
       "1  Exercise           0.0\n",
       "2      Bath          10.0\n",
       "3      Bath           5.0\n",
       "4      Bath           NaN"
      ]
     },
     "execution_count": 10,
     "metadata": {},
     "output_type": "execute_result"
    }
   ],
   "source": [
    "baths['Hand Vol Chg'] = baths['Hand Vol Chg'].replace(' ', '')\n",
    "baths['Hand Vol Chg'] = pd.to_numeric(baths['Hand Vol Chg'])\n",
    "baths.head()"
   ]
  },
  {
   "cell_type": "code",
   "execution_count": 11,
   "id": "af6aa206",
   "metadata": {},
   "outputs": [
    {
     "data": {
      "text/html": [
       "<div>\n",
       "<style scoped>\n",
       "    .dataframe tbody tr th:only-of-type {\n",
       "        vertical-align: middle;\n",
       "    }\n",
       "\n",
       "    .dataframe tbody tr th {\n",
       "        vertical-align: top;\n",
       "    }\n",
       "\n",
       "    .dataframe thead th {\n",
       "        text-align: right;\n",
       "    }\n",
       "</style>\n",
       "<table border=\"1\" class=\"dataframe\">\n",
       "  <thead>\n",
       "    <tr style=\"text-align: right;\">\n",
       "      <th></th>\n",
       "      <th>Treatment</th>\n",
       "      <th>Hand Vol Chg</th>\n",
       "    </tr>\n",
       "  </thead>\n",
       "  <tbody>\n",
       "    <tr>\n",
       "      <th>0</th>\n",
       "      <td>Bath</td>\n",
       "      <td>10.0</td>\n",
       "    </tr>\n",
       "    <tr>\n",
       "      <th>1</th>\n",
       "      <td>Exercise</td>\n",
       "      <td>0.0</td>\n",
       "    </tr>\n",
       "    <tr>\n",
       "      <th>2</th>\n",
       "      <td>Bath</td>\n",
       "      <td>10.0</td>\n",
       "    </tr>\n",
       "    <tr>\n",
       "      <th>3</th>\n",
       "      <td>Bath</td>\n",
       "      <td>5.0</td>\n",
       "    </tr>\n",
       "    <tr>\n",
       "      <th>5</th>\n",
       "      <td>Exercise</td>\n",
       "      <td>4.0</td>\n",
       "    </tr>\n",
       "  </tbody>\n",
       "</table>\n",
       "</div>"
      ],
      "text/plain": [
       "  Treatment  Hand Vol Chg\n",
       "0      Bath          10.0\n",
       "1  Exercise           0.0\n",
       "2      Bath          10.0\n",
       "3      Bath           5.0\n",
       "5  Exercise           4.0"
      ]
     },
     "execution_count": 11,
     "metadata": {},
     "output_type": "execute_result"
    }
   ],
   "source": [
    "baths_clean = baths.dropna()\n",
    "baths_clean.head()"
   ]
  },
  {
   "cell_type": "code",
   "execution_count": 13,
   "id": "89d4391a",
   "metadata": {},
   "outputs": [
    {
     "data": {
      "text/plain": [
       "<AxesSubplot:xlabel='Treatment', ylabel='Hand Vol Chg'>"
      ]
     },
     "execution_count": 13,
     "metadata": {},
     "output_type": "execute_result"
    },
    {
     "data": {
      "image/png": "[encoded data removed]",
      "text/plain": [
       "<Figure size 432x288 with 1 Axes>"
      ]
     },
     "metadata": {
      "needs_background": "light"
     },
     "output_type": "display_data"
    }
   ],
   "source": [
    "baths_clean.plot.scatter('Treatment', 'Hand Vol Chg')"
   ]
  },
  {
   "cell_type": "code",
   "execution_count": 14,
   "id": "338bc01a",
   "metadata": {},
   "outputs": [
    {
     "data": {
      "text/html": [
       "<div>\n",
       "<style scoped>\n",
       "    .dataframe tbody tr th:only-of-type {\n",
       "        vertical-align: middle;\n",
       "    }\n",
       "\n",
       "    .dataframe tbody tr th {\n",
       "        vertical-align: top;\n",
       "    }\n",
       "\n",
       "    .dataframe thead th {\n",
       "        text-align: right;\n",
       "    }\n",
       "</style>\n",
       "<table border=\"1\" class=\"dataframe\">\n",
       "  <thead>\n",
       "    <tr style=\"text-align: right;\">\n",
       "      <th></th>\n",
       "      <th>Hand Vol Chg</th>\n",
       "    </tr>\n",
       "    <tr>\n",
       "      <th>Treatment</th>\n",
       "      <th></th>\n",
       "    </tr>\n",
       "  </thead>\n",
       "  <tbody>\n",
       "    <tr>\n",
       "      <th>Bath</th>\n",
       "      <td>4.545455</td>\n",
       "    </tr>\n",
       "    <tr>\n",
       "      <th>Bath+Exercise</th>\n",
       "      <td>8.000000</td>\n",
       "    </tr>\n",
       "    <tr>\n",
       "      <th>Exercise</th>\n",
       "      <td>-1.071429</td>\n",
       "    </tr>\n",
       "  </tbody>\n",
       "</table>\n",
       "</div>"
      ],
      "text/plain": [
       "               Hand Vol Chg\n",
       "Treatment                  \n",
       "Bath               4.545455\n",
       "Bath+Exercise      8.000000\n",
       "Exercise          -1.071429"
      ]
     },
     "execution_count": 14,
     "metadata": {},
     "output_type": "execute_result"
    }
   ],
   "source": [
    "means = baths_clean.groupby('Treatment').mean()\n",
    "means"
   ]
  },
  {
   "cell_type": "code",
   "execution_count": 19,
   "id": "63632d21",
   "metadata": {},
   "outputs": [
    {
     "data": {
      "text/plain": [
       "4.559322033898305"
      ]
     },
     "execution_count": 19,
     "metadata": {},
     "output_type": "execute_result"
    }
   ],
   "source": [
    "overall_mean = np.mean(baths_clean['Hand Vol Chg'])\n",
    "overall_mean"
   ]
  },
  {
   "cell_type": "code",
   "execution_count": 25,
   "id": "9ceef24a",
   "metadata": {},
   "outputs": [
    {
     "data": {
      "text/plain": [
       "<matplotlib.legend.Legend at 0x1135d7160>"
      ]
     },
     "execution_count": 25,
     "metadata": {},
     "output_type": "execute_result"
    },
    {
     "data": {
      "image/png": "[encoded data removed]",
      "text/plain": [
       "<Figure size 432x288 with 1 Axes>"
      ]
     },
     "metadata": {
      "needs_background": "light"
     },
     "output_type": "display_data"
    }
   ],
   "source": [
    "baths_clean.plot.scatter('Treatment', 'Hand Vol Chg',\n",
    "                         label='Data')\n",
    "plt.scatter(means.index, np.array(means), color='red',\n",
    "            label='Group means')\n",
    "plt.plot(means.index, [overall_mean, overall_mean, overall_mean],\n",
    "         ':', color='green',\n",
    "         label='Overall mean')\n",
    "plt.legend();"
   ]
  },
  {
   "cell_type": "code",
   "execution_count": 26,
   "id": "9bff5a3c",
   "metadata": {},
   "outputs": [
    {
     "data": {
      "text/html": [
       "<div>\n",
       "<style scoped>\n",
       "    .dataframe tbody tr th:only-of-type {\n",
       "        vertical-align: middle;\n",
       "    }\n",
       "\n",
       "    .dataframe tbody tr th {\n",
       "        vertical-align: top;\n",
       "    }\n",
       "\n",
       "    .dataframe thead th {\n",
       "        text-align: right;\n",
       "    }\n",
       "</style>\n",
       "<table border=\"1\" class=\"dataframe\">\n",
       "  <thead>\n",
       "    <tr style=\"text-align: right;\">\n",
       "      <th></th>\n",
       "      <th>Hand Vol Chg</th>\n",
       "    </tr>\n",
       "    <tr>\n",
       "      <th>Treatment</th>\n",
       "      <th></th>\n",
       "    </tr>\n",
       "  </thead>\n",
       "  <tbody>\n",
       "    <tr>\n",
       "      <th>Bath</th>\n",
       "      <td>-0.013867</td>\n",
       "    </tr>\n",
       "    <tr>\n",
       "      <th>Bath+Exercise</th>\n",
       "      <td>3.440678</td>\n",
       "    </tr>\n",
       "    <tr>\n",
       "      <th>Exercise</th>\n",
       "      <td>-5.630751</td>\n",
       "    </tr>\n",
       "  </tbody>\n",
       "</table>\n",
       "</div>"
      ],
      "text/plain": [
       "               Hand Vol Chg\n",
       "Treatment                  \n",
       "Bath              -0.013867\n",
       "Bath+Exercise      3.440678\n",
       "Exercise          -5.630751"
      ]
     },
     "execution_count": 26,
     "metadata": {},
     "output_type": "execute_result"
    }
   ],
   "source": [
    "mean_diffs = means - overall_mean\n",
    "mean_diffs"
   ]
  },
  {
   "cell_type": "code",
   "execution_count": 27,
   "id": "0406e978",
   "metadata": {},
   "outputs": [
    {
     "data": {
      "text/plain": [
       "Hand Vol Chg    43.54381\n",
       "dtype: float64"
      ]
     },
     "execution_count": 27,
     "metadata": {},
     "output_type": "execute_result"
    }
   ],
   "source": [
    "mean_diff_ssq = np.sum(mean_diffs ** 2)\n",
    "mean_diff_ssq"
   ]
  },
  {
   "cell_type": "code",
   "execution_count": 28,
   "id": "07f2a156",
   "metadata": {},
   "outputs": [
    {
     "data": {
      "text/plain": [
       "59"
      ]
     },
     "execution_count": 28,
     "metadata": {},
     "output_type": "execute_result"
    }
   ],
   "source": [
    "n = len(baths_clean)\n",
    "n"
   ]
  },
  {
   "cell_type": "code",
   "execution_count": 32,
   "id": "3be2f178",
   "metadata": {},
   "outputs": [
    {
     "data": {
      "text/html": [
       "<div>\n",
       "<style scoped>\n",
       "    .dataframe tbody tr th:only-of-type {\n",
       "        vertical-align: middle;\n",
       "    }\n",
       "\n",
       "    .dataframe tbody tr th {\n",
       "        vertical-align: top;\n",
       "    }\n",
       "\n",
       "    .dataframe thead th {\n",
       "        text-align: right;\n",
       "    }\n",
       "</style>\n",
       "<table border=\"1\" class=\"dataframe\">\n",
       "  <thead>\n",
       "    <tr style=\"text-align: right;\">\n",
       "      <th></th>\n",
       "      <th>Treatment</th>\n",
       "      <th>Hand Vol Chg</th>\n",
       "    </tr>\n",
       "  </thead>\n",
       "  <tbody>\n",
       "    <tr>\n",
       "      <th>0</th>\n",
       "      <td>Bath+Exercise</td>\n",
       "      <td>10.0</td>\n",
       "    </tr>\n",
       "    <tr>\n",
       "      <th>1</th>\n",
       "      <td>Bath+Exercise</td>\n",
       "      <td>0.0</td>\n",
       "    </tr>\n",
       "    <tr>\n",
       "      <th>2</th>\n",
       "      <td>Bath+Exercise</td>\n",
       "      <td>10.0</td>\n",
       "    </tr>\n",
       "    <tr>\n",
       "      <th>3</th>\n",
       "      <td>Exercise</td>\n",
       "      <td>5.0</td>\n",
       "    </tr>\n",
       "    <tr>\n",
       "      <th>5</th>\n",
       "      <td>Bath</td>\n",
       "      <td>4.0</td>\n",
       "    </tr>\n",
       "  </tbody>\n",
       "</table>\n",
       "</div>"
      ],
      "text/plain": [
       "       Treatment  Hand Vol Chg\n",
       "0  Bath+Exercise          10.0\n",
       "1  Bath+Exercise           0.0\n",
       "2  Bath+Exercise          10.0\n",
       "3       Exercise           5.0\n",
       "5           Bath           4.0"
      ]
     },
     "execution_count": 32,
     "metadata": {},
     "output_type": "execute_result"
    }
   ],
   "source": [
    "fake_data = baths_clean.copy()\n",
    "# Permute the treatment labels\n",
    "fake_data['Treatment'] = np.random.permutation(fake_data['Treatment'])\n",
    "fake_data.head()"
   ]
  },
  {
   "cell_type": "code",
   "execution_count": 33,
   "id": "02cfd651",
   "metadata": {},
   "outputs": [
    {
     "data": {
      "text/html": [
       "<div>\n",
       "<style scoped>\n",
       "    .dataframe tbody tr th:only-of-type {\n",
       "        vertical-align: middle;\n",
       "    }\n",
       "\n",
       "    .dataframe tbody tr th {\n",
       "        vertical-align: top;\n",
       "    }\n",
       "\n",
       "    .dataframe thead th {\n",
       "        text-align: right;\n",
       "    }\n",
       "</style>\n",
       "<table border=\"1\" class=\"dataframe\">\n",
       "  <thead>\n",
       "    <tr style=\"text-align: right;\">\n",
       "      <th></th>\n",
       "      <th>Hand Vol Chg</th>\n",
       "    </tr>\n",
       "    <tr>\n",
       "      <th>Treatment</th>\n",
       "      <th></th>\n",
       "    </tr>\n",
       "  </thead>\n",
       "  <tbody>\n",
       "    <tr>\n",
       "      <th>Bath</th>\n",
       "      <td>7.727273</td>\n",
       "    </tr>\n",
       "    <tr>\n",
       "      <th>Bath+Exercise</th>\n",
       "      <td>3.521739</td>\n",
       "    </tr>\n",
       "    <tr>\n",
       "      <th>Exercise</th>\n",
       "      <td>1.285714</td>\n",
       "    </tr>\n",
       "  </tbody>\n",
       "</table>\n",
       "</div>"
      ],
      "text/plain": [
       "               Hand Vol Chg\n",
       "Treatment                  \n",
       "Bath               7.727273\n",
       "Bath+Exercise      3.521739\n",
       "Exercise           1.285714"
      ]
     },
     "execution_count": 33,
     "metadata": {},
     "output_type": "execute_result"
    }
   ],
   "source": [
    "fake_means = fake_data.groupby('Treatment').mean()\n",
    "fake_means"
   ]
  },
  {
   "cell_type": "code",
   "execution_count": 36,
   "id": "7dc01214",
   "metadata": {},
   "outputs": [
    {
     "data": {
      "text/plain": [
       "True"
      ]
     },
     "execution_count": 36,
     "metadata": {},
     "output_type": "execute_result"
    }
   ],
   "source": [
    "# The overall mean cannot change, because we're putting in the same\n",
    "# set of numbers, perhaps in a different order.\n",
    "np.mean(fake_data['Hand Vol Chg']) == overall_mean"
   ]
  },
  {
   "cell_type": "code",
   "execution_count": 37,
   "id": "5809d2c4",
   "metadata": {},
   "outputs": [
    {
     "data": {
      "text/plain": [
       "Hand Vol Chg    21.828998\n",
       "dtype: float64"
      ]
     },
     "execution_count": 37,
     "metadata": {},
     "output_type": "execute_result"
    }
   ],
   "source": [
    "fake_ssq = np.sum((fake_means - overall_mean) ** 2)\n",
    "fake_ssq"
   ]
  },
  {
   "cell_type": "code",
   "execution_count": 38,
   "id": "981d7f6f",
   "metadata": {},
   "outputs": [],
   "source": [
    "def ssq_mean_diffs(df, group_col, val_col):\n",
    "    overall_mean = np.mean(df[val_col])\n",
    "    group_means = df.groupby(group_col)[val_col].mean()\n",
    "    return np.sum((group_means - overall_mean) ** 2)"
   ]
  },
  {
   "cell_type": "code",
   "execution_count": 41,
   "id": "709b1a19",
   "metadata": {},
   "outputs": [
    {
     "data": {
      "text/plain": [
       "43.54380955304242"
      ]
     },
     "execution_count": 41,
     "metadata": {},
     "output_type": "execute_result"
    }
   ],
   "source": [
    "ssq_mean_diffs(baths_clean, 'Treatment', 'Hand Vol Chg')"
   ]
  },
  {
   "cell_type": "code",
   "execution_count": 42,
   "id": "a6612566",
   "metadata": {},
   "outputs": [
    {
     "data": {
      "text/plain": [
       "21.828997566181727"
      ]
     },
     "execution_count": 42,
     "metadata": {},
     "output_type": "execute_result"
    }
   ],
   "source": [
    "ssq_mean_diffs(fake_data, 'Treatment', 'Hand Vol Chg')"
   ]
  },
  {
   "cell_type": "code",
   "execution_count": 43,
   "id": "c7ac4eb2",
   "metadata": {},
   "outputs": [],
   "source": [
    "n_iters = 10000\n",
    "fake_ssqs = np.zeros(n_iters)\n",
    "for i in np.arange(n_iters):\n",
    "    fake_data['Treatment'] = np.random.permutation(fake_data['Treatment'])\n",
    "    fake_ssqs[i] = ssq_mean_diffs(fake_data, 'Treatment', 'Hand Vol Chg')"
   ]
  },
  {
   "cell_type": "code",
   "execution_count": 45,
   "id": "a90abb79",
   "metadata": {},
   "outputs": [
    {
     "data": {
      "image/png": "[encoded data removed]",
      "text/plain": [
       "<Figure size 432x288 with 1 Axes>"
      ]
     },
     "metadata": {
      "needs_background": "light"
     },
     "output_type": "display_data"
    }
   ],
   "source": [
    "plt.hist(fake_ssqs, bins=100);"
   ]
  },
  {
   "cell_type": "code",
   "execution_count": 47,
   "id": "d46e938e",
   "metadata": {},
   "outputs": [
    {
     "data": {
      "text/plain": [
       "0.0013"
      ]
     },
     "execution_count": 47,
     "metadata": {},
     "output_type": "execute_result"
    }
   ],
   "source": [
    "p = np.count_nonzero(fake_ssqs >= float(mean_diff_ssq)) / n_iters\n",
    "p"
   ]
  },
  {
   "cell_type": "markdown",
   "id": "f2d55a94",
   "metadata": {},
   "source": [
    "Notice the all-but-identical value from the standard one-way ANOVA F-test:"
   ]
  },
  {
   "cell_type": "code",
   "execution_count": 51,
   "id": "d2cc7a78",
   "metadata": {},
   "outputs": [
    {
     "data": {
      "text/html": [
       "<div>\n",
       "<style scoped>\n",
       "    .dataframe tbody tr th:only-of-type {\n",
       "        vertical-align: middle;\n",
       "    }\n",
       "\n",
       "    .dataframe tbody tr th {\n",
       "        vertical-align: top;\n",
       "    }\n",
       "\n",
       "    .dataframe thead th {\n",
       "        text-align: right;\n",
       "    }\n",
       "</style>\n",
       "<table border=\"1\" class=\"dataframe\">\n",
       "  <thead>\n",
       "    <tr style=\"text-align: right;\">\n",
       "      <th></th>\n",
       "      <th>df</th>\n",
       "      <th>sum_sq</th>\n",
       "      <th>mean_sq</th>\n",
       "      <th>F</th>\n",
       "      <th>PR(&gt;F)</th>\n",
       "    </tr>\n",
       "  </thead>\n",
       "  <tbody>\n",
       "    <tr>\n",
       "      <th>Treatment</th>\n",
       "      <td>2.0</td>\n",
       "      <td>716.159256</td>\n",
       "      <td>358.079628</td>\n",
       "      <td>7.4148</td>\n",
       "      <td>0.001391</td>\n",
       "    </tr>\n",
       "    <tr>\n",
       "      <th>Residual</th>\n",
       "      <td>56.0</td>\n",
       "      <td>2704.383117</td>\n",
       "      <td>48.292556</td>\n",
       "      <td>NaN</td>\n",
       "      <td>NaN</td>\n",
       "    </tr>\n",
       "  </tbody>\n",
       "</table>\n",
       "</div>"
      ],
      "text/plain": [
       "             df       sum_sq     mean_sq       F    PR(>F)\n",
       "Treatment   2.0   716.159256  358.079628  7.4148  0.001391\n",
       "Residual   56.0  2704.383117   48.292556     NaN       NaN"
      ]
     },
     "execution_count": 51,
     "metadata": {},
     "output_type": "execute_result"
    }
   ],
   "source": [
    "import statsmodels.api as sm\n",
    "import statsmodels.formula.api as smf\n",
    "\n",
    "mod = smf.ols('Q(\"Hand Vol Chg\") ~ Treatment', data=baths_clean).fit()\n",
    "\n",
    "sm.stats.anova_lm(mod, typ=1) "
   ]
  },
  {
   "cell_type": "markdown",
   "id": "ae32da29",
   "metadata": {},
   "source": [
    "Or:"
   ]
  },
  {
   "cell_type": "code",
   "execution_count": 52,
   "id": "d85b6c14",
   "metadata": {},
   "outputs": [],
   "source": [
    "from scipy.stats import f_oneway"
   ]
  },
  {
   "cell_type": "code",
   "execution_count": 53,
   "id": "c3747e3e",
   "metadata": {},
   "outputs": [
    {
     "data": {
      "text/plain": [
       "F_onewayResult(statistic=7.414799716344096, pvalue=0.0013907554044090167)"
      ]
     },
     "execution_count": 53,
     "metadata": {},
     "output_type": "execute_result"
    }
   ],
   "source": [
    "treatment = baths_clean['Treatment']\n",
    "change = baths_clean['Hand Vol Chg']\n",
    "bath = change[treatment == 'Bath']\n",
    "both = change[treatment == 'Bath+Exercise']\n",
    "exercise = change[treatment == 'Exercise']\n",
    "f_oneway(bath, both, exercise)"
   ]
  },
  {
   "cell_type": "markdown",
   "id": "7ca1e115",
   "metadata": {},
   "source": [
    "Thinking of the residual variances:"
   ]
  },
  {
   "cell_type": "code",
   "execution_count": 60,
   "id": "8501dc7e",
   "metadata": {},
   "outputs": [
    {
     "data": {
      "text/plain": [
       "2704.3831168831166"
      ]
     },
     "execution_count": 60,
     "metadata": {},
     "output_type": "execute_result"
    }
   ],
   "source": [
    "bath_resid = bath - np.mean(bath)\n",
    "both_resid = both - np.mean(both)\n",
    "ex_resid = exercise - np.mean(exercise)\n",
    "# Stick these all together into one array\n",
    "all_group_resids = np.concatenate([bath_resid, both_resid, ex_resid])\n",
    "ssq_groups = np.sum(all_group_resids ** 2)\n",
    "ssq_groups"
   ]
  },
  {
   "cell_type": "code",
   "execution_count": 61,
   "id": "439f8b90",
   "metadata": {},
   "outputs": [
    {
     "data": {
      "text/plain": [
       "3420.542372881356"
      ]
     },
     "execution_count": 61,
     "metadata": {},
     "output_type": "execute_result"
    }
   ],
   "source": [
    "ssq_overall = np.sum((change - overall_mean) ** 2)\n",
    "ssq_overall"
   ]
  },
  {
   "cell_type": "code",
   "execution_count": 95,
   "id": "ca46cd77",
   "metadata": {},
   "outputs": [
    {
     "data": {
      "text/plain": [
       "7.414799716344101"
      ]
     },
     "execution_count": 95,
     "metadata": {},
     "output_type": "execute_result"
    }
   ],
   "source": [
    "F = ((ssq_overall - ssq_groups) / 2) / (ssq_groups / (n - 3))\n",
    "F"
   ]
  },
  {
   "cell_type": "code",
   "execution_count": 98,
   "id": "244d0344",
   "metadata": {},
   "outputs": [
    {
     "data": {
      "text/plain": [
       "358.0796279991198"
      ]
     },
     "execution_count": 98,
     "metadata": {},
     "output_type": "execute_result"
    }
   ],
   "source": [
    "(ssq_overall - ssq_groups) / 2 "
   ]
  },
  {
   "cell_type": "code",
   "execution_count": 100,
   "id": "56d74d26",
   "metadata": {},
   "outputs": [],
   "source": [
    "top = ssq_mean_diffs(baths_clean, 'Treatment', 'Hand Vol Chg')"
   ]
  },
  {
   "cell_type": "code",
   "execution_count": 101,
   "id": "c953a869",
   "metadata": {},
   "outputs": [
    {
     "data": {
      "text/plain": [
       "5.872553705943104"
      ]
     },
     "execution_count": 101,
     "metadata": {},
     "output_type": "execute_result"
    }
   ],
   "source": [
    "x = top / F\n",
    "x"
   ]
  },
  {
   "cell_type": "code",
   "execution_count": 107,
   "id": "7e14d6b3",
   "metadata": {},
   "outputs": [
    {
     "data": {
      "text/plain": [
       "48.29255565862708"
      ]
     },
     "execution_count": 107,
     "metadata": {},
     "output_type": "execute_result"
    }
   ],
   "source": []
  },
  {
   "cell_type": "code",
   "execution_count": null,
   "id": "da4d34fc",
   "metadata": {},
   "outputs": [],
   "source": []
  }
 ],
 "metadata": {
  "jupytext": {
   "notebook_metadata_filter": "all,-language_info",
   "split_at_heading": true
  },
  "kernelspec": {
   "display_name": "Python 3",
   "language": "python",
   "name": "python3"
  },
  "language_info": {
   "codemirror_mode": {
    "name": "ipython",
    "version": 3
   },
   "file_extension": ".py",
   "mimetype": "text/x-python",
   "name": "python",
   "nbconvert_exporter": "python",
   "pygments_lexer": "ipython3",
   "version": "3.8.11"
  }
 },
 "nbformat": 4,
 "nbformat_minor": 5
}
