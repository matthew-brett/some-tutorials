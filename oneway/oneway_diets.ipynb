{
 "cells": [
  {
   "cell_type": "markdown",
   "id": "5442bd98",
   "metadata": {},
   "source": [
    "# One-way ANOVA\n",
    "\n",
    "Imagine you have three groups, and you want to do a one-level ANOVA to test for\n",
    "overall differences across the groups.\n",
    "\n",
    "The general technique for a permutation test is:\n",
    "\n",
    "* You decide on your metric\n",
    "* You get your metric for the actual data - observed metric\n",
    "* You permute your data and take the same metric from the permuted data, and\n",
    "  repeat many times - fake metrics\n",
    "* You compare your observed metric to your fake metrics, to see how unusual it\n",
    "  is.\n",
    "\n",
    "For a two-sample permutation test, your metric is the difference in the two\n",
    "sample means.\n",
    "\n",
    "For a three sample version of the test — we need a metric that will be big\n",
    "where there are big differences between the three groups, and small when there\n",
    "are small differences.\n",
    "\n",
    "Let us reflect on what what we want from the metric.  It should be a single\n",
    "number to summarize all the values from the groups. It should be be large for\n",
    "big differences between the means for the various groups.  It should be larger\n",
    "when more observations are in the groups with large difference in means.\n",
    "\n",
    "Consider the following metric.  We will soon see this is the metric that the F-test uses.\n",
    "\n",
    "* Get the sample means for each of the three groups A, B, C, to give `mean_a`,\n",
    "  `mean_b`, `mean_c`\n",
    "* Get the mean across all the observations regardless of group\n",
    "  (`mean_overall`)\n",
    "* Subtract `mean_overall` from each of `mean_a`, `mean_b`, `mean_c` to give\n",
    "  `mean_a_diff`, `mean_b_diff`, `mean_c_diff`.\n",
    "* We are interested in positive as well as negative differences, so we do not\n",
    "  want to add these mean differences, otherwise the positive and negative means\n",
    "  differences will cancel out. So we next square the differences to give:\n",
    "  `sq_mean_a_diff`, `sq_mean_b_diff`, `sq_mean_c_diff`.\n",
    "* We want larger groups to have greater weight than small groups.  Call the\n",
    "  number in groups A, B, and C `n_a`, `n_b`, `n_c`. To weight the squared mean\n",
    "  differences we multiply each square mean difference by the number in each\n",
    "  group: `sq_mean_a_diff * n_a`, `sq_mean_b_diff * n_b`, `sq_mean_c_diff *\n",
    "  n_c`, to give `nsq_mean_a_diff`, `nsq_mean_b_diff`, `nsq_mean_c_diff`.\n",
    "*   Finally, we add up the group `nsq` scores to give our metric:\n",
    "\n",
    "    ```\n",
    "    our_metric = nsq_mean_a_diff + nsq_mean_b_diff + nsq_mean_c_diff\n",
    "    ```\n",
    "\n",
    "We will call this the SNSQGMD metric (Sum of N times SQuared Group Mean\n",
    "Difference).\n",
    "\n",
    "SNSQGMD will be large and positive when the individual groups have different\n",
    "means from each other and small when the means for the groups are pretty\n",
    "similar to each other, and therefore, to the overall mean.  It will be larger\n",
    "when larger groups have means with bigger deviations from the overall mean.\n",
    "\n",
    "To follow the recipe above, we calculate SNSQGMD for the actual groups A, B, C.\n",
    "Permute the group labels to give random groups A, B, C, and recalculate the\n",
    "metric.   See whether SNSQGMD in the real data is unusual in the distribution of\n",
    "the same metric for the permuted groups.\n",
    "\n",
    "This is the permutation equivalent of the one-way ANOVA.   The one-way ANOVA\n",
    "just uses some assumptions from the normal distribution to estimate the spread\n",
    "in the random distribution of SNSQGMD, instead of using permutation to calculate\n",
    "the random distribution.\n"
   ]
  },
  {
   "cell_type": "markdown",
   "id": "94325616",
   "metadata": {},
   "source": [
    "## An example"
   ]
  },
  {
   "cell_type": "code",
   "execution_count": 1,
   "id": "c2b48cf0",
   "metadata": {},
   "outputs": [],
   "source": [
    "import numpy as np\n",
    "import pandas as pd\n",
    "import matplotlib.pyplot as plt"
   ]
  },
  {
   "cell_type": "markdown",
   "id": "bda258ce",
   "metadata": {},
   "source": [
    "Our dataset is a table giving the amount of weight lost for a group of people allocated to one of three possible diets, called `A`, `B` and `C`.\n",
    "\n",
    "See: [the dataset page](https://github.com/odsti/datasets/tree/master/sheffield_diet) for more detail."
   ]
  },
  {
   "cell_type": "code",
   "execution_count": 2,
   "id": "fed7fb47",
   "metadata": {},
   "outputs": [
    {
     "data": {
      "text/html": [
       "<div>\n",
       "<style scoped>\n",
       "    .dataframe tbody tr th:only-of-type {\n",
       "        vertical-align: middle;\n",
       "    }\n",
       "\n",
       "    .dataframe tbody tr th {\n",
       "        vertical-align: top;\n",
       "    }\n",
       "\n",
       "    .dataframe thead th {\n",
       "        text-align: right;\n",
       "    }\n",
       "</style>\n",
       "<table border=\"1\" class=\"dataframe\">\n",
       "  <thead>\n",
       "    <tr style=\"text-align: right;\">\n",
       "      <th></th>\n",
       "      <th>gender</th>\n",
       "      <th>diet</th>\n",
       "      <th>weight_lost</th>\n",
       "    </tr>\n",
       "  </thead>\n",
       "  <tbody>\n",
       "    <tr>\n",
       "      <th>0</th>\n",
       "      <td>Female</td>\n",
       "      <td>A</td>\n",
       "      <td>3.8</td>\n",
       "    </tr>\n",
       "    <tr>\n",
       "      <th>1</th>\n",
       "      <td>Female</td>\n",
       "      <td>A</td>\n",
       "      <td>6.0</td>\n",
       "    </tr>\n",
       "    <tr>\n",
       "      <th>2</th>\n",
       "      <td>Female</td>\n",
       "      <td>A</td>\n",
       "      <td>0.7</td>\n",
       "    </tr>\n",
       "    <tr>\n",
       "      <th>3</th>\n",
       "      <td>Female</td>\n",
       "      <td>A</td>\n",
       "      <td>2.9</td>\n",
       "    </tr>\n",
       "    <tr>\n",
       "      <th>4</th>\n",
       "      <td>Female</td>\n",
       "      <td>A</td>\n",
       "      <td>2.8</td>\n",
       "    </tr>\n",
       "  </tbody>\n",
       "</table>\n",
       "</div>"
      ],
      "text/plain": [
       "   gender diet  weight_lost\n",
       "0  Female    A          3.8\n",
       "1  Female    A          6.0\n",
       "2  Female    A          0.7\n",
       "3  Female    A          2.9\n",
       "4  Female    A          2.8"
      ]
     },
     "execution_count": 2,
     "metadata": {},
     "output_type": "execute_result"
    }
   ],
   "source": [
    "# Read the raw dataset\n",
    "diet_data = pd.read_csv('sheffield_diet.csv')\n",
    "diet_data.head()"
   ]
  },
  {
   "cell_type": "markdown",
   "id": "13142afa",
   "metadata": {},
   "source": [
    "Here we are only interested in the last two columns:"
   ]
  },
  {
   "cell_type": "code",
   "execution_count": 3,
   "id": "c1447c85",
   "metadata": {},
   "outputs": [
    {
     "data": {
      "text/html": [
       "<div>\n",
       "<style scoped>\n",
       "    .dataframe tbody tr th:only-of-type {\n",
       "        vertical-align: middle;\n",
       "    }\n",
       "\n",
       "    .dataframe tbody tr th {\n",
       "        vertical-align: top;\n",
       "    }\n",
       "\n",
       "    .dataframe thead th {\n",
       "        text-align: right;\n",
       "    }\n",
       "</style>\n",
       "<table border=\"1\" class=\"dataframe\">\n",
       "  <thead>\n",
       "    <tr style=\"text-align: right;\">\n",
       "      <th></th>\n",
       "      <th>diet</th>\n",
       "      <th>weight_lost</th>\n",
       "    </tr>\n",
       "  </thead>\n",
       "  <tbody>\n",
       "    <tr>\n",
       "      <th>0</th>\n",
       "      <td>A</td>\n",
       "      <td>3.8</td>\n",
       "    </tr>\n",
       "    <tr>\n",
       "      <th>1</th>\n",
       "      <td>A</td>\n",
       "      <td>6.0</td>\n",
       "    </tr>\n",
       "    <tr>\n",
       "      <th>2</th>\n",
       "      <td>A</td>\n",
       "      <td>0.7</td>\n",
       "    </tr>\n",
       "    <tr>\n",
       "      <th>3</th>\n",
       "      <td>A</td>\n",
       "      <td>2.9</td>\n",
       "    </tr>\n",
       "    <tr>\n",
       "      <th>4</th>\n",
       "      <td>A</td>\n",
       "      <td>2.8</td>\n",
       "    </tr>\n",
       "  </tbody>\n",
       "</table>\n",
       "</div>"
      ],
      "text/plain": [
       "  diet  weight_lost\n",
       "0    A          3.8\n",
       "1    A          6.0\n",
       "2    A          0.7\n",
       "3    A          2.9\n",
       "4    A          2.8"
      ]
     },
     "execution_count": 3,
     "metadata": {},
     "output_type": "execute_result"
    }
   ],
   "source": [
    "diets = diet_data.loc[:, ['diet', 'weight_lost']]\n",
    "diets.head()"
   ]
  },
  {
   "cell_type": "markdown",
   "id": "59b05562",
   "metadata": {},
   "source": [
    "Each row corresponds to one person. The `diet` column names the diet to which\n",
    "that person was allocated.  The `weight_lost` column has the number of\n",
    "kilograms weight lost by that person after 10 weeks of following the diet.\n",
    "\n",
    "We are interested to know if the diets `A`, `B` and `C` differ overall in the\n",
    "amount of weight loss for people on that diet.\n",
    "\n",
    "We call the allocated diet the *group* to which the person\n",
    "(row) belongs.\n"
   ]
  },
  {
   "cell_type": "markdown",
   "id": "3460f8d1",
   "metadata": {},
   "source": [
    "## Means by group\n",
    "\n",
    "Here are the data, plotted by group."
   ]
  },
  {
   "cell_type": "code",
   "execution_count": 4,
   "id": "57e12086",
   "metadata": {},
   "outputs": [
    {
     "data": {
      "image/png": "[encoded data removed]",
      "text/plain": [
       "<Figure size 432x288 with 1 Axes>"
      ]
     },
     "metadata": {
      "needs_background": "light"
     },
     "output_type": "display_data"
    }
   ],
   "source": [
    "diets.plot.scatter('diet', 'weight_lost');"
   ]
  },
  {
   "cell_type": "markdown",
   "id": "1755ebb9",
   "metadata": {},
   "source": [
    "These are the means for each of the three groups."
   ]
  },
  {
   "cell_type": "code",
   "execution_count": 5,
   "id": "6f494d0f",
   "metadata": {},
   "outputs": [
    {
     "data": {
      "text/html": [
       "<div>\n",
       "<style scoped>\n",
       "    .dataframe tbody tr th:only-of-type {\n",
       "        vertical-align: middle;\n",
       "    }\n",
       "\n",
       "    .dataframe tbody tr th {\n",
       "        vertical-align: top;\n",
       "    }\n",
       "\n",
       "    .dataframe thead th {\n",
       "        text-align: right;\n",
       "    }\n",
       "</style>\n",
       "<table border=\"1\" class=\"dataframe\">\n",
       "  <thead>\n",
       "    <tr style=\"text-align: right;\">\n",
       "      <th></th>\n",
       "      <th>weight_lost</th>\n",
       "    </tr>\n",
       "    <tr>\n",
       "      <th>diet</th>\n",
       "      <th></th>\n",
       "    </tr>\n",
       "  </thead>\n",
       "  <tbody>\n",
       "    <tr>\n",
       "      <th>A</th>\n",
       "      <td>3.300000</td>\n",
       "    </tr>\n",
       "    <tr>\n",
       "      <th>B</th>\n",
       "      <td>3.268000</td>\n",
       "    </tr>\n",
       "    <tr>\n",
       "      <th>C</th>\n",
       "      <td>5.148148</td>\n",
       "    </tr>\n",
       "  </tbody>\n",
       "</table>\n",
       "</div>"
      ],
      "text/plain": [
       "      weight_lost\n",
       "diet             \n",
       "A        3.300000\n",
       "B        3.268000\n",
       "C        5.148148"
      ]
     },
     "execution_count": 5,
     "metadata": {},
     "output_type": "execute_result"
    }
   ],
   "source": [
    "group_means = diets.groupby('diet').mean()\n",
    "group_means"
   ]
  },
  {
   "cell_type": "markdown",
   "id": "e19f9fb7",
   "metadata": {},
   "source": [
    "These are the number of observations per group:"
   ]
  },
  {
   "cell_type": "code",
   "execution_count": 6,
   "id": "d0f4b5ec",
   "metadata": {},
   "outputs": [
    {
     "data": {
      "text/html": [
       "<div>\n",
       "<style scoped>\n",
       "    .dataframe tbody tr th:only-of-type {\n",
       "        vertical-align: middle;\n",
       "    }\n",
       "\n",
       "    .dataframe tbody tr th {\n",
       "        vertical-align: top;\n",
       "    }\n",
       "\n",
       "    .dataframe thead th {\n",
       "        text-align: right;\n",
       "    }\n",
       "</style>\n",
       "<table border=\"1\" class=\"dataframe\">\n",
       "  <thead>\n",
       "    <tr style=\"text-align: right;\">\n",
       "      <th></th>\n",
       "      <th>weight_lost</th>\n",
       "    </tr>\n",
       "    <tr>\n",
       "      <th>diet</th>\n",
       "      <th></th>\n",
       "    </tr>\n",
       "  </thead>\n",
       "  <tbody>\n",
       "    <tr>\n",
       "      <th>A</th>\n",
       "      <td>24</td>\n",
       "    </tr>\n",
       "    <tr>\n",
       "      <th>B</th>\n",
       "      <td>25</td>\n",
       "    </tr>\n",
       "    <tr>\n",
       "      <th>C</th>\n",
       "      <td>27</td>\n",
       "    </tr>\n",
       "  </tbody>\n",
       "</table>\n",
       "</div>"
      ],
      "text/plain": [
       "      weight_lost\n",
       "diet             \n",
       "A              24\n",
       "B              25\n",
       "C              27"
      ]
     },
     "execution_count": 6,
     "metadata": {},
     "output_type": "execute_result"
    }
   ],
   "source": [
    "group_ns = diets.groupby('diet').count()\n",
    "group_ns"
   ]
  },
  {
   "cell_type": "markdown",
   "id": "6f54ff70",
   "metadata": {},
   "source": [
    "Here is the overall mean, ignoring the group membership:"
   ]
  },
  {
   "cell_type": "code",
   "execution_count": 7,
   "id": "3a81440c",
   "metadata": {},
   "outputs": [
    {
     "data": {
      "text/plain": [
       "3.9460526315789486"
      ]
     },
     "execution_count": 7,
     "metadata": {},
     "output_type": "execute_result"
    }
   ],
   "source": [
    "overall_mean = np.mean(diets['weight_lost'])\n",
    "overall_mean"
   ]
  },
  {
   "cell_type": "markdown",
   "id": "9dfbd0b7",
   "metadata": {},
   "source": [
    "The next plot shows the data, the group means, and the overall mean:"
   ]
  },
  {
   "cell_type": "code",
   "execution_count": 8,
   "id": "a863a283",
   "metadata": {},
   "outputs": [
    {
     "data": {
      "image/png": "[encoded data removed]",
      "text/plain": [
       "<Figure size 432x288 with 1 Axes>"
      ]
     },
     "metadata": {
      "needs_background": "light"
     },
     "output_type": "display_data"
    }
   ],
   "source": [
    "diets.plot.scatter('diet', 'weight_lost',\n",
    "                         label='Data')\n",
    "plt.scatter(group_means.index, np.array(group_means), color='red',\n",
    "            label='Group means')\n",
    "# A dashed line at the overall mean.\n",
    "plt.plot(group_means.index,\n",
    "         [overall_mean, overall_mean, overall_mean],\n",
    "         ':', color='green',\n",
    "         label='Overall mean')\n",
    "# A dashed line between each group mean and the overall mean.\n",
    "for group in group_means.index:\n",
    "    xs = [group, group]\n",
    "    ys = [float(group_means.loc[group]), overall_mean]\n",
    "    plt.plot(xs, ys, ':', color='red')\n",
    "plt.legend();"
   ]
  },
  {
   "cell_type": "markdown",
   "id": "eff318fe",
   "metadata": {},
   "source": [
    "Notice the red dashed lines between the group means and the\n",
    "overall mean.  To make these easier to see, here is the same\n",
    "plot, without the individual data points:"
   ]
  },
  {
   "cell_type": "code",
   "execution_count": 9,
   "id": "5bbd659a",
   "metadata": {},
   "outputs": [
    {
     "data": {
      "image/png": "[encoded data removed]",
      "text/plain": [
       "<Figure size 432x288 with 1 Axes>"
      ]
     },
     "metadata": {
      "needs_background": "light"
     },
     "output_type": "display_data"
    }
   ],
   "source": [
    "plt.scatter(group_means.index, np.array(group_means), color='red',\n",
    "            label='Group means')\n",
    "# A dashed line at the overall mean.\n",
    "plt.plot(group_means.index,\n",
    "         [overall_mean, overall_mean, overall_mean],\n",
    "         ':', color='green',\n",
    "         label='Overall mean')\n",
    "# A dashed line between each group mean and the overall mean.\n",
    "for group in group_means.index:\n",
    "    xs = [group, group]\n",
    "    ys = [float(group_means.loc[group]), overall_mean]\n",
    "    plt.plot(xs, ys, ':', color='red')\n",
    "plt.legend();"
   ]
  },
  {
   "cell_type": "markdown",
   "id": "7d2b6414",
   "metadata": {},
   "source": [
    "We designed our SNSQGMD metric to be large when the sum of the squared lengths of\n",
    "these lines are large.  The N in  SNSQGMD reminds us we multiply each squared\n",
    "length by the number in the group, to give more weight to large groups.\n",
    "\n",
    "To calculate SNSQGMD we get the Group Mean Difference."
   ]
  },
  {
   "cell_type": "code",
   "execution_count": 10,
   "id": "0670d1d4",
   "metadata": {},
   "outputs": [
    {
     "data": {
      "text/html": [
       "<div>\n",
       "<style scoped>\n",
       "    .dataframe tbody tr th:only-of-type {\n",
       "        vertical-align: middle;\n",
       "    }\n",
       "\n",
       "    .dataframe tbody tr th {\n",
       "        vertical-align: top;\n",
       "    }\n",
       "\n",
       "    .dataframe thead th {\n",
       "        text-align: right;\n",
       "    }\n",
       "</style>\n",
       "<table border=\"1\" class=\"dataframe\">\n",
       "  <thead>\n",
       "    <tr style=\"text-align: right;\">\n",
       "      <th></th>\n",
       "      <th>weight_lost</th>\n",
       "    </tr>\n",
       "    <tr>\n",
       "      <th>diet</th>\n",
       "      <th></th>\n",
       "    </tr>\n",
       "  </thead>\n",
       "  <tbody>\n",
       "    <tr>\n",
       "      <th>A</th>\n",
       "      <td>-0.646053</td>\n",
       "    </tr>\n",
       "    <tr>\n",
       "      <th>B</th>\n",
       "      <td>-0.678053</td>\n",
       "    </tr>\n",
       "    <tr>\n",
       "      <th>C</th>\n",
       "      <td>1.202096</td>\n",
       "    </tr>\n",
       "  </tbody>\n",
       "</table>\n",
       "</div>"
      ],
      "text/plain": [
       "      weight_lost\n",
       "diet             \n",
       "A       -0.646053\n",
       "B       -0.678053\n",
       "C        1.202096"
      ]
     },
     "execution_count": 10,
     "metadata": {},
     "output_type": "execute_result"
    }
   ],
   "source": [
    "gmd = group_means - overall_mean\n",
    "gmd"
   ]
  },
  {
   "cell_type": "markdown",
   "id": "34e1f5e0",
   "metadata": {},
   "source": [
    "We square these differences:"
   ]
  },
  {
   "cell_type": "code",
   "execution_count": 11,
   "id": "86d1591f",
   "metadata": {},
   "outputs": [
    {
     "data": {
      "text/html": [
       "<div>\n",
       "<style scoped>\n",
       "    .dataframe tbody tr th:only-of-type {\n",
       "        vertical-align: middle;\n",
       "    }\n",
       "\n",
       "    .dataframe tbody tr th {\n",
       "        vertical-align: top;\n",
       "    }\n",
       "\n",
       "    .dataframe thead th {\n",
       "        text-align: right;\n",
       "    }\n",
       "</style>\n",
       "<table border=\"1\" class=\"dataframe\">\n",
       "  <thead>\n",
       "    <tr style=\"text-align: right;\">\n",
       "      <th></th>\n",
       "      <th>weight_lost</th>\n",
       "    </tr>\n",
       "    <tr>\n",
       "      <th>diet</th>\n",
       "      <th></th>\n",
       "    </tr>\n",
       "  </thead>\n",
       "  <tbody>\n",
       "    <tr>\n",
       "      <th>A</th>\n",
       "      <td>0.417384</td>\n",
       "    </tr>\n",
       "    <tr>\n",
       "      <th>B</th>\n",
       "      <td>0.459755</td>\n",
       "    </tr>\n",
       "    <tr>\n",
       "      <th>C</th>\n",
       "      <td>1.445034</td>\n",
       "    </tr>\n",
       "  </tbody>\n",
       "</table>\n",
       "</div>"
      ],
      "text/plain": [
       "      weight_lost\n",
       "diet             \n",
       "A        0.417384\n",
       "B        0.459755\n",
       "C        1.445034"
      ]
     },
     "execution_count": 11,
     "metadata": {},
     "output_type": "execute_result"
    }
   ],
   "source": [
    "sq_gmd = gmd ** 2\n",
    "sq_gmd"
   ]
  },
  {
   "cell_type": "markdown",
   "id": "59563b03",
   "metadata": {},
   "source": [
    "We want to give more weight to groups with more members, so we multiply each\n",
    "squared difference by the number in the group:"
   ]
  },
  {
   "cell_type": "code",
   "execution_count": 12,
   "id": "6afcc30b",
   "metadata": {},
   "outputs": [
    {
     "data": {
      "text/html": [
       "<div>\n",
       "<style scoped>\n",
       "    .dataframe tbody tr th:only-of-type {\n",
       "        vertical-align: middle;\n",
       "    }\n",
       "\n",
       "    .dataframe tbody tr th {\n",
       "        vertical-align: top;\n",
       "    }\n",
       "\n",
       "    .dataframe thead th {\n",
       "        text-align: right;\n",
       "    }\n",
       "</style>\n",
       "<table border=\"1\" class=\"dataframe\">\n",
       "  <thead>\n",
       "    <tr style=\"text-align: right;\">\n",
       "      <th></th>\n",
       "      <th>weight_lost</th>\n",
       "    </tr>\n",
       "    <tr>\n",
       "      <th>diet</th>\n",
       "      <th></th>\n",
       "    </tr>\n",
       "  </thead>\n",
       "  <tbody>\n",
       "    <tr>\n",
       "      <th>A</th>\n",
       "      <td>10.017216</td>\n",
       "    </tr>\n",
       "    <tr>\n",
       "      <th>B</th>\n",
       "      <td>11.493884</td>\n",
       "    </tr>\n",
       "    <tr>\n",
       "      <th>C</th>\n",
       "      <td>39.015908</td>\n",
       "    </tr>\n",
       "  </tbody>\n",
       "</table>\n",
       "</div>"
      ],
      "text/plain": [
       "      weight_lost\n",
       "diet             \n",
       "A       10.017216\n",
       "B       11.493884\n",
       "C       39.015908"
      ]
     },
     "execution_count": 12,
     "metadata": {},
     "output_type": "execute_result"
    }
   ],
   "source": [
    "n_sq_gmd = sq_gmd * group_ns\n",
    "n_sq_gmd"
   ]
  },
  {
   "cell_type": "markdown",
   "id": "6b0069c4",
   "metadata": {},
   "source": [
    "Finally, we add up these weighted squares to get the final metric:"
   ]
  },
  {
   "cell_type": "code",
   "execution_count": 13,
   "id": "2b945496",
   "metadata": {},
   "outputs": [
    {
     "data": {
      "text/plain": [
       "weight_lost    60.527008\n",
       "dtype: float64"
      ]
     },
     "execution_count": 13,
     "metadata": {},
     "output_type": "execute_result"
    }
   ],
   "source": [
    "observed_sn_sq_gmd = np.sum(n_sq_gmd)\n",
    "observed_sn_sq_gmd"
   ]
  },
  {
   "cell_type": "markdown",
   "id": "ec3d2d7c",
   "metadata": {},
   "source": [
    "To make the process a bit clearer, we put the calculation of our\n",
    "metric into its own function so we can re-use it on different data frames."
   ]
  },
  {
   "cell_type": "code",
   "execution_count": 14,
   "id": "a165a422",
   "metadata": {},
   "outputs": [],
   "source": [
    "def get_sn_sq_gmd(df, group_col, val_col):\n",
    "    overall_mean = np.mean(df[val_col])\n",
    "    grouped = df.groupby(group_col)[val_col]\n",
    "    sq_gmd = (grouped.mean() - overall_mean) ** 2\n",
    "    return np.sum(sq_gmd * grouped.count())"
   ]
  },
  {
   "cell_type": "markdown",
   "id": "7dcfe54e",
   "metadata": {},
   "source": [
    "Check that we get the same answer from the function as we did with the\n",
    "step-by-step calculation:"
   ]
  },
  {
   "cell_type": "code",
   "execution_count": 15,
   "id": "b74d75c8",
   "metadata": {},
   "outputs": [
    {
     "data": {
      "text/plain": [
       "60.52700838206624"
      ]
     },
     "execution_count": 15,
     "metadata": {},
     "output_type": "execute_result"
    }
   ],
   "source": [
    "get_sn_sq_gmd(diets, 'diet', 'weight_lost')"
   ]
  },
  {
   "cell_type": "markdown",
   "id": "a5e57831",
   "metadata": {},
   "source": [
    "Next we consider a single trial in our ideal, null, fake world.  We do this by\n",
    "making a copy of the data frame, and then permuting the diet labels, so\n",
    "the association between the diet and the change values is random."
   ]
  },
  {
   "cell_type": "code",
   "execution_count": 16,
   "id": "5c2c40b0",
   "metadata": {},
   "outputs": [
    {
     "data": {
      "text/html": [
       "<div>\n",
       "<style scoped>\n",
       "    .dataframe tbody tr th:only-of-type {\n",
       "        vertical-align: middle;\n",
       "    }\n",
       "\n",
       "    .dataframe tbody tr th {\n",
       "        vertical-align: top;\n",
       "    }\n",
       "\n",
       "    .dataframe thead th {\n",
       "        text-align: right;\n",
       "    }\n",
       "</style>\n",
       "<table border=\"1\" class=\"dataframe\">\n",
       "  <thead>\n",
       "    <tr style=\"text-align: right;\">\n",
       "      <th></th>\n",
       "      <th>diet</th>\n",
       "      <th>weight_lost</th>\n",
       "    </tr>\n",
       "  </thead>\n",
       "  <tbody>\n",
       "    <tr>\n",
       "      <th>0</th>\n",
       "      <td>B</td>\n",
       "      <td>3.8</td>\n",
       "    </tr>\n",
       "    <tr>\n",
       "      <th>1</th>\n",
       "      <td>A</td>\n",
       "      <td>6.0</td>\n",
       "    </tr>\n",
       "    <tr>\n",
       "      <th>2</th>\n",
       "      <td>B</td>\n",
       "      <td>0.7</td>\n",
       "    </tr>\n",
       "    <tr>\n",
       "      <th>3</th>\n",
       "      <td>C</td>\n",
       "      <td>2.9</td>\n",
       "    </tr>\n",
       "    <tr>\n",
       "      <th>4</th>\n",
       "      <td>C</td>\n",
       "      <td>2.8</td>\n",
       "    </tr>\n",
       "  </tbody>\n",
       "</table>\n",
       "</div>"
      ],
      "text/plain": [
       "  diet  weight_lost\n",
       "0    B          3.8\n",
       "1    A          6.0\n",
       "2    B          0.7\n",
       "3    C          2.9\n",
       "4    C          2.8"
      ]
     },
     "execution_count": 16,
     "metadata": {},
     "output_type": "execute_result"
    }
   ],
   "source": [
    "fake_data = diets.copy()\n",
    "# Permute the treatment labels\n",
    "fake_data['diet'] = np.random.permutation(fake_data['diet'])\n",
    "fake_data.head()"
   ]
  },
  {
   "cell_type": "markdown",
   "id": "034b8732",
   "metadata": {},
   "source": [
    "We calculate our metric on these new data, step by step."
   ]
  },
  {
   "cell_type": "code",
   "execution_count": 17,
   "id": "abf38427",
   "metadata": {},
   "outputs": [
    {
     "data": {
      "text/plain": [
       "37.09278615984402"
      ]
     },
     "execution_count": 17,
     "metadata": {},
     "output_type": "execute_result"
    }
   ],
   "source": [
    "fake_grouped = fake_data.groupby('diet')['weight_lost']\n",
    "# Notice that the overall_mean cannot change because we did not\n",
    "# change these values.\n",
    "fake_sq_gmd = (fake_grouped.mean() - overall_mean) ** 2\n",
    "fake_sn_sq_gmd = np.sum(fake_sq_gmd * fake_grouped.count())\n",
    "fake_sn_sq_gmd"
   ]
  },
  {
   "cell_type": "markdown",
   "id": "a1c8d8ac",
   "metadata": {},
   "source": [
    "We can also use the function above to do that calculation, and get the same\n",
    "answer:"
   ]
  },
  {
   "cell_type": "code",
   "execution_count": 18,
   "id": "9f341799",
   "metadata": {},
   "outputs": [
    {
     "data": {
      "text/plain": [
       "37.09278615984402"
      ]
     },
     "execution_count": 18,
     "metadata": {},
     "output_type": "execute_result"
    }
   ],
   "source": [
    "get_sn_sq_gmd(fake_data, 'diet', 'weight_lost')"
   ]
  },
  {
   "cell_type": "markdown",
   "id": "ab2e817a",
   "metadata": {},
   "source": [
    "Now we are ready to do our simulation.  We do 10000 trials. In each trial, we\n",
    "make a new random association, and recalculate the sum of squares metric."
   ]
  },
  {
   "cell_type": "code",
   "execution_count": 19,
   "id": "f9eea100",
   "metadata": {},
   "outputs": [],
   "source": [
    "n_iters = 10000\n",
    "fake_sn_sq_gmds = np.zeros(n_iters)\n",
    "for i in np.arange(n_iters):\n",
    "    # Make sample from null world.\n",
    "    fake_data['diet'] = np.random.permutation(fake_data['diet'])\n",
    "    # Calculate corresponding metric.\n",
    "    fake_sn_sq_gmds[i] = get_sn_sq_gmd(fake_data, 'diet', 'weight_lost')"
   ]
  },
  {
   "cell_type": "markdown",
   "id": "4a567507",
   "metadata": {},
   "source": [
    "Of course, because these are sums of squares, they must all be positive."
   ]
  },
  {
   "cell_type": "code",
   "execution_count": 20,
   "id": "f66fb7ad",
   "metadata": {},
   "outputs": [
    {
     "data": {
      "image/png": "[encoded data removed]",
      "text/plain": [
       "<Figure size 432x288 with 1 Axes>"
      ]
     },
     "metadata": {
      "needs_background": "light"
     },
     "output_type": "display_data"
    }
   ],
   "source": [
    "plt.hist(fake_sn_sq_gmds, bins=100);"
   ]
  },
  {
   "cell_type": "markdown",
   "id": "036b9f61",
   "metadata": {},
   "source": [
    "How does our observed sum of squares metric compare to the distribution of fake\n",
    "sum of square metrics?"
   ]
  },
  {
   "cell_type": "code",
   "execution_count": 21,
   "id": "dbcb26b1",
   "metadata": {},
   "outputs": [
    {
     "data": {
      "text/plain": [
       "0.0076"
      ]
     },
     "execution_count": 21,
     "metadata": {},
     "output_type": "execute_result"
    }
   ],
   "source": [
    "p = np.count_nonzero(fake_sn_sq_gmds >= float(observed_sn_sq_gmd)) / n_iters\n",
    "p"
   ]
  },
  {
   "cell_type": "markdown",
   "id": "76129016",
   "metadata": {},
   "source": [
    "The p value tells us that this observed metric is very unlikely to have come\n",
    "about in a random world.\n"
   ]
  },
  {
   "cell_type": "markdown",
   "id": "5702cc7e",
   "metadata": {},
   "source": [
    "## Comparing to standard one-way ANOVA F tests\n",
    "\n",
    "In this section, we do the standard F-test calculations to show that we get a\n",
    "similar p value to the permutation version above.  This is the Statsmodels\n",
    "implementation of the one-way F test:"
   ]
  },
  {
   "cell_type": "code",
   "execution_count": 22,
   "id": "7326c0ea",
   "metadata": {},
   "outputs": [
    {
     "data": {
      "text/html": [
       "<div>\n",
       "<style scoped>\n",
       "    .dataframe tbody tr th:only-of-type {\n",
       "        vertical-align: middle;\n",
       "    }\n",
       "\n",
       "    .dataframe tbody tr th {\n",
       "        vertical-align: top;\n",
       "    }\n",
       "\n",
       "    .dataframe thead th {\n",
       "        text-align: right;\n",
       "    }\n",
       "</style>\n",
       "<table border=\"1\" class=\"dataframe\">\n",
       "  <thead>\n",
       "    <tr style=\"text-align: right;\">\n",
       "      <th></th>\n",
       "      <th>df</th>\n",
       "      <th>sum_sq</th>\n",
       "      <th>mean_sq</th>\n",
       "      <th>F</th>\n",
       "      <th>PR(&gt;F)</th>\n",
       "    </tr>\n",
       "  </thead>\n",
       "  <tbody>\n",
       "    <tr>\n",
       "      <th>diet</th>\n",
       "      <td>2.0</td>\n",
       "      <td>60.527008</td>\n",
       "      <td>30.263504</td>\n",
       "      <td>5.383104</td>\n",
       "      <td>0.006596</td>\n",
       "    </tr>\n",
       "    <tr>\n",
       "      <th>Residual</th>\n",
       "      <td>73.0</td>\n",
       "      <td>410.401807</td>\n",
       "      <td>5.621943</td>\n",
       "      <td>NaN</td>\n",
       "      <td>NaN</td>\n",
       "    </tr>\n",
       "  </tbody>\n",
       "</table>\n",
       "</div>"
      ],
      "text/plain": [
       "            df      sum_sq    mean_sq         F    PR(>F)\n",
       "diet       2.0   60.527008  30.263504  5.383104  0.006596\n",
       "Residual  73.0  410.401807   5.621943       NaN       NaN"
      ]
     },
     "execution_count": 22,
     "metadata": {},
     "output_type": "execute_result"
    }
   ],
   "source": [
    "import statsmodels.api as sm\n",
    "import statsmodels.formula.api as smf\n",
    "\n",
    "mod = smf.ols('weight_lost ~ diet', data=diets).fit()\n",
    "\n",
    "sm.stats.anova_lm(mod, typ=1)"
   ]
  },
  {
   "cell_type": "markdown",
   "id": "1c316e1c",
   "metadata": {},
   "source": [
    "Notice that the SNSQGMD metric value appears in the `diet` row, `sum_sq` column."
   ]
  },
  {
   "cell_type": "markdown",
   "id": "47bbf33d",
   "metadata": {},
   "source": [
    "Here is the same calculation in Scipy:"
   ]
  },
  {
   "cell_type": "code",
   "execution_count": 23,
   "id": "4eec1bf4",
   "metadata": {},
   "outputs": [],
   "source": [
    "from scipy.stats import f_oneway"
   ]
  },
  {
   "cell_type": "code",
   "execution_count": 24,
   "id": "87589bd6",
   "metadata": {},
   "outputs": [],
   "source": [
    "# Get the values from the individual groups.\n",
    "treatment = diets['diet']\n",
    "change = diets['weight_lost']\n",
    "diet_a_values = np.array(change[treatment == 'A'])\n",
    "diet_b_values = np.array(change[treatment == 'B'])\n",
    "diet_c_values = np.array(change[treatment == 'C'])"
   ]
  },
  {
   "cell_type": "markdown",
   "id": "515c9c88",
   "metadata": {},
   "source": [
    "Do the F-test:"
   ]
  },
  {
   "cell_type": "code",
   "execution_count": 25,
   "id": "b263f034",
   "metadata": {
    "lines_to_next_cell": 2
   },
   "outputs": [
    {
     "data": {
      "text/plain": [
       "F_onewayResult(statistic=5.383104474859932, pvalue=0.0065958531086696805)"
      ]
     },
     "execution_count": 25,
     "metadata": {},
     "output_type": "execute_result"
    }
   ],
   "source": [
    "f_result = f_oneway(diet_a_values, diet_b_values, diet_c_values)\n",
    "f_result"
   ]
  },
  {
   "cell_type": "markdown",
   "id": "c146e7c5",
   "metadata": {},
   "source": [
    "Notice Scipy gives the same F statistic value and p value as Statsmodels."
   ]
  },
  {
   "cell_type": "markdown",
   "id": "930de2bb",
   "metadata": {},
   "source": [
    "## The F statistic and the SNSQGMD metric\n",
    "\n",
    "In this section, we go into more detail about the calculation of the F value\n",
    "that you see above.  Here is the F statistic we got from Scipy (and\n",
    "Statsmodels):"
   ]
  },
  {
   "cell_type": "code",
   "execution_count": 26,
   "id": "0df50ee2",
   "metadata": {},
   "outputs": [
    {
     "data": {
      "text/plain": [
       "5.383104474859932"
      ]
     },
     "execution_count": 26,
     "metadata": {},
     "output_type": "execute_result"
    }
   ],
   "source": [
    "F_stat = f_result.statistic\n",
    "F_stat"
   ]
  },
  {
   "cell_type": "markdown",
   "id": "3e9c9ea3",
   "metadata": {},
   "source": [
    "This section goes through the calculation of the F statistic from the SNSQGMD\n",
    "metric.  This is the SNSQGMD value we calculated:"
   ]
  },
  {
   "cell_type": "code",
   "execution_count": 27,
   "id": "59eedf89",
   "metadata": {},
   "outputs": [
    {
     "data": {
      "text/plain": [
       "weight_lost    60.527008\n",
       "dtype: float64"
      ]
     },
     "execution_count": 27,
     "metadata": {},
     "output_type": "execute_result"
    }
   ],
   "source": [
    "observed_sn_sq_gmd"
   ]
  },
  {
   "cell_type": "markdown",
   "id": "1940f75c",
   "metadata": {},
   "source": [
    "You can get the F statistic above by dividing the SNSQGMD metric by a scaled\n",
    "estimate of the variation still present in the data.\n",
    "\n",
    "The variation still present in the data are the remaining distances between the\n",
    "data (in the plot above) and their corresponding group means.  Call these\n",
    "remaining distances the \"residuals\"."
   ]
  },
  {
   "cell_type": "markdown",
   "id": "2597f28b",
   "metadata": {},
   "source": [
    "Subtract each group mean from their respective group values:"
   ]
  },
  {
   "cell_type": "code",
   "execution_count": 28,
   "id": "5bd833a3",
   "metadata": {},
   "outputs": [],
   "source": [
    "# Calculate the residuals from the group means.\n",
    "diet_a_resid = diet_a_values - np.mean(diet_a_values)\n",
    "diet_b_resid = diet_b_values - np.mean(diet_b_values)\n",
    "diet_c_resid = diet_c_values - np.mean(diet_c_values)"
   ]
  },
  {
   "cell_type": "markdown",
   "id": "c34b1eeb",
   "metadata": {},
   "source": [
    "Finally, we sum up the squares of these residuals:"
   ]
  },
  {
   "cell_type": "code",
   "execution_count": 29,
   "id": "405592bb",
   "metadata": {},
   "outputs": [
    {
     "data": {
      "text/plain": [
       "410.4018074074074"
      ]
     },
     "execution_count": 29,
     "metadata": {},
     "output_type": "execute_result"
    }
   ],
   "source": [
    "# We concatenate the three sets of residuals into one long array.\n",
    "all_group_resid = np.concatenate(\n",
    "    [diet_a_resid, diet_b_resid, diet_c_resid])\n",
    "# Sum of squared residuals from group means.\n",
    "ssq_resid_groups = np.sum(all_group_resid ** 2)\n",
    "ssq_resid_groups"
   ]
  },
  {
   "cell_type": "markdown",
   "id": "1a6e0ab8",
   "metadata": {},
   "source": [
    "You will see this value in the `Residual` row, `sum_sq` column of the Statsmodels output above."
   ]
  },
  {
   "cell_type": "markdown",
   "id": "b4775fe9",
   "metadata": {},
   "source": [
    "The F-statistic results from dividing this measure of remaining variation into\n",
    "the SNSQGMD metric, with some scaling.  The scaling comes from the number of\n",
    "observations, and the number of groups."
   ]
  },
  {
   "cell_type": "code",
   "execution_count": 30,
   "id": "6b03ad18",
   "metadata": {},
   "outputs": [],
   "source": [
    "n_obs = len(diets)\n",
    "n_groups = len(group_means)"
   ]
  },
  {
   "cell_type": "markdown",
   "id": "5081dbea",
   "metadata": {},
   "source": [
    "Here is the full calculation of the F-statistic. Notice that it is exactly the\n",
    "same as we got from Scipy and Statsmodels."
   ]
  },
  {
   "cell_type": "code",
   "execution_count": 31,
   "id": "3c8a91db",
   "metadata": {},
   "outputs": [
    {
     "data": {
      "text/plain": [
       "weight_lost    5.383104\n",
       "dtype: float64"
      ]
     },
     "execution_count": 31,
     "metadata": {},
     "output_type": "execute_result"
    }
   ],
   "source": [
    "# Calculate of the F value by scaling and dividing by residual variation\n",
    "# metric.\n",
    "df_groups = n_groups - 1  # Degrees of freedom for groups.\n",
    "df_error = n_obs - n_groups  # Degrees of freedom for residuals.\n",
    "# The F statistic\n",
    "(observed_sn_sq_gmd / df_groups) / (ssq_resid_groups / df_error)"
   ]
  },
  {
   "cell_type": "markdown",
   "id": "f81ca903",
   "metadata": {},
   "source": [
    "Scaling and dividing by the residual variation gives a value that we can reason\n",
    "about with some standard mathematics, as long as we are prepared to assume that\n",
    "the values come from a normal distribution.  Specifically, with those\n",
    "assumptions, we can get a p value by comparing the observed F value to a\n",
    "standard F distribution with the same \"degrees of freedom\".  These are the\n",
    "`df_groups` and `df_error` values above."
   ]
  },
  {
   "cell_type": "code",
   "execution_count": 32,
   "id": "d041dbda",
   "metadata": {},
   "outputs": [
    {
     "data": {
      "text/plain": [
       "0.0065958531086696805"
      ]
     },
     "execution_count": 32,
     "metadata": {},
     "output_type": "execute_result"
    }
   ],
   "source": [
    "# Get standard F distribution object from Scipy.\n",
    "from scipy.stats import f as f_dist\n",
    "\n",
    "# Look up p value for a particular F statistic and degrees of freedom.\n",
    "# Notice the p value is the same as the p value from Scipy f_oneway\n",
    "# and from Statsmodels.\n",
    "f_dist(df_groups, df_error).sf(F_stat)"
   ]
  },
  {
   "cell_type": "markdown",
   "id": "3d59cf25",
   "metadata": {},
   "source": [
    "As you have seen, the permutation estimate gives a very similar answer.  We\n",
    "would argue that it is also a lot easier to explain."
   ]
  },
  {
   "cell_type": "markdown",
   "id": "29bfbdda",
   "metadata": {},
   "source": [
    "## F tests in terms of explained variation\n",
    "\n",
    "You will often see explanations of the F-value in terms of the amount of\n",
    "variation explained by the overall mean, compared to the amount of variation\n",
    "explained with the individual group means.  In fact, this \"variance\" way of\n",
    "thinking is what gave the test the name ANOVA (Analysis of Variance).\n",
    "\n",
    "The explained variation path (literally) adds up to the same thing as the\n",
    "SNSQGMD metric version of the F statistic above.  The current section goes\n",
    "through the explained variation way of thinking of the F statistic, and shows\n",
    "that it gives the same value for the SNSQGMD metric.\n",
    "\n",
    "The \"variance\" way of thinking about the F looks at the sum of squared\n",
    "\"residual\" variation in two situations.  First we get the residual variation\n",
    "when we subtract the group means.  We already have this from the F test\n",
    "calculation above.  Here we repeat the calculation as a reminder of what the\n",
    "value means:"
   ]
  },
  {
   "cell_type": "code",
   "execution_count": 33,
   "id": "e35c11f9",
   "metadata": {},
   "outputs": [
    {
     "data": {
      "text/plain": [
       "410.4018074074074"
      ]
     },
     "execution_count": 33,
     "metadata": {},
     "output_type": "execute_result"
    }
   ],
   "source": [
    "ssq_resid_groups = np.sum(all_group_resid ** 2)\n",
    "ssq_resid_groups"
   ]
  },
  {
   "cell_type": "markdown",
   "id": "58e35695",
   "metadata": {},
   "source": [
    "This is the sum of squared remaining variation when using the group means.\n",
    "\n",
    "We compare this to the squared remaining variation when just using the overall\n",
    "mean.  Here is that calculation."
   ]
  },
  {
   "cell_type": "code",
   "execution_count": 34,
   "id": "83313bbc",
   "metadata": {},
   "outputs": [
    {
     "data": {
      "text/plain": [
       "470.9288157894737"
      ]
     },
     "execution_count": 34,
     "metadata": {},
     "output_type": "execute_result"
    }
   ],
   "source": [
    "# Sum of squared residuals using overall mean\n",
    "# Subtract the overall mean from the original values to get residuals.\n",
    "resid_overall = diets['weight_lost'] - overall_mean\n",
    "# Square and sum the residuals to get the squared variation from overall mean.\n",
    "ssq_resid_overall = np.sum(resid_overall ** 2)\n",
    "ssq_resid_overall"
   ]
  },
  {
   "cell_type": "markdown",
   "id": "0ec22257",
   "metadata": {},
   "source": [
    "The variance way of thinking says that we should be particularly interested in\n",
    "our group means, when using them does a very good job of reducing the\n",
    "variation.  This will happen when the group values are a lot closer to their\n",
    "individual group means, than they are to the overall mean.  In that case,\n",
    "`ssq_resid_groups` will be much lower than `ssq_resid_overall`, so we will get\n",
    "a fairly high value for `ssq_resid_overall - ssq_resid_groups`.  The result of\n",
    "this subtraction is called the *extra sum of squares* explained by the sample\n",
    "means:"
   ]
  },
  {
   "cell_type": "code",
   "execution_count": 35,
   "id": "342c6875",
   "metadata": {},
   "outputs": [
    {
     "data": {
      "text/plain": [
       "60.5270083820663"
      ]
     },
     "execution_count": 35,
     "metadata": {},
     "output_type": "execute_result"
    }
   ],
   "source": [
    "ess = ssq_resid_overall - ssq_resid_groups\n",
    "ess"
   ]
  },
  {
   "cell_type": "markdown",
   "id": "23b48448",
   "metadata": {},
   "source": [
    "Remember, `ssq_resid_overall` is the (sum of squared) variation remaining after\n",
    "accounting for the overall mean, and `ssq_resid_groups` is the (sum of squared)\n",
    "variation remaining after accounting for the sample means, so `ess` is the\n",
    "*extra* variation accounted for by using the sample means.\n",
    "\n",
    "But — wait — the `ess` value is *exactly* the same as the SNSQGMD metric we\n",
    "were already using!"
   ]
  },
  {
   "cell_type": "code",
   "execution_count": 36,
   "id": "884b19ba",
   "metadata": {},
   "outputs": [
    {
     "data": {
      "text/plain": [
       "weight_lost    60.527008\n",
       "dtype: float64"
      ]
     },
     "execution_count": 36,
     "metadata": {},
     "output_type": "execute_result"
    }
   ],
   "source": [
    "observed_sn_sq_gmd"
   ]
  },
  {
   "cell_type": "markdown",
   "id": "be8c63b8",
   "metadata": {},
   "source": [
    "This striking fact is true for any possible values and groups, and arises from\n",
    "the algebra of adding squared deviations from means.  The equivalence gives us\n",
    "two different ways of thinking of the same SNSQGMD metric value.  The SNSQGMD\n",
    "value is both:\n",
    "\n",
    "* A measure of how far the sample means are from the overall mean, AND\n",
    "* A measure of how much variation the sample means explain, over and above the\n",
    "  overall mean.\n",
    "\n",
    "In this second \"explained variance\" interpretation, we think of the F test\n",
    "calculation as being a scaled ratio of the extra variance explained by the\n",
    "sample means to the variance still remaining when we use the sample means.  If\n",
    "the sample means explain a lot of variation, then the top half of the F\n",
    "statistic will be large, and the bottom half will be small, giving a large F\n",
    "value."
   ]
  }
 ],
 "metadata": {
  "jupytext": {
   "notebook_metadata_filter": "all,-language_info",
   "split_at_heading": true
  },
  "kernelspec": {
   "display_name": "Python 3",
   "language": "python",
   "name": "python3"
  },
  "language_info": {
   "codemirror_mode": {
    "name": "ipython",
    "version": 3
   },
   "file_extension": ".py",
   "mimetype": "text/x-python",
   "name": "python",
   "nbconvert_exporter": "python",
   "pygments_lexer": "ipython3",
   "version": "3.8.11"
  }
 },
 "nbformat": 4,
 "nbformat_minor": 5
}
