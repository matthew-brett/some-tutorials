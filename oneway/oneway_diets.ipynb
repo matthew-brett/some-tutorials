{
 "cells": [
  {
   "cell_type": "markdown",
   "id": "a87add32",
   "metadata": {},
   "source": [
    "# One-way ANOVA\n",
    "\n",
    "Imagine you have three groups, and you want to do a one-level ANOVA to test for\n",
    "overall differences across the groups.\n",
    "\n",
    "The general technique for a permutation test is:\n",
    "\n",
    "* You decide on your metric\n",
    "* You get your metric for the actual data - observed metric\n",
    "* You permute your data and take the same metric from the permuted data, and\n",
    "  repeat many times - fake metrics\n",
    "* You compare your observed metric to your fake metrics, to see how unusual it\n",
    "  is.\n",
    "\n",
    "For a two-sample permutation test, your metric is the difference in the two\n",
    "sample means.\n",
    "\n",
    "For a three sample version of the test — we need a metric that will be big\n",
    "where there are big differences between the three groups, and small when there\n",
    "are small differences.\n",
    "\n",
    "Let us reflect on what what we want from the metric.  It should be a single\n",
    "number to summarize all the values from the groups. It should be be large for\n",
    "big differences between the means for the various groups.  It should be larger\n",
    "when more observations are in the groups with large difference in means.\n",
    "\n",
    "Consider the following metric.  We will soon see this is the metric that the F-test uses.\n",
    "\n",
    "* Get the sample means for each of the three groups A, B, C, to give `mean_a`,\n",
    "  `mean_b`, `mean_c`\n",
    "* Get the mean across all the observations regardless of group\n",
    "  (`mean_overall`)\n",
    "* Subtract `mean_overall` from each of `mean_a`, `mean_b`, `mean_c` to give\n",
    "  `mean_a_diff`, `mean_b_diff`, `mean_c_diff`.\n",
    "* We are interested in positive as well as negative differences, so we do not\n",
    "  want to add these mean differences, otherwise the positive and negative means\n",
    "  differences will cancel out. So we next square the differences to give:\n",
    "  `sq_mean_a_diff`, `sq_mean_b_diff`, `sq_mean_c_diff`.\n",
    "* We want larger groups to have greater weight than small groups.  Call the\n",
    "  number in groups A, B, and C `n_a`, `n_b`, `n_c`. To weight the squared mean\n",
    "  differences we multiply each square mean difference by the number in each\n",
    "  group: `sq_mean_a_diff * n_a`, `sq_mean_b_diff * n_b`, `sq_mean_c_diff *\n",
    "  n_c`, to give `nsq_mean_a_diff`, `nsq_mean_b_diff`, `nsq_mean_c_diff`.\n",
    "*   Finally, we add up the group `nsq` scores to give our metric:\n",
    "\n",
    "    ```\n",
    "    our_metric = nsq_mean_a_diff + nsq_mean_b_diff + nsq_mean_c_diff\n",
    "    ```\n",
    "\n",
    "We will call this the SNSQGMD metric (Sum of N times SQuared Group Mean\n",
    "Difference).\n",
    "\n",
    "SNSQGMD will be large and positive when the individual groups have different\n",
    "means from each other and small when the means for the groups are pretty\n",
    "similar to each other, and therefore, to the overall mean.  It will be larger\n",
    "when larger groups have means with bigger deviations from the overall mean.\n",
    "\n",
    "To follow the recipe above, we calculate SNSQGMD for the actual groups A, B, C.\n",
    "Permute the group labels to give random groups A, B, C, and recalculate the\n",
    "metric.   See whether SNSQGMD in the real data is unusual in the distribution of\n",
    "the same metric for the permuted groups.\n",
    "\n",
    "This is the permutation equivalent of the one-way ANOVA.   The one-way ANOVA\n",
    "just uses some assumptions from the normal distribution to estimate the spread\n",
    "in the random distribution of SNSQGMD, instead of using permutation to calculate\n",
    "the random distribution.\n"
   ]
  },
  {
   "cell_type": "markdown",
   "id": "5a65e1d4",
   "metadata": {},
   "source": [
    "## An example"
   ]
  },
  {
   "cell_type": "code",
   "execution_count": 1,
   "id": "d87f6fca",
   "metadata": {},
   "outputs": [],
   "source": [
    "import numpy as np\n",
    "import pandas as pd\n",
    "import matplotlib.pyplot as plt"
   ]
  },
  {
   "cell_type": "markdown",
   "id": "779b27e2",
   "metadata": {},
   "source": [
    "Our dataset is a table giving the amount of weight lost for a group of people allocated to one of three possible diets, called `A`, `B` and `C`.\n",
    "\n",
    "See: [the dataset page](https://github.com/odsti/datasets/tree/master/sheffield_diet) for more detail."
   ]
  },
  {
   "cell_type": "code",
   "execution_count": 2,
   "id": "159995e8",
   "metadata": {},
   "outputs": [
    {
     "data": {
      "text/html": [
       "<div>\n",
       "<style scoped>\n",
       "    .dataframe tbody tr th:only-of-type {\n",
       "        vertical-align: middle;\n",
       "    }\n",
       "\n",
       "    .dataframe tbody tr th {\n",
       "        vertical-align: top;\n",
       "    }\n",
       "\n",
       "    .dataframe thead th {\n",
       "        text-align: right;\n",
       "    }\n",
       "</style>\n",
       "<table border=\"1\" class=\"dataframe\">\n",
       "  <thead>\n",
       "    <tr style=\"text-align: right;\">\n",
       "      <th></th>\n",
       "      <th>gender</th>\n",
       "      <th>diet</th>\n",
       "      <th>weight_lost</th>\n",
       "    </tr>\n",
       "  </thead>\n",
       "  <tbody>\n",
       "    <tr>\n",
       "      <th>0</th>\n",
       "      <td>Female</td>\n",
       "      <td>A</td>\n",
       "      <td>3.8</td>\n",
       "    </tr>\n",
       "    <tr>\n",
       "      <th>1</th>\n",
       "      <td>Female</td>\n",
       "      <td>A</td>\n",
       "      <td>6.0</td>\n",
       "    </tr>\n",
       "    <tr>\n",
       "      <th>2</th>\n",
       "      <td>Female</td>\n",
       "      <td>A</td>\n",
       "      <td>0.7</td>\n",
       "    </tr>\n",
       "    <tr>\n",
       "      <th>3</th>\n",
       "      <td>Female</td>\n",
       "      <td>A</td>\n",
       "      <td>2.9</td>\n",
       "    </tr>\n",
       "    <tr>\n",
       "      <th>4</th>\n",
       "      <td>Female</td>\n",
       "      <td>A</td>\n",
       "      <td>2.8</td>\n",
       "    </tr>\n",
       "  </tbody>\n",
       "</table>\n",
       "</div>"
      ],
      "text/plain": [
       "   gender diet  weight_lost\n",
       "0  Female    A          3.8\n",
       "1  Female    A          6.0\n",
       "2  Female    A          0.7\n",
       "3  Female    A          2.9\n",
       "4  Female    A          2.8"
      ]
     },
     "execution_count": 2,
     "metadata": {},
     "output_type": "execute_result"
    }
   ],
   "source": [
    "# Read the raw dataset\n",
    "diet_data = pd.read_csv('sheffield_diet.csv')\n",
    "diet_data.head()"
   ]
  },
  {
   "cell_type": "markdown",
   "id": "3f0e20d7",
   "metadata": {},
   "source": [
    "Here we are only interested in the last two columns:"
   ]
  },
  {
   "cell_type": "code",
   "execution_count": 3,
   "id": "d628d133",
   "metadata": {},
   "outputs": [
    {
     "data": {
      "text/html": [
       "<div>\n",
       "<style scoped>\n",
       "    .dataframe tbody tr th:only-of-type {\n",
       "        vertical-align: middle;\n",
       "    }\n",
       "\n",
       "    .dataframe tbody tr th {\n",
       "        vertical-align: top;\n",
       "    }\n",
       "\n",
       "    .dataframe thead th {\n",
       "        text-align: right;\n",
       "    }\n",
       "</style>\n",
       "<table border=\"1\" class=\"dataframe\">\n",
       "  <thead>\n",
       "    <tr style=\"text-align: right;\">\n",
       "      <th></th>\n",
       "      <th>diet</th>\n",
       "      <th>weight_lost</th>\n",
       "    </tr>\n",
       "  </thead>\n",
       "  <tbody>\n",
       "    <tr>\n",
       "      <th>0</th>\n",
       "      <td>A</td>\n",
       "      <td>3.8</td>\n",
       "    </tr>\n",
       "    <tr>\n",
       "      <th>1</th>\n",
       "      <td>A</td>\n",
       "      <td>6.0</td>\n",
       "    </tr>\n",
       "    <tr>\n",
       "      <th>2</th>\n",
       "      <td>A</td>\n",
       "      <td>0.7</td>\n",
       "    </tr>\n",
       "    <tr>\n",
       "      <th>3</th>\n",
       "      <td>A</td>\n",
       "      <td>2.9</td>\n",
       "    </tr>\n",
       "    <tr>\n",
       "      <th>4</th>\n",
       "      <td>A</td>\n",
       "      <td>2.8</td>\n",
       "    </tr>\n",
       "  </tbody>\n",
       "</table>\n",
       "</div>"
      ],
      "text/plain": [
       "  diet  weight_lost\n",
       "0    A          3.8\n",
       "1    A          6.0\n",
       "2    A          0.7\n",
       "3    A          2.9\n",
       "4    A          2.8"
      ]
     },
     "execution_count": 3,
     "metadata": {},
     "output_type": "execute_result"
    }
   ],
   "source": [
    "diets = diet_data.loc[:, ['diet', 'weight_lost']]\n",
    "diets.head()"
   ]
  },
  {
   "cell_type": "markdown",
   "id": "7cdf6490",
   "metadata": {},
   "source": [
    "Each row corresponds to one person. The `diet` column names the diet to which\n",
    "that person was allocated.  The `weight_lost` column has the number of\n",
    "kilograms weight lost by that person after 10 weeks of following the diet.\n",
    "\n",
    "We are interested to know if the diets `A`, `B` and `C` differ overall in the\n",
    "amount of weight loss for people on that diet.\n",
    "\n",
    "We call the allocated diet the *group* to which the person\n",
    "(row) belongs.\n"
   ]
  },
  {
   "cell_type": "markdown",
   "id": "d3cfa950",
   "metadata": {},
   "source": [
    "## Means by group\n",
    "\n",
    "Here are the data, plotted by group."
   ]
  },
  {
   "cell_type": "code",
   "execution_count": 4,
   "id": "84fb6721",
   "metadata": {},
   "outputs": [
    {
     "data": {
      "image/png": "[encoded data removed]",
      "text/plain": [
       "<Figure size 432x288 with 1 Axes>"
      ]
     },
     "metadata": {
      "needs_background": "light"
     },
     "output_type": "display_data"
    }
   ],
   "source": [
    "diets.plot.scatter('diet', 'weight_lost');"
   ]
  },
  {
   "cell_type": "markdown",
   "id": "3c970ca7",
   "metadata": {},
   "source": [
    "These are the means for each of the three groups."
   ]
  },
  {
   "cell_type": "code",
   "execution_count": 5,
   "id": "f816f315",
   "metadata": {},
   "outputs": [
    {
     "data": {
      "text/html": [
       "<div>\n",
       "<style scoped>\n",
       "    .dataframe tbody tr th:only-of-type {\n",
       "        vertical-align: middle;\n",
       "    }\n",
       "\n",
       "    .dataframe tbody tr th {\n",
       "        vertical-align: top;\n",
       "    }\n",
       "\n",
       "    .dataframe thead th {\n",
       "        text-align: right;\n",
       "    }\n",
       "</style>\n",
       "<table border=\"1\" class=\"dataframe\">\n",
       "  <thead>\n",
       "    <tr style=\"text-align: right;\">\n",
       "      <th></th>\n",
       "      <th>weight_lost</th>\n",
       "    </tr>\n",
       "    <tr>\n",
       "      <th>diet</th>\n",
       "      <th></th>\n",
       "    </tr>\n",
       "  </thead>\n",
       "  <tbody>\n",
       "    <tr>\n",
       "      <th>A</th>\n",
       "      <td>3.300000</td>\n",
       "    </tr>\n",
       "    <tr>\n",
       "      <th>B</th>\n",
       "      <td>3.268000</td>\n",
       "    </tr>\n",
       "    <tr>\n",
       "      <th>C</th>\n",
       "      <td>5.148148</td>\n",
       "    </tr>\n",
       "  </tbody>\n",
       "</table>\n",
       "</div>"
      ],
      "text/plain": [
       "      weight_lost\n",
       "diet             \n",
       "A        3.300000\n",
       "B        3.268000\n",
       "C        5.148148"
      ]
     },
     "execution_count": 5,
     "metadata": {},
     "output_type": "execute_result"
    }
   ],
   "source": [
    "group_means = diets.groupby('diet').mean()\n",
    "group_means"
   ]
  },
  {
   "cell_type": "markdown",
   "id": "76783478",
   "metadata": {},
   "source": [
    "Here is the overall mean, ignoring the group membership:"
   ]
  },
  {
   "cell_type": "code",
   "execution_count": 6,
   "id": "2351ce19",
   "metadata": {},
   "outputs": [
    {
     "data": {
      "text/plain": [
       "3.9460526315789486"
      ]
     },
     "execution_count": 6,
     "metadata": {},
     "output_type": "execute_result"
    }
   ],
   "source": [
    "overall_mean = np.mean(diets['weight_lost'])\n",
    "overall_mean"
   ]
  },
  {
   "cell_type": "markdown",
   "id": "bb397815",
   "metadata": {},
   "source": [
    "The next collection of cells shows the data, the group means, and the overall mean:"
   ]
  },
  {
   "cell_type": "code",
   "execution_count": 7,
   "id": "7c6cb1d3",
   "metadata": {},
   "outputs": [],
   "source": [
    "# Function to show the group and overall mean\n",
    "def plot_mean_diffs(df, group_col, val_col):\n",
    "    # Get the overall mean\n",
    "    mean_all = np.mean(df[val_col])\n",
    "    # Get the means by group.\n",
    "    means_grp = df.groupby(group_col)[val_col].mean()\n",
    "    # Group names\n",
    "    grp_names = df[group_col].unique()\n",
    "    n_groups = len(grp_names)\n",
    "    # Plot red dots at group means.\n",
    "    plt.scatter(grp_names, means_grp, color='red', label='Group means')\n",
    "    # Plot green dashed line at the overall mean.\n",
    "    plt.plot(grp_names, np.repeat(mean_all, n_groups),\n",
    "             ':', color='green', label='Overall mean')\n",
    "    # A red dashed line between each group mean and the overall mean.\n",
    "    for grp_name in grp_names:\n",
    "        xs = [grp_name, grp_name]\n",
    "        ys = [mean_all, float(means_grp.loc[grp_name])]\n",
    "        plt.plot(xs, ys, ':', color='red')\n",
    "    plt.legend();"
   ]
  },
  {
   "cell_type": "code",
   "execution_count": 8,
   "id": "a9ce4b37",
   "metadata": {},
   "outputs": [
    {
     "data": {
      "image/png": "[encoded data removed]",
      "text/plain": [
       "<Figure size 432x288 with 1 Axes>"
      ]
     },
     "metadata": {
      "needs_background": "light"
     },
     "output_type": "display_data"
    }
   ],
   "source": [
    "# Show all the data values by diet.\n",
    "diets.plot.scatter('diet', 'weight_lost')\n",
    "# Show the group means and overall mean.\n",
    "plot_mean_diffs(diets, 'diet', 'weight_lost')"
   ]
  },
  {
   "cell_type": "markdown",
   "id": "23258af1",
   "metadata": {},
   "source": [
    "Notice the red dashed lines between the group means and the\n",
    "overall mean.  To make these easier to see, here is the same\n",
    "plot, without the individual data points:"
   ]
  },
  {
   "cell_type": "code",
   "execution_count": 9,
   "id": "867ce9d5",
   "metadata": {},
   "outputs": [
    {
     "data": {
      "image/png": "[encoded data removed]",
      "text/plain": [
       "<Figure size 432x288 with 1 Axes>"
      ]
     },
     "metadata": {
      "needs_background": "light"
     },
     "output_type": "display_data"
    }
   ],
   "source": [
    "plot_mean_diffs(diets, 'diet', 'weight_lost')"
   ]
  },
  {
   "cell_type": "markdown",
   "id": "4356f7f8",
   "metadata": {},
   "source": [
    "## Removing the overall mean"
   ]
  },
  {
   "cell_type": "markdown",
   "id": "b2a08ac9",
   "metadata": {},
   "source": [
    "The first step in analysis is to subtract the overall mean from the data.  We do this because we are interested in the *difference* of the diet (group) means from the overall mean.\n",
    "\n",
    "Put another way, we accept that diets, overall, will lead to some level of weight lost; our question is whether this level *differs* between the diets.\n",
    "\n",
    "By removing the overall mean, we remove the average effect of the three diets, allowing us to concentrate on the difference in effect."
   ]
  },
  {
   "cell_type": "code",
   "execution_count": 10,
   "id": "347051f7",
   "metadata": {},
   "outputs": [
    {
     "data": {
      "text/html": [
       "<div>\n",
       "<style scoped>\n",
       "    .dataframe tbody tr th:only-of-type {\n",
       "        vertical-align: middle;\n",
       "    }\n",
       "\n",
       "    .dataframe tbody tr th {\n",
       "        vertical-align: top;\n",
       "    }\n",
       "\n",
       "    .dataframe thead th {\n",
       "        text-align: right;\n",
       "    }\n",
       "</style>\n",
       "<table border=\"1\" class=\"dataframe\">\n",
       "  <thead>\n",
       "    <tr style=\"text-align: right;\">\n",
       "      <th></th>\n",
       "      <th>diet</th>\n",
       "      <th>wlost_zm</th>\n",
       "    </tr>\n",
       "  </thead>\n",
       "  <tbody>\n",
       "    <tr>\n",
       "      <th>0</th>\n",
       "      <td>A</td>\n",
       "      <td>-0.146053</td>\n",
       "    </tr>\n",
       "    <tr>\n",
       "      <th>1</th>\n",
       "      <td>A</td>\n",
       "      <td>2.053947</td>\n",
       "    </tr>\n",
       "    <tr>\n",
       "      <th>2</th>\n",
       "      <td>A</td>\n",
       "      <td>-3.246053</td>\n",
       "    </tr>\n",
       "    <tr>\n",
       "      <th>3</th>\n",
       "      <td>A</td>\n",
       "      <td>-1.046053</td>\n",
       "    </tr>\n",
       "    <tr>\n",
       "      <th>4</th>\n",
       "      <td>A</td>\n",
       "      <td>-1.146053</td>\n",
       "    </tr>\n",
       "  </tbody>\n",
       "</table>\n",
       "</div>"
      ],
      "text/plain": [
       "  diet  wlost_zm\n",
       "0    A -0.146053\n",
       "1    A  2.053947\n",
       "2    A -3.246053\n",
       "3    A -1.046053\n",
       "4    A -1.146053"
      ]
     },
     "execution_count": 10,
     "metadata": {},
     "output_type": "execute_result"
    }
   ],
   "source": [
    "# \"zm\" stands for \"zero mean\"\n",
    "diets_zm = pd.DataFrame()\n",
    "diets_zm['diet'] = diets['diet'].copy()\n",
    "diets_zm['wlost_zm'] = diets['weight_lost'] - overall_mean\n",
    "diets_zm.head()"
   ]
  },
  {
   "cell_type": "markdown",
   "id": "ff8cc5d3",
   "metadata": {},
   "source": [
    "As usual, when we subtract the mean from a column, the mean of the result is zero.  Actually, because of very small calculation error, it is very close to zero."
   ]
  },
  {
   "cell_type": "code",
   "execution_count": 11,
   "id": "98ab9694",
   "metadata": {},
   "outputs": [
    {
     "data": {
      "text/plain": [
       "-1.3264243504732134e-15"
      ]
     },
     "execution_count": 11,
     "metadata": {},
     "output_type": "execute_result"
    }
   ],
   "source": [
    "np.mean(diets_zm['wlost_zm'])"
   ]
  },
  {
   "cell_type": "markdown",
   "id": "4ca1abfb",
   "metadata": {},
   "source": [
    "If we calculate the new group means for the ZM data, they are the same as the original group means, minus the overall mean:"
   ]
  },
  {
   "cell_type": "code",
   "execution_count": 12,
   "id": "517fd04d",
   "metadata": {},
   "outputs": [
    {
     "data": {
      "text/html": [
       "<div>\n",
       "<style scoped>\n",
       "    .dataframe tbody tr th:only-of-type {\n",
       "        vertical-align: middle;\n",
       "    }\n",
       "\n",
       "    .dataframe tbody tr th {\n",
       "        vertical-align: top;\n",
       "    }\n",
       "\n",
       "    .dataframe thead th {\n",
       "        text-align: right;\n",
       "    }\n",
       "</style>\n",
       "<table border=\"1\" class=\"dataframe\">\n",
       "  <thead>\n",
       "    <tr style=\"text-align: right;\">\n",
       "      <th></th>\n",
       "      <th>wlost_zm</th>\n",
       "    </tr>\n",
       "    <tr>\n",
       "      <th>diet</th>\n",
       "      <th></th>\n",
       "    </tr>\n",
       "  </thead>\n",
       "  <tbody>\n",
       "    <tr>\n",
       "      <th>A</th>\n",
       "      <td>-0.646053</td>\n",
       "    </tr>\n",
       "    <tr>\n",
       "      <th>B</th>\n",
       "      <td>-0.678053</td>\n",
       "    </tr>\n",
       "    <tr>\n",
       "      <th>C</th>\n",
       "      <td>1.202096</td>\n",
       "    </tr>\n",
       "  </tbody>\n",
       "</table>\n",
       "</div>"
      ],
      "text/plain": [
       "      wlost_zm\n",
       "diet          \n",
       "A    -0.646053\n",
       "B    -0.678053\n",
       "C     1.202096"
      ]
     },
     "execution_count": 12,
     "metadata": {},
     "output_type": "execute_result"
    }
   ],
   "source": [
    "gmeans_zm = diets_zm.groupby('diet').mean()\n",
    "gmeans_zm"
   ]
  },
  {
   "cell_type": "markdown",
   "id": "1b02aa46",
   "metadata": {},
   "source": [
    "Here is the plot of the group means, now centered around zero:"
   ]
  },
  {
   "cell_type": "code",
   "execution_count": 13,
   "id": "7ee57d7d",
   "metadata": {},
   "outputs": [
    {
     "data": {
      "image/png": "[encoded data removed]",
      "text/plain": [
       "<Figure size 432x288 with 1 Axes>"
      ]
     },
     "metadata": {
      "needs_background": "light"
     },
     "output_type": "display_data"
    }
   ],
   "source": [
    "plot_mean_diffs(diets_zm, 'diet', 'wlost_zm')"
   ]
  },
  {
   "cell_type": "markdown",
   "id": "96c81540",
   "metadata": {},
   "source": [
    "## The SNSQGMD metric"
   ]
  },
  {
   "cell_type": "markdown",
   "id": "36b5dfa0",
   "metadata": {},
   "source": [
    "We designed our SNSQGMD metric to be large when the sum of the squared lengths of\n",
    "these lines are large.  The N in  SNSQGMD reminds us we multiply each squared\n",
    "length by the number in the group, to give more weight to large groups.\n",
    "\n",
    "To calculate SNSQGMD we get the Group Mean Difference.\n",
    "\n",
    "Because we have already subtracted the overall mean, the group means of the ZM values are the group mean differences."
   ]
  },
  {
   "cell_type": "code",
   "execution_count": 14,
   "id": "8c40846e",
   "metadata": {},
   "outputs": [
    {
     "data": {
      "text/html": [
       "<div>\n",
       "<style scoped>\n",
       "    .dataframe tbody tr th:only-of-type {\n",
       "        vertical-align: middle;\n",
       "    }\n",
       "\n",
       "    .dataframe tbody tr th {\n",
       "        vertical-align: top;\n",
       "    }\n",
       "\n",
       "    .dataframe thead th {\n",
       "        text-align: right;\n",
       "    }\n",
       "</style>\n",
       "<table border=\"1\" class=\"dataframe\">\n",
       "  <thead>\n",
       "    <tr style=\"text-align: right;\">\n",
       "      <th></th>\n",
       "      <th>wlost_zm</th>\n",
       "    </tr>\n",
       "    <tr>\n",
       "      <th>diet</th>\n",
       "      <th></th>\n",
       "    </tr>\n",
       "  </thead>\n",
       "  <tbody>\n",
       "    <tr>\n",
       "      <th>A</th>\n",
       "      <td>-0.646053</td>\n",
       "    </tr>\n",
       "    <tr>\n",
       "      <th>B</th>\n",
       "      <td>-0.678053</td>\n",
       "    </tr>\n",
       "    <tr>\n",
       "      <th>C</th>\n",
       "      <td>1.202096</td>\n",
       "    </tr>\n",
       "  </tbody>\n",
       "</table>\n",
       "</div>"
      ],
      "text/plain": [
       "      wlost_zm\n",
       "diet          \n",
       "A    -0.646053\n",
       "B    -0.678053\n",
       "C     1.202096"
      ]
     },
     "execution_count": 14,
     "metadata": {},
     "output_type": "execute_result"
    }
   ],
   "source": [
    "gmd = gmeans_zm  # Remember, the overall mean here is already (near) 0\n",
    "gmd"
   ]
  },
  {
   "cell_type": "markdown",
   "id": "4858d348",
   "metadata": {},
   "source": [
    "We square these differences:"
   ]
  },
  {
   "cell_type": "code",
   "execution_count": 15,
   "id": "90b88d42",
   "metadata": {},
   "outputs": [
    {
     "data": {
      "text/html": [
       "<div>\n",
       "<style scoped>\n",
       "    .dataframe tbody tr th:only-of-type {\n",
       "        vertical-align: middle;\n",
       "    }\n",
       "\n",
       "    .dataframe tbody tr th {\n",
       "        vertical-align: top;\n",
       "    }\n",
       "\n",
       "    .dataframe thead th {\n",
       "        text-align: right;\n",
       "    }\n",
       "</style>\n",
       "<table border=\"1\" class=\"dataframe\">\n",
       "  <thead>\n",
       "    <tr style=\"text-align: right;\">\n",
       "      <th></th>\n",
       "      <th>wlost_zm</th>\n",
       "    </tr>\n",
       "    <tr>\n",
       "      <th>diet</th>\n",
       "      <th></th>\n",
       "    </tr>\n",
       "  </thead>\n",
       "  <tbody>\n",
       "    <tr>\n",
       "      <th>A</th>\n",
       "      <td>0.417384</td>\n",
       "    </tr>\n",
       "    <tr>\n",
       "      <th>B</th>\n",
       "      <td>0.459755</td>\n",
       "    </tr>\n",
       "    <tr>\n",
       "      <th>C</th>\n",
       "      <td>1.445034</td>\n",
       "    </tr>\n",
       "  </tbody>\n",
       "</table>\n",
       "</div>"
      ],
      "text/plain": [
       "      wlost_zm\n",
       "diet          \n",
       "A     0.417384\n",
       "B     0.459755\n",
       "C     1.445034"
      ]
     },
     "execution_count": 15,
     "metadata": {},
     "output_type": "execute_result"
    }
   ],
   "source": [
    "sq_gmd = gmd ** 2\n",
    "sq_gmd"
   ]
  },
  {
   "cell_type": "markdown",
   "id": "eea91251",
   "metadata": {},
   "source": [
    "We want to give more weight to groups with more members, so we multiply each\n",
    "squared difference by the number in the group:"
   ]
  },
  {
   "cell_type": "code",
   "execution_count": 16,
   "id": "d0d93af1",
   "metadata": {},
   "outputs": [
    {
     "data": {
      "text/html": [
       "<div>\n",
       "<style scoped>\n",
       "    .dataframe tbody tr th:only-of-type {\n",
       "        vertical-align: middle;\n",
       "    }\n",
       "\n",
       "    .dataframe tbody tr th {\n",
       "        vertical-align: top;\n",
       "    }\n",
       "\n",
       "    .dataframe thead th {\n",
       "        text-align: right;\n",
       "    }\n",
       "</style>\n",
       "<table border=\"1\" class=\"dataframe\">\n",
       "  <thead>\n",
       "    <tr style=\"text-align: right;\">\n",
       "      <th></th>\n",
       "      <th>wlost_zm</th>\n",
       "    </tr>\n",
       "    <tr>\n",
       "      <th>diet</th>\n",
       "      <th></th>\n",
       "    </tr>\n",
       "  </thead>\n",
       "  <tbody>\n",
       "    <tr>\n",
       "      <th>A</th>\n",
       "      <td>24</td>\n",
       "    </tr>\n",
       "    <tr>\n",
       "      <th>B</th>\n",
       "      <td>25</td>\n",
       "    </tr>\n",
       "    <tr>\n",
       "      <th>C</th>\n",
       "      <td>27</td>\n",
       "    </tr>\n",
       "  </tbody>\n",
       "</table>\n",
       "</div>"
      ],
      "text/plain": [
       "      wlost_zm\n",
       "diet          \n",
       "A           24\n",
       "B           25\n",
       "C           27"
      ]
     },
     "execution_count": 16,
     "metadata": {},
     "output_type": "execute_result"
    }
   ],
   "source": [
    "# Numbers in each group\n",
    "group_ns = diets_zm.groupby('diet').count()\n",
    "group_ns"
   ]
  },
  {
   "cell_type": "code",
   "execution_count": 17,
   "id": "22b371f3",
   "metadata": {},
   "outputs": [
    {
     "data": {
      "text/html": [
       "<div>\n",
       "<style scoped>\n",
       "    .dataframe tbody tr th:only-of-type {\n",
       "        vertical-align: middle;\n",
       "    }\n",
       "\n",
       "    .dataframe tbody tr th {\n",
       "        vertical-align: top;\n",
       "    }\n",
       "\n",
       "    .dataframe thead th {\n",
       "        text-align: right;\n",
       "    }\n",
       "</style>\n",
       "<table border=\"1\" class=\"dataframe\">\n",
       "  <thead>\n",
       "    <tr style=\"text-align: right;\">\n",
       "      <th></th>\n",
       "      <th>wlost_zm</th>\n",
       "    </tr>\n",
       "    <tr>\n",
       "      <th>diet</th>\n",
       "      <th></th>\n",
       "    </tr>\n",
       "  </thead>\n",
       "  <tbody>\n",
       "    <tr>\n",
       "      <th>A</th>\n",
       "      <td>10.017216</td>\n",
       "    </tr>\n",
       "    <tr>\n",
       "      <th>B</th>\n",
       "      <td>11.493884</td>\n",
       "    </tr>\n",
       "    <tr>\n",
       "      <th>C</th>\n",
       "      <td>39.015908</td>\n",
       "    </tr>\n",
       "  </tbody>\n",
       "</table>\n",
       "</div>"
      ],
      "text/plain": [
       "       wlost_zm\n",
       "diet           \n",
       "A     10.017216\n",
       "B     11.493884\n",
       "C     39.015908"
      ]
     },
     "execution_count": 17,
     "metadata": {},
     "output_type": "execute_result"
    }
   ],
   "source": [
    "n_sq_gmd = sq_gmd * group_ns\n",
    "n_sq_gmd"
   ]
  },
  {
   "cell_type": "markdown",
   "id": "4136a012",
   "metadata": {},
   "source": [
    "Finally, we add up these weighted squares to get the final metric:"
   ]
  },
  {
   "cell_type": "code",
   "execution_count": 18,
   "id": "72f27dbc",
   "metadata": {},
   "outputs": [
    {
     "data": {
      "text/plain": [
       "wlost_zm    60.527008\n",
       "dtype: float64"
      ]
     },
     "execution_count": 18,
     "metadata": {},
     "output_type": "execute_result"
    }
   ],
   "source": [
    "observed_sn_sq_gmd = np.sum(n_sq_gmd)\n",
    "observed_sn_sq_gmd"
   ]
  },
  {
   "cell_type": "markdown",
   "id": "ea486c95",
   "metadata": {},
   "source": [
    "To make the process a bit clearer, here is the same calculation in its own function so we can re-use it on different data frames."
   ]
  },
  {
   "cell_type": "code",
   "execution_count": 19,
   "id": "ea7dded9",
   "metadata": {},
   "outputs": [],
   "source": [
    "def get_sn_sq_gmd(df, group_col, val_col):\n",
    "    grouped = df.groupby(group_col)[val_col]\n",
    "    sq_gmd = grouped.mean() ** 2\n",
    "    return np.sum(sq_gmd * grouped.count())"
   ]
  },
  {
   "cell_type": "markdown",
   "id": "b40d4c37",
   "metadata": {},
   "source": [
    "Check that we get the same answer from the function as we did with the\n",
    "step-by-step calculation:"
   ]
  },
  {
   "cell_type": "code",
   "execution_count": 20,
   "id": "8720e98a",
   "metadata": {},
   "outputs": [
    {
     "data": {
      "text/plain": [
       "60.527008382066285"
      ]
     },
     "execution_count": 20,
     "metadata": {},
     "output_type": "execute_result"
    }
   ],
   "source": [
    "get_sn_sq_gmd(diets_zm, 'diet', 'wlost_zm')"
   ]
  },
  {
   "cell_type": "markdown",
   "id": "e5790322",
   "metadata": {},
   "source": [
    "Next we consider a single trial in our ideal, null, fake world.  We do this by\n",
    "making a copy of the data frame, and then permuting the diet labels, so\n",
    "the association between the diet and the change values is random."
   ]
  },
  {
   "cell_type": "code",
   "execution_count": 21,
   "id": "6d7c8719",
   "metadata": {},
   "outputs": [
    {
     "data": {
      "text/html": [
       "<div>\n",
       "<style scoped>\n",
       "    .dataframe tbody tr th:only-of-type {\n",
       "        vertical-align: middle;\n",
       "    }\n",
       "\n",
       "    .dataframe tbody tr th {\n",
       "        vertical-align: top;\n",
       "    }\n",
       "\n",
       "    .dataframe thead th {\n",
       "        text-align: right;\n",
       "    }\n",
       "</style>\n",
       "<table border=\"1\" class=\"dataframe\">\n",
       "  <thead>\n",
       "    <tr style=\"text-align: right;\">\n",
       "      <th></th>\n",
       "      <th>diet</th>\n",
       "      <th>wlost_zm</th>\n",
       "    </tr>\n",
       "  </thead>\n",
       "  <tbody>\n",
       "    <tr>\n",
       "      <th>0</th>\n",
       "      <td>C</td>\n",
       "      <td>-0.146053</td>\n",
       "    </tr>\n",
       "    <tr>\n",
       "      <th>1</th>\n",
       "      <td>C</td>\n",
       "      <td>2.053947</td>\n",
       "    </tr>\n",
       "    <tr>\n",
       "      <th>2</th>\n",
       "      <td>A</td>\n",
       "      <td>-3.246053</td>\n",
       "    </tr>\n",
       "    <tr>\n",
       "      <th>3</th>\n",
       "      <td>C</td>\n",
       "      <td>-1.046053</td>\n",
       "    </tr>\n",
       "    <tr>\n",
       "      <th>4</th>\n",
       "      <td>A</td>\n",
       "      <td>-1.146053</td>\n",
       "    </tr>\n",
       "  </tbody>\n",
       "</table>\n",
       "</div>"
      ],
      "text/plain": [
       "  diet  wlost_zm\n",
       "0    C -0.146053\n",
       "1    C  2.053947\n",
       "2    A -3.246053\n",
       "3    C -1.046053\n",
       "4    A -1.146053"
      ]
     },
     "execution_count": 21,
     "metadata": {},
     "output_type": "execute_result"
    }
   ],
   "source": [
    "fake_data = diets_zm.copy()\n",
    "# Permute the group labels\n",
    "fake_data['diet'] = np.random.permutation(fake_data['diet'])\n",
    "fake_data.head()"
   ]
  },
  {
   "cell_type": "markdown",
   "id": "620087fe",
   "metadata": {},
   "source": [
    "We calculate our metric on these new data, step by step."
   ]
  },
  {
   "cell_type": "code",
   "execution_count": 22,
   "id": "b4f2c3c3",
   "metadata": {},
   "outputs": [
    {
     "data": {
      "text/plain": [
       "24.35048245614034"
      ]
     },
     "execution_count": 22,
     "metadata": {},
     "output_type": "execute_result"
    }
   ],
   "source": [
    "fake_grouped = fake_data.groupby('diet')['wlost_zm']\n",
    "# Notice that the overall mean of 0 cannot change because we did not\n",
    "# change the values that make up the mean.\n",
    "fake_sq_gmd = fake_grouped.mean() ** 2\n",
    "fake_sn_sq_gmd = np.sum(fake_sq_gmd * fake_grouped.count())\n",
    "fake_sn_sq_gmd"
   ]
  },
  {
   "cell_type": "markdown",
   "id": "b8c18f3e",
   "metadata": {},
   "source": [
    "We can also use the function above to do that calculation, and get the same\n",
    "answer:"
   ]
  },
  {
   "cell_type": "code",
   "execution_count": 23,
   "id": "289b482a",
   "metadata": {},
   "outputs": [
    {
     "data": {
      "text/plain": [
       "24.35048245614034"
      ]
     },
     "execution_count": 23,
     "metadata": {},
     "output_type": "execute_result"
    }
   ],
   "source": [
    "get_sn_sq_gmd(fake_data, 'diet', 'wlost_zm')"
   ]
  },
  {
   "cell_type": "markdown",
   "id": "a38e81ae",
   "metadata": {},
   "source": [
    "Now we are ready to do our simulation.  We do 10000 trials. In each trial, we\n",
    "make a new random association, and recalculate the sum of squares metric."
   ]
  },
  {
   "cell_type": "code",
   "execution_count": 24,
   "id": "3ae001d4",
   "metadata": {},
   "outputs": [],
   "source": [
    "n_iters = 10000\n",
    "fake_sn_sq_gmds = np.zeros(n_iters)\n",
    "for i in np.arange(n_iters):\n",
    "    # Make sample from null world.\n",
    "    fake_data['diet'] = np.random.permutation(fake_data['diet'])\n",
    "    # Calculate corresponding metric.\n",
    "    fake_sn_sq_gmds[i] = get_sn_sq_gmd(fake_data, 'diet', 'wlost_zm')"
   ]
  },
  {
   "cell_type": "markdown",
   "id": "a7a474d9",
   "metadata": {},
   "source": [
    "Of course, because these are sums of squares, they must all be positive."
   ]
  },
  {
   "cell_type": "code",
   "execution_count": 25,
   "id": "a7d7b653",
   "metadata": {},
   "outputs": [
    {
     "data": {
      "image/png": "[encoded data removed]",
      "text/plain": [
       "<Figure size 432x288 with 1 Axes>"
      ]
     },
     "metadata": {
      "needs_background": "light"
     },
     "output_type": "display_data"
    }
   ],
   "source": [
    "plt.hist(fake_sn_sq_gmds, bins=100);"
   ]
  },
  {
   "cell_type": "markdown",
   "id": "2b6685ad",
   "metadata": {},
   "source": [
    "How does our observed sum of squares metric compare to the distribution of fake\n",
    "sum of square metrics?"
   ]
  },
  {
   "cell_type": "code",
   "execution_count": 26,
   "id": "2cad07a3",
   "metadata": {},
   "outputs": [
    {
     "data": {
      "text/plain": [
       "0.0072"
      ]
     },
     "execution_count": 26,
     "metadata": {},
     "output_type": "execute_result"
    }
   ],
   "source": [
    "p = np.count_nonzero(fake_sn_sq_gmds >= float(observed_sn_sq_gmd)) / n_iters\n",
    "p"
   ]
  },
  {
   "cell_type": "markdown",
   "id": "2b3012c6",
   "metadata": {},
   "source": [
    "The p value tells us that this observed metric is very unlikely to have come\n",
    "about in a random world.\n"
   ]
  },
  {
   "cell_type": "markdown",
   "id": "7f3fadaa",
   "metadata": {},
   "source": [
    "## Comparing to standard one-way ANOVA F tests\n",
    "\n",
    "In this section, we do the standard F-test calculations to show that we get a\n",
    "similar p value to the permutation version above.  This is the Statsmodels\n",
    "implementation of the one-way F test:"
   ]
  },
  {
   "cell_type": "code",
   "execution_count": 27,
   "id": "84da0c19",
   "metadata": {},
   "outputs": [
    {
     "data": {
      "text/html": [
       "<div>\n",
       "<style scoped>\n",
       "    .dataframe tbody tr th:only-of-type {\n",
       "        vertical-align: middle;\n",
       "    }\n",
       "\n",
       "    .dataframe tbody tr th {\n",
       "        vertical-align: top;\n",
       "    }\n",
       "\n",
       "    .dataframe thead th {\n",
       "        text-align: right;\n",
       "    }\n",
       "</style>\n",
       "<table border=\"1\" class=\"dataframe\">\n",
       "  <thead>\n",
       "    <tr style=\"text-align: right;\">\n",
       "      <th></th>\n",
       "      <th>df</th>\n",
       "      <th>sum_sq</th>\n",
       "      <th>mean_sq</th>\n",
       "      <th>F</th>\n",
       "      <th>PR(&gt;F)</th>\n",
       "    </tr>\n",
       "  </thead>\n",
       "  <tbody>\n",
       "    <tr>\n",
       "      <th>diet</th>\n",
       "      <td>2.0</td>\n",
       "      <td>60.527008</td>\n",
       "      <td>30.263504</td>\n",
       "      <td>5.383104</td>\n",
       "      <td>0.006596</td>\n",
       "    </tr>\n",
       "    <tr>\n",
       "      <th>Residual</th>\n",
       "      <td>73.0</td>\n",
       "      <td>410.401807</td>\n",
       "      <td>5.621943</td>\n",
       "      <td>NaN</td>\n",
       "      <td>NaN</td>\n",
       "    </tr>\n",
       "  </tbody>\n",
       "</table>\n",
       "</div>"
      ],
      "text/plain": [
       "            df      sum_sq    mean_sq         F    PR(>F)\n",
       "diet       2.0   60.527008  30.263504  5.383104  0.006596\n",
       "Residual  73.0  410.401807   5.621943       NaN       NaN"
      ]
     },
     "execution_count": 27,
     "metadata": {},
     "output_type": "execute_result"
    }
   ],
   "source": [
    "import statsmodels.api as sm\n",
    "import statsmodels.formula.api as smf\n",
    "\n",
    "mod = smf.ols('weight_lost ~ diet', data=diets).fit()\n",
    "\n",
    "sm.stats.anova_lm(mod)"
   ]
  },
  {
   "cell_type": "markdown",
   "id": "fde6de99",
   "metadata": {},
   "source": [
    "Notice that the SNSQGMD metric value appears in the `diet` row, `sum_sq` column."
   ]
  },
  {
   "cell_type": "markdown",
   "id": "f6ca633f",
   "metadata": {},
   "source": [
    "Here is the same calculation in Scipy:"
   ]
  },
  {
   "cell_type": "code",
   "execution_count": 28,
   "id": "2824237e",
   "metadata": {},
   "outputs": [],
   "source": [
    "from scipy.stats import f_oneway"
   ]
  },
  {
   "cell_type": "code",
   "execution_count": 29,
   "id": "3ccf3e62",
   "metadata": {},
   "outputs": [],
   "source": [
    "# Get the values from the individual groups.\n",
    "treatment = diets['diet']\n",
    "change = diets['weight_lost']\n",
    "# Subtract the overall mean\n",
    "# (Actually, that doesn't change the calculation of the F test below,\n",
    "# but, just for completeness).\n",
    "change_zm = change - np.mean(change)\n",
    "# Get the values in the individual groups.\n",
    "diet_a_values = np.array(change_zm[treatment == 'A'])\n",
    "diet_b_values = np.array(change_zm[treatment == 'B'])\n",
    "diet_c_values = np.array(change_zm[treatment == 'C'])"
   ]
  },
  {
   "cell_type": "markdown",
   "id": "7fb78d5c",
   "metadata": {},
   "source": [
    "Do the F-test:"
   ]
  },
  {
   "cell_type": "code",
   "execution_count": 30,
   "id": "5d7d9679",
   "metadata": {
    "lines_to_next_cell": 2
   },
   "outputs": [
    {
     "data": {
      "text/plain": [
       "F_onewayResult(statistic=5.383104474859932, pvalue=0.0065958531086696805)"
      ]
     },
     "execution_count": 30,
     "metadata": {},
     "output_type": "execute_result"
    }
   ],
   "source": [
    "f_result = f_oneway(diet_a_values, diet_b_values, diet_c_values)\n",
    "f_result"
   ]
  },
  {
   "cell_type": "markdown",
   "id": "eff38c76",
   "metadata": {},
   "source": [
    "Notice Scipy gives the same F statistic value and p value as Statsmodels."
   ]
  },
  {
   "cell_type": "markdown",
   "id": "55fc55d0",
   "metadata": {},
   "source": [
    "## The F statistic and the SNSQGMD metric\n",
    "\n",
    "In this section, we go into more detail about the calculation of the F value\n",
    "that you see above.  Here is the F statistic we got from Scipy (and\n",
    "Statsmodels):"
   ]
  },
  {
   "cell_type": "code",
   "execution_count": 31,
   "id": "cf3eeda2",
   "metadata": {},
   "outputs": [
    {
     "data": {
      "text/plain": [
       "5.383104474859932"
      ]
     },
     "execution_count": 31,
     "metadata": {},
     "output_type": "execute_result"
    }
   ],
   "source": [
    "F_stat = f_result.statistic\n",
    "F_stat"
   ]
  },
  {
   "cell_type": "markdown",
   "id": "e66fdb50",
   "metadata": {},
   "source": [
    "This section goes through the calculation of the F statistic from the SNSQGMD\n",
    "metric.  This is the SNSQGMD value we calculated:"
   ]
  },
  {
   "cell_type": "code",
   "execution_count": 32,
   "id": "e77e4d5b",
   "metadata": {},
   "outputs": [
    {
     "data": {
      "text/plain": [
       "wlost_zm    60.527008\n",
       "dtype: float64"
      ]
     },
     "execution_count": 32,
     "metadata": {},
     "output_type": "execute_result"
    }
   ],
   "source": [
    "observed_sn_sq_gmd"
   ]
  },
  {
   "cell_type": "markdown",
   "id": "3f9c5599",
   "metadata": {},
   "source": [
    "You can get the F statistic above by dividing the SNSQGMD metric by a scaled\n",
    "estimate of the variation still present in the data.\n",
    "\n",
    "The variation still present in the data are the remaining distances between the\n",
    "data (in the plot above) and their corresponding group means.  Call these\n",
    "remaining distances the \"residuals\"."
   ]
  },
  {
   "cell_type": "markdown",
   "id": "7c51a4fb",
   "metadata": {},
   "source": [
    "Subtract each group mean from their respective group values:"
   ]
  },
  {
   "cell_type": "code",
   "execution_count": 33,
   "id": "c0884ea7",
   "metadata": {},
   "outputs": [],
   "source": [
    "# Calculate the residuals from the group means.\n",
    "diet_a_resid = diet_a_values - np.mean(diet_a_values)\n",
    "diet_b_resid = diet_b_values - np.mean(diet_b_values)\n",
    "diet_c_resid = diet_c_values - np.mean(diet_c_values)"
   ]
  },
  {
   "cell_type": "markdown",
   "id": "b6daafd4",
   "metadata": {},
   "source": [
    "Finally, we sum up the squares of these residuals:"
   ]
  },
  {
   "cell_type": "code",
   "execution_count": 34,
   "id": "24d80876",
   "metadata": {},
   "outputs": [
    {
     "data": {
      "text/plain": [
       "410.40180740740743"
      ]
     },
     "execution_count": 34,
     "metadata": {},
     "output_type": "execute_result"
    }
   ],
   "source": [
    "# We concatenate the three sets of residuals into one long array.\n",
    "all_group_resid = np.concatenate(\n",
    "    [diet_a_resid, diet_b_resid, diet_c_resid])\n",
    "# Sum of squared residuals from group means.\n",
    "ssq_resid_groups = np.sum(all_group_resid ** 2)\n",
    "ssq_resid_groups"
   ]
  },
  {
   "cell_type": "markdown",
   "id": "5aad7025",
   "metadata": {},
   "source": [
    "You will see this value in the `Residual` row, `sum_sq` column of the Statsmodels output above."
   ]
  },
  {
   "cell_type": "markdown",
   "id": "aa674a9b",
   "metadata": {},
   "source": [
    "The F-statistic results from dividing this measure of remaining variation into\n",
    "the SNSQGMD metric, with some scaling.  The scaling comes from the number of\n",
    "observations, and the number of groups."
   ]
  },
  {
   "cell_type": "code",
   "execution_count": 35,
   "id": "9bf0071a",
   "metadata": {},
   "outputs": [],
   "source": [
    "n_obs = len(diets)\n",
    "n_groups = len(group_means)"
   ]
  },
  {
   "cell_type": "markdown",
   "id": "44a28fea",
   "metadata": {},
   "source": [
    "Here is the full calculation of the F-statistic. Notice that it is exactly the\n",
    "same as we got from Scipy and Statsmodels."
   ]
  },
  {
   "cell_type": "code",
   "execution_count": 36,
   "id": "9325fd98",
   "metadata": {},
   "outputs": [
    {
     "data": {
      "text/plain": [
       "wlost_zm    5.383104\n",
       "dtype: float64"
      ]
     },
     "execution_count": 36,
     "metadata": {},
     "output_type": "execute_result"
    }
   ],
   "source": [
    "# Calculate of the F value by scaling and dividing by residual variation\n",
    "# metric.\n",
    "df_groups = n_groups - 1  # Degrees of freedom for groups.\n",
    "df_error = n_obs - n_groups  # Degrees of freedom for residuals.\n",
    "# The F statistic\n",
    "(observed_sn_sq_gmd / df_groups) / (ssq_resid_groups / df_error)"
   ]
  },
  {
   "cell_type": "markdown",
   "id": "97adb29b",
   "metadata": {},
   "source": [
    "Scaling and dividing by the residual variation gives a value that we can reason\n",
    "about with some standard mathematics, as long as we are prepared to assume that\n",
    "the values come from a normal distribution.  Specifically, with those\n",
    "assumptions, we can get a p value by comparing the observed F value to a\n",
    "standard F distribution with the same \"degrees of freedom\".  These are the\n",
    "`df_groups` and `df_error` values above."
   ]
  },
  {
   "cell_type": "code",
   "execution_count": 37,
   "id": "dd3059c7",
   "metadata": {},
   "outputs": [
    {
     "data": {
      "text/plain": [
       "0.0065958531086696805"
      ]
     },
     "execution_count": 37,
     "metadata": {},
     "output_type": "execute_result"
    }
   ],
   "source": [
    "# Get standard F distribution object from Scipy.\n",
    "from scipy.stats import f as f_dist\n",
    "\n",
    "# Look up p value for a particular F statistic and degrees of freedom.\n",
    "# Notice the p value is the same as the p value from Scipy f_oneway\n",
    "# and from Statsmodels.\n",
    "f_dist(df_groups, df_error).sf(F_stat)"
   ]
  },
  {
   "cell_type": "markdown",
   "id": "6ce3c2ad",
   "metadata": {},
   "source": [
    "As you have seen, the permutation estimate gives a very similar answer.  We\n",
    "would argue that it is also a lot easier to explain."
   ]
  },
  {
   "cell_type": "markdown",
   "id": "6b3aa672",
   "metadata": {},
   "source": [
    "## F tests in terms of explained variation\n",
    "\n",
    "You will often see explanations of the F-value in terms of the amount of\n",
    "variation explained by the overall mean, compared to the amount of variation\n",
    "explained with the individual group means.  In fact, this \"variance\" way of\n",
    "thinking is what gave the test the name ANOVA (Analysis of Variance).\n",
    "\n",
    "The explained variation path (literally) adds up to the same thing as the\n",
    "SNSQGMD metric version of the F statistic above.  The current section goes\n",
    "through the explained variation way of thinking of the F statistic, and shows\n",
    "that it gives the same value for the SNSQGMD metric.\n",
    "\n",
    "The \"variance\" way of thinking about the F looks at the sum of squared\n",
    "\"residual\" variation in two situations.  First we look at the residual variation\n",
    "after we subtract the group means.  We already have this from the F test\n",
    "calculation above.  Here we repeat the calculation as a reminder of what the\n",
    "value means:"
   ]
  },
  {
   "cell_type": "code",
   "execution_count": 38,
   "id": "6980e685",
   "metadata": {},
   "outputs": [
    {
     "data": {
      "text/plain": [
       "410.40180740740743"
      ]
     },
     "execution_count": 38,
     "metadata": {},
     "output_type": "execute_result"
    }
   ],
   "source": [
    "ssq_resid_groups = np.sum(all_group_resid ** 2)\n",
    "ssq_resid_groups"
   ]
  },
  {
   "cell_type": "markdown",
   "id": "51563f9a",
   "metadata": {},
   "source": [
    "This is the sum of squared remaining variation when using the group means.\n",
    "\n",
    "We compare this to the squared remaining variation when after subtracting the *overall mean*.  Here is that calculation."
   ]
  },
  {
   "cell_type": "code",
   "execution_count": 39,
   "id": "3124da9e",
   "metadata": {},
   "outputs": [
    {
     "data": {
      "text/plain": [
       "470.9288157894737"
      ]
     },
     "execution_count": 39,
     "metadata": {},
     "output_type": "execute_result"
    }
   ],
   "source": [
    "# Sum of squared residuals using overall mean.\n",
    "# Remember, we did this calculation above.\n",
    "# Square and sum the residuals to get the squared variation from overall mean.\n",
    "ssq_resid_overall = np.sum(diets_zm['wlost_zm'] ** 2)\n",
    "ssq_resid_overall"
   ]
  },
  {
   "cell_type": "markdown",
   "id": "56234f7b",
   "metadata": {},
   "source": [
    "The variance way of thinking says that we should be particularly interested in\n",
    "our group means, when using them does a very good job of reducing the\n",
    "variation.  This will happen when the group values are a lot closer to their\n",
    "individual group means, than they are to the overall mean.  In that case,\n",
    "`ssq_resid_groups` will be much lower than `ssq_resid_overall`, so we will get\n",
    "a fairly high value for `ssq_resid_overall - ssq_resid_groups`.  The result of\n",
    "this subtraction is called the *extra sum of squares* explained by the sample\n",
    "means:"
   ]
  },
  {
   "cell_type": "code",
   "execution_count": 40,
   "id": "88208be1",
   "metadata": {},
   "outputs": [
    {
     "data": {
      "text/plain": [
       "60.52700838206624"
      ]
     },
     "execution_count": 40,
     "metadata": {},
     "output_type": "execute_result"
    }
   ],
   "source": [
    "ess = ssq_resid_overall - ssq_resid_groups\n",
    "ess"
   ]
  },
  {
   "cell_type": "markdown",
   "id": "7a848bc8",
   "metadata": {},
   "source": [
    "Remember, `ssq_resid_overall` is the (sum of squared) variation remaining after\n",
    "accounting for the overall mean, and `ssq_resid_groups` is the (sum of squared)\n",
    "variation remaining after accounting for the sample means, so `ess` is the\n",
    "*extra* variation accounted for by using the sample means.\n",
    "\n",
    "But — wait — the `ess` value is *exactly* the same as the SNSQGMD metric we\n",
    "were already using!"
   ]
  },
  {
   "cell_type": "code",
   "execution_count": 41,
   "id": "85877b7e",
   "metadata": {},
   "outputs": [
    {
     "data": {
      "text/plain": [
       "wlost_zm    60.527008\n",
       "dtype: float64"
      ]
     },
     "execution_count": 41,
     "metadata": {},
     "output_type": "execute_result"
    }
   ],
   "source": [
    "observed_sn_sq_gmd"
   ]
  },
  {
   "cell_type": "markdown",
   "id": "8b31e6a9",
   "metadata": {},
   "source": [
    "This striking fact is true for any possible values and groups, and arises from\n",
    "the algebra of adding squared deviations from means.  The equivalence gives us\n",
    "two different ways of thinking of the same SNSQGMD metric value.  The SNSQGMD\n",
    "value is both:\n",
    "\n",
    "* A measure of how far the sample means are from the overall mean, AND\n",
    "* A measure of how much variation the sample means explain, over and above the\n",
    "  overall mean.\n",
    "\n",
    "In this second \"explained variance\" interpretation, we think of the F test\n",
    "calculation as being a scaled ratio of the extra variance explained by the\n",
    "sample means to the variance still remaining when we use the sample means.  If\n",
    "the sample means explain a lot of variation, then the top half of the F\n",
    "statistic will be large, and the bottom half will be small, giving a large F\n",
    "value."
   ]
  }
 ],
 "metadata": {
  "jupytext": {
   "notebook_metadata_filter": "all,-language_info",
   "split_at_heading": true
  },
  "kernelspec": {
   "display_name": "Python 3",
   "language": "python",
   "name": "python3"
  },
  "language_info": {
   "codemirror_mode": {
    "name": "ipython",
    "version": 3
   },
   "file_extension": ".py",
   "mimetype": "text/x-python",
   "name": "python",
   "nbconvert_exporter": "python",
   "pygments_lexer": "ipython3",
   "version": "3.8.11"
  }
 },
 "nbformat": 4,
 "nbformat_minor": 5
}
