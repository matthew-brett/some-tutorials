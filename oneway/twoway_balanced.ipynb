{
 "cells": [
  {
   "cell_type": "markdown",
   "id": "c1a23f11",
   "metadata": {},
   "source": [
    "# Balanced two-way ANOVA\n",
    "\n",
    "This page follows on from the [one-way ANOVA notebook](./oneway_diets.ipynb).\n",
    "\n",
    "Please make sure you follow the one-way ANOVA notebook before you read this notebook, because we are going to re-use a not of notation and machinery from that notebook.\n",
    "\n",
    "In the one-way notebook, we considered the situation where we had three groups, and, for each group, we have a certain number of values.  In our particular case, we had measures of the amount of weight lost by groups of people following three different diets.\n",
    "\n",
    "We call this grouping of individuals into Diets — a *factor*.  The `diet`\n",
    "column allocates a label to each individual, one of `A` or `B` or `C`.   We\n",
    "call the possible labels of the `diet` factor — *levels*.   Thus the `diet`\n",
    "factor has 3 levels, `A`, `B` and `C`.\n",
    "\n",
    "We found that the ANOVA test asks whether the *means* of the observations\n",
    "within groups are convincingly different from the overall mean.\n",
    "\n",
    "In fact, the data we used from for the one-way ANOVA page has another grouping\n",
    "— `gender`. This records whether the person on the diet was `Female` or `Male.`\n",
    "\n",
    "This means that we have can classify the individuals (rows) with two factors:\n",
    "`gender` and `diet`.  `gender` has two levels — `Female` and `Male`.  `diet`\n",
    "has three levels — `A`, `B`, and `C`.   We now have 2 * 3 = 6 groups to\n",
    "classify the individuals — (`Female`, `A`), (`Female`, `B`), and so on, through\n",
    "to (`Male`, `C`).\n",
    "\n",
    "One method of analyzing such data is the two-way Analysis of Variance (ANOVA).  It generalizes the one-way ANOVA by looking at the means for the levels of the different factors, and the means for each of the (here) six groups.\n",
    "\n",
    "It turns out that doing that has some complications when there are different\n",
    "number of individuals in the six groups.  So, as so often in statistics\n",
    "tutorials, we start by cheating, and chopping our data down to the simpler\n",
    "situation where there is an equal number of individuals in each of the six\n",
    "groups.  The simpler case is called a *balanced* ANOVA.  Once we have done\n",
    "that, it is fairly easy to replicate the F statistic values by hand, using the\n",
    "logic you have already seen in the one-way ANOVA page.  That is what we do in\n",
    "this page.  In the next page, we will start to go to the black-run and\n",
    "off-piste, to think about what would happen in the more typical case, where\n",
    "there are different numbers of individuals in the groups.  The case of unequal\n",
    "numbers is called an *unbalanced* ANOVA.\n",
    "\n",
    "To repeat, this page only covers the balanced case.\n"
   ]
  },
  {
   "cell_type": "markdown",
   "id": "7651cbe4",
   "metadata": {},
   "source": [
    "## Back to the example\n"
   ]
  },
  {
   "cell_type": "code",
   "execution_count": 1,
   "id": "218869b7",
   "metadata": {},
   "outputs": [],
   "source": [
    "# Array, data frame and plotting libraries.\n",
    "import numpy as np\n",
    "import pandas as pd\n",
    "import matplotlib.pyplot as plt\n",
    "\n",
    "# Statsmodels ANOVA machinery.\n",
    "import statsmodels.api as sm\n",
    "import statsmodels.formula.api as smf"
   ]
  },
  {
   "cell_type": "markdown",
   "id": "5d88a2f4",
   "metadata": {},
   "source": [
    "We return to our dataset giving amount of weight lost (in kilograms) after 10 weeks of one of three possible diets.\n",
    "\n",
    "In the one-way ANOVA page, we dropped the `gender` column, leaving only the\n",
    "classification into `diets` — `A`, `B` and `C`.  This time we will keep the\n",
    "`gender` column, so we can also classify the rows (individuals) into `Female`\n",
    "and `Male`."
   ]
  },
  {
   "cell_type": "markdown",
   "id": "6a429569",
   "metadata": {},
   "source": [
    "See: [the dataset page](https://github.com/odsti/datasets/tree/master/sheffield_diet) for more detail."
   ]
  },
  {
   "cell_type": "code",
   "execution_count": 2,
   "id": "1c58aa2c",
   "metadata": {},
   "outputs": [
    {
     "data": {
      "text/html": [
       "<div>\n",
       "<style scoped>\n",
       "    .dataframe tbody tr th:only-of-type {\n",
       "        vertical-align: middle;\n",
       "    }\n",
       "\n",
       "    .dataframe tbody tr th {\n",
       "        vertical-align: top;\n",
       "    }\n",
       "\n",
       "    .dataframe thead th {\n",
       "        text-align: right;\n",
       "    }\n",
       "</style>\n",
       "<table border=\"1\" class=\"dataframe\">\n",
       "  <thead>\n",
       "    <tr style=\"text-align: right;\">\n",
       "      <th></th>\n",
       "      <th>gender</th>\n",
       "      <th>diet</th>\n",
       "      <th>weight_lost</th>\n",
       "    </tr>\n",
       "  </thead>\n",
       "  <tbody>\n",
       "    <tr>\n",
       "      <th>0</th>\n",
       "      <td>Female</td>\n",
       "      <td>A</td>\n",
       "      <td>3.8</td>\n",
       "    </tr>\n",
       "    <tr>\n",
       "      <th>1</th>\n",
       "      <td>Female</td>\n",
       "      <td>A</td>\n",
       "      <td>6.0</td>\n",
       "    </tr>\n",
       "    <tr>\n",
       "      <th>2</th>\n",
       "      <td>Female</td>\n",
       "      <td>A</td>\n",
       "      <td>0.7</td>\n",
       "    </tr>\n",
       "    <tr>\n",
       "      <th>3</th>\n",
       "      <td>Female</td>\n",
       "      <td>A</td>\n",
       "      <td>2.9</td>\n",
       "    </tr>\n",
       "    <tr>\n",
       "      <th>4</th>\n",
       "      <td>Female</td>\n",
       "      <td>A</td>\n",
       "      <td>2.8</td>\n",
       "    </tr>\n",
       "  </tbody>\n",
       "</table>\n",
       "</div>"
      ],
      "text/plain": [
       "   gender diet  weight_lost\n",
       "0  Female    A          3.8\n",
       "1  Female    A          6.0\n",
       "2  Female    A          0.7\n",
       "3  Female    A          2.9\n",
       "4  Female    A          2.8"
      ]
     },
     "execution_count": 2,
     "metadata": {},
     "output_type": "execute_result"
    }
   ],
   "source": [
    "# Read the raw dataset\n",
    "diet_data = pd.read_csv('sheffield_diet.csv')\n",
    "diet_data.head()"
   ]
  },
  {
   "cell_type": "markdown",
   "id": "a04d97c4",
   "metadata": {},
   "source": [
    "Pandas `groupby` can classify each row using *both* the `gender` label (level) and the `diet` label (level), like this:"
   ]
  },
  {
   "cell_type": "code",
   "execution_count": 3,
   "id": "03c35762",
   "metadata": {},
   "outputs": [
    {
     "data": {
      "text/plain": [
       "gender  diet\n",
       "Female  A       14\n",
       "        B       14\n",
       "        C       15\n",
       "Male    A       10\n",
       "        B       11\n",
       "        C       12\n",
       "Name: weight_lost, dtype: int64"
      ]
     },
     "execution_count": 3,
     "metadata": {},
     "output_type": "execute_result"
    }
   ],
   "source": [
    "grouped = diet_data.groupby(['gender', 'diet'])\n",
    "# Show the counts in each of the six groups.\n",
    "grouped['weight_lost'].count()"
   ]
  },
  {
   "cell_type": "markdown",
   "id": "4b9b74b0",
   "metadata": {},
   "source": [
    "## Cheating by balancing the groups\n",
    "\n",
    "We promised we would cheat, and here it is.\n",
    "\n",
    "At the moment, the six groups do not all have the same number of individuals (rows).  This introduces some nasty complications in the SNSQGMD metric and F-test calculations, that we would like to avoid, for now.  We can do this by chopping the data down to have the same number of individuals in each group.  The code to do this is not important; please notice only that we end up with a reduced dataset where there are the same number of individuals in each group."
   ]
  },
  {
   "cell_type": "code",
   "execution_count": 4,
   "id": "bff412f3",
   "metadata": {},
   "outputs": [
    {
     "data": {
      "text/plain": [
       "10"
      ]
     },
     "execution_count": 4,
     "metadata": {},
     "output_type": "execute_result"
    }
   ],
   "source": [
    "min_group_size = grouped['weight_lost'].count().min()\n",
    "min_group_size"
   ]
  },
  {
   "cell_type": "code",
   "execution_count": 5,
   "id": "09a86a2e",
   "metadata": {},
   "outputs": [
    {
     "data": {
      "text/html": [
       "<div>\n",
       "<style scoped>\n",
       "    .dataframe tbody tr th:only-of-type {\n",
       "        vertical-align: middle;\n",
       "    }\n",
       "\n",
       "    .dataframe tbody tr th {\n",
       "        vertical-align: top;\n",
       "    }\n",
       "\n",
       "    .dataframe thead th {\n",
       "        text-align: right;\n",
       "    }\n",
       "</style>\n",
       "<table border=\"1\" class=\"dataframe\">\n",
       "  <thead>\n",
       "    <tr style=\"text-align: right;\">\n",
       "      <th></th>\n",
       "      <th>gender</th>\n",
       "      <th>diet</th>\n",
       "      <th>weight_lost</th>\n",
       "    </tr>\n",
       "  </thead>\n",
       "  <tbody>\n",
       "    <tr>\n",
       "      <th>0</th>\n",
       "      <td>Female</td>\n",
       "      <td>A</td>\n",
       "      <td>3.8</td>\n",
       "    </tr>\n",
       "    <tr>\n",
       "      <th>1</th>\n",
       "      <td>Female</td>\n",
       "      <td>A</td>\n",
       "      <td>6.0</td>\n",
       "    </tr>\n",
       "    <tr>\n",
       "      <th>2</th>\n",
       "      <td>Female</td>\n",
       "      <td>A</td>\n",
       "      <td>0.7</td>\n",
       "    </tr>\n",
       "    <tr>\n",
       "      <th>3</th>\n",
       "      <td>Female</td>\n",
       "      <td>A</td>\n",
       "      <td>2.9</td>\n",
       "    </tr>\n",
       "    <tr>\n",
       "      <th>4</th>\n",
       "      <td>Female</td>\n",
       "      <td>A</td>\n",
       "      <td>2.8</td>\n",
       "    </tr>\n",
       "  </tbody>\n",
       "</table>\n",
       "</div>"
      ],
      "text/plain": [
       "   gender diet  weight_lost\n",
       "0  Female    A          3.8\n",
       "1  Female    A          6.0\n",
       "2  Female    A          0.7\n",
       "3  Female    A          2.9\n",
       "4  Female    A          2.8"
      ]
     },
     "execution_count": 5,
     "metadata": {},
     "output_type": "execute_result"
    }
   ],
   "source": [
    "# Make new data frame with equal group numbers, by dropping some\n",
    "# rows from the larger groups.\n",
    "equal_groups = []\n",
    "for group_id, group in grouped:\n",
    "    # Collect first \"min_group_size\" individuals from each group.\n",
    "    equal_groups.append(group.iloc[:min_group_size])\n",
    "# Stick the reduced groups together into a new data frame.\n",
    "diet_cheat = pd.concat(equal_groups)\n",
    "diet_cheat.head()"
   ]
  },
  {
   "cell_type": "markdown",
   "id": "42251224",
   "metadata": {},
   "source": [
    "Notice that we now have the same number of individuals in each of the six groups:"
   ]
  },
  {
   "cell_type": "code",
   "execution_count": 6,
   "id": "e5cc71dc",
   "metadata": {},
   "outputs": [
    {
     "data": {
      "text/html": [
       "<div>\n",
       "<style scoped>\n",
       "    .dataframe tbody tr th:only-of-type {\n",
       "        vertical-align: middle;\n",
       "    }\n",
       "\n",
       "    .dataframe tbody tr th {\n",
       "        vertical-align: top;\n",
       "    }\n",
       "\n",
       "    .dataframe thead th {\n",
       "        text-align: right;\n",
       "    }\n",
       "</style>\n",
       "<table border=\"1\" class=\"dataframe\">\n",
       "  <thead>\n",
       "    <tr style=\"text-align: right;\">\n",
       "      <th></th>\n",
       "      <th></th>\n",
       "      <th>weight_lost</th>\n",
       "    </tr>\n",
       "    <tr>\n",
       "      <th>gender</th>\n",
       "      <th>diet</th>\n",
       "      <th></th>\n",
       "    </tr>\n",
       "  </thead>\n",
       "  <tbody>\n",
       "    <tr>\n",
       "      <th rowspan=\"3\" valign=\"top\">Female</th>\n",
       "      <th>A</th>\n",
       "      <td>10</td>\n",
       "    </tr>\n",
       "    <tr>\n",
       "      <th>B</th>\n",
       "      <td>10</td>\n",
       "    </tr>\n",
       "    <tr>\n",
       "      <th>C</th>\n",
       "      <td>10</td>\n",
       "    </tr>\n",
       "    <tr>\n",
       "      <th rowspan=\"3\" valign=\"top\">Male</th>\n",
       "      <th>A</th>\n",
       "      <td>10</td>\n",
       "    </tr>\n",
       "    <tr>\n",
       "      <th>B</th>\n",
       "      <td>10</td>\n",
       "    </tr>\n",
       "    <tr>\n",
       "      <th>C</th>\n",
       "      <td>10</td>\n",
       "    </tr>\n",
       "  </tbody>\n",
       "</table>\n",
       "</div>"
      ],
      "text/plain": [
       "             weight_lost\n",
       "gender diet             \n",
       "Female A              10\n",
       "       B              10\n",
       "       C              10\n",
       "Male   A              10\n",
       "       B              10\n",
       "       C              10"
      ]
     },
     "execution_count": 6,
     "metadata": {},
     "output_type": "execute_result"
    }
   ],
   "source": [
    "diet_cheat.groupby(['gender', 'diet']).count()"
   ]
  },
  {
   "cell_type": "markdown",
   "id": "dd1cb00d",
   "metadata": {},
   "source": [
    "## Two-way ANOVA\n",
    "\n",
    "Next we dive straight in to the standard two-way ANOVA, using Statsmodels."
   ]
  },
  {
   "cell_type": "code",
   "execution_count": 7,
   "id": "83969bfa",
   "metadata": {},
   "outputs": [
    {
     "data": {
      "text/html": [
       "<div>\n",
       "<style scoped>\n",
       "    .dataframe tbody tr th:only-of-type {\n",
       "        vertical-align: middle;\n",
       "    }\n",
       "\n",
       "    .dataframe tbody tr th {\n",
       "        vertical-align: top;\n",
       "    }\n",
       "\n",
       "    .dataframe thead th {\n",
       "        text-align: right;\n",
       "    }\n",
       "</style>\n",
       "<table border=\"1\" class=\"dataframe\">\n",
       "  <thead>\n",
       "    <tr style=\"text-align: right;\">\n",
       "      <th></th>\n",
       "      <th>sum_sq</th>\n",
       "      <th>df</th>\n",
       "      <th>F</th>\n",
       "      <th>PR(&gt;F)</th>\n",
       "    </tr>\n",
       "  </thead>\n",
       "  <tbody>\n",
       "    <tr>\n",
       "      <th>gender</th>\n",
       "      <td>1.633500</td>\n",
       "      <td>1.0</td>\n",
       "      <td>0.311696</td>\n",
       "      <td>0.578949</td>\n",
       "    </tr>\n",
       "    <tr>\n",
       "      <th>diet</th>\n",
       "      <td>34.320333</td>\n",
       "      <td>2.0</td>\n",
       "      <td>3.274413</td>\n",
       "      <td>0.045475</td>\n",
       "    </tr>\n",
       "    <tr>\n",
       "      <th>gender:diet</th>\n",
       "      <td>53.191000</td>\n",
       "      <td>2.0</td>\n",
       "      <td>5.074814</td>\n",
       "      <td>0.009559</td>\n",
       "    </tr>\n",
       "    <tr>\n",
       "      <th>Residual</th>\n",
       "      <td>282.997000</td>\n",
       "      <td>54.0</td>\n",
       "      <td>NaN</td>\n",
       "      <td>NaN</td>\n",
       "    </tr>\n",
       "  </tbody>\n",
       "</table>\n",
       "</div>"
      ],
      "text/plain": [
       "                 sum_sq    df         F    PR(>F)\n",
       "gender         1.633500   1.0  0.311696  0.578949\n",
       "diet          34.320333   2.0  3.274413  0.045475\n",
       "gender:diet   53.191000   2.0  5.074814  0.009559\n",
       "Residual     282.997000  54.0       NaN       NaN"
      ]
     },
     "execution_count": 7,
     "metadata": {},
     "output_type": "execute_result"
    }
   ],
   "source": [
    "cheat_fit = smf.ols('weight_lost ~ gender * diet', data=diet_cheat).fit()\n",
    "# Type II (2) sum of squares calculation ANOVA table.\n",
    "sm.stats.anova_lm(cheat_fit, typ=2)"
   ]
  },
  {
   "cell_type": "markdown",
   "id": "63daef85",
   "metadata": {},
   "source": [
    "Please keep referring back to this table.  In the next few sections we will replicate the sum of square values using our familiar one-way machinery.\n"
   ]
  },
  {
   "cell_type": "markdown",
   "id": "38d567a8",
   "metadata": {},
   "source": [
    "## Replicating the two-way ANOVA calculations\n",
    "\n",
    "First we subtract the overall mean, and work on those subtracted values:"
   ]
  },
  {
   "cell_type": "code",
   "execution_count": 8,
   "id": "168a1f0e",
   "metadata": {},
   "outputs": [
    {
     "data": {
      "text/html": [
       "<div>\n",
       "<style scoped>\n",
       "    .dataframe tbody tr th:only-of-type {\n",
       "        vertical-align: middle;\n",
       "    }\n",
       "\n",
       "    .dataframe tbody tr th {\n",
       "        vertical-align: top;\n",
       "    }\n",
       "\n",
       "    .dataframe thead th {\n",
       "        text-align: right;\n",
       "    }\n",
       "</style>\n",
       "<table border=\"1\" class=\"dataframe\">\n",
       "  <thead>\n",
       "    <tr style=\"text-align: right;\">\n",
       "      <th></th>\n",
       "      <th>gender</th>\n",
       "      <th>diet</th>\n",
       "      <th>wlost_zm</th>\n",
       "    </tr>\n",
       "  </thead>\n",
       "  <tbody>\n",
       "    <tr>\n",
       "      <th>0</th>\n",
       "      <td>Female</td>\n",
       "      <td>A</td>\n",
       "      <td>-0.128333</td>\n",
       "    </tr>\n",
       "    <tr>\n",
       "      <th>1</th>\n",
       "      <td>Female</td>\n",
       "      <td>A</td>\n",
       "      <td>2.071667</td>\n",
       "    </tr>\n",
       "    <tr>\n",
       "      <th>2</th>\n",
       "      <td>Female</td>\n",
       "      <td>A</td>\n",
       "      <td>-3.228333</td>\n",
       "    </tr>\n",
       "    <tr>\n",
       "      <th>3</th>\n",
       "      <td>Female</td>\n",
       "      <td>A</td>\n",
       "      <td>-1.028333</td>\n",
       "    </tr>\n",
       "    <tr>\n",
       "      <th>4</th>\n",
       "      <td>Female</td>\n",
       "      <td>A</td>\n",
       "      <td>-1.128333</td>\n",
       "    </tr>\n",
       "  </tbody>\n",
       "</table>\n",
       "</div>"
      ],
      "text/plain": [
       "   gender diet  wlost_zm\n",
       "0  Female    A -0.128333\n",
       "1  Female    A  2.071667\n",
       "2  Female    A -3.228333\n",
       "3  Female    A -1.028333\n",
       "4  Female    A -1.128333"
      ]
     },
     "execution_count": 8,
     "metadata": {},
     "output_type": "execute_result"
    }
   ],
   "source": [
    "# \"zm\" stands for \"zero mean\"\n",
    "diet_cheat_zm = pd.DataFrame()\n",
    "diet_cheat_zm = diet_cheat.loc[:, :'diet'].copy()\n",
    "weight_col = diet_cheat['weight_lost']\n",
    "diet_cheat_zm['wlost_zm'] = weight_col - np.mean(weight_col)\n",
    "diet_cheat_zm.head()"
   ]
  },
  {
   "cell_type": "markdown",
   "id": "ceb6fb97",
   "metadata": {},
   "source": [
    "The overall mean of the ZM column is (near as dammit) zero."
   ]
  },
  {
   "cell_type": "code",
   "execution_count": 9,
   "id": "bd2abcef",
   "metadata": {},
   "outputs": [
    {
     "data": {
      "text/plain": [
       "-4.2928623618839387e-16"
      ]
     },
     "execution_count": 9,
     "metadata": {},
     "output_type": "execute_result"
    }
   ],
   "source": [
    "np.mean(diet_cheat_zm['wlost_zm'])"
   ]
  },
  {
   "cell_type": "markdown",
   "id": "f27ed6a1",
   "metadata": {},
   "source": [
    "We next use the plot function from the one-way notebook:"
   ]
  },
  {
   "cell_type": "code",
   "execution_count": 10,
   "id": "63f002f9",
   "metadata": {
    "tags": [
     "hide-cell"
    ]
   },
   "outputs": [],
   "source": [
    "# Function to show the group and overall mean\n",
    "def plot_mean_diffs(df, group_col, val_col, color='red'):\n",
    "    # Group names\n",
    "    grp_names = df[group_col].unique()\n",
    "    n_groups = len(grp_names)\n",
    "    # Overall mean\n",
    "    mean_all = np.mean(df[val_col])\n",
    "    # Plot green dashed line at the overall mean.\n",
    "    plt.plot(grp_names, np.repeat(mean_all, n_groups),\n",
    "             ':', color='green', label='Overall mean')\n",
    "    # Get the means by group.\n",
    "    means_grp = df.groupby(group_col)[val_col].mean()\n",
    "    # Plot colored dots at group means.\n",
    "    plt.scatter(grp_names, means_grp, color=color, label='Group means')\n",
    "    # Colored dashed line between each group mean and the overall mean.\n",
    "    for grp_name in grp_names:\n",
    "        xs = [grp_name, grp_name]\n",
    "        ys = [mean_all, float(means_grp.loc[grp_name])]\n",
    "        plt.plot(xs, ys, ':', color=color)\n",
    "    plt.legend()"
   ]
  },
  {
   "cell_type": "code",
   "execution_count": 11,
   "id": "704ccd6d",
   "metadata": {},
   "outputs": [
    {
     "data": {
      "image/png": "[encoded data removed]",
      "text/plain": [
       "<Figure size 432x288 with 1 Axes>"
      ]
     },
     "metadata": {
      "needs_background": "light"
     },
     "output_type": "display_data"
    }
   ],
   "source": [
    "# Show the group means and overall mean.\n",
    "plot_mean_diffs(diet_cheat_zm, 'gender', 'wlost_zm', 'blue')\n",
    "plot_mean_diffs(diet_cheat_zm, 'diet', 'wlost_zm', 'red')"
   ]
  },
  {
   "cell_type": "markdown",
   "id": "63133a85",
   "metadata": {},
   "source": [
    "Now let us think about the SNSQGMD metric for the `gender` factor.  Remember,\n",
    "in the one-way ANOVA, this was the weighted sum of the squared group mean\n",
    "differences."
   ]
  },
  {
   "cell_type": "markdown",
   "id": "73264be7",
   "metadata": {},
   "source": [
    "As a reminder of how the metric works, let's do the calculation long-hand:"
   ]
  },
  {
   "cell_type": "code",
   "execution_count": 12,
   "id": "17a8b1ec",
   "metadata": {},
   "outputs": [
    {
     "data": {
      "text/plain": [
       "1.6334999999999988"
      ]
     },
     "execution_count": 12,
     "metadata": {},
     "output_type": "execute_result"
    }
   ],
   "source": [
    "# Group means:\n",
    "gender_means = diet_cheat_zm.groupby('gender')['wlost_zm'].mean()\n",
    "# Group counts:\n",
    "gender_counts = diet_cheat_zm.groupby('gender')['wlost_zm'].count()\n",
    "# Square, multiply by group sizes, and add up to give metric.\n",
    "gender_snsqgmd = np.sum(gender_counts * (gender_means ** 2))\n",
    "gender_snsqgmd"
   ]
  },
  {
   "cell_type": "markdown",
   "id": "fd8079fe",
   "metadata": {},
   "source": [
    "We will do this several times, so we use the SNSQGMD function from the one-way notebook to do the same calculation:"
   ]
  },
  {
   "cell_type": "code",
   "execution_count": 13,
   "id": "7b2ece0c",
   "metadata": {},
   "outputs": [],
   "source": [
    "def get_sn_sq_gmd(df, group_col, val_col):\n",
    "    grouped = df.groupby(group_col)[val_col]\n",
    "    sq_gmd = grouped.mean() ** 2\n",
    "    return np.sum(sq_gmd * grouped.count())"
   ]
  },
  {
   "cell_type": "code",
   "execution_count": 14,
   "id": "8f2a283b",
   "metadata": {},
   "outputs": [
    {
     "data": {
      "text/plain": [
       "1.6334999999999988"
      ]
     },
     "execution_count": 14,
     "metadata": {},
     "output_type": "execute_result"
    }
   ],
   "source": [
    "gender_ss = get_sn_sq_gmd(diet_cheat_zm, 'gender', 'wlost_zm')\n",
    "gender_ss"
   ]
  },
  {
   "cell_type": "markdown",
   "id": "9b564818",
   "metadata": {},
   "source": [
    "This is exactly the `sum_sq` value for `gender` in the ANOVA table above.\n",
    "\n",
    "Now let us do the same calculation on the `diet` factor:"
   ]
  },
  {
   "cell_type": "code",
   "execution_count": 15,
   "id": "4d4a21c2",
   "metadata": {},
   "outputs": [
    {
     "data": {
      "text/plain": [
       "34.32033333333332"
      ]
     },
     "execution_count": 15,
     "metadata": {},
     "output_type": "execute_result"
    }
   ],
   "source": [
    "diet_ss = get_sn_sq_gmd(diet_cheat_zm, 'diet', 'wlost_zm')\n",
    "diet_ss"
   ]
  },
  {
   "cell_type": "markdown",
   "id": "2ce0386e",
   "metadata": {},
   "source": [
    "This is exactly the `sum_sq` value for `diet` in the ANOVA table above."
   ]
  },
  {
   "cell_type": "markdown",
   "id": "8903abac",
   "metadata": {},
   "source": [
    "## Allowing for the other effects"
   ]
  },
  {
   "cell_type": "markdown",
   "id": "039cdc6f",
   "metadata": {},
   "source": [
    "But wait - should we not allow for the effects (means) of `diet` when assessing the effects (means) of `gender`?  And vice-versa?  And if you've been [reading around the topic](https://www.ars.usda.gov/ARSUserFiles/60540520/Two-wayANOVAspreadsheet.pdf), you might know this is exactly what the *type II sum of squares* calculation is meant to do.  We used type II sum of squares in the ANOVA calculation above, with the `typ=2` keyword argument. Let's do that, and see what we get."
   ]
  },
  {
   "cell_type": "markdown",
   "id": "3a56359e",
   "metadata": {},
   "source": [
    "Our job now is to *remove* the effect of `diet` before assessing the effect of gender.  We do this by getting the means for each of the three diet levels `A`, `B`, and `C`, and subtracting these means from the values corresponding to diets `A`, `B` and `C`."
   ]
  },
  {
   "cell_type": "markdown",
   "id": "b10be386",
   "metadata": {},
   "source": [
    "Here are the group means for `diet`:"
   ]
  },
  {
   "cell_type": "code",
   "execution_count": 16,
   "id": "530fb14c",
   "metadata": {},
   "outputs": [
    {
     "data": {
      "text/plain": [
       "diet\n",
       "A   -0.418333\n",
       "B   -0.643333\n",
       "C    1.061667\n",
       "Name: wlost_zm, dtype: float64"
      ]
     },
     "execution_count": 16,
     "metadata": {},
     "output_type": "execute_result"
    }
   ],
   "source": [
    "diet_cheat_zm.groupby('diet')['wlost_zm'].mean()"
   ]
  },
  {
   "cell_type": "markdown",
   "id": "c84b5714",
   "metadata": {},
   "source": [
    "First we make a new series that replaces the individual values for `wlost_zm` with their corresponding group means.  We can use the Pandas `transform` method of the `groupby` object to do this for us:"
   ]
  },
  {
   "cell_type": "code",
   "execution_count": 17,
   "id": "93d464c9",
   "metadata": {},
   "outputs": [
    {
     "data": {
      "text/plain": [
       "0   -0.418333\n",
       "1   -0.418333\n",
       "2   -0.418333\n",
       "3   -0.418333\n",
       "4   -0.418333\n",
       "Name: wlost_zm, dtype: float64"
      ]
     },
     "execution_count": 17,
     "metadata": {},
     "output_type": "execute_result"
    }
   ],
   "source": [
    "# Make a series with the same number of rows as the original data frame\n",
    "# but where we have, instead of the `wlost_zm` values, we have the \n",
    "# group mean for the corresponding diet.\n",
    "diet_mean_col = diet_cheat_zm.groupby('diet')['wlost_zm'].transform('mean')\n",
    "diet_mean_col.head()"
   ]
  },
  {
   "cell_type": "markdown",
   "id": "e05ea08a",
   "metadata": {},
   "source": [
    "Next we subtract these diet group means from the `wlost_zm` column, to give the values *left over*  (residual values) after *adjusting for* the `diet` means."
   ]
  },
  {
   "cell_type": "code",
   "execution_count": 18,
   "id": "804d4dbf",
   "metadata": {},
   "outputs": [
    {
     "data": {
      "text/plain": [
       "0    0.29\n",
       "1    2.49\n",
       "2   -2.81\n",
       "3   -0.61\n",
       "4   -0.71\n",
       "Name: wlost_zm, dtype: float64"
      ]
     },
     "execution_count": 18,
     "metadata": {},
     "output_type": "execute_result"
    }
   ],
   "source": [
    "minus_diet = diet_cheat_zm['wlost_zm'] - diet_mean_col\n",
    "minus_diet.head()"
   ]
  },
  {
   "cell_type": "markdown",
   "id": "3839373d",
   "metadata": {},
   "source": [
    "We will do this subtracting mean operation a few times, so we put it into a function:"
   ]
  },
  {
   "cell_type": "code",
   "execution_count": 19,
   "id": "ea7e5908",
   "metadata": {},
   "outputs": [],
   "source": [
    "# Put this into a function\n",
    "def subtract_means(df, group_col, value_col):\n",
    "    mean_col = df.groupby(group_col)[value_col].transform('mean')\n",
    "    return df[value_col] - mean_col"
   ]
  },
  {
   "cell_type": "markdown",
   "id": "246e7030",
   "metadata": {},
   "source": [
    "Show we get the same result from the function as from the by-hand calculation above:"
   ]
  },
  {
   "cell_type": "code",
   "execution_count": 20,
   "id": "6e10effb",
   "metadata": {},
   "outputs": [
    {
     "data": {
      "text/plain": [
       "0    0.29\n",
       "1    2.49\n",
       "2   -2.81\n",
       "3   -0.61\n",
       "4   -0.71\n",
       "Name: wlost_zm, dtype: float64"
      ]
     },
     "execution_count": 20,
     "metadata": {},
     "output_type": "execute_result"
    }
   ],
   "source": [
    "subtract_means(diet_cheat_zm, 'diet', 'wlost_zm').head()"
   ]
  },
  {
   "cell_type": "markdown",
   "id": "c426cbe6",
   "metadata": {},
   "source": [
    "Now we have this diet-adjusted column, we can put it into the data frame, and calculate the SNSQGMD metric."
   ]
  },
  {
   "cell_type": "code",
   "execution_count": 21,
   "id": "61d9aa3b",
   "metadata": {},
   "outputs": [
    {
     "data": {
      "text/plain": [
       "1.6335000000000015"
      ]
     },
     "execution_count": 21,
     "metadata": {},
     "output_type": "execute_result"
    }
   ],
   "source": [
    "# Effect of gender, *adjusting for diet*\n",
    "adj_for_diet = diet_cheat_zm.copy()\n",
    "adj_col = subtract_means(diet_cheat_zm, 'diet', 'wlost_zm')\n",
    "adj_for_diet['wlost_adj_diet'] = adj_col\n",
    "get_sn_sq_gmd(adj_for_diet, 'gender', 'wlost_adj_diet')"
   ]
  },
  {
   "cell_type": "markdown",
   "id": "e0641beb",
   "metadata": {},
   "source": [
    "How strange - this is *extremely* close to the value we got before adjusting for diet. So close, in fact that the difference looks like the kind of error we typically get from floating point calculations:"
   ]
  },
  {
   "cell_type": "code",
   "execution_count": 22,
   "id": "8cd61884",
   "metadata": {},
   "outputs": [
    {
     "data": {
      "text/plain": [
       "-2.6645352591003757e-15"
      ]
     },
     "execution_count": 22,
     "metadata": {},
     "output_type": "execute_result"
    }
   ],
   "source": [
    "(get_sn_sq_gmd(diet_cheat_zm, 'gender', 'wlost_zm') -  # Original\n",
    " get_sn_sq_gmd(adj_for_diet, 'gender', 'wlost_adj_diet')) # Adjusted"
   ]
  },
  {
   "cell_type": "markdown",
   "id": "069b0bc8",
   "metadata": {},
   "source": [
    "As you might imagine, this implies that the means were all but exactly the same before and after adjustment:"
   ]
  },
  {
   "cell_type": "code",
   "execution_count": 23,
   "id": "c329eacd",
   "metadata": {},
   "outputs": [
    {
     "data": {
      "text/plain": [
       "gender\n",
       "Female    0.165\n",
       "Male     -0.165\n",
       "Name: wlost_zm, dtype: float64"
      ]
     },
     "execution_count": 23,
     "metadata": {},
     "output_type": "execute_result"
    }
   ],
   "source": [
    "# Before adjustment\n",
    "diet_cheat_zm.groupby('gender')['wlost_zm'].mean()"
   ]
  },
  {
   "cell_type": "code",
   "execution_count": 24,
   "id": "ec2857d2",
   "metadata": {},
   "outputs": [
    {
     "data": {
      "text/plain": [
       "gender\n",
       "Female    0.165\n",
       "Male     -0.165\n",
       "Name: wlost_adj_diet, dtype: float64"
      ]
     },
     "execution_count": 24,
     "metadata": {},
     "output_type": "execute_result"
    }
   ],
   "source": [
    "# After adjustment\n",
    "adj_for_diet.groupby('gender')['wlost_adj_diet'].mean()"
   ]
  },
  {
   "cell_type": "markdown",
   "id": "471c4d74",
   "metadata": {},
   "source": [
    "Yes, that's right - it's a result of the cheating we did further up, in adjusting the groups to each have the same numbers.  In that situation, where the analysis is *balanced*, adjusting each factor for the other has no effect.   Things get more complicated in the much more typical situation, where the group numbers are not the same."
   ]
  },
  {
   "cell_type": "markdown",
   "id": "7108f510",
   "metadata": {},
   "source": [
    "However, in the next step, we will be seeing what is left for the groups to explain, after adjusting for the means of `gender` and `diet`.  Here we are asking - how different are the *remaining* group means, *after* taking into account the overall differences due to `gender` and to `diet`?\n",
    "\n",
    "To do this, we do need to remove the mean effect of `gender` and of `diet`."
   ]
  },
  {
   "cell_type": "code",
   "execution_count": 25,
   "id": "df0fe50b",
   "metadata": {},
   "outputs": [
    {
     "data": {
      "text/html": [
       "<div>\n",
       "<style scoped>\n",
       "    .dataframe tbody tr th:only-of-type {\n",
       "        vertical-align: middle;\n",
       "    }\n",
       "\n",
       "    .dataframe tbody tr th {\n",
       "        vertical-align: top;\n",
       "    }\n",
       "\n",
       "    .dataframe thead th {\n",
       "        text-align: right;\n",
       "    }\n",
       "</style>\n",
       "<table border=\"1\" class=\"dataframe\">\n",
       "  <thead>\n",
       "    <tr style=\"text-align: right;\">\n",
       "      <th></th>\n",
       "      <th>gender</th>\n",
       "      <th>diet</th>\n",
       "      <th>wlost_zm</th>\n",
       "      <th>g_adj</th>\n",
       "      <th>gd_adj</th>\n",
       "    </tr>\n",
       "  </thead>\n",
       "  <tbody>\n",
       "    <tr>\n",
       "      <th>0</th>\n",
       "      <td>Female</td>\n",
       "      <td>A</td>\n",
       "      <td>-0.128333</td>\n",
       "      <td>-0.293333</td>\n",
       "      <td>0.125</td>\n",
       "    </tr>\n",
       "    <tr>\n",
       "      <th>1</th>\n",
       "      <td>Female</td>\n",
       "      <td>A</td>\n",
       "      <td>2.071667</td>\n",
       "      <td>1.906667</td>\n",
       "      <td>2.325</td>\n",
       "    </tr>\n",
       "    <tr>\n",
       "      <th>2</th>\n",
       "      <td>Female</td>\n",
       "      <td>A</td>\n",
       "      <td>-3.228333</td>\n",
       "      <td>-3.393333</td>\n",
       "      <td>-2.975</td>\n",
       "    </tr>\n",
       "    <tr>\n",
       "      <th>3</th>\n",
       "      <td>Female</td>\n",
       "      <td>A</td>\n",
       "      <td>-1.028333</td>\n",
       "      <td>-1.193333</td>\n",
       "      <td>-0.775</td>\n",
       "    </tr>\n",
       "    <tr>\n",
       "      <th>4</th>\n",
       "      <td>Female</td>\n",
       "      <td>A</td>\n",
       "      <td>-1.128333</td>\n",
       "      <td>-1.293333</td>\n",
       "      <td>-0.875</td>\n",
       "    </tr>\n",
       "  </tbody>\n",
       "</table>\n",
       "</div>"
      ],
      "text/plain": [
       "   gender diet  wlost_zm     g_adj  gd_adj\n",
       "0  Female    A -0.128333 -0.293333   0.125\n",
       "1  Female    A  2.071667  1.906667   2.325\n",
       "2  Female    A -3.228333 -3.393333  -2.975\n",
       "3  Female    A -1.028333 -1.193333  -0.775\n",
       "4  Female    A -1.128333 -1.293333  -0.875"
      ]
     },
     "execution_count": 25,
     "metadata": {},
     "output_type": "execute_result"
    }
   ],
   "source": [
    "adj_for_gd = diet_cheat_zm.copy()\n",
    "# Adjust for gender\n",
    "adj_for_gd['g_adj'] = subtract_means(adj_for_gd, 'gender', 'wlost_zm')\n",
    "# Adjust for diet.\n",
    "adj_for_gd['gd_adj'] = subtract_means(adj_for_gd, 'diet', 'g_adj')\n",
    "adj_for_gd.head()"
   ]
  },
  {
   "cell_type": "markdown",
   "id": "172be60b",
   "metadata": {},
   "source": [
    "Now we need to look at the means across the *six* groups, formed by the two levels of `gender` crossed by the three levels of `diet`.  We can form a label for these six groups by combining the labels from the two factors:"
   ]
  },
  {
   "cell_type": "code",
   "execution_count": 26,
   "id": "0c212ea1",
   "metadata": {},
   "outputs": [
    {
     "data": {
      "text/html": [
       "<div>\n",
       "<style scoped>\n",
       "    .dataframe tbody tr th:only-of-type {\n",
       "        vertical-align: middle;\n",
       "    }\n",
       "\n",
       "    .dataframe tbody tr th {\n",
       "        vertical-align: top;\n",
       "    }\n",
       "\n",
       "    .dataframe thead th {\n",
       "        text-align: right;\n",
       "    }\n",
       "</style>\n",
       "<table border=\"1\" class=\"dataframe\">\n",
       "  <thead>\n",
       "    <tr style=\"text-align: right;\">\n",
       "      <th></th>\n",
       "      <th>gender</th>\n",
       "      <th>diet</th>\n",
       "      <th>wlost_zm</th>\n",
       "      <th>g_adj</th>\n",
       "      <th>gd_adj</th>\n",
       "      <th>all_groups</th>\n",
       "    </tr>\n",
       "  </thead>\n",
       "  <tbody>\n",
       "    <tr>\n",
       "      <th>0</th>\n",
       "      <td>Female</td>\n",
       "      <td>A</td>\n",
       "      <td>-0.128333</td>\n",
       "      <td>-0.293333</td>\n",
       "      <td>0.125</td>\n",
       "      <td>Female-A</td>\n",
       "    </tr>\n",
       "    <tr>\n",
       "      <th>1</th>\n",
       "      <td>Female</td>\n",
       "      <td>A</td>\n",
       "      <td>2.071667</td>\n",
       "      <td>1.906667</td>\n",
       "      <td>2.325</td>\n",
       "      <td>Female-A</td>\n",
       "    </tr>\n",
       "    <tr>\n",
       "      <th>2</th>\n",
       "      <td>Female</td>\n",
       "      <td>A</td>\n",
       "      <td>-3.228333</td>\n",
       "      <td>-3.393333</td>\n",
       "      <td>-2.975</td>\n",
       "      <td>Female-A</td>\n",
       "    </tr>\n",
       "    <tr>\n",
       "      <th>3</th>\n",
       "      <td>Female</td>\n",
       "      <td>A</td>\n",
       "      <td>-1.028333</td>\n",
       "      <td>-1.193333</td>\n",
       "      <td>-0.775</td>\n",
       "      <td>Female-A</td>\n",
       "    </tr>\n",
       "    <tr>\n",
       "      <th>4</th>\n",
       "      <td>Female</td>\n",
       "      <td>A</td>\n",
       "      <td>-1.128333</td>\n",
       "      <td>-1.293333</td>\n",
       "      <td>-0.875</td>\n",
       "      <td>Female-A</td>\n",
       "    </tr>\n",
       "  </tbody>\n",
       "</table>\n",
       "</div>"
      ],
      "text/plain": [
       "   gender diet  wlost_zm     g_adj  gd_adj all_groups\n",
       "0  Female    A -0.128333 -0.293333   0.125   Female-A\n",
       "1  Female    A  2.071667  1.906667   2.325   Female-A\n",
       "2  Female    A -3.228333 -3.393333  -2.975   Female-A\n",
       "3  Female    A -1.028333 -1.193333  -0.775   Female-A\n",
       "4  Female    A -1.128333 -1.293333  -0.875   Female-A"
      ]
     },
     "execution_count": 26,
     "metadata": {},
     "output_type": "execute_result"
    }
   ],
   "source": [
    "adj_for_gd['all_groups'] = adj_for_gd['gender'].str.cat(\n",
    "    adj_for_gd['diet'], sep='-')\n",
    "adj_for_gd.head()"
   ]
  },
  {
   "cell_type": "markdown",
   "id": "d56fbfb8",
   "metadata": {},
   "source": [
    "Plot the data and means of the adjusted data for each of these six groups:"
   ]
  },
  {
   "cell_type": "code",
   "execution_count": 27,
   "id": "969d0093",
   "metadata": {},
   "outputs": [
    {
     "data": {
      "image/png": "[encoded data removed]",
      "text/plain": [
       "<Figure size 432x288 with 1 Axes>"
      ]
     },
     "metadata": {
      "needs_background": "light"
     },
     "output_type": "display_data"
    }
   ],
   "source": [
    "adj_for_gd.plot.scatter('all_groups', 'gd_adj')\n",
    "plot_mean_diffs(adj_for_gd, 'all_groups', 'gd_adj')\n",
    "plt.title('Means of data adjusted for gender, diet');"
   ]
  },
  {
   "cell_type": "markdown",
   "id": "a11da9df",
   "metadata": {},
   "source": [
    "If the effects of `diet` and `gender` explain most of the differences between weight values, then we would expect these remaining mean differences to be small.  If there are other effects, such as bigger changes in some sub-groups than others, then these remaining effects will be large.  These remaining effects are called *interaction* effects.  The are interactions because, when present, they imply that the effects of diet or gender are bigger in some sub-groups than others.  In that situation, we talk of the effects of diet and gender *interacting*."
   ]
  },
  {
   "cell_type": "markdown",
   "id": "8ea6d9a3",
   "metadata": {},
   "source": [
    "At this point, it may be obvious what we do to assess the overall size of these remaining mean differences. That's right, we calculate the SNSQGMD metric on them:"
   ]
  },
  {
   "cell_type": "code",
   "execution_count": 28,
   "id": "2ef4edec",
   "metadata": {},
   "outputs": [
    {
     "data": {
      "text/plain": [
       "53.190999999999995"
      ]
     },
     "execution_count": 28,
     "metadata": {},
     "output_type": "execute_result"
    }
   ],
   "source": [
    "inter_ss = get_sn_sq_gmd(adj_for_gd, 'all_groups', 'gd_adj')\n",
    "inter_ss"
   ]
  },
  {
   "cell_type": "markdown",
   "id": "fca8eece",
   "metadata": {},
   "source": [
    "Notice that this is exactly the same as the `gender:diet` `sum_sq` value in the ANOVA table:"
   ]
  },
  {
   "cell_type": "code",
   "execution_count": 29,
   "id": "77418b97",
   "metadata": {},
   "outputs": [
    {
     "data": {
      "text/html": [
       "<div>\n",
       "<style scoped>\n",
       "    .dataframe tbody tr th:only-of-type {\n",
       "        vertical-align: middle;\n",
       "    }\n",
       "\n",
       "    .dataframe tbody tr th {\n",
       "        vertical-align: top;\n",
       "    }\n",
       "\n",
       "    .dataframe thead th {\n",
       "        text-align: right;\n",
       "    }\n",
       "</style>\n",
       "<table border=\"1\" class=\"dataframe\">\n",
       "  <thead>\n",
       "    <tr style=\"text-align: right;\">\n",
       "      <th></th>\n",
       "      <th>sum_sq</th>\n",
       "      <th>df</th>\n",
       "      <th>F</th>\n",
       "      <th>PR(&gt;F)</th>\n",
       "    </tr>\n",
       "  </thead>\n",
       "  <tbody>\n",
       "    <tr>\n",
       "      <th>gender</th>\n",
       "      <td>1.633500</td>\n",
       "      <td>1.0</td>\n",
       "      <td>0.311696</td>\n",
       "      <td>0.578949</td>\n",
       "    </tr>\n",
       "    <tr>\n",
       "      <th>diet</th>\n",
       "      <td>34.320333</td>\n",
       "      <td>2.0</td>\n",
       "      <td>3.274413</td>\n",
       "      <td>0.045475</td>\n",
       "    </tr>\n",
       "    <tr>\n",
       "      <th>gender:diet</th>\n",
       "      <td>53.191000</td>\n",
       "      <td>2.0</td>\n",
       "      <td>5.074814</td>\n",
       "      <td>0.009559</td>\n",
       "    </tr>\n",
       "    <tr>\n",
       "      <th>Residual</th>\n",
       "      <td>282.997000</td>\n",
       "      <td>54.0</td>\n",
       "      <td>NaN</td>\n",
       "      <td>NaN</td>\n",
       "    </tr>\n",
       "  </tbody>\n",
       "</table>\n",
       "</div>"
      ],
      "text/plain": [
       "                 sum_sq    df         F    PR(>F)\n",
       "gender         1.633500   1.0  0.311696  0.578949\n",
       "diet          34.320333   2.0  3.274413  0.045475\n",
       "gender:diet   53.191000   2.0  5.074814  0.009559\n",
       "Residual     282.997000  54.0       NaN       NaN"
      ]
     },
     "execution_count": 29,
     "metadata": {},
     "output_type": "execute_result"
    }
   ],
   "source": [
    "sm.stats.anova_lm(cheat_fit, typ=2)"
   ]
  },
  {
   "cell_type": "markdown",
   "id": "eba2f7ce",
   "metadata": {},
   "source": [
    "To get the F-value, we divide the SNSQGMD (`sum_sq`) value by an estimate of the remaining variation.  The remaining variation in this case (type II sum of squares) is what we have left after we've removed everything we can remove with our `gender` and `diet` and `gender:diet` means."
   ]
  },
  {
   "cell_type": "code",
   "execution_count": 30,
   "id": "396d7252",
   "metadata": {},
   "outputs": [
    {
     "data": {
      "text/plain": [
       "282.997"
      ]
     },
     "execution_count": 30,
     "metadata": {},
     "output_type": "execute_result"
    }
   ],
   "source": [
    "everything_removed = subtract_means(adj_for_gd, 'all_groups', 'gd_adj')\n",
    "resid_ss = np.sum(everything_removed ** 2)\n",
    "resid_ss"
   ]
  },
  {
   "cell_type": "markdown",
   "id": "0a95c886",
   "metadata": {},
   "source": [
    "Notice this is the `Residual` `sum_sq` value in the table."
   ]
  },
  {
   "cell_type": "markdown",
   "id": "4f409960",
   "metadata": {},
   "source": [
    "Finally we calculate the *degrees of freedom* for each test, and for the remaining variation.  We won't go into details about these:"
   ]
  },
  {
   "cell_type": "code",
   "execution_count": 31,
   "id": "a2143084",
   "metadata": {},
   "outputs": [],
   "source": [
    "n_groups = len(adj_for_gd['all_groups'].unique())\n",
    "df_error = len(adj_for_gd) - n_groups  # D.F. for remaining variation"
   ]
  },
  {
   "cell_type": "markdown",
   "id": "58503577",
   "metadata": {},
   "source": [
    "We replicate all three F values in the ANOVA table above:"
   ]
  },
  {
   "cell_type": "code",
   "execution_count": 32,
   "id": "42ce4ca8",
   "metadata": {},
   "outputs": [
    {
     "data": {
      "text/plain": [
       "0.3116958837019471"
      ]
     },
     "execution_count": 32,
     "metadata": {},
     "output_type": "execute_result"
    }
   ],
   "source": [
    "df_gender = len(adj_for_gd['gender'].unique()) - 1  # 1\n",
    "F_gender = (gender_ss / df_gender) / (resid_ss / df_error)\n",
    "F_gender"
   ]
  },
  {
   "cell_type": "code",
   "execution_count": 33,
   "id": "78cb1906",
   "metadata": {},
   "outputs": [
    {
     "data": {
      "text/plain": [
       "3.2744128029625745"
      ]
     },
     "execution_count": 33,
     "metadata": {},
     "output_type": "execute_result"
    }
   ],
   "source": [
    "df_diet = len(adj_for_gd['diet'].unique()) - 1  # 2\n",
    "F_diet = (diet_ss / df_diet) / (resid_ss / df_error)\n",
    "F_diet"
   ]
  },
  {
   "cell_type": "code",
   "execution_count": 34,
   "id": "3f07c6c9",
   "metadata": {},
   "outputs": [
    {
     "data": {
      "text/plain": [
       "5.074813513924175"
      ]
     },
     "execution_count": 34,
     "metadata": {},
     "output_type": "execute_result"
    }
   ],
   "source": [
    "# We have already adjusted the interaction values for gender and diet.\n",
    "df_inter = n_groups - df_gender - df_diet - 1  # 2\n",
    "F_inter = (inter_ss / df_inter) / (resid_ss / df_error)\n",
    "F_inter"
   ]
  },
  {
   "cell_type": "markdown",
   "id": "fd3ffb81",
   "metadata": {},
   "source": [
    "We can look up the p value in the corresponding F distribution.  For example:"
   ]
  },
  {
   "cell_type": "code",
   "execution_count": 35,
   "id": "ae486888",
   "metadata": {},
   "outputs": [
    {
     "data": {
      "text/plain": [
       "0.00955850235834818"
      ]
     },
     "execution_count": 35,
     "metadata": {},
     "output_type": "execute_result"
    }
   ],
   "source": [
    "# Get standard F distribution object from Scipy.\n",
    "from scipy.stats import f as f_dist\n",
    "\n",
    "# Look up interaction p value from corresponding F distribution.\n",
    "f_dist(df_inter, df_error).sf(F_inter)"
   ]
  }
 ],
 "metadata": {
  "jupytext": {
   "notebook_metadata_filter": "all,-language_info",
   "split_at_heading": true,
   "text_representation": {
    "extension": ".Rmd",
    "format_name": "rmarkdown",
    "format_version": "1.2",
    "jupytext_version": "1.8.2"
   }
  },
  "kernelspec": {
   "display_name": "Python 3",
   "language": "python",
   "name": "python3"
  },
  "language_info": {
   "codemirror_mode": {
    "name": "ipython",
    "version": 3
   },
   "file_extension": ".py",
   "mimetype": "text/x-python",
   "name": "python",
   "nbconvert_exporter": "python",
   "pygments_lexer": "ipython3",
   "version": "3.8.11"
  }
 },
 "nbformat": 4,
 "nbformat_minor": 5
}
