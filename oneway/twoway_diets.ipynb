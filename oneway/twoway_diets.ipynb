{
 "cells": [
  {
   "cell_type": "markdown",
   "id": "00f47952",
   "metadata": {},
   "source": [
    "# One-way ANOVA\n",
    "\n",
    "Imagine you have three groups, and you want to do a one-level ANOVA to test for\n",
    "overall differences across the groups.\n",
    "\n",
    "The general technique for a permutation test is:\n",
    "\n",
    "* You decide on your metric\n",
    "* You get your metric for the actual data - observed metric\n",
    "* You permute your data and take the same metric from the permuted data, and\n",
    "  repeat many times - fake metrics\n",
    "* You compare your observed metric to your fake metrics, to see how unusual it\n",
    "  is.\n",
    "\n",
    "For a two-sample permutation test, your metric is the difference in the two\n",
    "sample means.\n",
    "\n",
    "For a three sample version of the test — we need a metric that will be big\n",
    "where there are big differences between the three groups, and small when there\n",
    "are small differences.\n",
    "\n",
    "Let us reflect on what what we want from the metric.  It should be a single\n",
    "number to summarize all the values from the groups. It should be be large for\n",
    "big differences between the means for the various groups.  It should be larger\n",
    "when more observations are in the groups with large difference in means.\n",
    "\n",
    "Consider the following metric.  We will soon see this is the metric that the F-test uses.\n",
    "\n",
    "* Get the sample means for each of the three groups A, B, C, to give `mean_a`,\n",
    "  `mean_b`, `mean_c`\n",
    "* Get the mean across all the observations regardless of group\n",
    "  (`mean_overall`)\n",
    "* Subtract `mean_overall` from each of `mean_a`, `mean_b`, `mean_c` to give\n",
    "  `mean_a_diff`, `mean_b_diff`, `mean_c_diff`.\n",
    "* We are interested in positive as well as negative differences, so we do not\n",
    "  want to add these mean differences, otherwise the positive and negative means\n",
    "  differences will cancel out. So we next square the differences to give:\n",
    "  `sq_mean_a_diff`, `sq_mean_b_diff`, `sq_mean_c_diff`.\n",
    "* We want larger groups to have greater weight than small groups.  Call the\n",
    "  number in groups A, B, and C `n_a`, `n_b`, `n_c`. To weight the squared mean\n",
    "  differences we multiply each square mean difference by the number in each\n",
    "  group: `sq_mean_a_diff * n_a`, `sq_mean_b_diff * n_b`, `sq_mean_c_diff *\n",
    "  n_c`, to give `nsq_mean_a_diff`, `nsq_mean_b_diff`, `nsq_mean_c_diff`.\n",
    "*   Finally, we add up the group `nsq` scores to give our metric:\n",
    "\n",
    "    ```\n",
    "    our_metric = nsq_mean_a_diff + nsq_mean_b_diff + nsq_mean_c_diff\n",
    "    ```\n",
    "\n",
    "We will call this the SNSQGMD metric (Sum of N times SQuared Group Mean\n",
    "Difference).\n",
    "\n",
    "SNSQGMD will be large and positive when the individual groups have different\n",
    "means from each other and small when the means for the groups are pretty\n",
    "similar to each other, and therefore, to the overall mean.  It will be larger\n",
    "when larger groups have means with bigger deviations from the overall mean.\n",
    "\n",
    "To follow the recipe above, we calculate SNSQGMD for the actual groups A, B, C.\n",
    "Permute the group labels to give random groups A, B, C, and recalculate the\n",
    "metric.   See whether SNSQGMD in the real data is unusual in the distribution of\n",
    "the same metric for the permuted groups.\n",
    "\n",
    "This is the permutation equivalent of the one-way ANOVA.   The one-way ANOVA\n",
    "just uses some assumptions from the normal distribution to estimate the spread\n",
    "in the random distribution of SNSQGMD, instead of using permutation to calculate\n",
    "the random distribution.\n"
   ]
  },
  {
   "cell_type": "markdown",
   "id": "a44944f9",
   "metadata": {},
   "source": [
    "## An example"
   ]
  },
  {
   "cell_type": "code",
   "execution_count": 126,
   "id": "6d8a249d",
   "metadata": {},
   "outputs": [],
   "source": [
    "import numpy as np\n",
    "import pandas as pd\n",
    "import matplotlib.pyplot as plt"
   ]
  },
  {
   "cell_type": "markdown",
   "id": "44636c70",
   "metadata": {},
   "source": [
    "Our dataset is a table giving the amount of weight lost for a group of people allocated to one of three possible diets, called `A`, `B` and `C`.\n",
    "\n",
    "See: [the dataset page](https://github.com/odsti/datasets/tree/master/sheffield_diet) for more detail."
   ]
  },
  {
   "cell_type": "code",
   "execution_count": 127,
   "id": "20648c88",
   "metadata": {},
   "outputs": [
    {
     "data": {
      "text/html": [
       "<div>\n",
       "<style scoped>\n",
       "    .dataframe tbody tr th:only-of-type {\n",
       "        vertical-align: middle;\n",
       "    }\n",
       "\n",
       "    .dataframe tbody tr th {\n",
       "        vertical-align: top;\n",
       "    }\n",
       "\n",
       "    .dataframe thead th {\n",
       "        text-align: right;\n",
       "    }\n",
       "</style>\n",
       "<table border=\"1\" class=\"dataframe\">\n",
       "  <thead>\n",
       "    <tr style=\"text-align: right;\">\n",
       "      <th></th>\n",
       "      <th>gender</th>\n",
       "      <th>diet</th>\n",
       "      <th>weight_lost</th>\n",
       "    </tr>\n",
       "  </thead>\n",
       "  <tbody>\n",
       "    <tr>\n",
       "      <th>0</th>\n",
       "      <td>Female</td>\n",
       "      <td>A</td>\n",
       "      <td>3.8</td>\n",
       "    </tr>\n",
       "    <tr>\n",
       "      <th>1</th>\n",
       "      <td>Female</td>\n",
       "      <td>A</td>\n",
       "      <td>6.0</td>\n",
       "    </tr>\n",
       "    <tr>\n",
       "      <th>2</th>\n",
       "      <td>Female</td>\n",
       "      <td>A</td>\n",
       "      <td>0.7</td>\n",
       "    </tr>\n",
       "    <tr>\n",
       "      <th>3</th>\n",
       "      <td>Female</td>\n",
       "      <td>A</td>\n",
       "      <td>2.9</td>\n",
       "    </tr>\n",
       "    <tr>\n",
       "      <th>4</th>\n",
       "      <td>Female</td>\n",
       "      <td>A</td>\n",
       "      <td>2.8</td>\n",
       "    </tr>\n",
       "  </tbody>\n",
       "</table>\n",
       "</div>"
      ],
      "text/plain": [
       "   gender diet  weight_lost\n",
       "0  Female    A          3.8\n",
       "1  Female    A          6.0\n",
       "2  Female    A          0.7\n",
       "3  Female    A          2.9\n",
       "4  Female    A          2.8"
      ]
     },
     "execution_count": 127,
     "metadata": {},
     "output_type": "execute_result"
    }
   ],
   "source": [
    "# Read the raw dataset\n",
    "diet_data = pd.read_csv('sheffield_diet.csv')\n",
    "diet_data.head()"
   ]
  },
  {
   "cell_type": "code",
   "execution_count": 128,
   "id": "ba28f909",
   "metadata": {},
   "outputs": [
    {
     "data": {
      "text/html": [
       "<div>\n",
       "<style scoped>\n",
       "    .dataframe tbody tr th:only-of-type {\n",
       "        vertical-align: middle;\n",
       "    }\n",
       "\n",
       "    .dataframe tbody tr th {\n",
       "        vertical-align: top;\n",
       "    }\n",
       "\n",
       "    .dataframe thead th {\n",
       "        text-align: right;\n",
       "    }\n",
       "</style>\n",
       "<table border=\"1\" class=\"dataframe\">\n",
       "  <thead>\n",
       "    <tr style=\"text-align: right;\">\n",
       "      <th></th>\n",
       "      <th>sum_sq</th>\n",
       "      <th>df</th>\n",
       "      <th>F</th>\n",
       "      <th>PR(&gt;F)</th>\n",
       "    </tr>\n",
       "  </thead>\n",
       "  <tbody>\n",
       "    <tr>\n",
       "      <th>gender</th>\n",
       "      <td>0.168696</td>\n",
       "      <td>1.0</td>\n",
       "      <td>0.031379</td>\n",
       "      <td>0.859910</td>\n",
       "    </tr>\n",
       "    <tr>\n",
       "      <th>diet</th>\n",
       "      <td>60.417220</td>\n",
       "      <td>2.0</td>\n",
       "      <td>5.619026</td>\n",
       "      <td>0.005456</td>\n",
       "    </tr>\n",
       "    <tr>\n",
       "      <th>gender:diet</th>\n",
       "      <td>33.904068</td>\n",
       "      <td>2.0</td>\n",
       "      <td>3.153204</td>\n",
       "      <td>0.048842</td>\n",
       "    </tr>\n",
       "    <tr>\n",
       "      <th>Residual</th>\n",
       "      <td>376.329043</td>\n",
       "      <td>70.0</td>\n",
       "      <td>NaN</td>\n",
       "      <td>NaN</td>\n",
       "    </tr>\n",
       "  </tbody>\n",
       "</table>\n",
       "</div>"
      ],
      "text/plain": [
       "                 sum_sq    df         F    PR(>F)\n",
       "gender         0.168696   1.0  0.031379  0.859910\n",
       "diet          60.417220   2.0  5.619026  0.005456\n",
       "gender:diet   33.904068   2.0  3.153204  0.048842\n",
       "Residual     376.329043  70.0       NaN       NaN"
      ]
     },
     "execution_count": 128,
     "metadata": {},
     "output_type": "execute_result"
    }
   ],
   "source": [
    "import statsmodels.api as sm\n",
    "import statsmodels.formula.api as smf\n",
    "\n",
    "mfit = smf.ols('weight_lost ~ gender * diet', data=diet_data).fit()\n",
    "\n",
    "sm.stats.anova_lm(mfit, typ=2)"
   ]
  },
  {
   "cell_type": "markdown",
   "id": "43b436b1",
   "metadata": {},
   "source": [
    "Here we are only interested in the last two columns:"
   ]
  },
  {
   "cell_type": "code",
   "execution_count": 129,
   "id": "54c2b6a1",
   "metadata": {},
   "outputs": [
    {
     "data": {
      "text/plain": [
       "diet\n",
       "A    3.300000\n",
       "B    3.268000\n",
       "C    5.148148\n",
       "Name: weight_lost, dtype: float64"
      ]
     },
     "execution_count": 129,
     "metadata": {},
     "output_type": "execute_result"
    }
   ],
   "source": [
    "# The group means by diet\n",
    "diet_data.groupby('diet')['weight_lost'].mean()"
   ]
  },
  {
   "cell_type": "code",
   "execution_count": 130,
   "id": "4d864933",
   "metadata": {},
   "outputs": [
    {
     "data": {
      "text/plain": [
       "0     3.300000\n",
       "1     3.300000\n",
       "2     3.300000\n",
       "3     3.300000\n",
       "4     3.300000\n",
       "        ...   \n",
       "71    5.148148\n",
       "72    5.148148\n",
       "73    5.148148\n",
       "74    5.148148\n",
       "75    5.148148\n",
       "Name: weight_lost, Length: 76, dtype: float64"
      ]
     },
     "execution_count": 130,
     "metadata": {},
     "output_type": "execute_result"
    }
   ],
   "source": [
    "# Subtract group means for diet.\n",
    "# This column makes a new data frame that has one row as per\n",
    "# the original data frame, with new column that contains\n",
    "# the group means\n",
    "diet_means = diet_data.groupby('diet')['weight_lost'].transform('mean')\n",
    "diet_means"
   ]
  },
  {
   "cell_type": "code",
   "execution_count": 131,
   "id": "bc0cb4ca",
   "metadata": {},
   "outputs": [
    {
     "data": {
      "text/plain": [
       "0     0.500000\n",
       "1     2.700000\n",
       "2    -2.600000\n",
       "3    -0.400000\n",
       "4    -0.500000\n",
       "        ...   \n",
       "71   -2.348148\n",
       "72   -1.048148\n",
       "73    0.151852\n",
       "74    4.051852\n",
       "75    0.951852\n",
       "Name: weight_lost, Length: 76, dtype: float64"
      ]
     },
     "execution_count": 131,
     "metadata": {},
     "output_type": "execute_result"
    }
   ],
   "source": [
    "minus_gms = diet_data['weight_lost'] - diet_means\n",
    "minus_gms"
   ]
  },
  {
   "cell_type": "code",
   "execution_count": 132,
   "id": "416ea4aa",
   "metadata": {},
   "outputs": [
    {
     "data": {
      "text/plain": [
       "0    0.5\n",
       "1    2.7\n",
       "2   -2.6\n",
       "3   -0.4\n",
       "4   -0.5\n",
       "Name: weight_lost, dtype: float64"
      ]
     },
     "execution_count": 132,
     "metadata": {},
     "output_type": "execute_result"
    }
   ],
   "source": [
    "# Exactly the same as subtracting group by group.\n",
    "is_A = diet_data['diet'] == 'A'\n",
    "only_A = diet_data[is_A]\n",
    "a_demeaned = only_A['weight_lost'] - np.mean(only_A['weight_lost'])\n",
    "a_demeaned.head()"
   ]
  },
  {
   "cell_type": "code",
   "execution_count": 133,
   "id": "f90ebf20",
   "metadata": {},
   "outputs": [],
   "source": [
    "# Put this into a function\n",
    "def subtract_means(df, group_col, value_col):\n",
    "    mean_col = df.groupby(group_col)[value_col].transform('mean')\n",
    "    return df[value_col] - mean_col"
   ]
  },
  {
   "cell_type": "code",
   "execution_count": 134,
   "id": "1a81dad7",
   "metadata": {},
   "outputs": [
    {
     "data": {
      "text/plain": [
       "0     0.500000\n",
       "1     2.700000\n",
       "2    -2.600000\n",
       "3    -0.400000\n",
       "4    -0.500000\n",
       "        ...   \n",
       "71   -2.348148\n",
       "72   -1.048148\n",
       "73    0.151852\n",
       "74    4.051852\n",
       "75    0.951852\n",
       "Name: weight_lost, Length: 76, dtype: float64"
      ]
     },
     "execution_count": 134,
     "metadata": {},
     "output_type": "execute_result"
    }
   ],
   "source": [
    "subtract_means(diet_data, 'diet', 'weight_lost')"
   ]
  },
  {
   "cell_type": "code",
   "execution_count": 135,
   "id": "146bfd4c",
   "metadata": {},
   "outputs": [
    {
     "data": {
      "text/html": [
       "<div>\n",
       "<style scoped>\n",
       "    .dataframe tbody tr th:only-of-type {\n",
       "        vertical-align: middle;\n",
       "    }\n",
       "\n",
       "    .dataframe tbody tr th {\n",
       "        vertical-align: top;\n",
       "    }\n",
       "\n",
       "    .dataframe thead th {\n",
       "        text-align: right;\n",
       "    }\n",
       "</style>\n",
       "<table border=\"1\" class=\"dataframe\">\n",
       "  <thead>\n",
       "    <tr style=\"text-align: right;\">\n",
       "      <th></th>\n",
       "      <th>gender</th>\n",
       "      <th>diet</th>\n",
       "      <th>weight_lost</th>\n",
       "      <th>diet_demeaned</th>\n",
       "    </tr>\n",
       "  </thead>\n",
       "  <tbody>\n",
       "    <tr>\n",
       "      <th>0</th>\n",
       "      <td>Female</td>\n",
       "      <td>A</td>\n",
       "      <td>3.8</td>\n",
       "      <td>0.5</td>\n",
       "    </tr>\n",
       "    <tr>\n",
       "      <th>1</th>\n",
       "      <td>Female</td>\n",
       "      <td>A</td>\n",
       "      <td>6.0</td>\n",
       "      <td>2.7</td>\n",
       "    </tr>\n",
       "    <tr>\n",
       "      <th>2</th>\n",
       "      <td>Female</td>\n",
       "      <td>A</td>\n",
       "      <td>0.7</td>\n",
       "      <td>-2.6</td>\n",
       "    </tr>\n",
       "    <tr>\n",
       "      <th>3</th>\n",
       "      <td>Female</td>\n",
       "      <td>A</td>\n",
       "      <td>2.9</td>\n",
       "      <td>-0.4</td>\n",
       "    </tr>\n",
       "    <tr>\n",
       "      <th>4</th>\n",
       "      <td>Female</td>\n",
       "      <td>A</td>\n",
       "      <td>2.8</td>\n",
       "      <td>-0.5</td>\n",
       "    </tr>\n",
       "  </tbody>\n",
       "</table>\n",
       "</div>"
      ],
      "text/plain": [
       "   gender diet  weight_lost  diet_demeaned\n",
       "0  Female    A          3.8            0.5\n",
       "1  Female    A          6.0            2.7\n",
       "2  Female    A          0.7           -2.6\n",
       "3  Female    A          2.9           -0.4\n",
       "4  Female    A          2.8           -0.5"
      ]
     },
     "execution_count": 135,
     "metadata": {},
     "output_type": "execute_result"
    }
   ],
   "source": [
    "# Now we've subtracted the means by group, the group means\n",
    "# should all be very close to 0\n",
    "new_df = diet_data.copy()\n",
    "new_df['diet_demeaned'] = subtract_means(new_df, 'diet', 'weight_lost')\n",
    "new_df.head()"
   ]
  },
  {
   "cell_type": "code",
   "execution_count": 136,
   "id": "791bcdbb",
   "metadata": {},
   "outputs": [
    {
     "data": {
      "text/plain": [
       "diet\n",
       "A    6.106227e-16\n",
       "B    5.506706e-16\n",
       "C    1.019760e-15\n",
       "Name: diet_demeaned, dtype: float64"
      ]
     },
     "execution_count": 136,
     "metadata": {},
     "output_type": "execute_result"
    }
   ],
   "source": [
    "# Means by group now very very close to 0.\n",
    "new_df.groupby('diet')['diet_demeaned'].mean()"
   ]
  },
  {
   "cell_type": "code",
   "execution_count": 137,
   "id": "685fdbfe",
   "metadata": {},
   "outputs": [
    {
     "data": {
      "text/plain": [
       "7.829993963145841e-16"
      ]
     },
     "execution_count": 137,
     "metadata": {},
     "output_type": "execute_result"
    }
   ],
   "source": [
    "# This implies that the overall mean is going to be very very close to 0\n",
    "new_df['diet_demeaned'].mean()"
   ]
  },
  {
   "cell_type": "code",
   "execution_count": 138,
   "id": "2eb29150",
   "metadata": {},
   "outputs": [
    {
     "data": {
      "text/plain": [
       "gender\n",
       "Female   -0.041261\n",
       "Male      0.053764\n",
       "Name: diet_demeaned, dtype: float64"
      ]
     },
     "execution_count": 138,
     "metadata": {},
     "output_type": "execute_result"
    }
   ],
   "source": [
    "# Effect of gender.\n",
    "gender_group = new_df.groupby('gender')['diet_demeaned']\n",
    "gender_means = gender_group.mean()\n",
    "gender_means"
   ]
  },
  {
   "cell_type": "code",
   "execution_count": 139,
   "id": "aaec6583",
   "metadata": {},
   "outputs": [
    {
     "data": {
      "text/plain": [
       "0.16859598416551386"
      ]
     },
     "execution_count": 139,
     "metadata": {},
     "output_type": "execute_result"
    }
   ],
   "source": [
    "# Sum of squared effect of gender\n",
    "ss_mg = np.sum(gender_group.count() * gender_means ** 2)\n",
    "ss_mg"
   ]
  },
  {
   "cell_type": "code",
   "execution_count": 153,
   "id": "f544353a",
   "metadata": {},
   "outputs": [
    {
     "data": {
      "text/html": [
       "<div>\n",
       "<style scoped>\n",
       "    .dataframe tbody tr th:only-of-type {\n",
       "        vertical-align: middle;\n",
       "    }\n",
       "\n",
       "    .dataframe tbody tr th {\n",
       "        vertical-align: top;\n",
       "    }\n",
       "\n",
       "    .dataframe thead th {\n",
       "        text-align: right;\n",
       "    }\n",
       "</style>\n",
       "<table border=\"1\" class=\"dataframe\">\n",
       "  <thead>\n",
       "    <tr style=\"text-align: right;\">\n",
       "      <th></th>\n",
       "      <th>sum_sq</th>\n",
       "      <th>df</th>\n",
       "      <th>F</th>\n",
       "      <th>PR(&gt;F)</th>\n",
       "    </tr>\n",
       "  </thead>\n",
       "  <tbody>\n",
       "    <tr>\n",
       "      <th>gender</th>\n",
       "      <td>0.168696</td>\n",
       "      <td>1.0</td>\n",
       "      <td>0.031379</td>\n",
       "      <td>0.859910</td>\n",
       "    </tr>\n",
       "    <tr>\n",
       "      <th>diet</th>\n",
       "      <td>60.417220</td>\n",
       "      <td>2.0</td>\n",
       "      <td>5.619026</td>\n",
       "      <td>0.005456</td>\n",
       "    </tr>\n",
       "    <tr>\n",
       "      <th>gender:diet</th>\n",
       "      <td>33.904068</td>\n",
       "      <td>2.0</td>\n",
       "      <td>3.153204</td>\n",
       "      <td>0.048842</td>\n",
       "    </tr>\n",
       "    <tr>\n",
       "      <th>Residual</th>\n",
       "      <td>376.329043</td>\n",
       "      <td>70.0</td>\n",
       "      <td>NaN</td>\n",
       "      <td>NaN</td>\n",
       "    </tr>\n",
       "  </tbody>\n",
       "</table>\n",
       "</div>"
      ],
      "text/plain": [
       "                 sum_sq    df         F    PR(>F)\n",
       "gender         0.168696   1.0  0.031379  0.859910\n",
       "diet          60.417220   2.0  5.619026  0.005456\n",
       "gender:diet   33.904068   2.0  3.153204  0.048842\n",
       "Residual     376.329043  70.0       NaN       NaN"
      ]
     },
     "execution_count": 153,
     "metadata": {},
     "output_type": "execute_result"
    }
   ],
   "source": [
    "sm.stats.anova_lm(mfit, typ=2)"
   ]
  },
  {
   "cell_type": "code",
   "execution_count": 155,
   "id": "b7475f81",
   "metadata": {},
   "outputs": [
    {
     "data": {
      "text/html": [
       "<div>\n",
       "<style scoped>\n",
       "    .dataframe tbody tr th:only-of-type {\n",
       "        vertical-align: middle;\n",
       "    }\n",
       "\n",
       "    .dataframe tbody tr th {\n",
       "        vertical-align: top;\n",
       "    }\n",
       "\n",
       "    .dataframe thead th {\n",
       "        text-align: right;\n",
       "    }\n",
       "</style>\n",
       "<table border=\"1\" class=\"dataframe\">\n",
       "  <thead>\n",
       "    <tr style=\"text-align: right;\">\n",
       "      <th></th>\n",
       "      <th>df</th>\n",
       "      <th>sum_sq</th>\n",
       "      <th>mean_sq</th>\n",
       "      <th>F</th>\n",
       "      <th>PR(&gt;F)</th>\n",
       "    </tr>\n",
       "  </thead>\n",
       "  <tbody>\n",
       "    <tr>\n",
       "      <th>gender</th>\n",
       "      <td>1.0</td>\n",
       "      <td>0.278485</td>\n",
       "      <td>0.278485</td>\n",
       "      <td>0.051800</td>\n",
       "      <td>0.820623</td>\n",
       "    </tr>\n",
       "    <tr>\n",
       "      <th>diet</th>\n",
       "      <td>2.0</td>\n",
       "      <td>60.417220</td>\n",
       "      <td>30.208610</td>\n",
       "      <td>5.619026</td>\n",
       "      <td>0.005456</td>\n",
       "    </tr>\n",
       "    <tr>\n",
       "      <th>gender:diet</th>\n",
       "      <td>2.0</td>\n",
       "      <td>33.904068</td>\n",
       "      <td>16.952034</td>\n",
       "      <td>3.153204</td>\n",
       "      <td>0.048842</td>\n",
       "    </tr>\n",
       "    <tr>\n",
       "      <th>Residual</th>\n",
       "      <td>70.0</td>\n",
       "      <td>376.329043</td>\n",
       "      <td>5.376129</td>\n",
       "      <td>NaN</td>\n",
       "      <td>NaN</td>\n",
       "    </tr>\n",
       "  </tbody>\n",
       "</table>\n",
       "</div>"
      ],
      "text/plain": [
       "               df      sum_sq    mean_sq         F    PR(>F)\n",
       "gender        1.0    0.278485   0.278485  0.051800  0.820623\n",
       "diet          2.0   60.417220  30.208610  5.619026  0.005456\n",
       "gender:diet   2.0   33.904068  16.952034  3.153204  0.048842\n",
       "Residual     70.0  376.329043   5.376129       NaN       NaN"
      ]
     },
     "execution_count": 155,
     "metadata": {},
     "output_type": "execute_result"
    }
   ],
   "source": [
    "sm.stats.anova_lm(mfit, typ=1)"
   ]
  },
  {
   "cell_type": "code",
   "execution_count": 156,
   "id": "ef6ba65e",
   "metadata": {},
   "outputs": [
    {
     "data": {
      "text/plain": [
       "0.27848457030525375"
      ]
     },
     "execution_count": 156,
     "metadata": {},
     "output_type": "execute_result"
    }
   ],
   "source": [
    "get_sn_sq_gmd(diet_data, 'gender', 'weight_lost')"
   ]
  },
  {
   "cell_type": "code",
   "execution_count": 154,
   "id": "e72dd761",
   "metadata": {},
   "outputs": [
    {
     "data": {
      "text/html": [
       "<div>\n",
       "<style scoped>\n",
       "    .dataframe tbody tr th:only-of-type {\n",
       "        vertical-align: middle;\n",
       "    }\n",
       "\n",
       "    .dataframe tbody tr th {\n",
       "        vertical-align: top;\n",
       "    }\n",
       "\n",
       "    .dataframe thead th {\n",
       "        text-align: right;\n",
       "    }\n",
       "</style>\n",
       "<table border=\"1\" class=\"dataframe\">\n",
       "  <thead>\n",
       "    <tr style=\"text-align: right;\">\n",
       "      <th></th>\n",
       "      <th>sum_sq</th>\n",
       "      <th>df</th>\n",
       "      <th>F</th>\n",
       "      <th>PR(&gt;F)</th>\n",
       "    </tr>\n",
       "  </thead>\n",
       "  <tbody>\n",
       "    <tr>\n",
       "      <th>diet</th>\n",
       "      <td>60.417220</td>\n",
       "      <td>2.0</td>\n",
       "      <td>5.619026</td>\n",
       "      <td>0.005456</td>\n",
       "    </tr>\n",
       "    <tr>\n",
       "      <th>gender</th>\n",
       "      <td>0.168696</td>\n",
       "      <td>1.0</td>\n",
       "      <td>0.031379</td>\n",
       "      <td>0.859910</td>\n",
       "    </tr>\n",
       "    <tr>\n",
       "      <th>diet:gender</th>\n",
       "      <td>33.904068</td>\n",
       "      <td>2.0</td>\n",
       "      <td>3.153204</td>\n",
       "      <td>0.048842</td>\n",
       "    </tr>\n",
       "    <tr>\n",
       "      <th>Residual</th>\n",
       "      <td>376.329043</td>\n",
       "      <td>70.0</td>\n",
       "      <td>NaN</td>\n",
       "      <td>NaN</td>\n",
       "    </tr>\n",
       "  </tbody>\n",
       "</table>\n",
       "</div>"
      ],
      "text/plain": [
       "                 sum_sq    df         F    PR(>F)\n",
       "diet          60.417220   2.0  5.619026  0.005456\n",
       "gender         0.168696   1.0  0.031379  0.859910\n",
       "diet:gender   33.904068   2.0  3.153204  0.048842\n",
       "Residual     376.329043  70.0       NaN       NaN"
      ]
     },
     "execution_count": 154,
     "metadata": {},
     "output_type": "execute_result"
    }
   ],
   "source": [
    "mf = smf.ols('weight_lost ~ diet * gender', data=diet_data).fit()\n",
    "sm.stats.anova_lm(mf, typ=2)"
   ]
  },
  {
   "cell_type": "code",
   "execution_count": 151,
   "id": "04d513de",
   "metadata": {},
   "outputs": [
    {
     "data": {
      "text/plain": [
       "60.52700838206624"
      ]
     },
     "execution_count": 151,
     "metadata": {},
     "output_type": "execute_result"
    }
   ],
   "source": [
    "get_sn_sq_gmd(diet_data, 'diet', 'weight_lost')"
   ]
  },
  {
   "cell_type": "code",
   "execution_count": 141,
   "id": "290b1433",
   "metadata": {},
   "outputs": [],
   "source": [
    "# Make this into a function\n",
    "def get_adj_sn_sq_gmd(df, group_col, remove_col, val_col):\n",
    "    df_adj = df.copy()\n",
    "    df_adj['adj'] = subtract_means(df_adj, remove_col, val_col)\n",
    "    return get_sn_sq_gmd(df_adj, group_col, 'adj')"
   ]
  },
  {
   "cell_type": "code",
   "execution_count": 142,
   "id": "18ba0033",
   "metadata": {},
   "outputs": [
    {
     "data": {
      "text/plain": [
       "0.16859598416551386"
      ]
     },
     "execution_count": 142,
     "metadata": {},
     "output_type": "execute_result"
    }
   ],
   "source": [
    "get_adj_sn_sq_gmd(diet_data, 'gender', 'diet', 'weight_lost')"
   ]
  },
  {
   "cell_type": "code",
   "execution_count": 143,
   "id": "3bb04088",
   "metadata": {},
   "outputs": [
    {
     "data": {
      "text/plain": [
       "60.40356943825723"
      ]
     },
     "execution_count": 143,
     "metadata": {},
     "output_type": "execute_result"
    }
   ],
   "source": [
    "get_adj_sn_sq_gmd(diet_data, 'diet', 'gender', 'weight_lost')"
   ]
  },
  {
   "cell_type": "code",
   "execution_count": 144,
   "id": "81bc1d9c",
   "metadata": {},
   "outputs": [
    {
     "data": {
      "text/plain": [
       "gender\n",
       "Female   -6.196594e-17\n",
       "Male      4.306320e-16\n",
       "Name: gender_demeaned, dtype: float64"
      ]
     },
     "execution_count": 144,
     "metadata": {},
     "output_type": "execute_result"
    }
   ],
   "source": [
    "ndf2 = diet_data.copy()\n",
    "ndf2['gender_demeaned'] = subtract_means(ndf2, 'gender', 'weight_lost')\n",
    "ndf2.groupby('gender')['gender_demeaned'].mean()"
   ]
  },
  {
   "cell_type": "code",
   "execution_count": 145,
   "id": "d3d45940",
   "metadata": {},
   "outputs": [
    {
     "data": {
      "text/plain": [
       "1.8698493046318425e-16"
      ]
     },
     "execution_count": 145,
     "metadata": {},
     "output_type": "execute_result"
    }
   ],
   "source": [
    "ndf2['gender_demeaned'].mean()"
   ]
  },
  {
   "cell_type": "code",
   "execution_count": 146,
   "id": "1332e86e",
   "metadata": {},
   "outputs": [
    {
     "data": {
      "text/plain": [
       "60.40356943825723"
      ]
     },
     "execution_count": 146,
     "metadata": {},
     "output_type": "execute_result"
    }
   ],
   "source": [
    "diet_group = ndf2.groupby('diet')['gender_demeaned']\n",
    "ss_mg_gender = np.sum(diet_group.count() * diet_group.mean() ** 2)\n",
    "ss_mg_gender"
   ]
  },
  {
   "cell_type": "code",
   "execution_count": 157,
   "id": "4a4e9497",
   "metadata": {},
   "outputs": [
    {
     "data": {
      "text/html": [
       "<div>\n",
       "<style scoped>\n",
       "    .dataframe tbody tr th:only-of-type {\n",
       "        vertical-align: middle;\n",
       "    }\n",
       "\n",
       "    .dataframe tbody tr th {\n",
       "        vertical-align: top;\n",
       "    }\n",
       "\n",
       "    .dataframe thead th {\n",
       "        text-align: right;\n",
       "    }\n",
       "</style>\n",
       "<table border=\"1\" class=\"dataframe\">\n",
       "  <thead>\n",
       "    <tr style=\"text-align: right;\">\n",
       "      <th></th>\n",
       "      <th>gender</th>\n",
       "      <th>diet</th>\n",
       "      <th>weight_lost</th>\n",
       "      <th>g_adj</th>\n",
       "      <th>both_adj</th>\n",
       "    </tr>\n",
       "  </thead>\n",
       "  <tbody>\n",
       "    <tr>\n",
       "      <th>0</th>\n",
       "      <td>Female</td>\n",
       "      <td>A</td>\n",
       "      <td>3.8</td>\n",
       "      <td>-0.093023</td>\n",
       "      <td>0.550887</td>\n",
       "    </tr>\n",
       "    <tr>\n",
       "      <th>1</th>\n",
       "      <td>Female</td>\n",
       "      <td>A</td>\n",
       "      <td>6.0</td>\n",
       "      <td>2.106977</td>\n",
       "      <td>2.750887</td>\n",
       "    </tr>\n",
       "    <tr>\n",
       "      <th>2</th>\n",
       "      <td>Female</td>\n",
       "      <td>A</td>\n",
       "      <td>0.7</td>\n",
       "      <td>-3.193023</td>\n",
       "      <td>-2.549113</td>\n",
       "    </tr>\n",
       "    <tr>\n",
       "      <th>3</th>\n",
       "      <td>Female</td>\n",
       "      <td>A</td>\n",
       "      <td>2.9</td>\n",
       "      <td>-0.993023</td>\n",
       "      <td>-0.349113</td>\n",
       "    </tr>\n",
       "    <tr>\n",
       "      <th>4</th>\n",
       "      <td>Female</td>\n",
       "      <td>A</td>\n",
       "      <td>2.8</td>\n",
       "      <td>-1.093023</td>\n",
       "      <td>-0.449113</td>\n",
       "    </tr>\n",
       "  </tbody>\n",
       "</table>\n",
       "</div>"
      ],
      "text/plain": [
       "   gender diet  weight_lost     g_adj  both_adj\n",
       "0  Female    A          3.8 -0.093023  0.550887\n",
       "1  Female    A          6.0  2.106977  2.750887\n",
       "2  Female    A          0.7 -3.193023 -2.549113\n",
       "3  Female    A          2.9 -0.993023 -0.349113\n",
       "4  Female    A          2.8 -1.093023 -0.449113"
      ]
     },
     "execution_count": 157,
     "metadata": {},
     "output_type": "execute_result"
    }
   ],
   "source": [
    "# Order matters.\n",
    "# Subtract gender, then diet means\n",
    "g_then_d = diet_data.copy()\n",
    "g_then_d['g_adj'] = subtract_means(g_then_d, 'gender', 'weight_lost')\n",
    "g_then_d['both_adj'] = subtract_means(g_then_d, 'diet', 'g_adj')\n",
    "g_then_d.head()"
   ]
  },
  {
   "cell_type": "code",
   "execution_count": 158,
   "id": "ab18f5dc",
   "metadata": {},
   "outputs": [
    {
     "data": {
      "text/html": [
       "<div>\n",
       "<style scoped>\n",
       "    .dataframe tbody tr th:only-of-type {\n",
       "        vertical-align: middle;\n",
       "    }\n",
       "\n",
       "    .dataframe tbody tr th {\n",
       "        vertical-align: top;\n",
       "    }\n",
       "\n",
       "    .dataframe thead th {\n",
       "        text-align: right;\n",
       "    }\n",
       "</style>\n",
       "<table border=\"1\" class=\"dataframe\">\n",
       "  <thead>\n",
       "    <tr style=\"text-align: right;\">\n",
       "      <th></th>\n",
       "      <th>gender</th>\n",
       "      <th>diet</th>\n",
       "      <th>weight_lost</th>\n",
       "      <th>d_adj</th>\n",
       "      <th>both_adj</th>\n",
       "    </tr>\n",
       "  </thead>\n",
       "  <tbody>\n",
       "    <tr>\n",
       "      <th>0</th>\n",
       "      <td>Female</td>\n",
       "      <td>A</td>\n",
       "      <td>3.8</td>\n",
       "      <td>0.5</td>\n",
       "      <td>0.541261</td>\n",
       "    </tr>\n",
       "    <tr>\n",
       "      <th>1</th>\n",
       "      <td>Female</td>\n",
       "      <td>A</td>\n",
       "      <td>6.0</td>\n",
       "      <td>2.7</td>\n",
       "      <td>2.741261</td>\n",
       "    </tr>\n",
       "    <tr>\n",
       "      <th>2</th>\n",
       "      <td>Female</td>\n",
       "      <td>A</td>\n",
       "      <td>0.7</td>\n",
       "      <td>-2.6</td>\n",
       "      <td>-2.558739</td>\n",
       "    </tr>\n",
       "    <tr>\n",
       "      <th>3</th>\n",
       "      <td>Female</td>\n",
       "      <td>A</td>\n",
       "      <td>2.9</td>\n",
       "      <td>-0.4</td>\n",
       "      <td>-0.358739</td>\n",
       "    </tr>\n",
       "    <tr>\n",
       "      <th>4</th>\n",
       "      <td>Female</td>\n",
       "      <td>A</td>\n",
       "      <td>2.8</td>\n",
       "      <td>-0.5</td>\n",
       "      <td>-0.458739</td>\n",
       "    </tr>\n",
       "  </tbody>\n",
       "</table>\n",
       "</div>"
      ],
      "text/plain": [
       "   gender diet  weight_lost  d_adj  both_adj\n",
       "0  Female    A          3.8    0.5  0.541261\n",
       "1  Female    A          6.0    2.7  2.741261\n",
       "2  Female    A          0.7   -2.6 -2.558739\n",
       "3  Female    A          2.9   -0.4 -0.358739\n",
       "4  Female    A          2.8   -0.5 -0.458739"
      ]
     },
     "execution_count": 158,
     "metadata": {},
     "output_type": "execute_result"
    }
   ],
   "source": [
    "# Subtract diet, then gender means\n",
    "d_then_g = diet_data.copy()\n",
    "d_then_g['d_adj'] = subtract_means(d_then_g, 'diet', 'weight_lost')\n",
    "d_then_g['both_adj'] = subtract_means(d_then_g, 'gender', 'd_adj')\n",
    "d_then_g.head()"
   ]
  },
  {
   "cell_type": "code",
   "execution_count": 159,
   "id": "467b8a06",
   "metadata": {},
   "outputs": [
    {
     "data": {
      "text/html": [
       "<div>\n",
       "<style scoped>\n",
       "    .dataframe tbody tr th:only-of-type {\n",
       "        vertical-align: middle;\n",
       "    }\n",
       "\n",
       "    .dataframe tbody tr th {\n",
       "        vertical-align: top;\n",
       "    }\n",
       "\n",
       "    .dataframe thead th {\n",
       "        text-align: right;\n",
       "    }\n",
       "</style>\n",
       "<table border=\"1\" class=\"dataframe\">\n",
       "  <thead>\n",
       "    <tr style=\"text-align: right;\">\n",
       "      <th></th>\n",
       "      <th>Female</th>\n",
       "      <th>Male</th>\n",
       "    </tr>\n",
       "  </thead>\n",
       "  <tbody>\n",
       "    <tr>\n",
       "      <th>0</th>\n",
       "      <td>1</td>\n",
       "      <td>0</td>\n",
       "    </tr>\n",
       "    <tr>\n",
       "      <th>1</th>\n",
       "      <td>1</td>\n",
       "      <td>0</td>\n",
       "    </tr>\n",
       "    <tr>\n",
       "      <th>2</th>\n",
       "      <td>1</td>\n",
       "      <td>0</td>\n",
       "    </tr>\n",
       "    <tr>\n",
       "      <th>3</th>\n",
       "      <td>1</td>\n",
       "      <td>0</td>\n",
       "    </tr>\n",
       "    <tr>\n",
       "      <th>4</th>\n",
       "      <td>1</td>\n",
       "      <td>0</td>\n",
       "    </tr>\n",
       "    <tr>\n",
       "      <th>...</th>\n",
       "      <td>...</td>\n",
       "      <td>...</td>\n",
       "    </tr>\n",
       "    <tr>\n",
       "      <th>71</th>\n",
       "      <td>0</td>\n",
       "      <td>1</td>\n",
       "    </tr>\n",
       "    <tr>\n",
       "      <th>72</th>\n",
       "      <td>0</td>\n",
       "      <td>1</td>\n",
       "    </tr>\n",
       "    <tr>\n",
       "      <th>73</th>\n",
       "      <td>0</td>\n",
       "      <td>1</td>\n",
       "    </tr>\n",
       "    <tr>\n",
       "      <th>74</th>\n",
       "      <td>0</td>\n",
       "      <td>1</td>\n",
       "    </tr>\n",
       "    <tr>\n",
       "      <th>75</th>\n",
       "      <td>0</td>\n",
       "      <td>1</td>\n",
       "    </tr>\n",
       "  </tbody>\n",
       "</table>\n",
       "<p>76 rows × 2 columns</p>\n",
       "</div>"
      ],
      "text/plain": [
       "    Female  Male\n",
       "0        1     0\n",
       "1        1     0\n",
       "2        1     0\n",
       "3        1     0\n",
       "4        1     0\n",
       "..     ...   ...\n",
       "71       0     1\n",
       "72       0     1\n",
       "73       0     1\n",
       "74       0     1\n",
       "75       0     1\n",
       "\n",
       "[76 rows x 2 columns]"
      ]
     },
     "execution_count": 159,
     "metadata": {},
     "output_type": "execute_result"
    }
   ],
   "source": [
    "# We need to use optimize to deal with this.\n",
    "# First we need dummy columns.\n",
    "gender_dummies = pd.get_dummies(diet_data['gender'])\n",
    "gender_dummies"
   ]
  },
  {
   "cell_type": "code",
   "execution_count": 178,
   "id": "90c2bf1b",
   "metadata": {},
   "outputs": [],
   "source": [
    "# Use optimize to get the best least-squares parameters\n",
    "def rmse(params, y, cols):\n",
    "    predicted = np.sum(np.array(params) * np.array(cols), axis=1)\n",
    "    error = y - predicted\n",
    "    return np.sqrt(np.mean(error ** 2))"
   ]
  },
  {
   "cell_type": "code",
   "execution_count": 187,
   "id": "ea0c848e",
   "metadata": {},
   "outputs": [],
   "source": [
    "just_ones = np.ones((len(diet_data), 1))"
   ]
  },
  {
   "cell_type": "code",
   "execution_count": 189,
   "id": "47a8ab6c",
   "metadata": {},
   "outputs": [
    {
     "data": {
      "text/plain": [
       "3.8568974441559685"
      ]
     },
     "execution_count": 189,
     "metadata": {},
     "output_type": "execute_result"
    }
   ],
   "source": [
    "y = diet_data['weight_lost']\n",
    "rmse([1], y, just_ones)"
   ]
  },
  {
   "cell_type": "code",
   "execution_count": 197,
   "id": "3a8cc61a",
   "metadata": {},
   "outputs": [
    {
     "data": {
      "text/plain": [
       "3.9460526315789486"
      ]
     },
     "execution_count": 197,
     "metadata": {},
     "output_type": "execute_result"
    }
   ],
   "source": [
    "overall_mean = np.mean(y)\n",
    "overall_mean"
   ]
  },
  {
   "cell_type": "code",
   "execution_count": 198,
   "id": "b480973d",
   "metadata": {},
   "outputs": [
    {
     "data": {
      "text/plain": [
       "2.4892633020039487"
      ]
     },
     "execution_count": 198,
     "metadata": {},
     "output_type": "execute_result"
    }
   ],
   "source": [
    "rmse(overall_mean, y, just_ones)"
   ]
  },
  {
   "cell_type": "code",
   "execution_count": 199,
   "id": "fbdfda40",
   "metadata": {},
   "outputs": [
    {
     "data": {
      "text/plain": [
       "      fun: 2.4892633020039505\n",
       " hess_inv: array([[2.48991414]])\n",
       "      jac: array([-5.96046448e-08])\n",
       "  message: 'Optimization terminated successfully.'\n",
       "     nfev: 14\n",
       "      nit: 5\n",
       "     njev: 7\n",
       "   status: 0\n",
       "  success: True\n",
       "        x: array([3.94605253])"
      ]
     },
     "execution_count": 199,
     "metadata": {},
     "output_type": "execute_result"
    }
   ],
   "source": [
    "from scipy.optimize import minimize\n",
    "res = minimize(rmse, [0], args=(y, just_ones))\n",
    "res"
   ]
  },
  {
   "cell_type": "code",
   "execution_count": 194,
   "id": "1752b1ff",
   "metadata": {},
   "outputs": [
    {
     "data": {
      "text/plain": [
       "3.8568974441559685"
      ]
     },
     "execution_count": 194,
     "metadata": {},
     "output_type": "execute_result"
    }
   ],
   "source": [
    "rmse([1, 1], y, gender_dummies)"
   ]
  },
  {
   "cell_type": "code",
   "execution_count": 200,
   "id": "34c059de",
   "metadata": {},
   "outputs": [
    {
     "data": {
      "text/plain": [
       "gender\n",
       "Female    3.893023\n",
       "Male      4.015152\n",
       "Name: weight_lost, dtype: float64"
      ]
     },
     "execution_count": 200,
     "metadata": {},
     "output_type": "execute_result"
    }
   ],
   "source": [
    "g_means = diet_data.groupby('gender')['weight_lost'].mean()\n",
    "g_means"
   ]
  },
  {
   "cell_type": "code",
   "execution_count": 201,
   "id": "1278f186",
   "metadata": {},
   "outputs": [
    {
     "data": {
      "text/plain": [
       "2.4885271780797753"
      ]
     },
     "execution_count": 201,
     "metadata": {},
     "output_type": "execute_result"
    }
   ],
   "source": [
    "rmse(g_means, diet_data['weight_lost'], gender_dummies)"
   ]
  },
  {
   "cell_type": "code",
   "execution_count": 181,
   "id": "b728e4ee",
   "metadata": {},
   "outputs": [
    {
     "data": {
      "text/plain": [
       "      fun: 2.488527178085491\n",
       " hess_inv: array([[4.27660579, 0.09271357],\n",
       "       [0.09271357, 5.66055176]])\n",
       "      jac: array([-1.34110451e-06,  7.74860382e-07])\n",
       "  message: 'Optimization terminated successfully.'\n",
       "     nfev: 33\n",
       "      nit: 8\n",
       "     njev: 11\n",
       "   status: 0\n",
       "  success: True\n",
       "        x: array([3.89301735, 4.01515599])"
      ]
     },
     "execution_count": 181,
     "metadata": {},
     "output_type": "execute_result"
    }
   ],
   "source": [
    "from scipy.optimize import minimize\n",
    "res = minimize(rmse, [0, 0], args=(diet_data['weight_lost'], gender_dummies))\n",
    "res"
   ]
  },
  {
   "cell_type": "code",
   "execution_count": 203,
   "id": "e023e370",
   "metadata": {},
   "outputs": [
    {
     "data": {
      "text/html": [
       "<div>\n",
       "<style scoped>\n",
       "    .dataframe tbody tr th:only-of-type {\n",
       "        vertical-align: middle;\n",
       "    }\n",
       "\n",
       "    .dataframe tbody tr th {\n",
       "        vertical-align: top;\n",
       "    }\n",
       "\n",
       "    .dataframe thead th {\n",
       "        text-align: right;\n",
       "    }\n",
       "</style>\n",
       "<table border=\"1\" class=\"dataframe\">\n",
       "  <thead>\n",
       "    <tr style=\"text-align: right;\">\n",
       "      <th></th>\n",
       "      <th>gender_Female</th>\n",
       "      <th>gender_Male</th>\n",
       "      <th>diet_A</th>\n",
       "      <th>diet_B</th>\n",
       "      <th>diet_C</th>\n",
       "    </tr>\n",
       "  </thead>\n",
       "  <tbody>\n",
       "    <tr>\n",
       "      <th>0</th>\n",
       "      <td>1</td>\n",
       "      <td>0</td>\n",
       "      <td>1</td>\n",
       "      <td>0</td>\n",
       "      <td>0</td>\n",
       "    </tr>\n",
       "    <tr>\n",
       "      <th>1</th>\n",
       "      <td>1</td>\n",
       "      <td>0</td>\n",
       "      <td>1</td>\n",
       "      <td>0</td>\n",
       "      <td>0</td>\n",
       "    </tr>\n",
       "    <tr>\n",
       "      <th>2</th>\n",
       "      <td>1</td>\n",
       "      <td>0</td>\n",
       "      <td>1</td>\n",
       "      <td>0</td>\n",
       "      <td>0</td>\n",
       "    </tr>\n",
       "    <tr>\n",
       "      <th>3</th>\n",
       "      <td>1</td>\n",
       "      <td>0</td>\n",
       "      <td>1</td>\n",
       "      <td>0</td>\n",
       "      <td>0</td>\n",
       "    </tr>\n",
       "    <tr>\n",
       "      <th>4</th>\n",
       "      <td>1</td>\n",
       "      <td>0</td>\n",
       "      <td>1</td>\n",
       "      <td>0</td>\n",
       "      <td>0</td>\n",
       "    </tr>\n",
       "    <tr>\n",
       "      <th>...</th>\n",
       "      <td>...</td>\n",
       "      <td>...</td>\n",
       "      <td>...</td>\n",
       "      <td>...</td>\n",
       "      <td>...</td>\n",
       "    </tr>\n",
       "    <tr>\n",
       "      <th>71</th>\n",
       "      <td>0</td>\n",
       "      <td>1</td>\n",
       "      <td>0</td>\n",
       "      <td>0</td>\n",
       "      <td>1</td>\n",
       "    </tr>\n",
       "    <tr>\n",
       "      <th>72</th>\n",
       "      <td>0</td>\n",
       "      <td>1</td>\n",
       "      <td>0</td>\n",
       "      <td>0</td>\n",
       "      <td>1</td>\n",
       "    </tr>\n",
       "    <tr>\n",
       "      <th>73</th>\n",
       "      <td>0</td>\n",
       "      <td>1</td>\n",
       "      <td>0</td>\n",
       "      <td>0</td>\n",
       "      <td>1</td>\n",
       "    </tr>\n",
       "    <tr>\n",
       "      <th>74</th>\n",
       "      <td>0</td>\n",
       "      <td>1</td>\n",
       "      <td>0</td>\n",
       "      <td>0</td>\n",
       "      <td>1</td>\n",
       "    </tr>\n",
       "    <tr>\n",
       "      <th>75</th>\n",
       "      <td>0</td>\n",
       "      <td>1</td>\n",
       "      <td>0</td>\n",
       "      <td>0</td>\n",
       "      <td>1</td>\n",
       "    </tr>\n",
       "  </tbody>\n",
       "</table>\n",
       "<p>76 rows × 5 columns</p>\n",
       "</div>"
      ],
      "text/plain": [
       "    gender_Female  gender_Male  diet_A  diet_B  diet_C\n",
       "0               1            0       1       0       0\n",
       "1               1            0       1       0       0\n",
       "2               1            0       1       0       0\n",
       "3               1            0       1       0       0\n",
       "4               1            0       1       0       0\n",
       "..            ...          ...     ...     ...     ...\n",
       "71              0            1       0       0       1\n",
       "72              0            1       0       0       1\n",
       "73              0            1       0       0       1\n",
       "74              0            1       0       0       1\n",
       "75              0            1       0       0       1\n",
       "\n",
       "[76 rows x 5 columns]"
      ]
     },
     "execution_count": 203,
     "metadata": {},
     "output_type": "execute_result"
    }
   ],
   "source": [
    "all_dummies = pd.get_dummies(diet_data.loc[:, ['gender', 'diet']])\n",
    "all_dummies"
   ]
  },
  {
   "cell_type": "code",
   "execution_count": 204,
   "id": "11ea72f5",
   "metadata": {},
   "outputs": [
    {
     "data": {
      "text/plain": [
       "      fun: 2.3233174771190814\n",
       " hess_inv: array([[ 3.07139822, -1.27309257,  0.26237771,  0.30858282,  0.22731302],\n",
       "       [-1.27309257,  3.82104338,  0.66446696,  0.48205817,  0.40142805],\n",
       "       [ 0.26237771,  0.66446696,  5.47407237, -1.83141112, -1.71722954],\n",
       "       [ 0.30858282,  0.48205817, -1.83141112,  5.28343428, -1.66006448],\n",
       "       [ 0.22731302,  0.40142805, -1.71722954, -1.66006448,  5.00610079]])\n",
       "      jac: array([ 2.98023224e-08,  0.00000000e+00,  2.98023224e-08, -2.98023224e-08,\n",
       "        2.98023224e-08])\n",
       "  message: 'Optimization terminated successfully.'\n",
       "     nfev: 84\n",
       "      nit: 11\n",
       "     njev: 14\n",
       "   status: 0\n",
       "  success: True\n",
       "        x: array([2.29947103, 2.39455244, 0.96091195, 0.926693  , 2.80641883])"
      ]
     },
     "execution_count": 204,
     "metadata": {},
     "output_type": "execute_result"
    }
   ],
   "source": [
    "starting = np.zeros(len(all_dummies.columns))\n",
    "res = minimize(rmse, starting, args=(y, all_dummies))\n",
    "res"
   ]
  },
  {
   "cell_type": "markdown",
   "id": "e6f75543",
   "metadata": {},
   "source": [
    "## Cheating"
   ]
  },
  {
   "cell_type": "code",
   "execution_count": 218,
   "id": "ac832516",
   "metadata": {},
   "outputs": [
    {
     "data": {
      "text/plain": [
       "{('Female', 'A'): [0, 1, 2, 3, 4, 5, 6, 7, 8, 9, 10, 11, 12, 13], ('Female', 'B'): [14, 15, 16, 17, 18, 19, 20, 21, 22, 23, 24, 25, 26, 27], ('Female', 'C'): [28, 29, 30, 31, 32, 33, 34, 35, 36, 37, 38, 39, 40, 41, 42], ('Male', 'A'): [43, 44, 45, 46, 47, 48, 49, 50, 51, 52], ('Male', 'B'): [53, 54, 55, 56, 57, 58, 59, 60, 61, 62, 63], ('Male', 'C'): [64, 65, 66, 67, 68, 69, 70, 71, 72, 73, 74, 75]}"
      ]
     },
     "execution_count": 218,
     "metadata": {},
     "output_type": "execute_result"
    }
   ],
   "source": [
    "grouped = diet_data.groupby(['gender', 'diet'])\n",
    "groups = grouped.groups\n",
    "groups"
   ]
  },
  {
   "cell_type": "code",
   "execution_count": 222,
   "id": "403b06b8",
   "metadata": {},
   "outputs": [
    {
     "name": "stdout",
     "output_type": "stream",
     "text": [
      "Int64Index([0, 1, 2, 3, 4, 5, 6, 7, 8, 9, 10, 11, 12, 13], dtype='int64')\n",
      "Int64Index([14, 15, 16, 17, 18, 19, 20, 21, 22, 23, 24, 25, 26, 27], dtype='int64')\n",
      "Int64Index([28, 29, 30, 31, 32, 33, 34, 35, 36, 37, 38, 39, 40, 41, 42], dtype='int64')\n",
      "Int64Index([43, 44, 45, 46, 47, 48, 49, 50, 51, 52], dtype='int64')\n",
      "Int64Index([53, 54, 55, 56, 57, 58, 59, 60, 61, 62, 63], dtype='int64')\n",
      "Int64Index([64, 65, 66, 67, 68, 69, 70, 71, 72, 73, 74, 75], dtype='int64')\n"
     ]
    },
    {
     "data": {
      "text/html": [
       "<div>\n",
       "<style scoped>\n",
       "    .dataframe tbody tr th:only-of-type {\n",
       "        vertical-align: middle;\n",
       "    }\n",
       "\n",
       "    .dataframe tbody tr th {\n",
       "        vertical-align: top;\n",
       "    }\n",
       "\n",
       "    .dataframe thead th {\n",
       "        text-align: right;\n",
       "    }\n",
       "</style>\n",
       "<table border=\"1\" class=\"dataframe\">\n",
       "  <thead>\n",
       "    <tr style=\"text-align: right;\">\n",
       "      <th></th>\n",
       "      <th>gender</th>\n",
       "      <th>diet</th>\n",
       "      <th>weight_lost</th>\n",
       "    </tr>\n",
       "  </thead>\n",
       "  <tbody>\n",
       "    <tr>\n",
       "      <th>0</th>\n",
       "      <td>Female</td>\n",
       "      <td>A</td>\n",
       "      <td>3.8</td>\n",
       "    </tr>\n",
       "    <tr>\n",
       "      <th>1</th>\n",
       "      <td>Female</td>\n",
       "      <td>A</td>\n",
       "      <td>6.0</td>\n",
       "    </tr>\n",
       "    <tr>\n",
       "      <th>2</th>\n",
       "      <td>Female</td>\n",
       "      <td>A</td>\n",
       "      <td>0.7</td>\n",
       "    </tr>\n",
       "    <tr>\n",
       "      <th>3</th>\n",
       "      <td>Female</td>\n",
       "      <td>A</td>\n",
       "      <td>2.9</td>\n",
       "    </tr>\n",
       "    <tr>\n",
       "      <th>4</th>\n",
       "      <td>Female</td>\n",
       "      <td>A</td>\n",
       "      <td>2.8</td>\n",
       "    </tr>\n",
       "  </tbody>\n",
       "</table>\n",
       "</div>"
      ],
      "text/plain": [
       "   gender diet  weight_lost\n",
       "0  Female    A          3.8\n",
       "1  Female    A          6.0\n",
       "2  Female    A          0.7\n",
       "3  Female    A          2.9\n",
       "4  Female    A          2.8"
      ]
     },
     "execution_count": 222,
     "metadata": {},
     "output_type": "execute_result"
    }
   ],
   "source": [
    "equal_indices = []\n",
    "for group_ids in groups:\n",
    "    indices = groups[group_ids]\n",
    "    equal_indices += list(indices)[:10]\n",
    "diet_cheat = diet_data.loc[equal_indices]\n",
    "diet_cheat.head()"
   ]
  },
  {
   "cell_type": "code",
   "execution_count": 215,
   "id": "2ff22c58",
   "metadata": {},
   "outputs": [
    {
     "data": {
      "text/plain": [
       "0    3.8\n",
       "1    6.0\n",
       "2    0.7\n",
       "3    2.9\n",
       "4    2.8\n",
       "Name: weight_lost, dtype: float64"
      ]
     },
     "execution_count": 215,
     "metadata": {},
     "output_type": "execute_result"
    }
   ],
   "source": [
    "groups = []\n",
    "for element in group_ns.index:\n",
    "    group = grouped.get_group(element).iloc[:10]\n",
    "    groups.append(group)\n",
    "diet_cheat = pd.concat(groups)\n",
    "diet_cheat.head()"
   ]
  },
  {
   "cell_type": "markdown",
   "id": "21058506",
   "metadata": {},
   "source": [
    "## Means by group\n",
    "\n",
    "Here are the data, plotted by group."
   ]
  },
  {
   "cell_type": "code",
   "execution_count": null,
   "id": "852bd6ae",
   "metadata": {},
   "outputs": [],
   "source": [
    "diets.plot.scatter('diet', 'weight_lost');"
   ]
  },
  {
   "cell_type": "markdown",
   "id": "0eb5a42e",
   "metadata": {},
   "source": [
    "These are the means for each of the three groups."
   ]
  },
  {
   "cell_type": "code",
   "execution_count": null,
   "id": "443b839f",
   "metadata": {},
   "outputs": [],
   "source": [
    "group_means = diets.groupby('diet').mean()\n",
    "group_means"
   ]
  },
  {
   "cell_type": "markdown",
   "id": "3cf3ffd7",
   "metadata": {},
   "source": [
    "These are the number of observations per group:"
   ]
  },
  {
   "cell_type": "code",
   "execution_count": null,
   "id": "d853e3e5",
   "metadata": {},
   "outputs": [],
   "source": [
    "group_ns = diets.groupby('diet').count()\n",
    "group_ns"
   ]
  },
  {
   "cell_type": "markdown",
   "id": "1b0522d7",
   "metadata": {},
   "source": [
    "Here is the overall mean, ignoring the group membership:"
   ]
  },
  {
   "cell_type": "code",
   "execution_count": null,
   "id": "5f310338",
   "metadata": {},
   "outputs": [],
   "source": [
    "overall_mean = np.mean(diets['weight_lost'])\n",
    "overall_mean"
   ]
  },
  {
   "cell_type": "markdown",
   "id": "f7fdf559",
   "metadata": {},
   "source": [
    "The next plot shows the data, the group means, and the overall mean:"
   ]
  },
  {
   "cell_type": "code",
   "execution_count": null,
   "id": "06af7536",
   "metadata": {},
   "outputs": [],
   "source": [
    "diets.plot.scatter('diet', 'weight_lost',\n",
    "                         label='Data')\n",
    "plt.scatter(group_means.index, np.array(group_means), color='red',\n",
    "            label='Group means')\n",
    "# A dashed line at the overall mean.\n",
    "plt.plot(group_means.index,\n",
    "         [overall_mean, overall_mean, overall_mean],\n",
    "         ':', color='green',\n",
    "         label='Overall mean')\n",
    "# A dashed line between each group mean and the overall mean.\n",
    "for group in group_means.index:\n",
    "    xs = [group, group]\n",
    "    ys = [float(group_means.loc[group]), overall_mean]\n",
    "    plt.plot(xs, ys, ':', color='red')\n",
    "plt.legend();"
   ]
  },
  {
   "cell_type": "markdown",
   "id": "6749f45e",
   "metadata": {},
   "source": [
    "Notice the red dashed lines between the group means and the\n",
    "overall mean.  To make these easier to see, here is the same\n",
    "plot, without the individual data points:"
   ]
  },
  {
   "cell_type": "code",
   "execution_count": null,
   "id": "2bf24c99",
   "metadata": {},
   "outputs": [],
   "source": [
    "plt.scatter(group_means.index, np.array(group_means), color='red',\n",
    "            label='Group means')\n",
    "# A dashed line at the overall mean.\n",
    "plt.plot(group_means.index,\n",
    "         [overall_mean, overall_mean, overall_mean],\n",
    "         ':', color='green',\n",
    "         label='Overall mean')\n",
    "# A dashed line between each group mean and the overall mean.\n",
    "for group in group_means.index:\n",
    "    xs = [group, group]\n",
    "    ys = [float(group_means.loc[group]), overall_mean]\n",
    "    plt.plot(xs, ys, ':', color='red')\n",
    "plt.legend();"
   ]
  },
  {
   "cell_type": "markdown",
   "id": "495dcefa",
   "metadata": {},
   "source": [
    "We designed our SNSQGMD metric to be large when the sum of the squared lengths of\n",
    "these lines are large.  The N in  SNSQGMD reminds us we multiply each squared\n",
    "length by the number in the group, to give more weight to large groups.\n",
    "\n",
    "To calculate SNSQGMD we get the Group Mean Difference."
   ]
  },
  {
   "cell_type": "code",
   "execution_count": null,
   "id": "39754ec5",
   "metadata": {},
   "outputs": [],
   "source": [
    "gmd = group_means - overall_mean\n",
    "gmd"
   ]
  },
  {
   "cell_type": "markdown",
   "id": "639a4ac2",
   "metadata": {},
   "source": [
    "We square these differences:"
   ]
  },
  {
   "cell_type": "code",
   "execution_count": null,
   "id": "ab92baf1",
   "metadata": {},
   "outputs": [],
   "source": [
    "sq_gmd = gmd ** 2\n",
    "sq_gmd"
   ]
  },
  {
   "cell_type": "markdown",
   "id": "18ba26f3",
   "metadata": {},
   "source": [
    "We want to give more weight to groups with more members, so we multiply each\n",
    "squared difference by the number in the group:"
   ]
  },
  {
   "cell_type": "code",
   "execution_count": null,
   "id": "ac845382",
   "metadata": {},
   "outputs": [],
   "source": [
    "n_sq_gmd = sq_gmd * group_ns\n",
    "n_sq_gmd"
   ]
  },
  {
   "cell_type": "markdown",
   "id": "d55051d5",
   "metadata": {},
   "source": [
    "Finally, we add up these weighted squares to get the final metric:"
   ]
  },
  {
   "cell_type": "code",
   "execution_count": null,
   "id": "9b0b3720",
   "metadata": {},
   "outputs": [],
   "source": [
    "observed_sn_sq_gmd = np.sum(n_sq_gmd)\n",
    "observed_sn_sq_gmd"
   ]
  },
  {
   "cell_type": "markdown",
   "id": "365234ed",
   "metadata": {},
   "source": [
    "To make the process a bit clearer, we put the calculation of our\n",
    "metric into its own function so we can re-use it on different data frames."
   ]
  },
  {
   "cell_type": "code",
   "execution_count": null,
   "id": "65d9f9cf",
   "metadata": {},
   "outputs": [],
   "source": [
    "def get_sn_sq_gmd(df, group_col, val_col):\n",
    "    overall_mean = np.mean(df[val_col])\n",
    "    grouped = df.groupby(group_col)[val_col]\n",
    "    sq_gmd = (grouped.mean() - overall_mean) ** 2\n",
    "    return np.sum(sq_gmd * grouped.count())"
   ]
  },
  {
   "cell_type": "markdown",
   "id": "73ae48fb",
   "metadata": {},
   "source": [
    "Check that we get the same answer from the function as we did with the\n",
    "step-by-step calculation:"
   ]
  },
  {
   "cell_type": "code",
   "execution_count": null,
   "id": "af80cd2d",
   "metadata": {},
   "outputs": [],
   "source": [
    "get_sn_sq_gmd(diets, 'diet', 'weight_lost')"
   ]
  },
  {
   "cell_type": "markdown",
   "id": "c630c2fe",
   "metadata": {},
   "source": [
    "Next we consider a single trial in our ideal, null, fake world.  We do this by\n",
    "making a copy of the data frame, and then permuting the diet labels, so\n",
    "the association between the diet and the change values is random."
   ]
  },
  {
   "cell_type": "code",
   "execution_count": null,
   "id": "259c37f8",
   "metadata": {},
   "outputs": [],
   "source": [
    "fake_data = diets.copy()\n",
    "# Permute the treatment labels\n",
    "fake_data['diet'] = np.random.permutation(fake_data['diet'])\n",
    "fake_data.head()"
   ]
  },
  {
   "cell_type": "markdown",
   "id": "d93876f8",
   "metadata": {},
   "source": [
    "We calculate our metric on these new data, step by step."
   ]
  },
  {
   "cell_type": "code",
   "execution_count": null,
   "id": "108aefc0",
   "metadata": {},
   "outputs": [],
   "source": [
    "fake_grouped = fake_data.groupby('diet')['weight_lost']\n",
    "# Notice that the overall_mean cannot change because we did not\n",
    "# change these values.\n",
    "fake_sq_gmd = (fake_grouped.mean() - overall_mean) ** 2\n",
    "fake_sn_sq_gmd = np.sum(fake_sq_gmd * fake_grouped.count())\n",
    "fake_sn_sq_gmd"
   ]
  },
  {
   "cell_type": "markdown",
   "id": "ea0f723d",
   "metadata": {},
   "source": [
    "We can also use the function above to do that calculation, and get the same\n",
    "answer:"
   ]
  },
  {
   "cell_type": "code",
   "execution_count": null,
   "id": "dfd749ea",
   "metadata": {},
   "outputs": [],
   "source": [
    "get_sn_sq_gmd(fake_data, 'diet', 'weight_lost')"
   ]
  },
  {
   "cell_type": "markdown",
   "id": "f08fb9be",
   "metadata": {},
   "source": [
    "Now we are ready to do our simulation.  We do 10000 trials. In each trial, we\n",
    "make a new random association, and recalculate the sum of squares metric."
   ]
  },
  {
   "cell_type": "code",
   "execution_count": null,
   "id": "4cd3522c",
   "metadata": {},
   "outputs": [],
   "source": [
    "n_iters = 10000\n",
    "fake_sn_sq_gmds = np.zeros(n_iters)\n",
    "for i in np.arange(n_iters):\n",
    "    # Make sample from null world.\n",
    "    fake_data['diet'] = np.random.permutation(fake_data['diet'])\n",
    "    # Calculate corresponding metric.\n",
    "    fake_sn_sq_gmds[i] = get_sn_sq_gmd(fake_data, 'diet', 'weight_lost')"
   ]
  },
  {
   "cell_type": "markdown",
   "id": "6cf441b3",
   "metadata": {},
   "source": [
    "Of course, because these are sums of squares, they must all be positive."
   ]
  },
  {
   "cell_type": "code",
   "execution_count": null,
   "id": "8c0aa7b6",
   "metadata": {},
   "outputs": [],
   "source": [
    "plt.hist(fake_sn_sq_gmds, bins=100);"
   ]
  },
  {
   "cell_type": "markdown",
   "id": "438ed110",
   "metadata": {},
   "source": [
    "How does our observed sum of squares metric compare to the distribution of fake\n",
    "sum of square metrics?"
   ]
  },
  {
   "cell_type": "code",
   "execution_count": null,
   "id": "cb7df426",
   "metadata": {},
   "outputs": [],
   "source": [
    "p = np.count_nonzero(fake_sn_sq_gmds >= float(observed_sn_sq_gmd)) / n_iters\n",
    "p"
   ]
  },
  {
   "cell_type": "markdown",
   "id": "b93d52bd",
   "metadata": {},
   "source": [
    "The p value tells us that this observed metric is very unlikely to have come\n",
    "about in a random world.\n"
   ]
  },
  {
   "cell_type": "markdown",
   "id": "731e2e0b",
   "metadata": {},
   "source": [
    "## Comparing to standard one-way ANOVA F tests\n",
    "\n",
    "In this section, we do the standard F-test calculations to show that we get a\n",
    "similar p value to the permutation version above.  This is the Statsmodels\n",
    "implementation of the one-way F test:"
   ]
  },
  {
   "cell_type": "code",
   "execution_count": null,
   "id": "322a2cf5",
   "metadata": {},
   "outputs": [],
   "source": [
    "import statsmodels.api as sm\n",
    "import statsmodels.formula.api as smf\n",
    "\n",
    "mod = smf.ols('weight_lost ~ diet', data=diets).fit()\n",
    "\n",
    "sm.stats.anova_lm(mod, typ=1)"
   ]
  },
  {
   "cell_type": "markdown",
   "id": "d7e41f7a",
   "metadata": {},
   "source": [
    "Here is the same calculation in Scipy:"
   ]
  },
  {
   "cell_type": "code",
   "execution_count": null,
   "id": "fcf6a4a5",
   "metadata": {},
   "outputs": [],
   "source": [
    "from scipy.stats import f_oneway"
   ]
  },
  {
   "cell_type": "code",
   "execution_count": null,
   "id": "ccd4b6ec",
   "metadata": {},
   "outputs": [],
   "source": [
    "# Get the values from the individual groups.\n",
    "treatment = diets['diet']\n",
    "change = diets['weight_lost']\n",
    "diet_a_values = np.array(change[treatment == 'A'])\n",
    "diet_b_values = np.array(change[treatment == 'B'])\n",
    "diet_c_values = np.array(change[treatment == 'C'])"
   ]
  },
  {
   "cell_type": "markdown",
   "id": "2bb6be48",
   "metadata": {},
   "source": [
    "Do the F-test:"
   ]
  },
  {
   "cell_type": "code",
   "execution_count": null,
   "id": "4d146851",
   "metadata": {
    "lines_to_next_cell": 2
   },
   "outputs": [],
   "source": [
    "f_result = f_oneway(diet_a_values, diet_b_values, diet_c_values)\n",
    "f_result"
   ]
  },
  {
   "cell_type": "markdown",
   "id": "83b4e269",
   "metadata": {},
   "source": [
    "## The F statistic and the SNSQGMD metric\n",
    "\n",
    "In this section, we go into more detail about the calculation of the F value\n",
    "that you see above.  Here is the F statistic we got from Scipy (and\n",
    "Statsmodels):"
   ]
  },
  {
   "cell_type": "code",
   "execution_count": null,
   "id": "21046bc1",
   "metadata": {},
   "outputs": [],
   "source": [
    "F_stat = f_result.statistic\n",
    "F_stat"
   ]
  },
  {
   "cell_type": "markdown",
   "id": "49c52770",
   "metadata": {},
   "source": [
    "This section goes through the calculation of the F statistic from the SNSQGMD\n",
    "metric.  This is the SNSQGMD value we calculated:"
   ]
  },
  {
   "cell_type": "code",
   "execution_count": null,
   "id": "0b4c8c64",
   "metadata": {},
   "outputs": [],
   "source": [
    "observed_sn_sq_gmd"
   ]
  },
  {
   "cell_type": "markdown",
   "id": "0a2c93bb",
   "metadata": {},
   "source": [
    "You can get the F statistic above by dividing the SNSQGMD metric by a scaled\n",
    "estimate of the variation still present in the data.\n",
    "\n",
    "The variation still present in the data are the remaining distances between the\n",
    "data (in the plot above) and their corresponding group means.  Call these\n",
    "remaining distances the \"residuals\"."
   ]
  },
  {
   "cell_type": "markdown",
   "id": "dea627ac",
   "metadata": {},
   "source": [
    "Subtract each group mean from their respective group values:"
   ]
  },
  {
   "cell_type": "code",
   "execution_count": null,
   "id": "500dc866",
   "metadata": {},
   "outputs": [],
   "source": [
    "# Calculate the residuals from the group means.\n",
    "diet_a_resid = diet_a_values - np.mean(diet_a_values)\n",
    "diet_b_resid = diet_b_values - np.mean(diet_b_values)\n",
    "diet_c_resid = diet_c_values - np.mean(diet_c_values)"
   ]
  },
  {
   "cell_type": "markdown",
   "id": "f5fc22b2",
   "metadata": {},
   "source": [
    "Finally, we sum up the squares of these residuals:"
   ]
  },
  {
   "cell_type": "code",
   "execution_count": null,
   "id": "c20e3800",
   "metadata": {},
   "outputs": [],
   "source": [
    "# We concatenate the three sets of residuals into one long array.\n",
    "all_group_resid = np.concatenate(\n",
    "    [diet_a_resid, diet_b_resid, diet_c_resid])\n",
    "# Sum of squared residuals from group means.\n",
    "ssq_resid_groups = np.sum(all_group_resid ** 2)\n",
    "ssq_resid_groups"
   ]
  },
  {
   "cell_type": "markdown",
   "id": "ce1f72ab",
   "metadata": {},
   "source": [
    "The F-statistic results from dividing this measure of remaining variation into\n",
    "the SNSQGMD metric, with some scaling.  The scaling comes from the number of\n",
    "observations, and the number of groups."
   ]
  },
  {
   "cell_type": "code",
   "execution_count": null,
   "id": "66e59296",
   "metadata": {},
   "outputs": [],
   "source": [
    "n_obs = len(diets)\n",
    "n_groups = len(group_means)"
   ]
  },
  {
   "cell_type": "markdown",
   "id": "74fb1a95",
   "metadata": {},
   "source": [
    "Here is the full calculation of the F-statistic. Notice that it is exactly the\n",
    "same as we got from Scipy and Statsmodels."
   ]
  },
  {
   "cell_type": "code",
   "execution_count": null,
   "id": "ad99b7a2",
   "metadata": {},
   "outputs": [],
   "source": [
    "# Calculate of the F value by scaling and dividing by residual variation\n",
    "# metric.\n",
    "df_groups = n_groups - 1  # Degrees of freedom for groups.\n",
    "df_error = n_obs - n_groups  # Degrees of freedom for residuals.\n",
    "# The F statistic\n",
    "(observed_sn_sq_gmd / df_groups) / (ssq_resid_groups / df_error)"
   ]
  },
  {
   "cell_type": "markdown",
   "id": "42dca7b7",
   "metadata": {},
   "source": [
    "Scaling and dividing by the residual variation gives a value that we can reason\n",
    "about with some standard mathematics, as long as we are prepared to assume that\n",
    "the values come from a normal distribution.  Specifically, with those\n",
    "assumptions, we can get a p value by comparing the observed F value to a\n",
    "standard F distribution with the same \"degrees of freedom\".  These are the\n",
    "`df_groups` and `df_error` values above."
   ]
  },
  {
   "cell_type": "code",
   "execution_count": null,
   "id": "8a15ae69",
   "metadata": {},
   "outputs": [],
   "source": [
    "# Get standard F distribution object from Scipy.\n",
    "from scipy.stats import f as f_dist\n",
    "\n",
    "# Look up p value for a particular F statistic and degrees of freedom.\n",
    "# Notice the p value is the same as the p value from Scipy f_oneway\n",
    "# and from Statsmodels.\n",
    "f_dist(df_groups, df_error).sf(F_stat)"
   ]
  },
  {
   "cell_type": "markdown",
   "id": "3dcb289e",
   "metadata": {},
   "source": [
    "As you have seen, the permutation estimate gives a very similar answer.  We\n",
    "would argue that it is also a lot easier to explain."
   ]
  },
  {
   "cell_type": "markdown",
   "id": "96d8f1f6",
   "metadata": {},
   "source": [
    "## F tests in terms of explained variation\n",
    "\n",
    "You will often see explanations of the F-value in terms of the amount of\n",
    "variation explained by the overall mean, compared to the amount of variation\n",
    "explained with the individual group means.  In fact, this \"variance\" way of\n",
    "thinking is what gave the test the name ANOVA (Analysis of Variance).\n",
    "\n",
    "The explained variation path (literally) adds up to the same thing as the\n",
    "SNSQGMD metric version of the F statistic above.  The current section goes\n",
    "through the explained variation way of thinking of the F statistic, and shows\n",
    "that it gives the same value for the SNSQGMD metric.\n",
    "\n",
    "The \"variance\" way of thinking about the F looks at the sum of squared\n",
    "\"residual\" variation in two situations.  First we get the residual variation\n",
    "when we subtract the group means.  We already have this from the F test\n",
    "calculation above.  Here we repeat the calculation as a reminder of what the\n",
    "value means:"
   ]
  },
  {
   "cell_type": "code",
   "execution_count": null,
   "id": "67dfc940",
   "metadata": {},
   "outputs": [],
   "source": [
    "ssq_resid_groups = np.sum(all_group_resid ** 2)\n",
    "ssq_resid_groups"
   ]
  },
  {
   "cell_type": "markdown",
   "id": "9177bd11",
   "metadata": {},
   "source": [
    "This is the sum of squared remaining variation when using the group means.\n",
    "\n",
    "We compare this to the squared remaining variation when just using the overall\n",
    "mean.  Here is that calculation."
   ]
  },
  {
   "cell_type": "code",
   "execution_count": null,
   "id": "3bcc9b72",
   "metadata": {},
   "outputs": [],
   "source": [
    "# Sum of squared residuals using overall mean\n",
    "# Subtract the overall mean from the original values to get residuals.\n",
    "resid_overall = diets['weight_lost'] - overall_mean\n",
    "# Square and sum the residuals to get the squared variation from overall mean.\n",
    "ssq_resid_overall = np.sum(resid_overall ** 2)\n",
    "ssq_resid_overall"
   ]
  },
  {
   "cell_type": "markdown",
   "id": "c5d17c53",
   "metadata": {},
   "source": [
    "The variance way of thinking says that we should be particularly interested in\n",
    "our group means, when using them does a very good job of reducing the\n",
    "variation.  This will happen when the group values are a lot closer to their\n",
    "individual group means, than they are to the overall mean.  In that case,\n",
    "`ssq_resid_groups` will be much lower than `ssq_resid_overall`, so we will get\n",
    "a fairly high value for `ssq_resid_overall - ssq_resid_groups`.  The result of\n",
    "this subtraction is called the *extra sum of squares* explained by the sample\n",
    "means:"
   ]
  },
  {
   "cell_type": "code",
   "execution_count": null,
   "id": "72f6e4d7",
   "metadata": {},
   "outputs": [],
   "source": [
    "ess = ssq_resid_overall - ssq_resid_groups\n",
    "ess"
   ]
  },
  {
   "cell_type": "markdown",
   "id": "65f3e356",
   "metadata": {},
   "source": [
    "Remember, `ssq_resid_overall` is the (sum of squared) variation remaining after\n",
    "accounting for the overall mean, and `ssq_resid_groups` is the (sum of squared)\n",
    "variation remaining after accounting for the sample means, so `ess` is the\n",
    "*extra* variation accounted for by using the sample means.\n",
    "\n",
    "But — wait — the `ess` value is *exactly* the same as the SNSQGMD metric we\n",
    "were already using!"
   ]
  },
  {
   "cell_type": "code",
   "execution_count": null,
   "id": "d16e8b99",
   "metadata": {},
   "outputs": [],
   "source": [
    "observed_sn_sq_gmd"
   ]
  },
  {
   "cell_type": "markdown",
   "id": "563046dc",
   "metadata": {},
   "source": [
    "This striking fact is true for any possible values and groups, and arises from\n",
    "the algebra of adding squared deviations from means.  The equivalence gives us\n",
    "two different ways of thinking of the same SNSQGMD metric value.  The SNSQGMD\n",
    "value is both:\n",
    "\n",
    "* A measure of how far the sample means are from the overall mean, AND\n",
    "* A measure of how much variation the sample means explain, over and above the\n",
    "  overall mean.\n",
    "\n",
    "In this second \"explained variance\" interpretation, we think of the F test\n",
    "calculation as being a scaled ratio of the extra variance explained by the\n",
    "sample means to the variance still remaining when we use the sample means.  If\n",
    "the sample means explain a lot of variation, then the top half of the F\n",
    "statistic will be large, and the bottom half will be small, giving a large F\n",
    "value."
   ]
  }
 ],
 "metadata": {
  "jupytext": {
   "notebook_metadata_filter": "all,-language_info",
   "split_at_heading": true
  },
  "kernelspec": {
   "display_name": "Python 3",
   "language": "python",
   "name": "python3"
  },
  "language_info": {
   "codemirror_mode": {
    "name": "ipython",
    "version": 3
   },
   "file_extension": ".py",
   "mimetype": "text/x-python",
   "name": "python",
   "nbconvert_exporter": "python",
   "pygments_lexer": "ipython3",
   "version": "3.8.11"
  }
 },
 "nbformat": 4,
 "nbformat_minor": 5
}
