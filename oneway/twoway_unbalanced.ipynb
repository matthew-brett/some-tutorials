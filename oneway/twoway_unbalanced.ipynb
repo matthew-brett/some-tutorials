{
 "cells": [
  {
   "cell_type": "markdown",
   "id": "b6891e2c",
   "metadata": {},
   "source": [
    "# Unbalanced two-way ANOVA\n",
    "\n",
    "This page follows on from the [two-way balanced ANOVA\n",
    "notebook](./twoway_balanced.ipynb).\n",
    "\n",
    "Please make sure you follow the two-way balanced ANOVA notebook before you read\n",
    "this notebook, because we are going to re-use notation and machinery\n",
    "from that notebook.\n",
    "\n",
    "That notebook introduced the two-way Analysis of Variance (ANOVA).  It\n",
    "generalizes the one-way ANOVA by looking at the means for the levels of the\n",
    "different factors, and the means for each of the (here) six groups.\n",
    "\n",
    "The two-way balanced ANOVA notebook introduced a cheat to simplify the\n",
    "calculations, where we dropped some rows in order to make the number of rows in\n",
    "each subgroup the same.  A sub-group is a group with the same level in the two\n",
    "factors.  When there are two factors, one with 2 levels, the other with 3, then\n",
    "there are 2 * 3 = 6 sub-groups.  In our example, one sub-group would be those\n",
    "rows for which the `gender` Factor has level `Female` and the `diet` factor has\n",
    "level `A`.\n",
    "\n",
    "This notebook covers the more general and typical case, where there are not the same number in each sub-group.\n",
    "\n",
    "As we will see, this introduces some complications that can only be solved by using multiple regression, and here, it is simpler to take the Extra Sum of Squares view of the SNSQGMD metric.  See the [oneway ANOVA notebook](./oneway_diet.ipynb) for a longer explanation of the different ways of thinking of the SNSQGMD metric.\n"
   ]
  },
  {
   "cell_type": "markdown",
   "id": "24549a45",
   "metadata": {},
   "source": [
    "## Back again to the example\n"
   ]
  },
  {
   "cell_type": "code",
   "execution_count": 1,
   "id": "d66a8aae",
   "metadata": {},
   "outputs": [],
   "source": [
    "# Array, data frame and plotting libraries.\n",
    "import numpy as np\n",
    "import pandas as pd\n",
    "import matplotlib.pyplot as plt\n",
    "\n",
    "# Statsmodels ANOVA machinery.\n",
    "import statsmodels.api as sm\n",
    "import statsmodels.formula.api as smf"
   ]
  },
  {
   "cell_type": "markdown",
   "id": "a11331d7",
   "metadata": {},
   "source": [
    "We return again to our dataset giving amount of weight lost (in kilograms)\n",
    "after 10 weeks of one of three possible diets.\n",
    "\n",
    "As in the one-way ANOVA page, we use the `gender` column to define one factor,\n",
    "and the `diet` column to define another, so we can classify the rows\n",
    "(individuals) into `Female` or `Male` (`gender`) and into `A`, `B` and `C`\n",
    "(`diet`).\n",
    "\n",
    "See: [the dataset page](https://github.com/odsti/datasets/tree/master/sheffield_diet) for more detail."
   ]
  },
  {
   "cell_type": "code",
   "execution_count": 2,
   "id": "49c80194",
   "metadata": {},
   "outputs": [
    {
     "data": {
      "text/html": [
       "<div>\n",
       "<style scoped>\n",
       "    .dataframe tbody tr th:only-of-type {\n",
       "        vertical-align: middle;\n",
       "    }\n",
       "\n",
       "    .dataframe tbody tr th {\n",
       "        vertical-align: top;\n",
       "    }\n",
       "\n",
       "    .dataframe thead th {\n",
       "        text-align: right;\n",
       "    }\n",
       "</style>\n",
       "<table border=\"1\" class=\"dataframe\">\n",
       "  <thead>\n",
       "    <tr style=\"text-align: right;\">\n",
       "      <th></th>\n",
       "      <th>gender</th>\n",
       "      <th>diet</th>\n",
       "      <th>weight_lost</th>\n",
       "    </tr>\n",
       "  </thead>\n",
       "  <tbody>\n",
       "    <tr>\n",
       "      <th>0</th>\n",
       "      <td>Female</td>\n",
       "      <td>A</td>\n",
       "      <td>3.8</td>\n",
       "    </tr>\n",
       "    <tr>\n",
       "      <th>1</th>\n",
       "      <td>Female</td>\n",
       "      <td>A</td>\n",
       "      <td>6.0</td>\n",
       "    </tr>\n",
       "    <tr>\n",
       "      <th>2</th>\n",
       "      <td>Female</td>\n",
       "      <td>A</td>\n",
       "      <td>0.7</td>\n",
       "    </tr>\n",
       "    <tr>\n",
       "      <th>3</th>\n",
       "      <td>Female</td>\n",
       "      <td>A</td>\n",
       "      <td>2.9</td>\n",
       "    </tr>\n",
       "    <tr>\n",
       "      <th>4</th>\n",
       "      <td>Female</td>\n",
       "      <td>A</td>\n",
       "      <td>2.8</td>\n",
       "    </tr>\n",
       "  </tbody>\n",
       "</table>\n",
       "</div>"
      ],
      "text/plain": [
       "   gender diet  weight_lost\n",
       "0  Female    A          3.8\n",
       "1  Female    A          6.0\n",
       "2  Female    A          0.7\n",
       "3  Female    A          2.9\n",
       "4  Female    A          2.8"
      ]
     },
     "execution_count": 2,
     "metadata": {},
     "output_type": "execute_result"
    }
   ],
   "source": [
    "# Read the dataset\n",
    "diet_data = pd.read_csv('sheffield_diet.csv')\n",
    "diet_data.head()"
   ]
  },
  {
   "cell_type": "markdown",
   "id": "25f5204c",
   "metadata": {},
   "source": [
    "Pandas `groupby` can classify each row using *both* the `gender` label (level) and the `diet` label (level).  Notice we have different number is the six possible sub-groups."
   ]
  },
  {
   "cell_type": "code",
   "execution_count": 3,
   "id": "ccc46291",
   "metadata": {},
   "outputs": [
    {
     "data": {
      "text/plain": [
       "gender  diet\n",
       "Female  A       14\n",
       "        B       14\n",
       "        C       15\n",
       "Male    A       10\n",
       "        B       11\n",
       "        C       12\n",
       "Name: weight_lost, dtype: int64"
      ]
     },
     "execution_count": 3,
     "metadata": {},
     "output_type": "execute_result"
    }
   ],
   "source": [
    "grouped = diet_data.groupby(['gender', 'diet'])\n",
    "# Show the counts in each of the six groups.\n",
    "grouped['weight_lost'].count()"
   ]
  },
  {
   "cell_type": "markdown",
   "id": "9ceb788e",
   "metadata": {},
   "source": [
    "## Unbalanced two-way ANOVA\n",
    "\n",
    "Here is the standard two-way ANOVA, using Statsmodels."
   ]
  },
  {
   "cell_type": "code",
   "execution_count": 4,
   "id": "924198dc",
   "metadata": {},
   "outputs": [
    {
     "data": {
      "text/html": [
       "<div>\n",
       "<style scoped>\n",
       "    .dataframe tbody tr th:only-of-type {\n",
       "        vertical-align: middle;\n",
       "    }\n",
       "\n",
       "    .dataframe tbody tr th {\n",
       "        vertical-align: top;\n",
       "    }\n",
       "\n",
       "    .dataframe thead th {\n",
       "        text-align: right;\n",
       "    }\n",
       "</style>\n",
       "<table border=\"1\" class=\"dataframe\">\n",
       "  <thead>\n",
       "    <tr style=\"text-align: right;\">\n",
       "      <th></th>\n",
       "      <th>sum_sq</th>\n",
       "      <th>df</th>\n",
       "      <th>F</th>\n",
       "      <th>PR(&gt;F)</th>\n",
       "    </tr>\n",
       "  </thead>\n",
       "  <tbody>\n",
       "    <tr>\n",
       "      <th>gender</th>\n",
       "      <td>0.168696</td>\n",
       "      <td>1.0</td>\n",
       "      <td>0.031379</td>\n",
       "      <td>0.859910</td>\n",
       "    </tr>\n",
       "    <tr>\n",
       "      <th>diet</th>\n",
       "      <td>60.417220</td>\n",
       "      <td>2.0</td>\n",
       "      <td>5.619026</td>\n",
       "      <td>0.005456</td>\n",
       "    </tr>\n",
       "    <tr>\n",
       "      <th>gender:diet</th>\n",
       "      <td>33.904068</td>\n",
       "      <td>2.0</td>\n",
       "      <td>3.153204</td>\n",
       "      <td>0.048842</td>\n",
       "    </tr>\n",
       "    <tr>\n",
       "      <th>Residual</th>\n",
       "      <td>376.329043</td>\n",
       "      <td>70.0</td>\n",
       "      <td>NaN</td>\n",
       "      <td>NaN</td>\n",
       "    </tr>\n",
       "  </tbody>\n",
       "</table>\n",
       "</div>"
      ],
      "text/plain": [
       "                 sum_sq    df         F    PR(>F)\n",
       "gender         0.168696   1.0  0.031379  0.859910\n",
       "diet          60.417220   2.0  5.619026  0.005456\n",
       "gender:diet   33.904068   2.0  3.153204  0.048842\n",
       "Residual     376.329043  70.0       NaN       NaN"
      ]
     },
     "execution_count": 4,
     "metadata": {},
     "output_type": "execute_result"
    }
   ],
   "source": [
    "unbal_fit = smf.ols('weight_lost ~ gender * diet', data=diet_data).fit()\n",
    "# Type II (2) sum of squares calculation ANOVA table.\n",
    "sm.stats.anova_lm(unbal_fit, typ=2)"
   ]
  },
  {
   "cell_type": "markdown",
   "id": "ad43128b",
   "metadata": {},
   "source": [
    "Please keep referring back to this table.  This page will work through the\n",
    "extra-sum-of-squares calculations to replicate the values in this table.\n"
   ]
  },
  {
   "cell_type": "markdown",
   "id": "256b9e89",
   "metadata": {},
   "source": [
    "## Removing the overall mean\n",
    "\n",
    "First we subtract the overall mean, and work on those subtracted values:"
   ]
  },
  {
   "cell_type": "code",
   "execution_count": 5,
   "id": "1a1562ec",
   "metadata": {},
   "outputs": [
    {
     "data": {
      "text/html": [
       "<div>\n",
       "<style scoped>\n",
       "    .dataframe tbody tr th:only-of-type {\n",
       "        vertical-align: middle;\n",
       "    }\n",
       "\n",
       "    .dataframe tbody tr th {\n",
       "        vertical-align: top;\n",
       "    }\n",
       "\n",
       "    .dataframe thead th {\n",
       "        text-align: right;\n",
       "    }\n",
       "</style>\n",
       "<table border=\"1\" class=\"dataframe\">\n",
       "  <thead>\n",
       "    <tr style=\"text-align: right;\">\n",
       "      <th></th>\n",
       "      <th>gender</th>\n",
       "      <th>diet</th>\n",
       "      <th>wlost_zm</th>\n",
       "    </tr>\n",
       "  </thead>\n",
       "  <tbody>\n",
       "    <tr>\n",
       "      <th>0</th>\n",
       "      <td>Female</td>\n",
       "      <td>A</td>\n",
       "      <td>-0.146053</td>\n",
       "    </tr>\n",
       "    <tr>\n",
       "      <th>1</th>\n",
       "      <td>Female</td>\n",
       "      <td>A</td>\n",
       "      <td>2.053947</td>\n",
       "    </tr>\n",
       "    <tr>\n",
       "      <th>2</th>\n",
       "      <td>Female</td>\n",
       "      <td>A</td>\n",
       "      <td>-3.246053</td>\n",
       "    </tr>\n",
       "    <tr>\n",
       "      <th>3</th>\n",
       "      <td>Female</td>\n",
       "      <td>A</td>\n",
       "      <td>-1.046053</td>\n",
       "    </tr>\n",
       "    <tr>\n",
       "      <th>4</th>\n",
       "      <td>Female</td>\n",
       "      <td>A</td>\n",
       "      <td>-1.146053</td>\n",
       "    </tr>\n",
       "  </tbody>\n",
       "</table>\n",
       "</div>"
      ],
      "text/plain": [
       "   gender diet  wlost_zm\n",
       "0  Female    A -0.146053\n",
       "1  Female    A  2.053947\n",
       "2  Female    A -3.246053\n",
       "3  Female    A -1.046053\n",
       "4  Female    A -1.146053"
      ]
     },
     "execution_count": 5,
     "metadata": {},
     "output_type": "execute_result"
    }
   ],
   "source": [
    "# \"zm\" stands for \"zero mean\"\n",
    "diet_data_zm = pd.DataFrame()\n",
    "diet_data_zm = diet_data.loc[:, :'diet'].copy()\n",
    "weight_col = diet_data['weight_lost']\n",
    "diet_data_zm['wlost_zm'] = weight_col - np.mean(weight_col)\n",
    "diet_data_zm.head()"
   ]
  },
  {
   "cell_type": "markdown",
   "id": "f66d9976",
   "metadata": {},
   "source": [
    "The overall mean of the ZM column is (near as dammit) zero."
   ]
  },
  {
   "cell_type": "code",
   "execution_count": 6,
   "id": "a7a6ce1d",
   "metadata": {},
   "outputs": [
    {
     "data": {
      "text/plain": [
       "-1.3264243504732134e-15"
      ]
     },
     "execution_count": 6,
     "metadata": {},
     "output_type": "execute_result"
    }
   ],
   "source": [
    "np.mean(diet_data_zm['wlost_zm'])"
   ]
  },
  {
   "cell_type": "markdown",
   "id": "a7a52505",
   "metadata": {},
   "source": [
    "## In the unbalanced case, the group means depend on each other.\n",
    "\n",
    "You may remember from the balanced ANOVA case that we wanted to remove the\n",
    "effect of `diet` on the data, before looking at the SNSQGMD metric for\n",
    "`gender`.  We found that, in fact, this didn't make any difference because subtracting the means for `diet` left the means for `gender` unchanged.\n",
    "\n",
    "Now we are in the unbalanced case, that is not true.\n",
    "\n",
    "Here are the means for the two `gender` levels without subtracting the means for `diet`:"
   ]
  },
  {
   "cell_type": "code",
   "execution_count": 7,
   "id": "52cd6566",
   "metadata": {},
   "outputs": [
    {
     "data": {
      "text/plain": [
       "gender\n",
       "Female   -0.053029\n",
       "Male      0.069099\n",
       "Name: wlost_zm, dtype: float64"
      ]
     },
     "execution_count": 7,
     "metadata": {},
     "output_type": "execute_result"
    }
   ],
   "source": [
    "diet_data_zm.groupby('gender')['wlost_zm'].mean()"
   ]
  },
  {
   "cell_type": "markdown",
   "id": "8ee4e628",
   "metadata": {},
   "source": [
    "In the balanced case, we subtracted the means for `diet`, and got the same means for `gender`.\n",
    "\n",
    "We will use the `subtract_means` function from the balanced ANOVA notebook."
   ]
  },
  {
   "cell_type": "code",
   "execution_count": 8,
   "id": "b7804c1b",
   "metadata": {},
   "outputs": [],
   "source": [
    "# Put this into a function\n",
    "def subtract_means(df, group_col, value_col):\n",
    "    mean_col = df.groupby(group_col)[value_col].transform('mean')\n",
    "    return df[value_col] - mean_col"
   ]
  },
  {
   "cell_type": "markdown",
   "id": "a1125c0e",
   "metadata": {},
   "source": [
    "When we subtract the diet mean, as expected, the mean for each diet group is near-as-dammit zero:"
   ]
  },
  {
   "cell_type": "code",
   "execution_count": 9,
   "id": "99899891",
   "metadata": {},
   "outputs": [
    {
     "data": {
      "text/plain": [
       "diet\n",
       "A    3.238150e-17\n",
       "B    1.065814e-16\n",
       "C   -1.069104e-16\n",
       "Name: wl_adj_diet, dtype: float64"
      ]
     },
     "execution_count": 9,
     "metadata": {},
     "output_type": "execute_result"
    }
   ],
   "source": [
    "# Subtract diet mean.\n",
    "wl_adj_diet = subtract_means(diet_data_zm, 'diet', 'wlost_zm')\n",
    "# Insert this Series into new data frame.\n",
    "adj_for_diet = diet_data_zm.assign(wl_adj_diet=wl_adj_diet)\n",
    "# Mean for each diet group\n",
    "adj_for_diet.groupby('diet')['wl_adj_diet'].mean()"
   ]
  },
  {
   "cell_type": "markdown",
   "id": "e47dc804",
   "metadata": {},
   "source": [
    "For the balanced case, we subtracted the `diet` and `gender` means before looking at the interaction.  We could subtract `diet` and then `gender` and not worry about the order in which we did this, because we would get the same answer from subtracting `gender` and then `diet`.  That is not true any more."
   ]
  },
  {
   "cell_type": "markdown",
   "id": "7a2831ae",
   "metadata": {},
   "source": [
    "Above, we have adjusted for `diet`, but we have not yet adjusted for `gender` - so the means for gender are not near zero:"
   ]
  },
  {
   "cell_type": "code",
   "execution_count": 10,
   "id": "949e3e6a",
   "metadata": {},
   "outputs": [
    {
     "data": {
      "text/plain": [
       "gender\n",
       "Female   -0.041261\n",
       "Male      0.053764\n",
       "Name: wl_adj_diet, dtype: float64"
      ]
     },
     "execution_count": 10,
     "metadata": {},
     "output_type": "execute_result"
    }
   ],
   "source": [
    "adj_for_diet.groupby('gender')['wl_adj_diet'].mean()"
   ]
  },
  {
   "cell_type": "markdown",
   "id": "b1583631",
   "metadata": {},
   "source": [
    "Now we adjust for `gender`:"
   ]
  },
  {
   "cell_type": "code",
   "execution_count": 11,
   "id": "c573e077",
   "metadata": {},
   "outputs": [
    {
     "data": {
      "text/plain": [
       "0    0.541261\n",
       "1    2.741261\n",
       "2   -2.558739\n",
       "3   -0.358739\n",
       "4   -0.458739\n",
       "Name: wl_adj_diet, dtype: float64"
      ]
     },
     "execution_count": 11,
     "metadata": {},
     "output_type": "execute_result"
    }
   ],
   "source": [
    "diet_then_gender = subtract_means(adj_for_diet, 'gender', 'wl_adj_diet')\n",
    "diet_then_gender.head()"
   ]
  },
  {
   "cell_type": "markdown",
   "id": "615375ac",
   "metadata": {},
   "source": [
    "Sure enough, the means are now near zero for `gender`, but now the `diet` means aren't very close to zero any more:"
   ]
  },
  {
   "cell_type": "code",
   "execution_count": 12,
   "id": "d7a05833",
   "metadata": {},
   "outputs": [
    {
     "data": {
      "text/plain": [
       "gender\n",
       "Female    1.068267e-16\n",
       "Male     -1.110223e-16\n",
       "Name: wl_adj_d_then_g, dtype: float64"
      ]
     },
     "execution_count": 12,
     "metadata": {},
     "output_type": "execute_result"
    }
   ],
   "source": [
    "adj_for_d_then_g = adj_for_diet.assign(wl_adj_d_then_g=diet_then_gender)\n",
    "adj_for_d_then_g.groupby('gender')['wl_adj_d_then_g'].mean()"
   ]
  },
  {
   "cell_type": "code",
   "execution_count": 13,
   "id": "89868ccb",
   "metadata": {},
   "outputs": [
    {
     "data": {
      "text/plain": [
       "diet\n",
       "A    0.001667\n",
       "B   -0.000550\n",
       "C   -0.000972\n",
       "Name: wl_adj_d_then_g, dtype: float64"
      ]
     },
     "execution_count": 13,
     "metadata": {},
     "output_type": "execute_result"
    }
   ],
   "source": [
    "adj_for_d_then_g.groupby('diet')['wl_adj_d_then_g'].mean()"
   ]
  },
  {
   "cell_type": "markdown",
   "id": "1e5de8dd",
   "metadata": {},
   "source": [
    "If we subtract means for `gender`, then `diet`, we get the opposite effect, where the means for `diet` are very near zero, but the means for `gender` are not:"
   ]
  },
  {
   "cell_type": "code",
   "execution_count": 14,
   "id": "30b2a926",
   "metadata": {},
   "outputs": [
    {
     "data": {
      "text/plain": [
       "diet\n",
       "A    4.625929e-17\n",
       "B   -1.065814e-16\n",
       "C    2.713879e-16\n",
       "Name: wl_adj_g_then_d, dtype: float64"
      ]
     },
     "execution_count": 14,
     "metadata": {},
     "output_type": "execute_result"
    }
   ],
   "source": [
    "# Gender then diet.\n",
    "wl_adj_gender = subtract_means(diet_data_zm, 'gender', 'wlost_zm')\n",
    "adj_for_gender = diet_data_zm.assign(wl_adj_gender=wl_adj_gender)\n",
    "gender_then_diet = subtract_means(adj_for_gender, 'diet', 'wl_adj_gender')\n",
    "adj_for_g_then_d = adj_for_gender.assign(wl_adj_g_then_d=gender_then_diet)\n",
    "# Diet means very close to 0\n",
    "adj_for_g_then_d.groupby('diet')['wl_adj_g_then_d'].mean()"
   ]
  },
  {
   "cell_type": "code",
   "execution_count": 15,
   "id": "8e744c84",
   "metadata": {},
   "outputs": [
    {
     "data": {
      "text/plain": [
       "gender\n",
       "Female    0.011737\n",
       "Male     -0.015294\n",
       "Name: wl_adj_g_then_d, dtype: float64"
      ]
     },
     "execution_count": 15,
     "metadata": {},
     "output_type": "execute_result"
    }
   ],
   "source": [
    "# Gender means now not very close to 0\n",
    "adj_for_g_then_d.groupby('gender')['wl_adj_g_then_d'].mean()"
   ]
  },
  {
   "cell_type": "markdown",
   "id": "214ddfb0",
   "metadata": {},
   "source": [
    "When we are looking at the interaction effects, we need the means for `gender` and `diet` to be very near zero, so we cannot do the sequential steps we did before.  We need to find some way of *simultaneously* adjusting for `gender` and `diet`.\n",
    "\n",
    "That is a job for *multiple regression*.  But, at the moment, we do not have our typical continuous numerical regressors for a multiple regression, we have columns with categories.  The next step is to get the right regressors for multiple regression to do this simultaneous adjustment."
   ]
  },
  {
   "cell_type": "markdown",
   "id": "797fba76",
   "metadata": {},
   "source": [
    "## Means and multiple regression\n",
    "\n",
    "In simple and multiple regression, we use one or more columns of *regressors* to *predict* another column of values.\n",
    "\n",
    "Here we are trying to predict the values in the `weight_lost` column of the data frame.  Call this column `y`:"
   ]
  },
  {
   "cell_type": "code",
   "execution_count": 16,
   "id": "7c492d5e",
   "metadata": {},
   "outputs": [],
   "source": [
    "# Column we want to predict.  We could call this the 'dependent' variable.\n",
    "y = diet_data['weight_lost']"
   ]
  },
  {
   "cell_type": "markdown",
   "id": "bfb5f1d9",
   "metadata": {},
   "source": [
    "Call the number of rows in this column: `n`.  In our case, this is the number\n",
    "of individuals, and the number of rows in the individual data frame."
   ]
  },
  {
   "cell_type": "code",
   "execution_count": 17,
   "id": "bdfd3f16",
   "metadata": {},
   "outputs": [],
   "source": [
    "n = len(y)"
   ]
  },
  {
   "cell_type": "markdown",
   "id": "0a436d80",
   "metadata": {},
   "source": [
    "Then we have other columns that we use to do the prediction.  These are *regressors*.\n",
    "\n",
    "Now let us consider the following rather strange column of numbers:"
   ]
  },
  {
   "cell_type": "code",
   "execution_count": 18,
   "id": "947c7556",
   "metadata": {},
   "outputs": [
    {
     "data": {
      "text/plain": [
       "0     1.0\n",
       "1     1.0\n",
       "2     1.0\n",
       "3     1.0\n",
       "4     1.0\n",
       "     ... \n",
       "71    1.0\n",
       "72    1.0\n",
       "73    1.0\n",
       "74    1.0\n",
       "75    1.0\n",
       "Length: 76, dtype: float64"
      ]
     },
     "execution_count": 18,
     "metadata": {},
     "output_type": "execute_result"
    }
   ],
   "source": [
    "x0 = pd.Series(np.ones(n))\n",
    "x0"
   ]
  },
  {
   "cell_type": "markdown",
   "id": "96d48557",
   "metadata": {},
   "source": [
    "This is just a column of `n` ones.  In regression, we look for the best *parameters* to multiply the columns by, to give a good prediction for the data, `y`. We have one parameter per column.  In this case, we are going to make our prediction with some value, `b0`, yet to be determined.  For the moment, let's make `b0` be the completely arbitrary number 10:"
   ]
  },
  {
   "cell_type": "code",
   "execution_count": 19,
   "id": "0ac45173",
   "metadata": {},
   "outputs": [],
   "source": [
    "b0 = 10"
   ]
  },
  {
   "cell_type": "markdown",
   "id": "1d3672ea",
   "metadata": {},
   "source": [
    "We are later going to find a better value for `b0`.\n",
    "\n",
    "Our current prediction for `y` is formed by multiplying our regressor by the parameter:"
   ]
  },
  {
   "cell_type": "code",
   "execution_count": 20,
   "id": "b0c3919c",
   "metadata": {},
   "outputs": [
    {
     "data": {
      "text/plain": [
       "0     10.0\n",
       "1     10.0\n",
       "2     10.0\n",
       "3     10.0\n",
       "4     10.0\n",
       "      ... \n",
       "71    10.0\n",
       "72    10.0\n",
       "73    10.0\n",
       "74    10.0\n",
       "75    10.0\n",
       "Length: 76, dtype: float64"
      ]
     },
     "execution_count": 20,
     "metadata": {},
     "output_type": "execute_result"
    }
   ],
   "source": [
    "prediction = b0 * x0\n",
    "prediction"
   ]
  },
  {
   "cell_type": "markdown",
   "id": "33c76400",
   "metadata": {},
   "source": [
    "When we have a good prediction, we want the prediction to be as close as possible to the actual data `y`.   We assess that by subtracting the prediction from the actual values to give the *errors*:"
   ]
  },
  {
   "cell_type": "code",
   "execution_count": 21,
   "id": "b1bd1d7a",
   "metadata": {
    "lines_to_next_cell": 0
   },
   "outputs": [
    {
     "data": {
      "text/plain": [
       "0    -6.2\n",
       "1    -4.0\n",
       "2    -9.3\n",
       "3    -7.1\n",
       "4    -7.2\n",
       "     ... \n",
       "71   -7.2\n",
       "72   -5.9\n",
       "73   -4.7\n",
       "74   -0.8\n",
       "75   -3.9\n",
       "Length: 76, dtype: float64"
      ]
     },
     "execution_count": 21,
     "metadata": {},
     "output_type": "execute_result"
    }
   ],
   "source": [
    "errors = y - prediction\n",
    "errors"
   ]
  },
  {
   "cell_type": "markdown",
   "id": "25f4ee36",
   "metadata": {},
   "source": [
    "We want to work out whether `b0` is a good parameter, so we want a score (metric) for `b0`.  We form the typical *least-squares* metric by squaring all the errors (to eliminate the sign) and adding them up.  Call this the *sum of squared error* or SSE.  We have a good `b0` when this number is small, and a bad one when this number is large."
   ]
  },
  {
   "cell_type": "code",
   "execution_count": 22,
   "id": "7af0a790",
   "metadata": {},
   "outputs": [
    {
     "data": {
      "text/plain": [
       "3256.35"
      ]
     },
     "execution_count": 22,
     "metadata": {},
     "output_type": "execute_result"
    }
   ],
   "source": [
    "SSE = np.sum(errors ** 2)\n",
    "SSE"
   ]
  },
  {
   "cell_type": "markdown",
   "id": "4a222e33",
   "metadata": {},
   "source": [
    "We could try lots of `b0` values, and choose the best, but we will let Scipy's `minimize` do that for us:"
   ]
  },
  {
   "cell_type": "code",
   "execution_count": 23,
   "id": "c0c2a1a0",
   "metadata": {},
   "outputs": [],
   "source": [
    "# Function for Scipy minimize to use\n",
    "def calc_sse(param, y, col):\n",
    "    predicted = param * col\n",
    "    errors = y - predicted\n",
    "    return np.sum(errors ** 2)"
   ]
  },
  {
   "cell_type": "code",
   "execution_count": 24,
   "id": "347e9187",
   "metadata": {},
   "outputs": [
    {
     "data": {
      "text/plain": [
       "3256.35"
      ]
     },
     "execution_count": 24,
     "metadata": {},
     "output_type": "execute_result"
    }
   ],
   "source": [
    "# Check we get the same value as before\n",
    "calc_sse(b0, y, x0)"
   ]
  },
  {
   "cell_type": "code",
   "execution_count": 25,
   "id": "53fc0eda",
   "metadata": {},
   "outputs": [
    {
     "data": {
      "text/plain": [
       "      fun: 470.9288157894737\n",
       " hess_inv: array([[0.00657895]])\n",
       "      jac: array([-3.81469727e-06])\n",
       "  message: 'Optimization terminated successfully.'\n",
       "     nfev: 8\n",
       "      nit: 3\n",
       "     njev: 4\n",
       "   status: 0\n",
       "  success: True\n",
       "        x: array([3.94605261])"
      ]
     },
     "execution_count": 25,
     "metadata": {},
     "output_type": "execute_result"
    }
   ],
   "source": [
    "from scipy.optimize import minimize\n",
    "res = minimize(calc_sse, 0, args=(y, x0))\n",
    "res"
   ]
  },
  {
   "cell_type": "markdown",
   "id": "f7c271e4",
   "metadata": {},
   "source": [
    "You can see from the `x.fun` value that `minimize` has found a much better value for the parameter `b0`.  The value it found was:"
   ]
  },
  {
   "cell_type": "code",
   "execution_count": 26,
   "id": "795f4cb5",
   "metadata": {},
   "outputs": [
    {
     "data": {
      "text/plain": [
       "array([3.94605261])"
      ]
     },
     "execution_count": 26,
     "metadata": {},
     "output_type": "execute_result"
    }
   ],
   "source": [
    "best_b0 = res.x\n",
    "best_b0"
   ]
  },
  {
   "cell_type": "markdown",
   "id": "23ad996b",
   "metadata": {},
   "source": [
    "Here's the mean of the `y` values:"
   ]
  },
  {
   "cell_type": "code",
   "execution_count": 27,
   "id": "a928800c",
   "metadata": {},
   "outputs": [
    {
     "data": {
      "text/plain": [
       "3.9460526315789486"
      ]
     },
     "execution_count": 27,
     "metadata": {},
     "output_type": "execute_result"
    }
   ],
   "source": [
    "np.mean(y)"
   ]
  },
  {
   "cell_type": "markdown",
   "id": "2b12d860",
   "metadata": {},
   "source": [
    "That looks suspiciously similar - why?  Remember what we are doing in\n",
    "`minimize`.  We are looking for the best value `b0` to multiply onto the\n",
    "column, in order to predict `y`.  The column is all ones, so the prediction at\n",
    "each row will be `b0`.  So the question becomes, what is the best single value\n",
    "to subtract from `y` such that we minimize the resulting sum of squared\n",
    "difference?  As you'll see in [the meaning of the\n",
    "mean](https://matthew-brett.github.io/cfd2020/mean-slopes/mean_meaning.html),\n",
    "the mean is exactly that value, so unless `minimize` messed up, it must find\n",
    "the mean as the best value for `b0`.\n",
    "\n",
    "Now let us think about finding two parameters, `b0` and `b1`, for two columns, `x0` and `x1`.\n",
    "\n",
    "In fact we will use these columns to represent the group membership for the `gender` factor."
   ]
  },
  {
   "cell_type": "code",
   "execution_count": 28,
   "id": "517c56a0",
   "metadata": {},
   "outputs": [
    {
     "data": {
      "text/html": [
       "<div>\n",
       "<style scoped>\n",
       "    .dataframe tbody tr th:only-of-type {\n",
       "        vertical-align: middle;\n",
       "    }\n",
       "\n",
       "    .dataframe tbody tr th {\n",
       "        vertical-align: top;\n",
       "    }\n",
       "\n",
       "    .dataframe thead th {\n",
       "        text-align: right;\n",
       "    }\n",
       "</style>\n",
       "<table border=\"1\" class=\"dataframe\">\n",
       "  <thead>\n",
       "    <tr style=\"text-align: right;\">\n",
       "      <th></th>\n",
       "      <th>Female</th>\n",
       "      <th>Male</th>\n",
       "    </tr>\n",
       "  </thead>\n",
       "  <tbody>\n",
       "    <tr>\n",
       "      <th>0</th>\n",
       "      <td>1</td>\n",
       "      <td>0</td>\n",
       "    </tr>\n",
       "    <tr>\n",
       "      <th>1</th>\n",
       "      <td>1</td>\n",
       "      <td>0</td>\n",
       "    </tr>\n",
       "    <tr>\n",
       "      <th>2</th>\n",
       "      <td>1</td>\n",
       "      <td>0</td>\n",
       "    </tr>\n",
       "    <tr>\n",
       "      <th>3</th>\n",
       "      <td>1</td>\n",
       "      <td>0</td>\n",
       "    </tr>\n",
       "    <tr>\n",
       "      <th>4</th>\n",
       "      <td>1</td>\n",
       "      <td>0</td>\n",
       "    </tr>\n",
       "    <tr>\n",
       "      <th>...</th>\n",
       "      <td>...</td>\n",
       "      <td>...</td>\n",
       "    </tr>\n",
       "    <tr>\n",
       "      <th>71</th>\n",
       "      <td>0</td>\n",
       "      <td>1</td>\n",
       "    </tr>\n",
       "    <tr>\n",
       "      <th>72</th>\n",
       "      <td>0</td>\n",
       "      <td>1</td>\n",
       "    </tr>\n",
       "    <tr>\n",
       "      <th>73</th>\n",
       "      <td>0</td>\n",
       "      <td>1</td>\n",
       "    </tr>\n",
       "    <tr>\n",
       "      <th>74</th>\n",
       "      <td>0</td>\n",
       "      <td>1</td>\n",
       "    </tr>\n",
       "    <tr>\n",
       "      <th>75</th>\n",
       "      <td>0</td>\n",
       "      <td>1</td>\n",
       "    </tr>\n",
       "  </tbody>\n",
       "</table>\n",
       "<p>76 rows × 2 columns</p>\n",
       "</div>"
      ],
      "text/plain": [
       "    Female  Male\n",
       "0        1     0\n",
       "1        1     0\n",
       "2        1     0\n",
       "3        1     0\n",
       "4        1     0\n",
       "..     ...   ...\n",
       "71       0     1\n",
       "72       0     1\n",
       "73       0     1\n",
       "74       0     1\n",
       "75       0     1\n",
       "\n",
       "[76 rows x 2 columns]"
      ]
     },
     "execution_count": 28,
     "metadata": {},
     "output_type": "execute_result"
    }
   ],
   "source": [
    "x_gender = pd.get_dummies(diet_data['gender'])\n",
    "x_gender"
   ]
  },
  {
   "cell_type": "markdown",
   "id": "862ea875",
   "metadata": {},
   "source": [
    "As you can see from Pandas' function name above, this is a *dummy coding* of the `gender` factor.  This type of dummy coding is also called *indicator* coding.  The first column — `Female` — has a 1 for rows corresponding to a `Female` label in the `gender` column, and a 0 otherwise.  A 1 value in this column *indicates* that this is a `Female` row.  Conversely the `Male` column has a 1 for rows with a `Male` label in the gender column, and a 0 otherwise.  The 1 *indicates* this is a `Male` row.\n",
    "\n",
    "We will use these two columns in our regression.  Again, we are trying to find two parameters, one for each column.  The first parameter is the best number to multiply onto the first columns, and the second parameter corresponds to the second column.  The predicted value for each row is the result of adding (the first parameter times the corresponding first column value) to the (second parameter times the corresponding second column value).\n",
    "\n",
    "Say we decided arbitrarily to use these parameters:"
   ]
  },
  {
   "cell_type": "code",
   "execution_count": 29,
   "id": "ebea945d",
   "metadata": {},
   "outputs": [],
   "source": [
    "params = np.array([10, 5])"
   ]
  },
  {
   "cell_type": "markdown",
   "id": "5dc6e6e1",
   "metadata": {},
   "source": [
    "Then:"
   ]
  },
  {
   "cell_type": "code",
   "execution_count": 30,
   "id": "c0133b0a",
   "metadata": {},
   "outputs": [],
   "source": [
    "x_gender_arr = np.array(x_gender)\n",
    "pred_from_col0 = params[0] * x_gender_arr[:, 0]\n",
    "pred_from_col1 = params[1] * x_gender_arr[:, 1]\n",
    "predicted =  pred_from_col0 + pred_from_col1"
   ]
  },
  {
   "cell_type": "markdown",
   "id": "44ac5e9b",
   "metadata": {},
   "source": [
    "and:"
   ]
  },
  {
   "cell_type": "code",
   "execution_count": 31,
   "id": "3d471d7f",
   "metadata": {},
   "outputs": [
    {
     "data": {
      "text/plain": [
       "2106.35"
      ]
     },
     "execution_count": 31,
     "metadata": {},
     "output_type": "execute_result"
    }
   ],
   "source": [
    "errors = y - predicted\n",
    "SSE = np.sum(errors ** 2)\n",
    "SSE"
   ]
  },
  {
   "cell_type": "markdown",
   "id": "6fd537e4",
   "metadata": {},
   "source": [
    "Make this into a function for `minimize`:"
   ]
  },
  {
   "cell_type": "code",
   "execution_count": 32,
   "id": "cc4cbab7",
   "metadata": {},
   "outputs": [],
   "source": [
    "def calc_sse_for_cols(params, y, cols):\n",
    "    cols_arr = np.array(cols)\n",
    "    prediction = np.zeros(len(y))\n",
    "    for i in np.arange(len(params)):\n",
    "        prediction += params[i] * cols_arr[:, i]\n",
    "    errors = y - prediction\n",
    "    return np.sum(errors ** 2)"
   ]
  },
  {
   "cell_type": "code",
   "execution_count": 33,
   "id": "9df41406",
   "metadata": {},
   "outputs": [
    {
     "data": {
      "text/plain": [
       "2106.35"
      ]
     },
     "execution_count": 33,
     "metadata": {},
     "output_type": "execute_result"
    }
   ],
   "source": [
    "calc_sse_for_cols(params, y, x_gender)"
   ]
  },
  {
   "cell_type": "markdown",
   "id": "191baddc",
   "metadata": {},
   "source": [
    "Find the best (least-squares) parameters for the two dummy columns:"
   ]
  },
  {
   "cell_type": "code",
   "execution_count": 34,
   "id": "d878621f",
   "metadata": {},
   "outputs": [
    {
     "data": {
      "text/plain": [
       "      fun: 470.6503312191686\n",
       " hess_inv: array([[ 1.16279074e-02, -1.19430014e-09],\n",
       "       [-1.19430014e-09,  1.51515185e-02]])\n",
       "      jac: array([-3.81469727e-06, -3.81469727e-06])\n",
       "  message: 'Optimization terminated successfully.'\n",
       "     nfev: 24\n",
       "      nit: 5\n",
       "     njev: 8\n",
       "   status: 0\n",
       "  success: True\n",
       "        x: array([3.89302324, 4.01515159])"
      ]
     },
     "execution_count": 34,
     "metadata": {},
     "output_type": "execute_result"
    }
   ],
   "source": [
    "res_gender = minimize(calc_sse_for_cols, [0, 0], args=(y, x_gender))\n",
    "res_gender"
   ]
  },
  {
   "cell_type": "markdown",
   "id": "34e722f5",
   "metadata": {},
   "source": [
    "How do these values compare to the means for each group?"
   ]
  },
  {
   "cell_type": "code",
   "execution_count": 35,
   "id": "8b9e7b74",
   "metadata": {},
   "outputs": [
    {
     "data": {
      "text/plain": [
       "gender\n",
       "Female    3.893023\n",
       "Male      4.015152\n",
       "Name: weight_lost, dtype: float64"
      ]
     },
     "execution_count": 35,
     "metadata": {},
     "output_type": "execute_result"
    }
   ],
   "source": [
    "diet_data.groupby('gender')['weight_lost'].mean()"
   ]
  },
  {
   "cell_type": "markdown",
   "id": "f070aa7a",
   "metadata": {},
   "source": [
    "The same!  The least-squares parameters for the dummy columns are the respective means for the `Female` and `Male` values in `y`.  Why?"
   ]
  },
  {
   "cell_type": "markdown",
   "id": "dea36a97",
   "metadata": {},
   "source": [
    "Remember the prediction is the sum of the predictions from the first and second\n",
    "columns.  Once multiplied by the first parameter `params[0]`, the first column\n",
    "will have the `params[0]` value where it had 1, and 0 otherwise.  Therefore,\n",
    "the first column (`params[0]`) prediction is `params[0]` for the `Female` rows,\n",
    "and 0 otherwise.  Conversely the second column (`params[1]`) prediction is\n",
    "`params[1]` for the `Male` rows and 0 otherwise.  The `params[0]` should be the\n",
    "best value to minimize the sum of squared error for the `Female` values, and\n",
    "will have no effect in predicting the `Male` values.  `params[1]` should\n",
    "minimize the SSE for the `Male` values, and will have no effect on the `Female`\n",
    "prediction. This corresponds to two entirely separable predictions, and so\n",
    "`params[0]` must be the mean of the `Female` values (to minimize the SSE), and\n",
    "`params[1]` must be the mean of the `Male` values."
   ]
  },
  {
   "cell_type": "markdown",
   "id": "c4d82ef6",
   "metadata": {},
   "source": [
    "We are going to run a few of these least-square fits, and, for this specific\n",
    "case of minimizing SSE, there is a mathematical short-cut to avoid using\n",
    "`minimize`.  The details of how this works are not important here, but it\n",
    "involves the calculus of mean squares that you will see sketched in [this\n",
    "page](https://matthew-brett.github.io/cfd2020/extra/mean_sq_deviations.html).\n",
    "\n",
    "Here is the shortcut:"
   ]
  },
  {
   "cell_type": "code",
   "execution_count": 36,
   "id": "4227a5f4",
   "metadata": {},
   "outputs": [
    {
     "data": {
      "text/plain": [
       "array([3.89302326, 4.01515152])"
      ]
     },
     "execution_count": 36,
     "metadata": {},
     "output_type": "execute_result"
    }
   ],
   "source": [
    "# Mathematical short-cut to finding best SSE parameters\n",
    "# We get the same answer from minimize, but this method is quicker # and more\n",
    "# precise.\n",
    "best_params = np.linalg.pinv(x_gender) @ y\n",
    "best_params"
   ]
  },
  {
   "cell_type": "markdown",
   "id": "a4b46939",
   "metadata": {},
   "source": [
    "In fact we can also write the multiplication of the parameters by the columns in a more efficient way, using Numpy broadcasting, like this:"
   ]
  },
  {
   "cell_type": "code",
   "execution_count": 37,
   "id": "29480332",
   "metadata": {},
   "outputs": [],
   "source": [
    "predicted = np.sum(best_params * np.array(x_gender), axis=1)"
   ]
  },
  {
   "cell_type": "code",
   "execution_count": 38,
   "id": "f3f34a2f",
   "metadata": {},
   "outputs": [
    {
     "data": {
      "text/plain": [
       "470.6503312191684"
      ]
     },
     "execution_count": 38,
     "metadata": {},
     "output_type": "execute_result"
    }
   ],
   "source": [
    "errors = y - predicted\n",
    "np.sum(errors ** 2)"
   ]
  },
  {
   "cell_type": "markdown",
   "id": "6f62712a",
   "metadata": {},
   "source": [
    "Notice this gives us the same answer as the `minimize` fit for the best parameters, and the subsequent SSE calculation.\n",
    "\n",
    "Here's all that packaged up into a function."
   ]
  },
  {
   "cell_type": "code",
   "execution_count": 39,
   "id": "c79a1b84",
   "metadata": {},
   "outputs": [],
   "source": [
    "def calc_sse_shortcut(y, cols):\n",
    "    params = np.linalg.pinv(cols) @ y\n",
    "    predicted = np.sum(params * np.array(cols), axis=1)\n",
    "    errors = y - predicted\n",
    "    return np.sum(errors ** 2)"
   ]
  },
  {
   "cell_type": "code",
   "execution_count": 40,
   "id": "5cfbc238",
   "metadata": {},
   "outputs": [
    {
     "data": {
      "text/plain": [
       "470.6503312191684"
      ]
     },
     "execution_count": 40,
     "metadata": {},
     "output_type": "execute_result"
    }
   ],
   "source": [
    "calc_sse_shortcut(y, x_gender)"
   ]
  },
  {
   "cell_type": "markdown",
   "id": "b05efc15",
   "metadata": {},
   "source": [
    "We can do the same procedure to replicate the means for each diet:"
   ]
  },
  {
   "cell_type": "code",
   "execution_count": 41,
   "id": "c2f640f1",
   "metadata": {},
   "outputs": [
    {
     "data": {
      "text/html": [
       "<div>\n",
       "<style scoped>\n",
       "    .dataframe tbody tr th:only-of-type {\n",
       "        vertical-align: middle;\n",
       "    }\n",
       "\n",
       "    .dataframe tbody tr th {\n",
       "        vertical-align: top;\n",
       "    }\n",
       "\n",
       "    .dataframe thead th {\n",
       "        text-align: right;\n",
       "    }\n",
       "</style>\n",
       "<table border=\"1\" class=\"dataframe\">\n",
       "  <thead>\n",
       "    <tr style=\"text-align: right;\">\n",
       "      <th></th>\n",
       "      <th>A</th>\n",
       "      <th>B</th>\n",
       "      <th>C</th>\n",
       "    </tr>\n",
       "  </thead>\n",
       "  <tbody>\n",
       "    <tr>\n",
       "      <th>0</th>\n",
       "      <td>1</td>\n",
       "      <td>0</td>\n",
       "      <td>0</td>\n",
       "    </tr>\n",
       "    <tr>\n",
       "      <th>1</th>\n",
       "      <td>1</td>\n",
       "      <td>0</td>\n",
       "      <td>0</td>\n",
       "    </tr>\n",
       "    <tr>\n",
       "      <th>2</th>\n",
       "      <td>1</td>\n",
       "      <td>0</td>\n",
       "      <td>0</td>\n",
       "    </tr>\n",
       "    <tr>\n",
       "      <th>3</th>\n",
       "      <td>1</td>\n",
       "      <td>0</td>\n",
       "      <td>0</td>\n",
       "    </tr>\n",
       "    <tr>\n",
       "      <th>4</th>\n",
       "      <td>1</td>\n",
       "      <td>0</td>\n",
       "      <td>0</td>\n",
       "    </tr>\n",
       "    <tr>\n",
       "      <th>...</th>\n",
       "      <td>...</td>\n",
       "      <td>...</td>\n",
       "      <td>...</td>\n",
       "    </tr>\n",
       "    <tr>\n",
       "      <th>71</th>\n",
       "      <td>0</td>\n",
       "      <td>0</td>\n",
       "      <td>1</td>\n",
       "    </tr>\n",
       "    <tr>\n",
       "      <th>72</th>\n",
       "      <td>0</td>\n",
       "      <td>0</td>\n",
       "      <td>1</td>\n",
       "    </tr>\n",
       "    <tr>\n",
       "      <th>73</th>\n",
       "      <td>0</td>\n",
       "      <td>0</td>\n",
       "      <td>1</td>\n",
       "    </tr>\n",
       "    <tr>\n",
       "      <th>74</th>\n",
       "      <td>0</td>\n",
       "      <td>0</td>\n",
       "      <td>1</td>\n",
       "    </tr>\n",
       "    <tr>\n",
       "      <th>75</th>\n",
       "      <td>0</td>\n",
       "      <td>0</td>\n",
       "      <td>1</td>\n",
       "    </tr>\n",
       "  </tbody>\n",
       "</table>\n",
       "<p>76 rows × 3 columns</p>\n",
       "</div>"
      ],
      "text/plain": [
       "    A  B  C\n",
       "0   1  0  0\n",
       "1   1  0  0\n",
       "2   1  0  0\n",
       "3   1  0  0\n",
       "4   1  0  0\n",
       ".. .. .. ..\n",
       "71  0  0  1\n",
       "72  0  0  1\n",
       "73  0  0  1\n",
       "74  0  0  1\n",
       "75  0  0  1\n",
       "\n",
       "[76 rows x 3 columns]"
      ]
     },
     "execution_count": 41,
     "metadata": {},
     "output_type": "execute_result"
    }
   ],
   "source": [
    "x_diet = pd.get_dummies(diet_data['diet'])\n",
    "x_diet"
   ]
  },
  {
   "cell_type": "code",
   "execution_count": 42,
   "id": "b9bcd979",
   "metadata": {},
   "outputs": [
    {
     "data": {
      "text/plain": [
       "array([3.3       , 3.268     , 5.14814815])"
      ]
     },
     "execution_count": 42,
     "metadata": {},
     "output_type": "execute_result"
    }
   ],
   "source": [
    "diet_params = np.linalg.pinv(x_diet) @ y\n",
    "diet_params"
   ]
  },
  {
   "cell_type": "code",
   "execution_count": 43,
   "id": "982e2e1b",
   "metadata": {},
   "outputs": [
    {
     "data": {
      "text/plain": [
       "diet\n",
       "A    3.300000\n",
       "B    3.268000\n",
       "C    5.148148\n",
       "Name: weight_lost, dtype: float64"
      ]
     },
     "execution_count": 43,
     "metadata": {},
     "output_type": "execute_result"
    }
   ],
   "source": [
    "diet_data.groupby('diet')['weight_lost'].mean()"
   ]
  },
  {
   "cell_type": "code",
   "execution_count": 44,
   "id": "c8a4568f",
   "metadata": {},
   "outputs": [
    {
     "data": {
      "text/plain": [
       "410.40180740740743"
      ]
     },
     "execution_count": 44,
     "metadata": {},
     "output_type": "execute_result"
    }
   ],
   "source": [
    "predicted = np.sum(diet_params * np.array(x_diet), axis=1)\n",
    "np.sum((y - predicted) ** 2)"
   ]
  },
  {
   "cell_type": "code",
   "execution_count": 45,
   "id": "433f6d41",
   "metadata": {},
   "outputs": [
    {
     "data": {
      "text/plain": [
       "410.40180740740743"
      ]
     },
     "execution_count": 45,
     "metadata": {},
     "output_type": "execute_result"
    }
   ],
   "source": [
    "calc_sse_shortcut(y, x_diet)"
   ]
  },
  {
   "cell_type": "markdown",
   "id": "a5c31bbe",
   "metadata": {},
   "source": [
    "So far we haven't done anything very interesting, because we could get the same\n",
    "answer from getting the means for each group.  The interesting thing happens\n",
    "when we stack the columns for the two factors together.  When we do this, and\n",
    "find the least squares parameters, we are now finding the means for the\n",
    "`gender` levels *adjusting for diet* at the same times as the means for the\n",
    "`diet` levels *adjusting for gender*.\n",
    "\n",
    "Here is the stacked set of columns, combining the dummy columns of `gender` and\n",
    "`diet`:"
   ]
  },
  {
   "cell_type": "code",
   "execution_count": 46,
   "id": "914c7141",
   "metadata": {},
   "outputs": [
    {
     "data": {
      "text/html": [
       "<div>\n",
       "<style scoped>\n",
       "    .dataframe tbody tr th:only-of-type {\n",
       "        vertical-align: middle;\n",
       "    }\n",
       "\n",
       "    .dataframe tbody tr th {\n",
       "        vertical-align: top;\n",
       "    }\n",
       "\n",
       "    .dataframe thead th {\n",
       "        text-align: right;\n",
       "    }\n",
       "</style>\n",
       "<table border=\"1\" class=\"dataframe\">\n",
       "  <thead>\n",
       "    <tr style=\"text-align: right;\">\n",
       "      <th></th>\n",
       "      <th>Female</th>\n",
       "      <th>Male</th>\n",
       "      <th>A</th>\n",
       "      <th>B</th>\n",
       "      <th>C</th>\n",
       "    </tr>\n",
       "  </thead>\n",
       "  <tbody>\n",
       "    <tr>\n",
       "      <th>0</th>\n",
       "      <td>1</td>\n",
       "      <td>0</td>\n",
       "      <td>1</td>\n",
       "      <td>0</td>\n",
       "      <td>0</td>\n",
       "    </tr>\n",
       "    <tr>\n",
       "      <th>1</th>\n",
       "      <td>1</td>\n",
       "      <td>0</td>\n",
       "      <td>1</td>\n",
       "      <td>0</td>\n",
       "      <td>0</td>\n",
       "    </tr>\n",
       "    <tr>\n",
       "      <th>2</th>\n",
       "      <td>1</td>\n",
       "      <td>0</td>\n",
       "      <td>1</td>\n",
       "      <td>0</td>\n",
       "      <td>0</td>\n",
       "    </tr>\n",
       "    <tr>\n",
       "      <th>3</th>\n",
       "      <td>1</td>\n",
       "      <td>0</td>\n",
       "      <td>1</td>\n",
       "      <td>0</td>\n",
       "      <td>0</td>\n",
       "    </tr>\n",
       "    <tr>\n",
       "      <th>4</th>\n",
       "      <td>1</td>\n",
       "      <td>0</td>\n",
       "      <td>1</td>\n",
       "      <td>0</td>\n",
       "      <td>0</td>\n",
       "    </tr>\n",
       "    <tr>\n",
       "      <th>...</th>\n",
       "      <td>...</td>\n",
       "      <td>...</td>\n",
       "      <td>...</td>\n",
       "      <td>...</td>\n",
       "      <td>...</td>\n",
       "    </tr>\n",
       "    <tr>\n",
       "      <th>71</th>\n",
       "      <td>0</td>\n",
       "      <td>1</td>\n",
       "      <td>0</td>\n",
       "      <td>0</td>\n",
       "      <td>1</td>\n",
       "    </tr>\n",
       "    <tr>\n",
       "      <th>72</th>\n",
       "      <td>0</td>\n",
       "      <td>1</td>\n",
       "      <td>0</td>\n",
       "      <td>0</td>\n",
       "      <td>1</td>\n",
       "    </tr>\n",
       "    <tr>\n",
       "      <th>73</th>\n",
       "      <td>0</td>\n",
       "      <td>1</td>\n",
       "      <td>0</td>\n",
       "      <td>0</td>\n",
       "      <td>1</td>\n",
       "    </tr>\n",
       "    <tr>\n",
       "      <th>74</th>\n",
       "      <td>0</td>\n",
       "      <td>1</td>\n",
       "      <td>0</td>\n",
       "      <td>0</td>\n",
       "      <td>1</td>\n",
       "    </tr>\n",
       "    <tr>\n",
       "      <th>75</th>\n",
       "      <td>0</td>\n",
       "      <td>1</td>\n",
       "      <td>0</td>\n",
       "      <td>0</td>\n",
       "      <td>1</td>\n",
       "    </tr>\n",
       "  </tbody>\n",
       "</table>\n",
       "<p>76 rows × 5 columns</p>\n",
       "</div>"
      ],
      "text/plain": [
       "    Female  Male  A  B  C\n",
       "0        1     0  1  0  0\n",
       "1        1     0  1  0  0\n",
       "2        1     0  1  0  0\n",
       "3        1     0  1  0  0\n",
       "4        1     0  1  0  0\n",
       "..     ...   ... .. .. ..\n",
       "71       0     1  0  0  1\n",
       "72       0     1  0  0  1\n",
       "73       0     1  0  0  1\n",
       "74       0     1  0  0  1\n",
       "75       0     1  0  0  1\n",
       "\n",
       "[76 rows x 5 columns]"
      ]
     },
     "execution_count": 46,
     "metadata": {},
     "output_type": "execute_result"
    }
   ],
   "source": [
    "x_gender_diet = pd.concat([x_gender, x_diet], axis=1)\n",
    "x_gender_diet"
   ]
  },
  {
   "cell_type": "markdown",
   "id": "8053aab0",
   "metadata": {},
   "source": [
    "The least-square parameters for these columns give the *adjusted means* for the\n",
    "levels of `gender` and `diet`.  The procedure adjusts the `gender` means for\n",
    "`diet` and the `diet` means for `gender`."
   ]
  },
  {
   "cell_type": "code",
   "execution_count": 47,
   "id": "7eba71ee",
   "metadata": {},
   "outputs": [
    {
     "data": {
      "text/plain": [
       "array([2.29947098, 2.39455255, 0.9609117 , 0.92669313, 2.80641869])"
      ]
     },
     "execution_count": 47,
     "metadata": {},
     "output_type": "execute_result"
    }
   ],
   "source": [
    "# Adjusted means for gender and diet\n",
    "both_params = np.linalg.pinv(x_gender_diet) @ y\n",
    "both_params"
   ]
  },
  {
   "cell_type": "markdown",
   "id": "e0e24978",
   "metadata": {},
   "source": [
    "Now, if we remove the adjusted means for both `gender` and `diet` by\n",
    "subtracting the predicted values, we really do have means of very near 0 across\n",
    "`gender` and `diet`:"
   ]
  },
  {
   "cell_type": "code",
   "execution_count": 48,
   "id": "4f28f6f0",
   "metadata": {},
   "outputs": [
    {
     "data": {
      "text/plain": [
       "gender\n",
       "Female   -3.139607e-15\n",
       "Male     -2.987509e-15\n",
       "Name: both_adj, dtype: float64"
      ]
     },
     "execution_count": 48,
     "metadata": {},
     "output_type": "execute_result"
    }
   ],
   "source": [
    "predicted = np.sum(both_params * np.array(x_gender_diet), axis=1)\n",
    "y_both_adj = y - predicted\n",
    "both_adj = diet_data.assign(both_adj=y_both_adj)\n",
    "# Subtracting adjusted means gives very near 0 means for gender levels.\n",
    "both_adj.groupby('gender')['both_adj'].mean()"
   ]
  },
  {
   "cell_type": "code",
   "execution_count": 49,
   "id": "3f4dfab9",
   "metadata": {},
   "outputs": [
    {
     "data": {
      "text/plain": [
       "diet\n",
       "A   -3.367677e-15\n",
       "B   -2.700062e-15\n",
       "C   -3.256654e-15\n",
       "Name: both_adj, dtype: float64"
      ]
     },
     "execution_count": 49,
     "metadata": {},
     "output_type": "execute_result"
    }
   ],
   "source": [
    "# Subtracting adjusted means gives very near 0 means for gender levels.\n",
    "both_adj.groupby('diet')['both_adj'].mean()"
   ]
  },
  {
   "cell_type": "markdown",
   "id": "0ae62a8d",
   "metadata": {},
   "source": [
    "## Extra sum of squares"
   ]
  },
  {
   "cell_type": "markdown",
   "id": "971989b2",
   "metadata": {},
   "source": [
    "We now have a way to calculate the remaining sum of squares for any combination of factors, or their interaction.\n",
    "\n",
    "With these remaining sums of squares, we can calculate the *Extra Sum of Squares* (ESS) for each factor and their interaction.  See the [oneway ANOVA page](./oneway_diet.ipynb) for the ESS explanation of the SNSQGMD metric."
   ]
  },
  {
   "cell_type": "code",
   "execution_count": 50,
   "id": "5c9b1c45",
   "metadata": {},
   "outputs": [
    {
     "data": {
      "text/plain": [
       "410.40180740740743"
      ]
     },
     "execution_count": 50,
     "metadata": {},
     "output_type": "execute_result"
    }
   ],
   "source": [
    "# Remaining sum of squares after adjusting for diet alone.\n",
    "diet_ss = calc_sse_shortcut(y, x_diet)\n",
    "diet_ss"
   ]
  },
  {
   "cell_type": "code",
   "execution_count": 51,
   "id": "08a3814f",
   "metadata": {},
   "outputs": [
    {
     "data": {
      "text/plain": [
       "410.2331115610072"
      ]
     },
     "execution_count": 51,
     "metadata": {},
     "output_type": "execute_result"
    }
   ],
   "source": [
    "# Remaining sum of squares after adjusting for gender and diet.\n",
    "gender_diet_ss = calc_sse_shortcut(y, x_gender_diet)\n",
    "gender_diet_ss"
   ]
  },
  {
   "cell_type": "markdown",
   "id": "ff7608fa",
   "metadata": {},
   "source": [
    "Thus the Extra Sum of Squares (ESS) when adding `gender` to the model that only contains the means for `diet`, is:"
   ]
  },
  {
   "cell_type": "code",
   "execution_count": 52,
   "id": "0aeda2c3",
   "metadata": {},
   "outputs": [
    {
     "data": {
      "text/plain": [
       "0.16869584640022595"
      ]
     },
     "execution_count": 52,
     "metadata": {},
     "output_type": "execute_result"
    }
   ],
   "source": [
    "# ESS when adding `gender` to a model with `diet` only.\n",
    "gender_ess = diet_ss - gender_diet_ss\n",
    "gender_ess"
   ]
  },
  {
   "cell_type": "markdown",
   "id": "4324d56e",
   "metadata": {},
   "source": [
    "Notice that this is the value in the `gender` row, `sum_sq` cell of the type II ANOVA table:"
   ]
  },
  {
   "cell_type": "code",
   "execution_count": 53,
   "id": "f95cab8e",
   "metadata": {},
   "outputs": [
    {
     "data": {
      "text/html": [
       "<div>\n",
       "<style scoped>\n",
       "    .dataframe tbody tr th:only-of-type {\n",
       "        vertical-align: middle;\n",
       "    }\n",
       "\n",
       "    .dataframe tbody tr th {\n",
       "        vertical-align: top;\n",
       "    }\n",
       "\n",
       "    .dataframe thead th {\n",
       "        text-align: right;\n",
       "    }\n",
       "</style>\n",
       "<table border=\"1\" class=\"dataframe\">\n",
       "  <thead>\n",
       "    <tr style=\"text-align: right;\">\n",
       "      <th></th>\n",
       "      <th>sum_sq</th>\n",
       "      <th>df</th>\n",
       "      <th>F</th>\n",
       "      <th>PR(&gt;F)</th>\n",
       "    </tr>\n",
       "  </thead>\n",
       "  <tbody>\n",
       "    <tr>\n",
       "      <th>gender</th>\n",
       "      <td>0.168696</td>\n",
       "      <td>1.0</td>\n",
       "      <td>0.031379</td>\n",
       "      <td>0.859910</td>\n",
       "    </tr>\n",
       "    <tr>\n",
       "      <th>diet</th>\n",
       "      <td>60.417220</td>\n",
       "      <td>2.0</td>\n",
       "      <td>5.619026</td>\n",
       "      <td>0.005456</td>\n",
       "    </tr>\n",
       "    <tr>\n",
       "      <th>gender:diet</th>\n",
       "      <td>33.904068</td>\n",
       "      <td>2.0</td>\n",
       "      <td>3.153204</td>\n",
       "      <td>0.048842</td>\n",
       "    </tr>\n",
       "    <tr>\n",
       "      <th>Residual</th>\n",
       "      <td>376.329043</td>\n",
       "      <td>70.0</td>\n",
       "      <td>NaN</td>\n",
       "      <td>NaN</td>\n",
       "    </tr>\n",
       "  </tbody>\n",
       "</table>\n",
       "</div>"
      ],
      "text/plain": [
       "                 sum_sq    df         F    PR(>F)\n",
       "gender         0.168696   1.0  0.031379  0.859910\n",
       "diet          60.417220   2.0  5.619026  0.005456\n",
       "gender:diet   33.904068   2.0  3.153204  0.048842\n",
       "Residual     376.329043  70.0       NaN       NaN"
      ]
     },
     "execution_count": 53,
     "metadata": {},
     "output_type": "execute_result"
    }
   ],
   "source": [
    "# The same table you saw at the top of this page.\n",
    "# Type II (2) sum of squares calculation ANOVA table.\n",
    "sm.stats.anova_lm(unbal_fit, typ=2)"
   ]
  },
  {
   "cell_type": "markdown",
   "id": "c5015eed",
   "metadata": {},
   "source": [
    "We next get the ESS when adding `diet` to the model only containing means for `gender`:"
   ]
  },
  {
   "cell_type": "code",
   "execution_count": 54,
   "id": "4713412b",
   "metadata": {},
   "outputs": [
    {
     "data": {
      "text/plain": [
       "60.41721965816117"
      ]
     },
     "execution_count": 54,
     "metadata": {},
     "output_type": "execute_result"
    }
   ],
   "source": [
    "# ESS when adding `diet` to a model with `gender` only.\n",
    "gender_ss = calc_sse_shortcut(y, x_gender)\n",
    "diet_ess = gender_ss - gender_diet_ss\n",
    "diet_ess"
   ]
  },
  {
   "cell_type": "markdown",
   "id": "65660f14",
   "metadata": {},
   "source": [
    "Next we consider the *interaction*.  This looks at the difference in means (explained variance) for the six sub-groups, after adjusting for the main `gender` and `diet` effects.\n",
    "\n",
    "To do this, we assemble the six dummy columns indicating membership in each of\n",
    "the six sub-groups (`Female-A`, `Female-B`, etc)."
   ]
  },
  {
   "cell_type": "code",
   "execution_count": 55,
   "id": "00750d39",
   "metadata": {},
   "outputs": [
    {
     "data": {
      "text/plain": [
       "0     Female-A\n",
       "1     Female-A\n",
       "2     Female-A\n",
       "3     Female-A\n",
       "4     Female-A\n",
       "        ...   \n",
       "71      Male-C\n",
       "72      Male-C\n",
       "73      Male-C\n",
       "74      Male-C\n",
       "75      Male-C\n",
       "Name: gender, Length: 76, dtype: object"
      ]
     },
     "execution_count": 55,
     "metadata": {},
     "output_type": "execute_result"
    }
   ],
   "source": [
    "# Series giving sub-group labels for each row.\n",
    "sub_groups = diet_data['gender'].str.cat(diet_data['diet'], sep='-')\n",
    "sub_groups"
   ]
  },
  {
   "cell_type": "markdown",
   "id": "a8c7392a",
   "metadata": {},
   "source": [
    "Dummy columns, one for each sub-group:"
   ]
  },
  {
   "cell_type": "code",
   "execution_count": 56,
   "id": "852aabab",
   "metadata": {},
   "outputs": [
    {
     "data": {
      "text/html": [
       "<div>\n",
       "<style scoped>\n",
       "    .dataframe tbody tr th:only-of-type {\n",
       "        vertical-align: middle;\n",
       "    }\n",
       "\n",
       "    .dataframe tbody tr th {\n",
       "        vertical-align: top;\n",
       "    }\n",
       "\n",
       "    .dataframe thead th {\n",
       "        text-align: right;\n",
       "    }\n",
       "</style>\n",
       "<table border=\"1\" class=\"dataframe\">\n",
       "  <thead>\n",
       "    <tr style=\"text-align: right;\">\n",
       "      <th></th>\n",
       "      <th>Female-A</th>\n",
       "      <th>Female-B</th>\n",
       "      <th>Female-C</th>\n",
       "      <th>Male-A</th>\n",
       "      <th>Male-B</th>\n",
       "      <th>Male-C</th>\n",
       "    </tr>\n",
       "  </thead>\n",
       "  <tbody>\n",
       "    <tr>\n",
       "      <th>0</th>\n",
       "      <td>1</td>\n",
       "      <td>0</td>\n",
       "      <td>0</td>\n",
       "      <td>0</td>\n",
       "      <td>0</td>\n",
       "      <td>0</td>\n",
       "    </tr>\n",
       "    <tr>\n",
       "      <th>1</th>\n",
       "      <td>1</td>\n",
       "      <td>0</td>\n",
       "      <td>0</td>\n",
       "      <td>0</td>\n",
       "      <td>0</td>\n",
       "      <td>0</td>\n",
       "    </tr>\n",
       "    <tr>\n",
       "      <th>2</th>\n",
       "      <td>1</td>\n",
       "      <td>0</td>\n",
       "      <td>0</td>\n",
       "      <td>0</td>\n",
       "      <td>0</td>\n",
       "      <td>0</td>\n",
       "    </tr>\n",
       "    <tr>\n",
       "      <th>3</th>\n",
       "      <td>1</td>\n",
       "      <td>0</td>\n",
       "      <td>0</td>\n",
       "      <td>0</td>\n",
       "      <td>0</td>\n",
       "      <td>0</td>\n",
       "    </tr>\n",
       "    <tr>\n",
       "      <th>4</th>\n",
       "      <td>1</td>\n",
       "      <td>0</td>\n",
       "      <td>0</td>\n",
       "      <td>0</td>\n",
       "      <td>0</td>\n",
       "      <td>0</td>\n",
       "    </tr>\n",
       "    <tr>\n",
       "      <th>...</th>\n",
       "      <td>...</td>\n",
       "      <td>...</td>\n",
       "      <td>...</td>\n",
       "      <td>...</td>\n",
       "      <td>...</td>\n",
       "      <td>...</td>\n",
       "    </tr>\n",
       "    <tr>\n",
       "      <th>71</th>\n",
       "      <td>0</td>\n",
       "      <td>0</td>\n",
       "      <td>0</td>\n",
       "      <td>0</td>\n",
       "      <td>0</td>\n",
       "      <td>1</td>\n",
       "    </tr>\n",
       "    <tr>\n",
       "      <th>72</th>\n",
       "      <td>0</td>\n",
       "      <td>0</td>\n",
       "      <td>0</td>\n",
       "      <td>0</td>\n",
       "      <td>0</td>\n",
       "      <td>1</td>\n",
       "    </tr>\n",
       "    <tr>\n",
       "      <th>73</th>\n",
       "      <td>0</td>\n",
       "      <td>0</td>\n",
       "      <td>0</td>\n",
       "      <td>0</td>\n",
       "      <td>0</td>\n",
       "      <td>1</td>\n",
       "    </tr>\n",
       "    <tr>\n",
       "      <th>74</th>\n",
       "      <td>0</td>\n",
       "      <td>0</td>\n",
       "      <td>0</td>\n",
       "      <td>0</td>\n",
       "      <td>0</td>\n",
       "      <td>1</td>\n",
       "    </tr>\n",
       "    <tr>\n",
       "      <th>75</th>\n",
       "      <td>0</td>\n",
       "      <td>0</td>\n",
       "      <td>0</td>\n",
       "      <td>0</td>\n",
       "      <td>0</td>\n",
       "      <td>1</td>\n",
       "    </tr>\n",
       "  </tbody>\n",
       "</table>\n",
       "<p>76 rows × 6 columns</p>\n",
       "</div>"
      ],
      "text/plain": [
       "    Female-A  Female-B  Female-C  Male-A  Male-B  Male-C\n",
       "0          1         0         0       0       0       0\n",
       "1          1         0         0       0       0       0\n",
       "2          1         0         0       0       0       0\n",
       "3          1         0         0       0       0       0\n",
       "4          1         0         0       0       0       0\n",
       "..       ...       ...       ...     ...     ...     ...\n",
       "71         0         0         0       0       0       1\n",
       "72         0         0         0       0       0       1\n",
       "73         0         0         0       0       0       1\n",
       "74         0         0         0       0       0       1\n",
       "75         0         0         0       0       0       1\n",
       "\n",
       "[76 rows x 6 columns]"
      ]
     },
     "execution_count": 56,
     "metadata": {},
     "output_type": "execute_result"
    }
   ],
   "source": [
    "x_sub_groups = pd.get_dummies(sub_groups)\n",
    "x_sub_groups"
   ]
  },
  {
   "cell_type": "markdown",
   "id": "6aa13ed5",
   "metadata": {},
   "source": [
    "These dummy columns express the sub-group membership and will allow us to find adjusted means for each sub-group.\n",
    "\n",
    "We next stack the `gender`, `diet` and `sub_group` columns into one large stack of columns, allowing us to model the means for each level of `gender` and `diet`, and for each of the six `gender` by `diet` sub-groups."
   ]
  },
  {
   "cell_type": "code",
   "execution_count": 57,
   "id": "70298518",
   "metadata": {},
   "outputs": [
    {
     "data": {
      "text/html": [
       "<div>\n",
       "<style scoped>\n",
       "    .dataframe tbody tr th:only-of-type {\n",
       "        vertical-align: middle;\n",
       "    }\n",
       "\n",
       "    .dataframe tbody tr th {\n",
       "        vertical-align: top;\n",
       "    }\n",
       "\n",
       "    .dataframe thead th {\n",
       "        text-align: right;\n",
       "    }\n",
       "</style>\n",
       "<table border=\"1\" class=\"dataframe\">\n",
       "  <thead>\n",
       "    <tr style=\"text-align: right;\">\n",
       "      <th></th>\n",
       "      <th>Female</th>\n",
       "      <th>Male</th>\n",
       "      <th>A</th>\n",
       "      <th>B</th>\n",
       "      <th>C</th>\n",
       "      <th>Female-A</th>\n",
       "      <th>Female-B</th>\n",
       "      <th>Female-C</th>\n",
       "      <th>Male-A</th>\n",
       "      <th>Male-B</th>\n",
       "      <th>Male-C</th>\n",
       "    </tr>\n",
       "  </thead>\n",
       "  <tbody>\n",
       "    <tr>\n",
       "      <th>0</th>\n",
       "      <td>1</td>\n",
       "      <td>0</td>\n",
       "      <td>1</td>\n",
       "      <td>0</td>\n",
       "      <td>0</td>\n",
       "      <td>1</td>\n",
       "      <td>0</td>\n",
       "      <td>0</td>\n",
       "      <td>0</td>\n",
       "      <td>0</td>\n",
       "      <td>0</td>\n",
       "    </tr>\n",
       "    <tr>\n",
       "      <th>1</th>\n",
       "      <td>1</td>\n",
       "      <td>0</td>\n",
       "      <td>1</td>\n",
       "      <td>0</td>\n",
       "      <td>0</td>\n",
       "      <td>1</td>\n",
       "      <td>0</td>\n",
       "      <td>0</td>\n",
       "      <td>0</td>\n",
       "      <td>0</td>\n",
       "      <td>0</td>\n",
       "    </tr>\n",
       "    <tr>\n",
       "      <th>2</th>\n",
       "      <td>1</td>\n",
       "      <td>0</td>\n",
       "      <td>1</td>\n",
       "      <td>0</td>\n",
       "      <td>0</td>\n",
       "      <td>1</td>\n",
       "      <td>0</td>\n",
       "      <td>0</td>\n",
       "      <td>0</td>\n",
       "      <td>0</td>\n",
       "      <td>0</td>\n",
       "    </tr>\n",
       "    <tr>\n",
       "      <th>3</th>\n",
       "      <td>1</td>\n",
       "      <td>0</td>\n",
       "      <td>1</td>\n",
       "      <td>0</td>\n",
       "      <td>0</td>\n",
       "      <td>1</td>\n",
       "      <td>0</td>\n",
       "      <td>0</td>\n",
       "      <td>0</td>\n",
       "      <td>0</td>\n",
       "      <td>0</td>\n",
       "    </tr>\n",
       "    <tr>\n",
       "      <th>4</th>\n",
       "      <td>1</td>\n",
       "      <td>0</td>\n",
       "      <td>1</td>\n",
       "      <td>0</td>\n",
       "      <td>0</td>\n",
       "      <td>1</td>\n",
       "      <td>0</td>\n",
       "      <td>0</td>\n",
       "      <td>0</td>\n",
       "      <td>0</td>\n",
       "      <td>0</td>\n",
       "    </tr>\n",
       "    <tr>\n",
       "      <th>...</th>\n",
       "      <td>...</td>\n",
       "      <td>...</td>\n",
       "      <td>...</td>\n",
       "      <td>...</td>\n",
       "      <td>...</td>\n",
       "      <td>...</td>\n",
       "      <td>...</td>\n",
       "      <td>...</td>\n",
       "      <td>...</td>\n",
       "      <td>...</td>\n",
       "      <td>...</td>\n",
       "    </tr>\n",
       "    <tr>\n",
       "      <th>71</th>\n",
       "      <td>0</td>\n",
       "      <td>1</td>\n",
       "      <td>0</td>\n",
       "      <td>0</td>\n",
       "      <td>1</td>\n",
       "      <td>0</td>\n",
       "      <td>0</td>\n",
       "      <td>0</td>\n",
       "      <td>0</td>\n",
       "      <td>0</td>\n",
       "      <td>1</td>\n",
       "    </tr>\n",
       "    <tr>\n",
       "      <th>72</th>\n",
       "      <td>0</td>\n",
       "      <td>1</td>\n",
       "      <td>0</td>\n",
       "      <td>0</td>\n",
       "      <td>1</td>\n",
       "      <td>0</td>\n",
       "      <td>0</td>\n",
       "      <td>0</td>\n",
       "      <td>0</td>\n",
       "      <td>0</td>\n",
       "      <td>1</td>\n",
       "    </tr>\n",
       "    <tr>\n",
       "      <th>73</th>\n",
       "      <td>0</td>\n",
       "      <td>1</td>\n",
       "      <td>0</td>\n",
       "      <td>0</td>\n",
       "      <td>1</td>\n",
       "      <td>0</td>\n",
       "      <td>0</td>\n",
       "      <td>0</td>\n",
       "      <td>0</td>\n",
       "      <td>0</td>\n",
       "      <td>1</td>\n",
       "    </tr>\n",
       "    <tr>\n",
       "      <th>74</th>\n",
       "      <td>0</td>\n",
       "      <td>1</td>\n",
       "      <td>0</td>\n",
       "      <td>0</td>\n",
       "      <td>1</td>\n",
       "      <td>0</td>\n",
       "      <td>0</td>\n",
       "      <td>0</td>\n",
       "      <td>0</td>\n",
       "      <td>0</td>\n",
       "      <td>1</td>\n",
       "    </tr>\n",
       "    <tr>\n",
       "      <th>75</th>\n",
       "      <td>0</td>\n",
       "      <td>1</td>\n",
       "      <td>0</td>\n",
       "      <td>0</td>\n",
       "      <td>1</td>\n",
       "      <td>0</td>\n",
       "      <td>0</td>\n",
       "      <td>0</td>\n",
       "      <td>0</td>\n",
       "      <td>0</td>\n",
       "      <td>1</td>\n",
       "    </tr>\n",
       "  </tbody>\n",
       "</table>\n",
       "<p>76 rows × 11 columns</p>\n",
       "</div>"
      ],
      "text/plain": [
       "    Female  Male  A  B  C  Female-A  Female-B  Female-C  Male-A  Male-B  \\\n",
       "0        1     0  1  0  0         1         0         0       0       0   \n",
       "1        1     0  1  0  0         1         0         0       0       0   \n",
       "2        1     0  1  0  0         1         0         0       0       0   \n",
       "3        1     0  1  0  0         1         0         0       0       0   \n",
       "4        1     0  1  0  0         1         0         0       0       0   \n",
       "..     ...   ... .. .. ..       ...       ...       ...     ...     ...   \n",
       "71       0     1  0  0  1         0         0         0       0       0   \n",
       "72       0     1  0  0  1         0         0         0       0       0   \n",
       "73       0     1  0  0  1         0         0         0       0       0   \n",
       "74       0     1  0  0  1         0         0         0       0       0   \n",
       "75       0     1  0  0  1         0         0         0       0       0   \n",
       "\n",
       "    Male-C  \n",
       "0        0  \n",
       "1        0  \n",
       "2        0  \n",
       "3        0  \n",
       "4        0  \n",
       "..     ...  \n",
       "71       1  \n",
       "72       1  \n",
       "73       1  \n",
       "74       1  \n",
       "75       1  \n",
       "\n",
       "[76 rows x 11 columns]"
      ]
     },
     "execution_count": 57,
     "metadata": {},
     "output_type": "execute_result"
    }
   ],
   "source": [
    "# Full design expressing the two main effects and the interaction.\n",
    "x_full = pd.concat([x_gender_diet, x_sub_groups], axis=1)\n",
    "x_full"
   ]
  },
  {
   "cell_type": "markdown",
   "id": "8984e8ed",
   "metadata": {},
   "source": [
    "The `x_full` columns express everything we can model with the various means at our disposal.  Once we have allowed for these, the remaining error and sum of squares is the stuff that we cannot explain.  Call this the residual sum of squares."
   ]
  },
  {
   "cell_type": "code",
   "execution_count": 58,
   "id": "2c28be24",
   "metadata": {},
   "outputs": [
    {
     "data": {
      "text/plain": [
       "376.3290432900432"
      ]
     },
     "execution_count": 58,
     "metadata": {},
     "output_type": "execute_result"
    }
   ],
   "source": [
    "resid_ss = calc_sse_shortcut(y, x_full)\n",
    "resid_ss"
   ]
  },
  {
   "cell_type": "markdown",
   "id": "3ef26f5f",
   "metadata": {},
   "source": [
    "Notice this is the `Residual`, `sum_sq` value in the ANOVA table above.  Soon we will use this in calculating the F statistics.\n",
    "\n",
    "But, before that, we can now calculate the ESS for adding the interaction means to a model that only allows for the two main-effect means of `gender` and `diet`."
   ]
  },
  {
   "cell_type": "code",
   "execution_count": 59,
   "id": "d1273453",
   "metadata": {},
   "outputs": [
    {
     "data": {
      "text/plain": [
       "33.90406827096399"
      ]
     },
     "execution_count": 59,
     "metadata": {},
     "output_type": "execute_result"
    }
   ],
   "source": [
    "# ESS when adding interactions to model with `diet` and `gender` only.\n",
    "inter_ess = gender_diet_ss - resid_ss\n",
    "inter_ess"
   ]
  },
  {
   "cell_type": "markdown",
   "id": "cc4b053d",
   "metadata": {},
   "source": [
    "This is the `gender:diet`, `sum_sq` value in the ANOVA table."
   ]
  },
  {
   "cell_type": "markdown",
   "id": "672a3468",
   "metadata": {},
   "source": [
    "Last we will recalculate the F statistics.  In type II sum of squares, we divide the ESS (SNSQGMD) values by the remaining, unexplained sum of squares.   We also scale for the degrees of freedom for the things we are modeling, and the remaining sum of squares."
   ]
  },
  {
   "cell_type": "code",
   "execution_count": 60,
   "id": "f982ba6a",
   "metadata": {},
   "outputs": [
    {
     "data": {
      "text/plain": [
       "70"
      ]
     },
     "execution_count": 60,
     "metadata": {},
     "output_type": "execute_result"
    }
   ],
   "source": [
    "n_groups = len(sub_groups.unique())  # 6 sub-groups.\n",
    "df_error = len(diet_data) - n_groups  # D.F. for remaining variation\n",
    "df_error"
   ]
  },
  {
   "cell_type": "markdown",
   "id": "ae349d3d",
   "metadata": {},
   "source": [
    "We replicate all three F values in the ANOVA table above:"
   ]
  },
  {
   "cell_type": "code",
   "execution_count": 61,
   "id": "09bc9271",
   "metadata": {},
   "outputs": [
    {
     "data": {
      "text/plain": [
       "0.03137868165788799"
      ]
     },
     "execution_count": 61,
     "metadata": {},
     "output_type": "execute_result"
    }
   ],
   "source": [
    "df_gender = len(diet_data['gender'].unique()) - 1  # 1\n",
    "F_gender = (gender_ess / df_gender) / (resid_ss / df_error)\n",
    "F_gender"
   ]
  },
  {
   "cell_type": "code",
   "execution_count": 62,
   "id": "452a6bfa",
   "metadata": {},
   "outputs": [
    {
     "data": {
      "text/plain": [
       "5.619026024536407"
      ]
     },
     "execution_count": 62,
     "metadata": {},
     "output_type": "execute_result"
    }
   ],
   "source": [
    "df_diet = len(diet_data['diet'].unique()) - 1  # 2\n",
    "F_diet = (diet_ess / df_diet) / (resid_ss / df_error)\n",
    "F_diet"
   ]
  },
  {
   "cell_type": "code",
   "execution_count": 63,
   "id": "ebbecb62",
   "metadata": {
    "lines_to_next_cell": 0
   },
   "outputs": [
    {
     "data": {
      "text/plain": [
       "3.153204384943455"
      ]
     },
     "execution_count": 63,
     "metadata": {},
     "output_type": "execute_result"
    }
   ],
   "source": [
    "# We have already adjusted the interaction values for gender and diet,\n",
    "# so we subtract the degrees of freedom for those effects.\n",
    "df_inter = n_groups - df_gender - df_diet - 1  # 2\n",
    "F_inter = (inter_ess / df_inter) / (resid_ss / df_error)\n",
    "F_inter"
   ]
  },
  {
   "cell_type": "markdown",
   "id": "69dfa7d0",
   "metadata": {},
   "source": [
    "We can look up the p value in the corresponding F distribution.  For example:"
   ]
  },
  {
   "cell_type": "code",
   "execution_count": 64,
   "id": "16e6de2b",
   "metadata": {},
   "outputs": [
    {
     "data": {
      "text/plain": [
       "0.04884227512074593"
      ]
     },
     "execution_count": 64,
     "metadata": {},
     "output_type": "execute_result"
    }
   ],
   "source": [
    "# Get standard F distribution object from Scipy.\n",
    "from scipy.stats import f as f_dist\n",
    "\n",
    "# Look up interaction p value from corresponding F distribution.\n",
    "f_dist(df_inter, df_error).sf(F_inter)"
   ]
  }
 ],
 "metadata": {
  "jupytext": {
   "notebook_metadata_filter": "all,-language_info",
   "split_at_heading": true
  },
  "kernelspec": {
   "display_name": "Python 3",
   "language": "python",
   "name": "python3"
  },
  "language_info": {
   "codemirror_mode": {
    "name": "ipython",
    "version": 3
   },
   "file_extension": ".py",
   "mimetype": "text/x-python",
   "name": "python",
   "nbconvert_exporter": "python",
   "pygments_lexer": "ipython3",
   "version": "3.8.11"
  }
 },
 "nbformat": 4,
 "nbformat_minor": 5
}
